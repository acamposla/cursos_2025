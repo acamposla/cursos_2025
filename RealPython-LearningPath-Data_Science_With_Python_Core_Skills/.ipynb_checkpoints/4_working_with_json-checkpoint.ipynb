{
 "cells": [
  {
   "cell_type": "code",
   "execution_count": 11,
   "id": "9562923c-0a88-44c9-8e17-f90b51f1310c",
   "metadata": {},
   "outputs": [],
   "source": [
    "import json"
   ]
  },
  {
   "cell_type": "code",
   "execution_count": 12,
   "id": "2d6110f0-759e-40d3-a858-ae3ad606d8e1",
   "metadata": {},
   "outputs": [],
   "source": [
    "#dump() --> use to write date to file-like objetct. serilize to json file\n",
    "#dumps() -> seilize intro a string, when we want to use it somewhere else or use it. \n",
    "\n",
    "\n"
   ]
  },
  {
   "cell_type": "code",
   "execution_count": 13,
   "id": "cf0b015f-381b-438e-a0c3-e6c472148ab6",
   "metadata": {},
   "outputs": [],
   "source": [
    "data = {\n",
    "    \"user\": {\n",
    "        \"name\": \"William Williams\", \n",
    "        \"age\": 93\n",
    "    }\n",
    "}\n",
    "\n"
   ]
  },
  {
   "cell_type": "code",
   "execution_count": 14,
   "id": "65a91e68-a571-4e2f-9449-71aaa975bd47",
   "metadata": {},
   "outputs": [],
   "source": [
    "with open(\"data_file.json\", \"w\") as write_file:\n",
    "    json.dump(data, write_file )"
   ]
  },
  {
   "cell_type": "code",
   "execution_count": 16,
   "id": "eb05ac1e-0847-4bd9-a3c0-e79f475cca10",
   "metadata": {},
   "outputs": [
    {
     "data": {
      "text/plain": [
       "'{\"user\": {\"name\": \"William Williams\", \"age\": 93}}'"
      ]
     },
     "execution_count": 16,
     "metadata": {},
     "output_type": "execute_result"
    }
   ],
   "source": [
    "json_str = json.dumps(data)\n",
    "json_str"
   ]
  },
  {
   "cell_type": "code",
   "execution_count": null,
   "id": "0bcbad1b-091b-4cb7-8194-0146c17fbb75",
   "metadata": {},
   "outputs": [],
   "source": []
  }
 ],
 "metadata": {
  "kernelspec": {
   "display_name": "Python 3 (ipykernel)",
   "language": "python",
   "name": "python3"
  },
  "language_info": {
   "codemirror_mode": {
    "name": "ipython",
    "version": 3
   },
   "file_extension": ".py",
   "mimetype": "text/x-python",
   "name": "python",
   "nbconvert_exporter": "python",
   "pygments_lexer": "ipython3",
   "version": "3.9.21"
  }
 },
 "nbformat": 4,
 "nbformat_minor": 5
}
