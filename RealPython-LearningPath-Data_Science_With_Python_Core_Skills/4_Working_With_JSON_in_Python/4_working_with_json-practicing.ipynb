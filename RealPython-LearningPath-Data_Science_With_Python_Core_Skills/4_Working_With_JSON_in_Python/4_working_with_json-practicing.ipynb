{
 "cells": [
  {
   "cell_type": "markdown",
   "id": "5b715d4d-8480-4598-be20-65cec28a9e61",
   "metadata": {},
   "source": [
    "¡Claro! Vamos a explicarlo de la forma más sencilla posible.\n",
    "\n",
    "## 1\\. ¿Qué es **JSON**?\n",
    "- **JSON** (JavaScript Object Notation) es un formato de texto muy popular para **almacenar y transmitir** datos (por ejemplo, entre un servidor y un cliente).  \n",
    "- Es un texto con una estructura parecida a los diccionarios de Python, pero en realidad es un **string**.\n",
    "\n",
    "## 2\\. ¿Qué significa “**serializar**” y “**deserializar**”?\n",
    "- **Serializar** (o _serialize_): convertir tu objeto de Python (diccionarios, listas, tuplas, etc.) en un **string JSON**.  \n",
    "  - En otras palabras, transformar algo como `{\"nombre\": \"Juan\", \"edad\": 30}` (un diccionario Python) en un texto como `\"{\"nombre\": \"Juan\", \"edad\": 30}\"` (un string JSON).\n",
    "- **Deserializar** (o _deserialize_): lo contrario, convertir un **string JSON** en un objeto de Python.  \n",
    "  - Ejemplo: convertir el texto `\"{\"nombre\": \"Juan\", \"edad\": 30}\"` (JSON) en un diccionario Python real `{\"nombre\": \"Juan\", \"edad\": 30}`.\n",
    "\n",
    "## 3\\. Diferencia entre `dump()` / `dumps()` y `load()` / `loads()`\n",
    "\n",
    "### `dump()` y `dumps()`\n",
    "Ambas sirven para **serializar** (convertir a JSON).  \n",
    "- **`dump(data, archivo)`**  \n",
    "  - Toma tus datos en Python (por ejemplo, un diccionario) y los **escribe** en un **archivo** (u objeto que funcione como archivo).  \n",
    "  - No devuelve nada (generalmente no devuelven un valor útil).  \n",
    "  - Ejemplo:\n",
    "    ```python\n",
    "    with open(\"data_file.json\", \"w\") as write_file:\n",
    "        json.dump(data, write_file, indent=4)\n",
    "    ```\n",
    "    Aquí, `data` se convierte en texto JSON y se guarda dentro de `data_file.json`.\n",
    "\n",
    "- **`dumps(data)`**  \n",
    "  - Toma tus datos en Python y los **convierte** en un **string** con formato JSON.  \n",
    "  - **No** escribe directamente a un archivo, sino que te da el string para que lo uses donde quieras (puedes imprimirlo, enviarlo por red, guardarlo en una base de datos, etc.).  \n",
    "  - Ejemplo:\n",
    "    ```python\n",
    "    json_str = json.dumps(data, indent=4)\n",
    "    ```\n",
    "    `json_str` será algo así como `\"{\"user\": {\"name\": \"William Williams\", \"age\": 93}}\"` (pero con saltos de línea y espacios si le pusiste `indent=4`).\n",
    "\n",
    "### `load()` y `loads()`\n",
    "Ambas sirven para **deserializar** (convertir de JSON a Python).\n",
    "- **`load(archivo)`**  \n",
    "  - Lee un **archivo** que contiene datos en formato JSON y los convierte en un objeto Python.  \n",
    "  - Ejemplo:\n",
    "    ```python\n",
    "    with open(\"data_file.json\", \"r\") as read_file:\n",
    "        data = json.load(read_file)\n",
    "    ```\n",
    "    Aquí, `data` volvería a ser el diccionario original.  \n",
    "\n",
    "- **`loads(cadena_json)`**  \n",
    "  - Toma un **string** que contiene texto JSON y lo convierte en un objeto de Python.  \n",
    "  - Ejemplo:\n",
    "    ```python\n",
    "    decoded_data = json.loads('{\"nombre\": \"Juan\", \"edad\": 30}')\n",
    "    ```\n",
    "    Aquí, `decoded_data` sería el diccionario `{\"nombre\": \"Juan\", \"edad\": 30}`.\n",
    "\n",
    "## 4\\. Aplicándolo a tu ejemplo\n",
    "```python\n",
    "data = {\n",
    "    \"user\": {\n",
    "        \"name\": \"William Williams\", \n",
    "        \"age\": 93\n",
    "    }\n",
    "}\n",
    "\n",
    "with open(\"data_file.json\", \"w\") as write_file:\n",
    "    json.dump(data, write_file, indent=4 )\n",
    "```\n",
    "- Con `json.dump(...)` escribimos el diccionario `data` directamente en el archivo `\"data_file.json\"` como texto JSON.\n",
    "\n",
    "```python\n",
    "json_str = json.dumps(data, indent=4)\n",
    "```\n",
    "- Aquí convertimos `data` a un **string** JSON (`json_str`).  \n",
    "  - Se guarda en la variable `json_str`. Ese string lo podríamos imprimir o mandar por la red, etc.\n",
    "\n",
    "```python\n",
    "blackjack_hand = (8, \"Q\")\n",
    "encoded_hand = json.dumps(blackjack_hand)\n",
    "decoded_hand = json.loads(encoded_hand)\n",
    "```\n",
    "1. `json.dumps(blackjack_hand)` -> *serializa* la tupla `(8, \"Q\")` a un string JSON, por ejemplo: `\"[8, \"Q\"]\"`.  \n",
    "2. `json.loads(encoded_hand)` -> *deserializa* ese string `\"[8, \"Q\"]\"` de nuevo a un objeto de Python, que normalmente será `[8, \"Q\"]` como lista (ojo, las tuplas se suelen convertir a listas cuando se hace JSON, porque JSON no tiene tipo “tupla”).\n",
    "\n",
    "```python\n",
    "response = requests.get(\"https://jsonplaceholder.typicode.com/todos\")\n",
    "todos = json.loads(response.text)\n",
    "```\n",
    "1. `response.text` es un string con el JSON que te devolvió el servidor.  \n",
    "2. `json.loads(response.text)` convierte ese string JSON en un objeto Python (según lo que contenga, suele ser una lista o diccionario).\n",
    "\n",
    "## 5\\. Resumen rápido:\n",
    "\n",
    "- **`dump()`**: Convierte objetos Python a JSON y **lo escribe en un archivo**.  \n",
    "- **`dumps()`**: Convierte objetos Python a JSON y te lo devuelve como un **string**.  \n",
    "- **`load()`**: Lee **desde un archivo** con datos JSON y lo convierte a un objeto Python.  \n",
    "- **`loads()`**: Toma un **string** con texto JSON y lo convierte a un objeto Python.\n",
    "\n",
    "**Serializar** = convertir de Python a JSON (para guardarlo o enviarlo).  \n",
    "**Deserializar** = convertir de JSON a Python (para usarlo en tu programa).\n",
    "\n",
    "¡Y eso es todo! Con estos conceptos, ya sabes por qué se usa `dump()` en algunos contextos (cuando escribes/lees archivos) y `dumps()` en otros (cuando quieres manejar el string directamente). Y lo mismo con `load()` y `loads()`."
   ]
  },
  {
   "cell_type": "markdown",
   "id": "235b73ea-59e8-4065-8b55-ced48ed5d763",
   "metadata": {},
   "source": [
    "# Serializing JSON Data "
   ]
  },
  {
   "cell_type": "code",
   "execution_count": 1,
   "id": "9562923c-0a88-44c9-8e17-f90b51f1310c",
   "metadata": {},
   "outputs": [],
   "source": [
    "import json\n",
    "import pandas as pd"
   ]
  },
  {
   "cell_type": "code",
   "execution_count": 2,
   "id": "2d6110f0-759e-40d3-a858-ae3ad606d8e1",
   "metadata": {},
   "outputs": [],
   "source": [
    "#dump() --> use to write date to file-like objetct. serilize to json file\n",
    "#dumps() -> seilize intro a string, when we want to use it somewhere else or use it. \n",
    "\n",
    "\n"
   ]
  },
  {
   "cell_type": "code",
   "execution_count": 3,
   "id": "cf0b015f-381b-438e-a0c3-e6c472148ab6",
   "metadata": {},
   "outputs": [],
   "source": [
    "data = {\n",
    "    \"user\": {\n",
    "        \"name\": \"William Williams\", \n",
    "        \"age\": 93\n",
    "    }\n",
    "}\n",
    "\n"
   ]
  },
  {
   "cell_type": "code",
   "execution_count": 4,
   "id": "65a91e68-a571-4e2f-9449-71aaa975bd47",
   "metadata": {},
   "outputs": [],
   "source": [
    "with open(\"data_file.json\", \"w\") as write_file:\n",
    "    json.dump(data, write_file, indent=4 )"
   ]
  },
  {
   "cell_type": "code",
   "execution_count": 5,
   "id": "eb05ac1e-0847-4bd9-a3c0-e79f475cca10",
   "metadata": {},
   "outputs": [
    {
     "data": {
      "text/plain": [
       "'{\\n    \"user\": {\\n        \"name\": \"William Williams\",\\n        \"age\": 93\\n    }\\n}'"
      ]
     },
     "execution_count": 5,
     "metadata": {},
     "output_type": "execute_result"
    }
   ],
   "source": [
    "json_str = json.dumps(data, indent=4)\n",
    "json_str"
   ]
  },
  {
   "cell_type": "code",
   "execution_count": 6,
   "id": "0bcbad1b-091b-4cb7-8194-0146c17fbb75",
   "metadata": {},
   "outputs": [
    {
     "data": {
      "text/html": [
       "<div>\n",
       "<style scoped>\n",
       "    .dataframe tbody tr th:only-of-type {\n",
       "        vertical-align: middle;\n",
       "    }\n",
       "\n",
       "    .dataframe tbody tr th {\n",
       "        vertical-align: top;\n",
       "    }\n",
       "\n",
       "    .dataframe thead th {\n",
       "        text-align: right;\n",
       "    }\n",
       "</style>\n",
       "<table border=\"1\" class=\"dataframe\">\n",
       "  <thead>\n",
       "    <tr style=\"text-align: right;\">\n",
       "      <th></th>\n",
       "      <th>user</th>\n",
       "    </tr>\n",
       "  </thead>\n",
       "  <tbody>\n",
       "    <tr>\n",
       "      <th>name</th>\n",
       "      <td>William Williams</td>\n",
       "    </tr>\n",
       "    <tr>\n",
       "      <th>age</th>\n",
       "      <td>93</td>\n",
       "    </tr>\n",
       "  </tbody>\n",
       "</table>\n",
       "</div>"
      ],
      "text/plain": [
       "                  user\n",
       "name  William Williams\n",
       "age                 93"
      ]
     },
     "execution_count": 6,
     "metadata": {},
     "output_type": "execute_result"
    }
   ],
   "source": [
    "pd.read_json(\"data_file.json\")"
   ]
  },
  {
   "cell_type": "markdown",
   "id": "ad6c4a7f-0bfb-444e-bb75-42e8bfd16220",
   "metadata": {},
   "source": [
    "# Deserializing JSON Data"
   ]
  },
  {
   "cell_type": "code",
   "execution_count": 7,
   "id": "db2d9ba0-a6dd-4e21-a881-223b73144b99",
   "metadata": {},
   "outputs": [],
   "source": [
    "import json"
   ]
  },
  {
   "cell_type": "code",
   "execution_count": 8,
   "id": "d440d3d3-e94f-4c7b-a792-6b21599a3fc1",
   "metadata": {},
   "outputs": [
    {
     "data": {
      "text/plain": [
       "'[8, \"Q\"]'"
      ]
     },
     "execution_count": 8,
     "metadata": {},
     "output_type": "execute_result"
    }
   ],
   "source": [
    "blackjack_hand = (8, \"Q\")\n",
    "enconded_hand = json.dumps(blackjack_hand)\n",
    "enconded_hand"
   ]
  },
  {
   "cell_type": "code",
   "execution_count": 9,
   "id": "fbc60e84-9284-494c-a2cd-3f3cd744fd5c",
   "metadata": {},
   "outputs": [],
   "source": [
    "decoded_hand = json.loads(enconded_hand)"
   ]
  },
  {
   "cell_type": "code",
   "execution_count": 10,
   "id": "b6bea1e3-3c10-4c90-b6df-e89eeca6a62b",
   "metadata": {},
   "outputs": [
    {
     "data": {
      "text/plain": [
       "[8, 'Q']"
      ]
     },
     "execution_count": 10,
     "metadata": {},
     "output_type": "execute_result"
    }
   ],
   "source": [
    "decoded_hand"
   ]
  },
  {
   "cell_type": "code",
   "execution_count": 11,
   "id": "fb059858-c188-4dec-b64b-2f9970ed086f",
   "metadata": {},
   "outputs": [
    {
     "data": {
      "text/plain": [
       "list"
      ]
     },
     "execution_count": 11,
     "metadata": {},
     "output_type": "execute_result"
    }
   ],
   "source": [
    "type(decoded_hand)"
   ]
  },
  {
   "cell_type": "code",
   "execution_count": 12,
   "id": "efe6aa07-0006-41a1-9ab9-55fb606f7c5f",
   "metadata": {},
   "outputs": [
    {
     "data": {
      "text/plain": [
       "[8, 'Q']"
      ]
     },
     "execution_count": 12,
     "metadata": {},
     "output_type": "execute_result"
    }
   ],
   "source": [
    "decoded_hand"
   ]
  },
  {
   "cell_type": "code",
   "execution_count": 13,
   "id": "dd01031b-0ff0-4c0e-bb69-46d13bec26a2",
   "metadata": {},
   "outputs": [
    {
     "data": {
      "text/plain": [
       "True"
      ]
     },
     "execution_count": 13,
     "metadata": {},
     "output_type": "execute_result"
    }
   ],
   "source": [
    "blackjack_hand == tuple(decoded_hand)"
   ]
  },
  {
   "cell_type": "markdown",
   "id": "10fda093-5440-49a6-b505-f5ee7cbd923e",
   "metadata": {},
   "source": [
    "# Working With JSON Data"
   ]
  },
  {
   "cell_type": "markdown",
   "id": "9451202c-1c63-4a9e-afc9-ae28b34d8454",
   "metadata": {},
   "source": [
    "### practicando dict.get(key, default) "
   ]
  },
  {
   "cell_type": "markdown",
   "id": "de4bfe50-7af6-4b65-8188-9d5d19777c21",
   "metadata": {},
   "source": [
    "\n",
    "\n",
    "El método `get` de los diccionarios en Python (**`dict.get(key, default)`**) funciona de esta manera:\n",
    "\n",
    "1. Busca la **clave** (`key`) en el diccionario.\n",
    "2. Si **encuentra** esa clave, **devuelve** el valor asociado a ella.\n",
    "3. Si **no encuentra** la clave, **devuelve** el valor que pusiste como `default`. (Por defecto, este valor suele ser `None` si no se especifica).\n"
   ]
  },
  {
   "cell_type": "code",
   "execution_count": 14,
   "id": "8ce397b8-3a9d-4e88-b9b8-8479c3e4290d",
   "metadata": {},
   "outputs": [
    {
     "data": {
      "text/plain": [
       "{'nombre': 'Juan', 'edad': 30}"
      ]
     },
     "execution_count": 14,
     "metadata": {},
     "output_type": "execute_result"
    }
   ],
   "source": [
    "mi_dicc = {\"nombre\": \"Juan\", \n",
    "           \"edad\": 30}\n",
    "mi_dicc"
   ]
  },
  {
   "cell_type": "code",
   "execution_count": 15,
   "id": "61c0c6a7-b145-4653-b7ac-43a538e9346b",
   "metadata": {},
   "outputs": [
    {
     "data": {
      "text/plain": [
       "'Juan'"
      ]
     },
     "execution_count": 15,
     "metadata": {},
     "output_type": "execute_result"
    }
   ],
   "source": [
    "valor_nombre = mi_dicc.get(\"nombre\", \"No existe\")\n",
    "valor_nombre"
   ]
  },
  {
   "cell_type": "code",
   "execution_count": 16,
   "id": "232e7a2a-d033-4744-8277-f588c0872a37",
   "metadata": {},
   "outputs": [
    {
     "data": {
      "text/plain": [
       "'Juan'"
      ]
     },
     "execution_count": 16,
     "metadata": {},
     "output_type": "execute_result"
    }
   ],
   "source": [
    "valor_nombre = mi_dicc[\"nombre\"]\n",
    "valor_nombre"
   ]
  },
  {
   "cell_type": "code",
   "execution_count": 17,
   "id": "14e73ef6-442d-4e2b-a9de-df92e9b7a62c",
   "metadata": {},
   "outputs": [
    {
     "data": {
      "text/plain": [
       "30"
      ]
     },
     "execution_count": 17,
     "metadata": {},
     "output_type": "execute_result"
    }
   ],
   "source": [
    "mi_dicc.get(\"edad\")"
   ]
  },
  {
   "cell_type": "code",
   "execution_count": 18,
   "id": "e3b9838a-aabd-4e04-88fe-bd19c4ce2c7a",
   "metadata": {},
   "outputs": [],
   "source": [
    "mi_dicc.get(\"pais\")"
   ]
  },
  {
   "cell_type": "code",
   "execution_count": 19,
   "id": "9b289cf8-7353-427e-884a-0ff071088430",
   "metadata": {},
   "outputs": [
    {
     "data": {
      "text/plain": [
       "31"
      ]
     },
     "execution_count": 19,
     "metadata": {},
     "output_type": "execute_result"
    }
   ],
   "source": [
    "mi_dicc.get(\"edad\", 0) + 1\n"
   ]
  },
  {
   "cell_type": "code",
   "execution_count": 20,
   "id": "43c0873f-03ab-4623-b535-9a460010af0d",
   "metadata": {},
   "outputs": [
    {
     "ename": "NameError",
     "evalue": "name 'todos' is not defined",
     "output_type": "error",
     "traceback": [
      "\u001b[0;31m---------------------------------------------------------------------------\u001b[0m",
      "\u001b[0;31mNameError\u001b[0m                                 Traceback (most recent call last)",
      "Cell \u001b[0;32mIn[20], line 3\u001b[0m\n\u001b[1;32m      1\u001b[0m todos_by_user \u001b[38;5;241m=\u001b[39m {}\n\u001b[0;32m----> 3\u001b[0m \u001b[38;5;28;01mfor\u001b[39;00m todo \u001b[38;5;129;01min\u001b[39;00m \u001b[43mtodos\u001b[49m:\n\u001b[1;32m      4\u001b[0m     \u001b[38;5;66;03m#print(todo)\u001b[39;00m\n\u001b[1;32m      5\u001b[0m     todos_by_user[todo[\u001b[38;5;124m\"\u001b[39m\u001b[38;5;124muserId\u001b[39m\u001b[38;5;124m\"\u001b[39m]] \u001b[38;5;241m=\u001b[39m todos_by_user\u001b[38;5;241m.\u001b[39mget(todo[\u001b[38;5;124m\"\u001b[39m\u001b[38;5;124muserId\u001b[39m\u001b[38;5;124m\"\u001b[39m],\u001b[38;5;241m0\u001b[39m) \u001b[38;5;241m+\u001b[39m\u001b[38;5;241m1\u001b[39m\n",
      "\u001b[0;31mNameError\u001b[0m: name 'todos' is not defined"
     ]
    }
   ],
   "source": [
    "todos_by_user = {}\n",
    "\n",
    "for todo in todos:\n",
    "    #print(todo)\n",
    "    todos_by_user[todo[\"userId\"]] = todos_by_user.get(todo[\"userId\"],0) +1"
   ]
  },
  {
   "cell_type": "code",
   "execution_count": null,
   "id": "c22a5274-8299-4026-93c0-2dee408404ac",
   "metadata": {},
   "outputs": [],
   "source": [
    "todos_by_user"
   ]
  },
  {
   "cell_type": "markdown",
   "id": "88a7bf0a-ee9f-42c5-905a-5d694850a2a4",
   "metadata": {},
   "source": [
    "### Ejercicio de clase"
   ]
  },
  {
   "cell_type": "code",
   "execution_count": null,
   "id": "dd0bdab2-ccea-4e26-911a-bf5d412712fc",
   "metadata": {},
   "outputs": [],
   "source": []
  },
  {
   "cell_type": "code",
   "execution_count": 21,
   "id": "8b020b3d-eb94-4e2e-b9ff-2bd0e17c8e03",
   "metadata": {},
   "outputs": [],
   "source": [
    "import json\n",
    "import requests"
   ]
  },
  {
   "cell_type": "code",
   "execution_count": 22,
   "id": "462c6a3c-b567-4cbf-9aa6-c7d3f39ec708",
   "metadata": {},
   "outputs": [
    {
     "ename": "SSLError",
     "evalue": "HTTPSConnectionPool(host='jsonplaceholder.typicode.com', port=443): Max retries exceeded with url: /todos (Caused by SSLError(SSLZeroReturnError(6, 'TLS/SSL connection has been closed (EOF) (_ssl.c:1147)')))",
     "output_type": "error",
     "traceback": [
      "\u001b[0;31m---------------------------------------------------------------------------\u001b[0m",
      "\u001b[0;31mSSLZeroReturnError\u001b[0m                        Traceback (most recent call last)",
      "File \u001b[0;32m/opt/anaconda3/envs/my_data_lab/lib/python3.9/site-packages/urllib3/connectionpool.py:464\u001b[0m, in \u001b[0;36mHTTPConnectionPool._make_request\u001b[0;34m(self, conn, method, url, body, headers, retries, timeout, chunked, response_conn, preload_content, decode_content, enforce_content_length)\u001b[0m\n\u001b[1;32m    463\u001b[0m \u001b[38;5;28;01mtry\u001b[39;00m:\n\u001b[0;32m--> 464\u001b[0m     \u001b[38;5;28;43mself\u001b[39;49m\u001b[38;5;241;43m.\u001b[39;49m\u001b[43m_validate_conn\u001b[49m\u001b[43m(\u001b[49m\u001b[43mconn\u001b[49m\u001b[43m)\u001b[49m\n\u001b[1;32m    465\u001b[0m \u001b[38;5;28;01mexcept\u001b[39;00m (SocketTimeout, BaseSSLError) \u001b[38;5;28;01mas\u001b[39;00m e:\n",
      "File \u001b[0;32m/opt/anaconda3/envs/my_data_lab/lib/python3.9/site-packages/urllib3/connectionpool.py:1093\u001b[0m, in \u001b[0;36mHTTPSConnectionPool._validate_conn\u001b[0;34m(self, conn)\u001b[0m\n\u001b[1;32m   1092\u001b[0m \u001b[38;5;28;01mif\u001b[39;00m conn\u001b[38;5;241m.\u001b[39mis_closed:\n\u001b[0;32m-> 1093\u001b[0m     \u001b[43mconn\u001b[49m\u001b[38;5;241;43m.\u001b[39;49m\u001b[43mconnect\u001b[49m\u001b[43m(\u001b[49m\u001b[43m)\u001b[49m\n\u001b[1;32m   1095\u001b[0m \u001b[38;5;66;03m# TODO revise this, see https://github.com/urllib3/urllib3/issues/2791\u001b[39;00m\n",
      "File \u001b[0;32m/opt/anaconda3/envs/my_data_lab/lib/python3.9/site-packages/urllib3/connection.py:741\u001b[0m, in \u001b[0;36mHTTPSConnection.connect\u001b[0;34m(self)\u001b[0m\n\u001b[1;32m    739\u001b[0m server_hostname_rm_dot \u001b[38;5;241m=\u001b[39m server_hostname\u001b[38;5;241m.\u001b[39mrstrip(\u001b[38;5;124m\"\u001b[39m\u001b[38;5;124m.\u001b[39m\u001b[38;5;124m\"\u001b[39m)\n\u001b[0;32m--> 741\u001b[0m sock_and_verified \u001b[38;5;241m=\u001b[39m \u001b[43m_ssl_wrap_socket_and_match_hostname\u001b[49m\u001b[43m(\u001b[49m\n\u001b[1;32m    742\u001b[0m \u001b[43m    \u001b[49m\u001b[43msock\u001b[49m\u001b[38;5;241;43m=\u001b[39;49m\u001b[43msock\u001b[49m\u001b[43m,\u001b[49m\n\u001b[1;32m    743\u001b[0m \u001b[43m    \u001b[49m\u001b[43mcert_reqs\u001b[49m\u001b[38;5;241;43m=\u001b[39;49m\u001b[38;5;28;43mself\u001b[39;49m\u001b[38;5;241;43m.\u001b[39;49m\u001b[43mcert_reqs\u001b[49m\u001b[43m,\u001b[49m\n\u001b[1;32m    744\u001b[0m \u001b[43m    \u001b[49m\u001b[43mssl_version\u001b[49m\u001b[38;5;241;43m=\u001b[39;49m\u001b[38;5;28;43mself\u001b[39;49m\u001b[38;5;241;43m.\u001b[39;49m\u001b[43mssl_version\u001b[49m\u001b[43m,\u001b[49m\n\u001b[1;32m    745\u001b[0m \u001b[43m    \u001b[49m\u001b[43mssl_minimum_version\u001b[49m\u001b[38;5;241;43m=\u001b[39;49m\u001b[38;5;28;43mself\u001b[39;49m\u001b[38;5;241;43m.\u001b[39;49m\u001b[43mssl_minimum_version\u001b[49m\u001b[43m,\u001b[49m\n\u001b[1;32m    746\u001b[0m \u001b[43m    \u001b[49m\u001b[43mssl_maximum_version\u001b[49m\u001b[38;5;241;43m=\u001b[39;49m\u001b[38;5;28;43mself\u001b[39;49m\u001b[38;5;241;43m.\u001b[39;49m\u001b[43mssl_maximum_version\u001b[49m\u001b[43m,\u001b[49m\n\u001b[1;32m    747\u001b[0m \u001b[43m    \u001b[49m\u001b[43mca_certs\u001b[49m\u001b[38;5;241;43m=\u001b[39;49m\u001b[38;5;28;43mself\u001b[39;49m\u001b[38;5;241;43m.\u001b[39;49m\u001b[43mca_certs\u001b[49m\u001b[43m,\u001b[49m\n\u001b[1;32m    748\u001b[0m \u001b[43m    \u001b[49m\u001b[43mca_cert_dir\u001b[49m\u001b[38;5;241;43m=\u001b[39;49m\u001b[38;5;28;43mself\u001b[39;49m\u001b[38;5;241;43m.\u001b[39;49m\u001b[43mca_cert_dir\u001b[49m\u001b[43m,\u001b[49m\n\u001b[1;32m    749\u001b[0m \u001b[43m    \u001b[49m\u001b[43mca_cert_data\u001b[49m\u001b[38;5;241;43m=\u001b[39;49m\u001b[38;5;28;43mself\u001b[39;49m\u001b[38;5;241;43m.\u001b[39;49m\u001b[43mca_cert_data\u001b[49m\u001b[43m,\u001b[49m\n\u001b[1;32m    750\u001b[0m \u001b[43m    \u001b[49m\u001b[43mcert_file\u001b[49m\u001b[38;5;241;43m=\u001b[39;49m\u001b[38;5;28;43mself\u001b[39;49m\u001b[38;5;241;43m.\u001b[39;49m\u001b[43mcert_file\u001b[49m\u001b[43m,\u001b[49m\n\u001b[1;32m    751\u001b[0m \u001b[43m    \u001b[49m\u001b[43mkey_file\u001b[49m\u001b[38;5;241;43m=\u001b[39;49m\u001b[38;5;28;43mself\u001b[39;49m\u001b[38;5;241;43m.\u001b[39;49m\u001b[43mkey_file\u001b[49m\u001b[43m,\u001b[49m\n\u001b[1;32m    752\u001b[0m \u001b[43m    \u001b[49m\u001b[43mkey_password\u001b[49m\u001b[38;5;241;43m=\u001b[39;49m\u001b[38;5;28;43mself\u001b[39;49m\u001b[38;5;241;43m.\u001b[39;49m\u001b[43mkey_password\u001b[49m\u001b[43m,\u001b[49m\n\u001b[1;32m    753\u001b[0m \u001b[43m    \u001b[49m\u001b[43mserver_hostname\u001b[49m\u001b[38;5;241;43m=\u001b[39;49m\u001b[43mserver_hostname_rm_dot\u001b[49m\u001b[43m,\u001b[49m\n\u001b[1;32m    754\u001b[0m \u001b[43m    \u001b[49m\u001b[43mssl_context\u001b[49m\u001b[38;5;241;43m=\u001b[39;49m\u001b[38;5;28;43mself\u001b[39;49m\u001b[38;5;241;43m.\u001b[39;49m\u001b[43mssl_context\u001b[49m\u001b[43m,\u001b[49m\n\u001b[1;32m    755\u001b[0m \u001b[43m    \u001b[49m\u001b[43mtls_in_tls\u001b[49m\u001b[38;5;241;43m=\u001b[39;49m\u001b[43mtls_in_tls\u001b[49m\u001b[43m,\u001b[49m\n\u001b[1;32m    756\u001b[0m \u001b[43m    \u001b[49m\u001b[43massert_hostname\u001b[49m\u001b[38;5;241;43m=\u001b[39;49m\u001b[38;5;28;43mself\u001b[39;49m\u001b[38;5;241;43m.\u001b[39;49m\u001b[43massert_hostname\u001b[49m\u001b[43m,\u001b[49m\n\u001b[1;32m    757\u001b[0m \u001b[43m    \u001b[49m\u001b[43massert_fingerprint\u001b[49m\u001b[38;5;241;43m=\u001b[39;49m\u001b[38;5;28;43mself\u001b[39;49m\u001b[38;5;241;43m.\u001b[39;49m\u001b[43massert_fingerprint\u001b[49m\u001b[43m,\u001b[49m\n\u001b[1;32m    758\u001b[0m \u001b[43m\u001b[49m\u001b[43m)\u001b[49m\n\u001b[1;32m    759\u001b[0m \u001b[38;5;28mself\u001b[39m\u001b[38;5;241m.\u001b[39msock \u001b[38;5;241m=\u001b[39m sock_and_verified\u001b[38;5;241m.\u001b[39msocket\n",
      "File \u001b[0;32m/opt/anaconda3/envs/my_data_lab/lib/python3.9/site-packages/urllib3/connection.py:920\u001b[0m, in \u001b[0;36m_ssl_wrap_socket_and_match_hostname\u001b[0;34m(sock, cert_reqs, ssl_version, ssl_minimum_version, ssl_maximum_version, cert_file, key_file, key_password, ca_certs, ca_cert_dir, ca_cert_data, assert_hostname, assert_fingerprint, server_hostname, ssl_context, tls_in_tls)\u001b[0m\n\u001b[1;32m    918\u001b[0m         server_hostname \u001b[38;5;241m=\u001b[39m normalized\n\u001b[0;32m--> 920\u001b[0m ssl_sock \u001b[38;5;241m=\u001b[39m \u001b[43mssl_wrap_socket\u001b[49m\u001b[43m(\u001b[49m\n\u001b[1;32m    921\u001b[0m \u001b[43m    \u001b[49m\u001b[43msock\u001b[49m\u001b[38;5;241;43m=\u001b[39;49m\u001b[43msock\u001b[49m\u001b[43m,\u001b[49m\n\u001b[1;32m    922\u001b[0m \u001b[43m    \u001b[49m\u001b[43mkeyfile\u001b[49m\u001b[38;5;241;43m=\u001b[39;49m\u001b[43mkey_file\u001b[49m\u001b[43m,\u001b[49m\n\u001b[1;32m    923\u001b[0m \u001b[43m    \u001b[49m\u001b[43mcertfile\u001b[49m\u001b[38;5;241;43m=\u001b[39;49m\u001b[43mcert_file\u001b[49m\u001b[43m,\u001b[49m\n\u001b[1;32m    924\u001b[0m \u001b[43m    \u001b[49m\u001b[43mkey_password\u001b[49m\u001b[38;5;241;43m=\u001b[39;49m\u001b[43mkey_password\u001b[49m\u001b[43m,\u001b[49m\n\u001b[1;32m    925\u001b[0m \u001b[43m    \u001b[49m\u001b[43mca_certs\u001b[49m\u001b[38;5;241;43m=\u001b[39;49m\u001b[43mca_certs\u001b[49m\u001b[43m,\u001b[49m\n\u001b[1;32m    926\u001b[0m \u001b[43m    \u001b[49m\u001b[43mca_cert_dir\u001b[49m\u001b[38;5;241;43m=\u001b[39;49m\u001b[43mca_cert_dir\u001b[49m\u001b[43m,\u001b[49m\n\u001b[1;32m    927\u001b[0m \u001b[43m    \u001b[49m\u001b[43mca_cert_data\u001b[49m\u001b[38;5;241;43m=\u001b[39;49m\u001b[43mca_cert_data\u001b[49m\u001b[43m,\u001b[49m\n\u001b[1;32m    928\u001b[0m \u001b[43m    \u001b[49m\u001b[43mserver_hostname\u001b[49m\u001b[38;5;241;43m=\u001b[39;49m\u001b[43mserver_hostname\u001b[49m\u001b[43m,\u001b[49m\n\u001b[1;32m    929\u001b[0m \u001b[43m    \u001b[49m\u001b[43mssl_context\u001b[49m\u001b[38;5;241;43m=\u001b[39;49m\u001b[43mcontext\u001b[49m\u001b[43m,\u001b[49m\n\u001b[1;32m    930\u001b[0m \u001b[43m    \u001b[49m\u001b[43mtls_in_tls\u001b[49m\u001b[38;5;241;43m=\u001b[39;49m\u001b[43mtls_in_tls\u001b[49m\u001b[43m,\u001b[49m\n\u001b[1;32m    931\u001b[0m \u001b[43m\u001b[49m\u001b[43m)\u001b[49m\n\u001b[1;32m    933\u001b[0m \u001b[38;5;28;01mtry\u001b[39;00m:\n",
      "File \u001b[0;32m/opt/anaconda3/envs/my_data_lab/lib/python3.9/site-packages/urllib3/util/ssl_.py:460\u001b[0m, in \u001b[0;36mssl_wrap_socket\u001b[0;34m(sock, keyfile, certfile, cert_reqs, ca_certs, server_hostname, ssl_version, ciphers, ssl_context, ca_cert_dir, key_password, ca_cert_data, tls_in_tls)\u001b[0m\n\u001b[1;32m    458\u001b[0m context\u001b[38;5;241m.\u001b[39mset_alpn_protocols(ALPN_PROTOCOLS)\n\u001b[0;32m--> 460\u001b[0m ssl_sock \u001b[38;5;241m=\u001b[39m \u001b[43m_ssl_wrap_socket_impl\u001b[49m\u001b[43m(\u001b[49m\u001b[43msock\u001b[49m\u001b[43m,\u001b[49m\u001b[43m \u001b[49m\u001b[43mcontext\u001b[49m\u001b[43m,\u001b[49m\u001b[43m \u001b[49m\u001b[43mtls_in_tls\u001b[49m\u001b[43m,\u001b[49m\u001b[43m \u001b[49m\u001b[43mserver_hostname\u001b[49m\u001b[43m)\u001b[49m\n\u001b[1;32m    461\u001b[0m \u001b[38;5;28;01mreturn\u001b[39;00m ssl_sock\n",
      "File \u001b[0;32m/opt/anaconda3/envs/my_data_lab/lib/python3.9/site-packages/urllib3/util/ssl_.py:504\u001b[0m, in \u001b[0;36m_ssl_wrap_socket_impl\u001b[0;34m(sock, ssl_context, tls_in_tls, server_hostname)\u001b[0m\n\u001b[1;32m    502\u001b[0m     \u001b[38;5;28;01mreturn\u001b[39;00m SSLTransport(sock, ssl_context, server_hostname)\n\u001b[0;32m--> 504\u001b[0m \u001b[38;5;28;01mreturn\u001b[39;00m \u001b[43mssl_context\u001b[49m\u001b[38;5;241;43m.\u001b[39;49m\u001b[43mwrap_socket\u001b[49m\u001b[43m(\u001b[49m\u001b[43msock\u001b[49m\u001b[43m,\u001b[49m\u001b[43m \u001b[49m\u001b[43mserver_hostname\u001b[49m\u001b[38;5;241;43m=\u001b[39;49m\u001b[43mserver_hostname\u001b[49m\u001b[43m)\u001b[49m\n",
      "File \u001b[0;32m/opt/anaconda3/envs/my_data_lab/lib/python3.9/ssl.py:501\u001b[0m, in \u001b[0;36mSSLContext.wrap_socket\u001b[0;34m(self, sock, server_side, do_handshake_on_connect, suppress_ragged_eofs, server_hostname, session)\u001b[0m\n\u001b[1;32m    495\u001b[0m \u001b[38;5;28;01mdef\u001b[39;00m\u001b[38;5;250m \u001b[39m\u001b[38;5;21mwrap_socket\u001b[39m(\u001b[38;5;28mself\u001b[39m, sock, server_side\u001b[38;5;241m=\u001b[39m\u001b[38;5;28;01mFalse\u001b[39;00m,\n\u001b[1;32m    496\u001b[0m                 do_handshake_on_connect\u001b[38;5;241m=\u001b[39m\u001b[38;5;28;01mTrue\u001b[39;00m,\n\u001b[1;32m    497\u001b[0m                 suppress_ragged_eofs\u001b[38;5;241m=\u001b[39m\u001b[38;5;28;01mTrue\u001b[39;00m,\n\u001b[1;32m    498\u001b[0m                 server_hostname\u001b[38;5;241m=\u001b[39m\u001b[38;5;28;01mNone\u001b[39;00m, session\u001b[38;5;241m=\u001b[39m\u001b[38;5;28;01mNone\u001b[39;00m):\n\u001b[1;32m    499\u001b[0m     \u001b[38;5;66;03m# SSLSocket class handles server_hostname encoding before it calls\u001b[39;00m\n\u001b[1;32m    500\u001b[0m     \u001b[38;5;66;03m# ctx._wrap_socket()\u001b[39;00m\n\u001b[0;32m--> 501\u001b[0m     \u001b[38;5;28;01mreturn\u001b[39;00m \u001b[38;5;28;43mself\u001b[39;49m\u001b[38;5;241;43m.\u001b[39;49m\u001b[43msslsocket_class\u001b[49m\u001b[38;5;241;43m.\u001b[39;49m\u001b[43m_create\u001b[49m\u001b[43m(\u001b[49m\n\u001b[1;32m    502\u001b[0m \u001b[43m        \u001b[49m\u001b[43msock\u001b[49m\u001b[38;5;241;43m=\u001b[39;49m\u001b[43msock\u001b[49m\u001b[43m,\u001b[49m\n\u001b[1;32m    503\u001b[0m \u001b[43m        \u001b[49m\u001b[43mserver_side\u001b[49m\u001b[38;5;241;43m=\u001b[39;49m\u001b[43mserver_side\u001b[49m\u001b[43m,\u001b[49m\n\u001b[1;32m    504\u001b[0m \u001b[43m        \u001b[49m\u001b[43mdo_handshake_on_connect\u001b[49m\u001b[38;5;241;43m=\u001b[39;49m\u001b[43mdo_handshake_on_connect\u001b[49m\u001b[43m,\u001b[49m\n\u001b[1;32m    505\u001b[0m \u001b[43m        \u001b[49m\u001b[43msuppress_ragged_eofs\u001b[49m\u001b[38;5;241;43m=\u001b[39;49m\u001b[43msuppress_ragged_eofs\u001b[49m\u001b[43m,\u001b[49m\n\u001b[1;32m    506\u001b[0m \u001b[43m        \u001b[49m\u001b[43mserver_hostname\u001b[49m\u001b[38;5;241;43m=\u001b[39;49m\u001b[43mserver_hostname\u001b[49m\u001b[43m,\u001b[49m\n\u001b[1;32m    507\u001b[0m \u001b[43m        \u001b[49m\u001b[43mcontext\u001b[49m\u001b[38;5;241;43m=\u001b[39;49m\u001b[38;5;28;43mself\u001b[39;49m\u001b[43m,\u001b[49m\n\u001b[1;32m    508\u001b[0m \u001b[43m        \u001b[49m\u001b[43msession\u001b[49m\u001b[38;5;241;43m=\u001b[39;49m\u001b[43msession\u001b[49m\n\u001b[1;32m    509\u001b[0m \u001b[43m    \u001b[49m\u001b[43m)\u001b[49m\n",
      "File \u001b[0;32m/opt/anaconda3/envs/my_data_lab/lib/python3.9/ssl.py:1074\u001b[0m, in \u001b[0;36mSSLSocket._create\u001b[0;34m(cls, sock, server_side, do_handshake_on_connect, suppress_ragged_eofs, server_hostname, context, session)\u001b[0m\n\u001b[1;32m   1073\u001b[0m             \u001b[38;5;28;01mraise\u001b[39;00m \u001b[38;5;167;01mValueError\u001b[39;00m(\u001b[38;5;124m\"\u001b[39m\u001b[38;5;124mdo_handshake_on_connect should not be specified for non-blocking sockets\u001b[39m\u001b[38;5;124m\"\u001b[39m)\n\u001b[0;32m-> 1074\u001b[0m         \u001b[38;5;28;43mself\u001b[39;49m\u001b[38;5;241;43m.\u001b[39;49m\u001b[43mdo_handshake\u001b[49m\u001b[43m(\u001b[49m\u001b[43m)\u001b[49m\n\u001b[1;32m   1075\u001b[0m \u001b[38;5;28;01mexcept\u001b[39;00m (\u001b[38;5;167;01mOSError\u001b[39;00m, \u001b[38;5;167;01mValueError\u001b[39;00m):\n",
      "File \u001b[0;32m/opt/anaconda3/envs/my_data_lab/lib/python3.9/ssl.py:1343\u001b[0m, in \u001b[0;36mSSLSocket.do_handshake\u001b[0;34m(self, block)\u001b[0m\n\u001b[1;32m   1342\u001b[0m         \u001b[38;5;28mself\u001b[39m\u001b[38;5;241m.\u001b[39msettimeout(\u001b[38;5;28;01mNone\u001b[39;00m)\n\u001b[0;32m-> 1343\u001b[0m     \u001b[38;5;28;43mself\u001b[39;49m\u001b[38;5;241;43m.\u001b[39;49m\u001b[43m_sslobj\u001b[49m\u001b[38;5;241;43m.\u001b[39;49m\u001b[43mdo_handshake\u001b[49m\u001b[43m(\u001b[49m\u001b[43m)\u001b[49m\n\u001b[1;32m   1344\u001b[0m \u001b[38;5;28;01mfinally\u001b[39;00m:\n",
      "\u001b[0;31mSSLZeroReturnError\u001b[0m: TLS/SSL connection has been closed (EOF) (_ssl.c:1147)",
      "\nDuring handling of the above exception, another exception occurred:\n",
      "\u001b[0;31mSSLError\u001b[0m                                  Traceback (most recent call last)",
      "File \u001b[0;32m/opt/anaconda3/envs/my_data_lab/lib/python3.9/site-packages/urllib3/connectionpool.py:787\u001b[0m, in \u001b[0;36mHTTPConnectionPool.urlopen\u001b[0;34m(self, method, url, body, headers, retries, redirect, assert_same_host, timeout, pool_timeout, release_conn, chunked, body_pos, preload_content, decode_content, **response_kw)\u001b[0m\n\u001b[1;32m    786\u001b[0m \u001b[38;5;66;03m# Make the request on the HTTPConnection object\u001b[39;00m\n\u001b[0;32m--> 787\u001b[0m response \u001b[38;5;241m=\u001b[39m \u001b[38;5;28;43mself\u001b[39;49m\u001b[38;5;241;43m.\u001b[39;49m\u001b[43m_make_request\u001b[49m\u001b[43m(\u001b[49m\n\u001b[1;32m    788\u001b[0m \u001b[43m    \u001b[49m\u001b[43mconn\u001b[49m\u001b[43m,\u001b[49m\n\u001b[1;32m    789\u001b[0m \u001b[43m    \u001b[49m\u001b[43mmethod\u001b[49m\u001b[43m,\u001b[49m\n\u001b[1;32m    790\u001b[0m \u001b[43m    \u001b[49m\u001b[43murl\u001b[49m\u001b[43m,\u001b[49m\n\u001b[1;32m    791\u001b[0m \u001b[43m    \u001b[49m\u001b[43mtimeout\u001b[49m\u001b[38;5;241;43m=\u001b[39;49m\u001b[43mtimeout_obj\u001b[49m\u001b[43m,\u001b[49m\n\u001b[1;32m    792\u001b[0m \u001b[43m    \u001b[49m\u001b[43mbody\u001b[49m\u001b[38;5;241;43m=\u001b[39;49m\u001b[43mbody\u001b[49m\u001b[43m,\u001b[49m\n\u001b[1;32m    793\u001b[0m \u001b[43m    \u001b[49m\u001b[43mheaders\u001b[49m\u001b[38;5;241;43m=\u001b[39;49m\u001b[43mheaders\u001b[49m\u001b[43m,\u001b[49m\n\u001b[1;32m    794\u001b[0m \u001b[43m    \u001b[49m\u001b[43mchunked\u001b[49m\u001b[38;5;241;43m=\u001b[39;49m\u001b[43mchunked\u001b[49m\u001b[43m,\u001b[49m\n\u001b[1;32m    795\u001b[0m \u001b[43m    \u001b[49m\u001b[43mretries\u001b[49m\u001b[38;5;241;43m=\u001b[39;49m\u001b[43mretries\u001b[49m\u001b[43m,\u001b[49m\n\u001b[1;32m    796\u001b[0m \u001b[43m    \u001b[49m\u001b[43mresponse_conn\u001b[49m\u001b[38;5;241;43m=\u001b[39;49m\u001b[43mresponse_conn\u001b[49m\u001b[43m,\u001b[49m\n\u001b[1;32m    797\u001b[0m \u001b[43m    \u001b[49m\u001b[43mpreload_content\u001b[49m\u001b[38;5;241;43m=\u001b[39;49m\u001b[43mpreload_content\u001b[49m\u001b[43m,\u001b[49m\n\u001b[1;32m    798\u001b[0m \u001b[43m    \u001b[49m\u001b[43mdecode_content\u001b[49m\u001b[38;5;241;43m=\u001b[39;49m\u001b[43mdecode_content\u001b[49m\u001b[43m,\u001b[49m\n\u001b[1;32m    799\u001b[0m \u001b[43m    \u001b[49m\u001b[38;5;241;43m*\u001b[39;49m\u001b[38;5;241;43m*\u001b[39;49m\u001b[43mresponse_kw\u001b[49m\u001b[43m,\u001b[49m\n\u001b[1;32m    800\u001b[0m \u001b[43m\u001b[49m\u001b[43m)\u001b[49m\n\u001b[1;32m    802\u001b[0m \u001b[38;5;66;03m# Everything went great!\u001b[39;00m\n",
      "File \u001b[0;32m/opt/anaconda3/envs/my_data_lab/lib/python3.9/site-packages/urllib3/connectionpool.py:488\u001b[0m, in \u001b[0;36mHTTPConnectionPool._make_request\u001b[0;34m(self, conn, method, url, body, headers, retries, timeout, chunked, response_conn, preload_content, decode_content, enforce_content_length)\u001b[0m\n\u001b[1;32m    487\u001b[0m         new_e \u001b[38;5;241m=\u001b[39m _wrap_proxy_error(new_e, conn\u001b[38;5;241m.\u001b[39mproxy\u001b[38;5;241m.\u001b[39mscheme)\n\u001b[0;32m--> 488\u001b[0m     \u001b[38;5;28;01mraise\u001b[39;00m new_e\n\u001b[1;32m    490\u001b[0m \u001b[38;5;66;03m# conn.request() calls http.client.*.request, not the method in\u001b[39;00m\n\u001b[1;32m    491\u001b[0m \u001b[38;5;66;03m# urllib3.request. It also calls makefile (recv) on the socket.\u001b[39;00m\n",
      "\u001b[0;31mSSLError\u001b[0m: TLS/SSL connection has been closed (EOF) (_ssl.c:1147)",
      "\nThe above exception was the direct cause of the following exception:\n",
      "\u001b[0;31mMaxRetryError\u001b[0m                             Traceback (most recent call last)",
      "File \u001b[0;32m/opt/anaconda3/envs/my_data_lab/lib/python3.9/site-packages/requests/adapters.py:667\u001b[0m, in \u001b[0;36mHTTPAdapter.send\u001b[0;34m(self, request, stream, timeout, verify, cert, proxies)\u001b[0m\n\u001b[1;32m    666\u001b[0m \u001b[38;5;28;01mtry\u001b[39;00m:\n\u001b[0;32m--> 667\u001b[0m     resp \u001b[38;5;241m=\u001b[39m \u001b[43mconn\u001b[49m\u001b[38;5;241;43m.\u001b[39;49m\u001b[43murlopen\u001b[49m\u001b[43m(\u001b[49m\n\u001b[1;32m    668\u001b[0m \u001b[43m        \u001b[49m\u001b[43mmethod\u001b[49m\u001b[38;5;241;43m=\u001b[39;49m\u001b[43mrequest\u001b[49m\u001b[38;5;241;43m.\u001b[39;49m\u001b[43mmethod\u001b[49m\u001b[43m,\u001b[49m\n\u001b[1;32m    669\u001b[0m \u001b[43m        \u001b[49m\u001b[43murl\u001b[49m\u001b[38;5;241;43m=\u001b[39;49m\u001b[43murl\u001b[49m\u001b[43m,\u001b[49m\n\u001b[1;32m    670\u001b[0m \u001b[43m        \u001b[49m\u001b[43mbody\u001b[49m\u001b[38;5;241;43m=\u001b[39;49m\u001b[43mrequest\u001b[49m\u001b[38;5;241;43m.\u001b[39;49m\u001b[43mbody\u001b[49m\u001b[43m,\u001b[49m\n\u001b[1;32m    671\u001b[0m \u001b[43m        \u001b[49m\u001b[43mheaders\u001b[49m\u001b[38;5;241;43m=\u001b[39;49m\u001b[43mrequest\u001b[49m\u001b[38;5;241;43m.\u001b[39;49m\u001b[43mheaders\u001b[49m\u001b[43m,\u001b[49m\n\u001b[1;32m    672\u001b[0m \u001b[43m        \u001b[49m\u001b[43mredirect\u001b[49m\u001b[38;5;241;43m=\u001b[39;49m\u001b[38;5;28;43;01mFalse\u001b[39;49;00m\u001b[43m,\u001b[49m\n\u001b[1;32m    673\u001b[0m \u001b[43m        \u001b[49m\u001b[43massert_same_host\u001b[49m\u001b[38;5;241;43m=\u001b[39;49m\u001b[38;5;28;43;01mFalse\u001b[39;49;00m\u001b[43m,\u001b[49m\n\u001b[1;32m    674\u001b[0m \u001b[43m        \u001b[49m\u001b[43mpreload_content\u001b[49m\u001b[38;5;241;43m=\u001b[39;49m\u001b[38;5;28;43;01mFalse\u001b[39;49;00m\u001b[43m,\u001b[49m\n\u001b[1;32m    675\u001b[0m \u001b[43m        \u001b[49m\u001b[43mdecode_content\u001b[49m\u001b[38;5;241;43m=\u001b[39;49m\u001b[38;5;28;43;01mFalse\u001b[39;49;00m\u001b[43m,\u001b[49m\n\u001b[1;32m    676\u001b[0m \u001b[43m        \u001b[49m\u001b[43mretries\u001b[49m\u001b[38;5;241;43m=\u001b[39;49m\u001b[38;5;28;43mself\u001b[39;49m\u001b[38;5;241;43m.\u001b[39;49m\u001b[43mmax_retries\u001b[49m\u001b[43m,\u001b[49m\n\u001b[1;32m    677\u001b[0m \u001b[43m        \u001b[49m\u001b[43mtimeout\u001b[49m\u001b[38;5;241;43m=\u001b[39;49m\u001b[43mtimeout\u001b[49m\u001b[43m,\u001b[49m\n\u001b[1;32m    678\u001b[0m \u001b[43m        \u001b[49m\u001b[43mchunked\u001b[49m\u001b[38;5;241;43m=\u001b[39;49m\u001b[43mchunked\u001b[49m\u001b[43m,\u001b[49m\n\u001b[1;32m    679\u001b[0m \u001b[43m    \u001b[49m\u001b[43m)\u001b[49m\n\u001b[1;32m    681\u001b[0m \u001b[38;5;28;01mexcept\u001b[39;00m (ProtocolError, \u001b[38;5;167;01mOSError\u001b[39;00m) \u001b[38;5;28;01mas\u001b[39;00m err:\n",
      "File \u001b[0;32m/opt/anaconda3/envs/my_data_lab/lib/python3.9/site-packages/urllib3/connectionpool.py:841\u001b[0m, in \u001b[0;36mHTTPConnectionPool.urlopen\u001b[0;34m(self, method, url, body, headers, retries, redirect, assert_same_host, timeout, pool_timeout, release_conn, chunked, body_pos, preload_content, decode_content, **response_kw)\u001b[0m\n\u001b[1;32m    839\u001b[0m     new_e \u001b[38;5;241m=\u001b[39m ProtocolError(\u001b[38;5;124m\"\u001b[39m\u001b[38;5;124mConnection aborted.\u001b[39m\u001b[38;5;124m\"\u001b[39m, new_e)\n\u001b[0;32m--> 841\u001b[0m retries \u001b[38;5;241m=\u001b[39m \u001b[43mretries\u001b[49m\u001b[38;5;241;43m.\u001b[39;49m\u001b[43mincrement\u001b[49m\u001b[43m(\u001b[49m\n\u001b[1;32m    842\u001b[0m \u001b[43m    \u001b[49m\u001b[43mmethod\u001b[49m\u001b[43m,\u001b[49m\u001b[43m \u001b[49m\u001b[43murl\u001b[49m\u001b[43m,\u001b[49m\u001b[43m \u001b[49m\u001b[43merror\u001b[49m\u001b[38;5;241;43m=\u001b[39;49m\u001b[43mnew_e\u001b[49m\u001b[43m,\u001b[49m\u001b[43m \u001b[49m\u001b[43m_pool\u001b[49m\u001b[38;5;241;43m=\u001b[39;49m\u001b[38;5;28;43mself\u001b[39;49m\u001b[43m,\u001b[49m\u001b[43m \u001b[49m\u001b[43m_stacktrace\u001b[49m\u001b[38;5;241;43m=\u001b[39;49m\u001b[43msys\u001b[49m\u001b[38;5;241;43m.\u001b[39;49m\u001b[43mexc_info\u001b[49m\u001b[43m(\u001b[49m\u001b[43m)\u001b[49m\u001b[43m[\u001b[49m\u001b[38;5;241;43m2\u001b[39;49m\u001b[43m]\u001b[49m\n\u001b[1;32m    843\u001b[0m \u001b[43m\u001b[49m\u001b[43m)\u001b[49m\n\u001b[1;32m    844\u001b[0m retries\u001b[38;5;241m.\u001b[39msleep()\n",
      "File \u001b[0;32m/opt/anaconda3/envs/my_data_lab/lib/python3.9/site-packages/urllib3/util/retry.py:519\u001b[0m, in \u001b[0;36mRetry.increment\u001b[0;34m(self, method, url, response, error, _pool, _stacktrace)\u001b[0m\n\u001b[1;32m    518\u001b[0m     reason \u001b[38;5;241m=\u001b[39m error \u001b[38;5;129;01mor\u001b[39;00m ResponseError(cause)\n\u001b[0;32m--> 519\u001b[0m     \u001b[38;5;28;01mraise\u001b[39;00m MaxRetryError(_pool, url, reason) \u001b[38;5;28;01mfrom\u001b[39;00m\u001b[38;5;250m \u001b[39m\u001b[38;5;21;01mreason\u001b[39;00m  \u001b[38;5;66;03m# type: ignore[arg-type]\u001b[39;00m\n\u001b[1;32m    521\u001b[0m log\u001b[38;5;241m.\u001b[39mdebug(\u001b[38;5;124m\"\u001b[39m\u001b[38;5;124mIncremented Retry for (url=\u001b[39m\u001b[38;5;124m'\u001b[39m\u001b[38;5;132;01m%s\u001b[39;00m\u001b[38;5;124m'\u001b[39m\u001b[38;5;124m): \u001b[39m\u001b[38;5;132;01m%r\u001b[39;00m\u001b[38;5;124m\"\u001b[39m, url, new_retry)\n",
      "\u001b[0;31mMaxRetryError\u001b[0m: HTTPSConnectionPool(host='jsonplaceholder.typicode.com', port=443): Max retries exceeded with url: /todos (Caused by SSLError(SSLZeroReturnError(6, 'TLS/SSL connection has been closed (EOF) (_ssl.c:1147)')))",
      "\nDuring handling of the above exception, another exception occurred:\n",
      "\u001b[0;31mSSLError\u001b[0m                                  Traceback (most recent call last)",
      "Cell \u001b[0;32mIn[22], line 1\u001b[0m\n\u001b[0;32m----> 1\u001b[0m response \u001b[38;5;241m=\u001b[39m \u001b[43mrequests\u001b[49m\u001b[38;5;241;43m.\u001b[39;49m\u001b[43mget\u001b[49m\u001b[43m(\u001b[49m\u001b[38;5;124;43m\"\u001b[39;49m\u001b[38;5;124;43mhttps://jsonplaceholder.typicode.com/todos\u001b[39;49m\u001b[38;5;124;43m\"\u001b[39;49m\u001b[43m)\u001b[49m\n\u001b[1;32m      2\u001b[0m \u001b[38;5;28;01mif\u001b[39;00m response\u001b[38;5;241m.\u001b[39mstatus_code \u001b[38;5;241m==\u001b[39m \u001b[38;5;241m200\u001b[39m:\n\u001b[1;32m      3\u001b[0m     \u001b[38;5;28mprint\u001b[39m(\u001b[38;5;124m\"\u001b[39m\u001b[38;5;124mconectado\u001b[39m\u001b[38;5;124m\"\u001b[39m)\n",
      "File \u001b[0;32m/opt/anaconda3/envs/my_data_lab/lib/python3.9/site-packages/requests/api.py:73\u001b[0m, in \u001b[0;36mget\u001b[0;34m(url, params, **kwargs)\u001b[0m\n\u001b[1;32m     62\u001b[0m \u001b[38;5;28;01mdef\u001b[39;00m\u001b[38;5;250m \u001b[39m\u001b[38;5;21mget\u001b[39m(url, params\u001b[38;5;241m=\u001b[39m\u001b[38;5;28;01mNone\u001b[39;00m, \u001b[38;5;241m*\u001b[39m\u001b[38;5;241m*\u001b[39mkwargs):\n\u001b[1;32m     63\u001b[0m \u001b[38;5;250m    \u001b[39m\u001b[38;5;124mr\u001b[39m\u001b[38;5;124;03m\"\"\"Sends a GET request.\u001b[39;00m\n\u001b[1;32m     64\u001b[0m \n\u001b[1;32m     65\u001b[0m \u001b[38;5;124;03m    :param url: URL for the new :class:`Request` object.\u001b[39;00m\n\u001b[0;32m   (...)\u001b[0m\n\u001b[1;32m     70\u001b[0m \u001b[38;5;124;03m    :rtype: requests.Response\u001b[39;00m\n\u001b[1;32m     71\u001b[0m \u001b[38;5;124;03m    \"\"\"\u001b[39;00m\n\u001b[0;32m---> 73\u001b[0m     \u001b[38;5;28;01mreturn\u001b[39;00m \u001b[43mrequest\u001b[49m\u001b[43m(\u001b[49m\u001b[38;5;124;43m\"\u001b[39;49m\u001b[38;5;124;43mget\u001b[39;49m\u001b[38;5;124;43m\"\u001b[39;49m\u001b[43m,\u001b[49m\u001b[43m \u001b[49m\u001b[43murl\u001b[49m\u001b[43m,\u001b[49m\u001b[43m \u001b[49m\u001b[43mparams\u001b[49m\u001b[38;5;241;43m=\u001b[39;49m\u001b[43mparams\u001b[49m\u001b[43m,\u001b[49m\u001b[43m \u001b[49m\u001b[38;5;241;43m*\u001b[39;49m\u001b[38;5;241;43m*\u001b[39;49m\u001b[43mkwargs\u001b[49m\u001b[43m)\u001b[49m\n",
      "File \u001b[0;32m/opt/anaconda3/envs/my_data_lab/lib/python3.9/site-packages/requests/api.py:59\u001b[0m, in \u001b[0;36mrequest\u001b[0;34m(method, url, **kwargs)\u001b[0m\n\u001b[1;32m     55\u001b[0m \u001b[38;5;66;03m# By using the 'with' statement we are sure the session is closed, thus we\u001b[39;00m\n\u001b[1;32m     56\u001b[0m \u001b[38;5;66;03m# avoid leaving sockets open which can trigger a ResourceWarning in some\u001b[39;00m\n\u001b[1;32m     57\u001b[0m \u001b[38;5;66;03m# cases, and look like a memory leak in others.\u001b[39;00m\n\u001b[1;32m     58\u001b[0m \u001b[38;5;28;01mwith\u001b[39;00m sessions\u001b[38;5;241m.\u001b[39mSession() \u001b[38;5;28;01mas\u001b[39;00m session:\n\u001b[0;32m---> 59\u001b[0m     \u001b[38;5;28;01mreturn\u001b[39;00m \u001b[43msession\u001b[49m\u001b[38;5;241;43m.\u001b[39;49m\u001b[43mrequest\u001b[49m\u001b[43m(\u001b[49m\u001b[43mmethod\u001b[49m\u001b[38;5;241;43m=\u001b[39;49m\u001b[43mmethod\u001b[49m\u001b[43m,\u001b[49m\u001b[43m \u001b[49m\u001b[43murl\u001b[49m\u001b[38;5;241;43m=\u001b[39;49m\u001b[43murl\u001b[49m\u001b[43m,\u001b[49m\u001b[43m \u001b[49m\u001b[38;5;241;43m*\u001b[39;49m\u001b[38;5;241;43m*\u001b[39;49m\u001b[43mkwargs\u001b[49m\u001b[43m)\u001b[49m\n",
      "File \u001b[0;32m/opt/anaconda3/envs/my_data_lab/lib/python3.9/site-packages/requests/sessions.py:589\u001b[0m, in \u001b[0;36mSession.request\u001b[0;34m(self, method, url, params, data, headers, cookies, files, auth, timeout, allow_redirects, proxies, hooks, stream, verify, cert, json)\u001b[0m\n\u001b[1;32m    584\u001b[0m send_kwargs \u001b[38;5;241m=\u001b[39m {\n\u001b[1;32m    585\u001b[0m     \u001b[38;5;124m\"\u001b[39m\u001b[38;5;124mtimeout\u001b[39m\u001b[38;5;124m\"\u001b[39m: timeout,\n\u001b[1;32m    586\u001b[0m     \u001b[38;5;124m\"\u001b[39m\u001b[38;5;124mallow_redirects\u001b[39m\u001b[38;5;124m\"\u001b[39m: allow_redirects,\n\u001b[1;32m    587\u001b[0m }\n\u001b[1;32m    588\u001b[0m send_kwargs\u001b[38;5;241m.\u001b[39mupdate(settings)\n\u001b[0;32m--> 589\u001b[0m resp \u001b[38;5;241m=\u001b[39m \u001b[38;5;28;43mself\u001b[39;49m\u001b[38;5;241;43m.\u001b[39;49m\u001b[43msend\u001b[49m\u001b[43m(\u001b[49m\u001b[43mprep\u001b[49m\u001b[43m,\u001b[49m\u001b[43m \u001b[49m\u001b[38;5;241;43m*\u001b[39;49m\u001b[38;5;241;43m*\u001b[39;49m\u001b[43msend_kwargs\u001b[49m\u001b[43m)\u001b[49m\n\u001b[1;32m    591\u001b[0m \u001b[38;5;28;01mreturn\u001b[39;00m resp\n",
      "File \u001b[0;32m/opt/anaconda3/envs/my_data_lab/lib/python3.9/site-packages/requests/sessions.py:703\u001b[0m, in \u001b[0;36mSession.send\u001b[0;34m(self, request, **kwargs)\u001b[0m\n\u001b[1;32m    700\u001b[0m start \u001b[38;5;241m=\u001b[39m preferred_clock()\n\u001b[1;32m    702\u001b[0m \u001b[38;5;66;03m# Send the request\u001b[39;00m\n\u001b[0;32m--> 703\u001b[0m r \u001b[38;5;241m=\u001b[39m \u001b[43madapter\u001b[49m\u001b[38;5;241;43m.\u001b[39;49m\u001b[43msend\u001b[49m\u001b[43m(\u001b[49m\u001b[43mrequest\u001b[49m\u001b[43m,\u001b[49m\u001b[43m \u001b[49m\u001b[38;5;241;43m*\u001b[39;49m\u001b[38;5;241;43m*\u001b[39;49m\u001b[43mkwargs\u001b[49m\u001b[43m)\u001b[49m\n\u001b[1;32m    705\u001b[0m \u001b[38;5;66;03m# Total elapsed time of the request (approximately)\u001b[39;00m\n\u001b[1;32m    706\u001b[0m elapsed \u001b[38;5;241m=\u001b[39m preferred_clock() \u001b[38;5;241m-\u001b[39m start\n",
      "File \u001b[0;32m/opt/anaconda3/envs/my_data_lab/lib/python3.9/site-packages/requests/adapters.py:698\u001b[0m, in \u001b[0;36mHTTPAdapter.send\u001b[0;34m(self, request, stream, timeout, verify, cert, proxies)\u001b[0m\n\u001b[1;32m    694\u001b[0m         \u001b[38;5;28;01mraise\u001b[39;00m ProxyError(e, request\u001b[38;5;241m=\u001b[39mrequest)\n\u001b[1;32m    696\u001b[0m     \u001b[38;5;28;01mif\u001b[39;00m \u001b[38;5;28misinstance\u001b[39m(e\u001b[38;5;241m.\u001b[39mreason, _SSLError):\n\u001b[1;32m    697\u001b[0m         \u001b[38;5;66;03m# This branch is for urllib3 v1.22 and later.\u001b[39;00m\n\u001b[0;32m--> 698\u001b[0m         \u001b[38;5;28;01mraise\u001b[39;00m SSLError(e, request\u001b[38;5;241m=\u001b[39mrequest)\n\u001b[1;32m    700\u001b[0m     \u001b[38;5;28;01mraise\u001b[39;00m \u001b[38;5;167;01mConnectionError\u001b[39;00m(e, request\u001b[38;5;241m=\u001b[39mrequest)\n\u001b[1;32m    702\u001b[0m \u001b[38;5;28;01mexcept\u001b[39;00m ClosedPoolError \u001b[38;5;28;01mas\u001b[39;00m e:\n",
      "\u001b[0;31mSSLError\u001b[0m: HTTPSConnectionPool(host='jsonplaceholder.typicode.com', port=443): Max retries exceeded with url: /todos (Caused by SSLError(SSLZeroReturnError(6, 'TLS/SSL connection has been closed (EOF) (_ssl.c:1147)')))"
     ]
    }
   ],
   "source": [
    "response = requests.get(\"https://jsonplaceholder.typicode.com/todos\")\n",
    "if response.status_code == 200:\n",
    "    print(\"conectado\")\n",
    "else:\n",
    "    print(response.status_code)\n",
    "\n",
    "    "
   ]
  },
  {
   "cell_type": "code",
   "execution_count": null,
   "id": "f8c75c6b-d7c9-4fa6-b653-e059c21aad00",
   "metadata": {},
   "outputs": [],
   "source": [
    "todos = json.loads(response.text) # response.text nos trae el string que deserializamos con loads()"
   ]
  },
  {
   "cell_type": "code",
   "execution_count": null,
   "id": "5106a7a4-9f15-4b20-a5f3-a8777db4d8ea",
   "metadata": {},
   "outputs": [],
   "source": [
    "type(todos)"
   ]
  },
  {
   "cell_type": "code",
   "execution_count": null,
   "id": "1a5127b9-bc37-480a-9570-1415bafa3401",
   "metadata": {
    "scrolled": true
   },
   "outputs": [],
   "source": [
    "todos[0:2]"
   ]
  },
  {
   "cell_type": "code",
   "execution_count": null,
   "id": "9234cc2e-a42e-4599-a5a1-2f6ee66d3c7c",
   "metadata": {},
   "outputs": [],
   "source": [
    "\"\"\"\n",
    "\n",
    "todos_by_user = {}\n",
    "\n",
    "for todo in todos:\n",
    "    if todo[\"completed\"]:\n",
    "        todos_by_user[todo[\"userId\"]] = todos_by_user.get(todo[\"userId\"], 0) + 1\n",
    "\"\"\"\n"
   ]
  },
  {
   "cell_type": "code",
   "execution_count": null,
   "id": "86e9b99c-ca16-4115-8d0c-d1fc07442e6d",
   "metadata": {},
   "outputs": [],
   "source": [
    "# PROBLEM:  We want to figure out which users have completed the most TODO items\n",
    "# SOLUTION:by creating a new dictionary called todos_by_user, which will map each 'userId' to the number of TODOs that they have completed.\n",
    "todos_by_user = {}\n",
    "\n",
    "for todo in todos:\n",
    "    #print(todo)\n",
    "   \n",
    "    if todo[\"completed\"]:\n",
    "        #print(todo)\n",
    "        try: \n",
    "            todos_by_user[todo[\"userId\"]] += 1  #“Get the user’s count in a dictionary with this code right here.” And we’ll increment it by 1.\n",
    "        except KeyError:\n",
    "            todos_by_user[todo[\"userId\"]] = 1 #  But if the user is not already present in our dictionary, we’ll see a KeyError, and so we’ll need to catch that by typing except KeyError: and then we’ll create a new user in the dictionary, setting their completed TODOs count to 1. \n",
    "      "
   ]
  },
  {
   "cell_type": "code",
   "execution_count": null,
   "id": "2713e496-20a1-4852-8a48-85ed355c5091",
   "metadata": {},
   "outputs": [],
   "source": [
    "todos_by_user\n",
    "#03:31 Now we have to determine what the highest number of completed items is, \n",
    "#as well as who’s completed that many items. This code I’m typing now is going to create a new list \n",
    "#of tuples with each tuple containing the person as well as how many items they’ve computed."
   ]
  },
  {
   "cell_type": "code",
   "execution_count": null,
   "id": "f947e914-1bbf-43fb-a59b-c3bb7434ddac",
   "metadata": {},
   "outputs": [],
   "source": [
    "top_user = sorted(todos_by_user.items(), key=lambda x:x[1], reverse=True) \n",
    "\n",
    "#is going to create a new list of tuples with each tuple containing the person as well as how many items they’ve computed.\n",
    "# The tuples will be sorted in descending order by the number of items completed."
   ]
  },
  {
   "cell_type": "code",
   "execution_count": null,
   "id": "48d4e8ce-17e1-437f-afcf-9d82f4f5e812",
   "metadata": {},
   "outputs": [],
   "source": [
    "max_completed = top_user[0][1]\n",
    "max_completed"
   ]
  },
  {
   "cell_type": "code",
   "execution_count": null,
   "id": "4826bb76-5fb3-4702-baad-ec57d8028938",
   "metadata": {},
   "outputs": [],
   "source": [
    "users = []\n",
    "\n",
    "for user, num_completed in top_user:\n",
    "    if num_completed < max_completed:\n",
    "        break\n",
    "    users.append(str(user))\n",
    "\n",
    "max_users = \" and \".join(users)\n",
    "\n",
    "print(f\" users (s) {max_users} completed {max_completed} TODOs\")"
   ]
  },
  {
   "cell_type": "code",
   "execution_count": null,
   "id": "768c1199-c3d0-4d73-bd64-bf448b23f23a",
   "metadata": {},
   "outputs": [],
   "source": [
    "# should have a JSON file containing only the TODO items completed by users 5 and 10."
   ]
  },
  {
   "cell_type": "code",
   "execution_count": null,
   "id": "70ed9754-b0eb-4ec5-ade4-841c873c3cc5",
   "metadata": {},
   "outputs": [],
   "source": [
    "#todo is a dict\n",
    "def keep(todo):\n",
    "    is_completed = todo[\"completed\"]\n",
    "    has_max_count = todo[\"userId\"] in users\n",
    "    return is_completed and has_max_count\n",
    "\n",
    "\n",
    "with open(\"filtered_data_file.json\", \"w\") as data_file:\n",
    "    filtered_todos = list(filter(keep, todos))\n",
    "    json.dump(filtered_todos, data_file, indent=2)\n",
    "\n",
    "    \n",
    "    "
   ]
  },
  {
   "cell_type": "markdown",
   "id": "cf656bc7-cfe4-402d-bc07-75afc2544053",
   "metadata": {},
   "source": [
    "### Repaso con GPT"
   ]
  },
  {
   "cell_type": "markdown",
   "id": "519ebf5f-fbee-4b04-a4c0-07b6b8adcd25",
   "metadata": {},
   "source": [
    "#### Ejempplo de petición"
   ]
  },
  {
   "cell_type": "code",
   "execution_count": null,
   "id": "e9f65337-6f40-47d8-adef-2b7d3dc57047",
   "metadata": {},
   "outputs": [],
   "source": [
    "import requests"
   ]
  },
  {
   "cell_type": "code",
   "execution_count": null,
   "id": "3c6ed225-3926-4d1e-b894-7f34ddf29545",
   "metadata": {},
   "outputs": [],
   "source": [
    "url = \"https://jsonplaceholder.typicode.com/todos\""
   ]
  },
  {
   "cell_type": "code",
   "execution_count": null,
   "id": "5fba0909-0e34-41b2-bfc9-153a02aa56d2",
   "metadata": {},
   "outputs": [],
   "source": [
    "reponse = requests.get(url) # Hacemos requests.get(url) para obtener la respuesta."
   ]
  },
  {
   "cell_type": "code",
   "execution_count": null,
   "id": "4ddae108-72c6-4bd6-83fa-7c4f4784de4b",
   "metadata": {},
   "outputs": [],
   "source": [
    "if response.status_code == 200: #evisamos response.status_code para ver si fue 200 (OK).\n",
    "    print(\"Contectado! Tenemos datos json\")\n",
    "    print(\"Estos son los primeros 300 caracteres\")\n",
    "    print(response.text[:300]) # response.text nos devuelve el string con los datos en formato JSON.\n",
    "else:\n",
    "    print(f\"Error {response.status_code}\")"
   ]
  },
  {
   "cell_type": "markdown",
   "id": "22001bc5-5036-4756-9722-cb3a79719a99",
   "metadata": {},
   "source": [
    "#### Deserializar: de string JSON a objetos Python -> Convierte un string JSON en un objeto Python."
   ]
  },
  {
   "cell_type": "code",
   "execution_count": null,
   "id": "1d9b4d11-e517-4683-9126-5bf5c3c88ab6",
   "metadata": {},
   "outputs": [],
   "source": [
    "import json\n",
    "# Supongamos que 'response.text' tiene un string JSON\n",
    "todos = json.loads(response.text)\n",
    "print(type(todos))\n",
    "print(todos[:2])"
   ]
  },
  {
   "cell_type": "code",
   "execution_count": null,
   "id": "5a904dd8-f42a-47a9-80ce-1057cd851ac5",
   "metadata": {},
   "outputs": [],
   "source": [
    "# Observa:\n",
    "\n",
    "# todos seguramente sea una lista de diccionarios. Cada diccionario representa un \"TODO\" con la forma:\n",
    "\n",
    "print(f\"primer elemento de la lista de diccionarios {todos[0]}\")\n",
    "print(f\"según elemento de la lista de diccionarios {todos[1]}\")\n"
   ]
  },
  {
   "cell_type": "markdown",
   "id": "0376b157-2b50-4691-9470-467828686e4c",
   "metadata": {},
   "source": [
    "##### Ejercicio 1\n",
    "Haz una petición a la misma URL de jsonplaceholder.typicode.com/todos.\n",
    "Deserializa el JSON en un objeto Python.\n",
    "Imprime:\n",
    "El tipo de ese objeto (type(todos)).\n",
    "Los primeros 5 TODOs.\n",
    "El segundo TODO completo (todos[1]).\n",
    "El valor del title del primer TODO."
   ]
  },
  {
   "cell_type": "code",
   "execution_count": null,
   "id": "78f57678-24cf-48f1-86d4-dfc26b5dd974",
   "metadata": {},
   "outputs": [],
   "source": [
    "import requests"
   ]
  },
  {
   "cell_type": "code",
   "execution_count": null,
   "id": "548c586c-ebb6-4256-8a12-ca115f620c05",
   "metadata": {},
   "outputs": [],
   "source": [
    "url = \"https://jsonplaceholder.typicode.com/todos\""
   ]
  },
  {
   "cell_type": "code",
   "execution_count": null,
   "id": "c785c42b-9ae4-4fe7-b27e-ead516eb7dbf",
   "metadata": {},
   "outputs": [],
   "source": [
    "response = requests.get(url)"
   ]
  },
  {
   "cell_type": "code",
   "execution_count": null,
   "id": "96164dfa-ba7d-4c3c-bdeb-e933127140c0",
   "metadata": {},
   "outputs": [],
   "source": [
    "if reponse.status_code == 200:\n",
    "    print(\"Código obtenido\")\n",
    "    print(f\"Estas son las primeras líneas {response.text[:200]}\" )\n",
    "else:\n",
    "    print(f\"Problema {response.status_code}\")"
   ]
  },
  {
   "cell_type": "code",
   "execution_count": null,
   "id": "127ab205-9804-4b1f-a8f5-b770a4f6b3e2",
   "metadata": {},
   "outputs": [],
   "source": [
    "with open(\"save_file\", \"w\") as file:\n",
    "    json."
   ]
  },
  {
   "cell_type": "code",
   "execution_count": null,
   "id": "0dc7f53b-9c9f-4e64-afe5-c064d342db1f",
   "metadata": {},
   "outputs": [],
   "source": [
    "# Ahora abría que deserializarlo"
   ]
  },
  {
   "cell_type": "code",
   "execution_count": null,
   "id": "7d3d2e09-dd2b-4f5e-a5e6-cd5115a59f37",
   "metadata": {},
   "outputs": [],
   "source": [
    "import json"
   ]
  },
  {
   "cell_type": "code",
   "execution_count": null,
   "id": "2bc0862c-be38-4780-acef-a8be8e93e799",
   "metadata": {},
   "outputs": [],
   "source": [
    "todos = json.loads(response.text)"
   ]
  },
  {
   "cell_type": "code",
   "execution_count": null,
   "id": "1d80270e-1ea3-49c5-aaef-80dae2377d82",
   "metadata": {},
   "outputs": [],
   "source": [
    "print(type(todos))\n",
    "print(f\"Este es el primer valor {todos[0]}\")"
   ]
  },
  {
   "cell_type": "markdown",
   "id": "c0a091e0-5d37-482c-be0a-b4c1de94109a",
   "metadata": {},
   "source": [
    "#### Manipular y analizar la lista de “TODOs”"
   ]
  },
  {
   "cell_type": "markdown",
   "id": "b2c60daf-005a-4698-b0f2-d075ad37b373",
   "metadata": {},
   "source": [
    "El objetivo en el video es descubrir qué usuario(s) completaron más TODOs. Para ello:\n",
    "\n",
    "Creamos un diccionario todos_by_user que acumule cuántos TODOs (tareas) completó cada usuario.\n",
    "Contamos solo los TODOs que tienen \"completed\": True."
   ]
  },
  {
   "cell_type": "code",
   "execution_count": null,
   "id": "bf75f7c9-e1c2-49e3-9464-41386d2c3a94",
   "metadata": {},
   "outputs": [],
   "source": [
    "todos_by_user = {} # Creamos un diccionario todos_by_user que acumule cuántos TODOs (tareas) completó cada usuario.\n",
    "# Contamos solo los TODOs que tienen \"completed\": True.\n",
    "\n",
    "for todo in todos:\n",
    "    if todo[\"completed\"]:  # Solo contamos si está \"completed\" == True\n",
    "        user_id = todo[\"userId\"]  # Por ejemplo, 1, 2, 3...\n",
    "        todos_by_user[user_id] =  todos_by_user.get(user_id, 0) + 1\n",
    "        \n",
    "\n",
    "print(todos_by_user)\n",
    "    "
   ]
  },
  {
   "cell_type": "code",
   "execution_count": null,
   "id": "f5ea717b-c624-4558-82f4-25ef2c0e0ad5",
   "metadata": {},
   "outputs": [],
   "source": [
    "### quiero practicar esto en thor, entonces me descargo los todos"
   ]
  },
  {
   "cell_type": "code",
   "execution_count": null,
   "id": "794eb495-3931-4400-91e7-b047c9cc78f9",
   "metadata": {},
   "outputs": [],
   "source": [
    "with open(\"data.json\", \"w\") as write_file:\n",
    "    json.dump(todo, write_file, indent=4)"
   ]
  },
  {
   "cell_type": "code",
   "execution_count": null,
   "id": "e0971239-603d-4d60-b001-110ad11149ea",
   "metadata": {},
   "outputs": [],
   "source": []
  },
  {
   "cell_type": "code",
   "execution_count": null,
   "id": "53985c65-6ead-46b6-ba3e-e0c514d5a049",
   "metadata": {},
   "outputs": [],
   "source": []
  },
  {
   "cell_type": "code",
   "execution_count": null,
   "id": "639eb327-c6ee-4244-9465-8b7ee596ccb8",
   "metadata": {},
   "outputs": [],
   "source": []
  },
  {
   "cell_type": "code",
   "execution_count": null,
   "id": "b462fe46-a1ad-4427-aa4e-c3612170edd3",
   "metadata": {},
   "outputs": [],
   "source": []
  },
  {
   "cell_type": "code",
   "execution_count": null,
   "id": "e27ca461-63cb-4b23-9e34-bb5b21612bf4",
   "metadata": {},
   "outputs": [],
   "source": []
  },
  {
   "cell_type": "code",
   "execution_count": null,
   "id": "c4c159e3-ce37-46f5-ae9c-fa8dcfc6fb55",
   "metadata": {},
   "outputs": [],
   "source": []
  }
 ],
 "metadata": {
  "kernelspec": {
   "display_name": "Python 3 (ipykernel)",
   "language": "python",
   "name": "python3"
  },
  "language_info": {
   "codemirror_mode": {
    "name": "ipython",
    "version": 3
   },
   "file_extension": ".py",
   "mimetype": "text/x-python",
   "name": "python",
   "nbconvert_exporter": "python",
   "pygments_lexer": "ipython3",
   "version": "3.9.21"
  }
 },
 "nbformat": 4,
 "nbformat_minor": 5
}
