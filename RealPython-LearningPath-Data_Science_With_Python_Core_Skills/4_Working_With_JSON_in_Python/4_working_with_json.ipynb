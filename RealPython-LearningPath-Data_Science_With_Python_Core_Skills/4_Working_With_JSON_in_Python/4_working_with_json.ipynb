{
 "cells": [
  {
   "cell_type": "markdown",
   "id": "67abf0d3-e075-4ae1-a5e3-9f8aea9c8acc",
   "metadata": {
    "jp-MarkdownHeadingCollapsed": true
   },
   "source": [
    "# 1 Obtener datos de la API jsonplaceholder.typicode.com/todos.\n"
   ]
  },
  {
   "cell_type": "code",
   "execution_count": 1,
   "id": "c4c159e3-ce37-46f5-ae9c-fa8dcfc6fb55",
   "metadata": {},
   "outputs": [],
   "source": [
    "import json\n",
    "import requests"
   ]
  },
  {
   "cell_type": "code",
   "execution_count": 2,
   "id": "7598badb-8b74-43fb-a430-fdba4496e6d7",
   "metadata": {
    "scrolled": true
   },
   "outputs": [
    {
     "name": "stdout",
     "output_type": "stream",
     "text": [
      "Datos recibidos correctamente.\n"
     ]
    }
   ],
   "source": [
    "try:\n",
    "    response = requests.get(\"https://jsonplaceholder.typicode.com/todos\", timeout=3)\n",
    "    # Si no lanza excepción por timeout o conexión, pasamos al siguiente if\n",
    "    if response.status_code == 200:\n",
    "        todos = json.loads(response.text)\n",
    "        print(\"Datos recibidos correctamente.\")\n",
    "    else:\n",
    "        print(f\"Error en la respuesta: Status code {response.status_code}\")\n",
    "    \n",
    "except requests.exceptions.RequestException as e:\n",
    "    print(f\"Ha ocurrido un error de conexión: {e}, pillamos la data del archivo descargado\")\n",
    "    with open (\"saved_todos.json\", \"r\") as file:\n",
    "        todos = json.load(file)"
   ]
  },
  {
   "cell_type": "markdown",
   "id": "f9be48f7-c13f-419b-9c1e-c7b919343a69",
   "metadata": {
    "jp-MarkdownHeadingCollapsed": true
   },
   "source": [
    "# 2 Crear un diccionario que mapea userId a la cantidad de tareas completadas.\n"
   ]
  },
  {
   "cell_type": "code",
   "execution_count": 5,
   "id": "86571411-fc68-4389-80f4-44f5c5a3fce6",
   "metadata": {},
   "outputs": [],
   "source": [
    "todos_by_user = {}\n",
    "\n",
    "for todo in todos:\n",
    "    if todo[\"completed\"]:\n",
    "        todos_by_user[todo[\"userId\"]] = todos_by_user.get(todo[\"userId\"], 0) +1"
   ]
  },
  {
   "cell_type": "markdown",
   "id": "d563726a-cd80-463f-a3f7-816d0e452404",
   "metadata": {},
   "source": [
    "\n",
    "Al iterar:\n",
    "1. Primera vez que encuentras al usuario 2:  \n",
    "   - `todos_by_user.get(2, 0)` → 0 (no existía)  \n",
    "   - 0 + 1 = 1  \n",
    "   - `todos_by_user[2] = 1`\n",
    "2. Segunda vez:  \n",
    "   - `todos_by_user.get(2, 0)` → 1  \n",
    "   - 1 + 1 = 2  \n",
    "   - `todos_by_user[2] = 2`\n",
    "3. Tercera vez:  \n",
    "   - `todos_by_user.get(2, 0)` → 2  \n",
    "   - 2 + 1 = 3  \n",
    "   - `todos_by_user[2] = 3`\n",
    "\n",
    "Al final, `todos_by_user[2] = 3`, indicando que el usuario 2 completó 3 tareas. Eso **no es un error** sino la lógica natural de llevar un contador.\n",
    "\n"
   ]
  },
  {
   "cell_type": "code",
   "execution_count": 7,
   "id": "19e13a22-9b97-490e-acf6-f71f6335524f",
   "metadata": {},
   "outputs": [
    {
     "data": {
      "text/plain": [
       "{1: 11, 2: 8, 3: 7, 4: 6, 5: 12, 6: 6, 7: 9, 8: 11, 9: 8, 10: 12}"
      ]
     },
     "execution_count": 7,
     "metadata": {},
     "output_type": "execute_result"
    }
   ],
   "source": [
    "todos_by_user"
   ]
  },
  {
   "cell_type": "markdown",
   "id": "632dadb3-8573-46a5-8c3c-0b130af92068",
   "metadata": {
    "jp-MarkdownHeadingCollapsed": true
   },
   "source": [
    "# 3 Encontrar qué usuarios completaron más tareas."
   ]
  },
  {
   "cell_type": "markdown",
   "id": "e1dda855-b54d-411c-b3b4-58b6e13b4302",
   "metadata": {},
   "source": [
    "## Primero ordenamos el diccionario con SORTED()"
   ]
  },
  {
   "cell_type": "code",
   "execution_count": 8,
   "id": "1f879420-242d-4aaf-9f00-bfab3bc326a9",
   "metadata": {},
   "outputs": [],
   "source": [
    "top_users =sorted(todos_by_user.items(), key=lambda x:x[1], reverse = True)"
   ]
  },
  {
   "cell_type": "code",
   "execution_count": 9,
   "id": "4a4b6076-63e6-400b-81f5-89f85492f7df",
   "metadata": {
    "scrolled": true
   },
   "outputs": [
    {
     "data": {
      "text/plain": [
       "[(5, 12),\n",
       " (10, 12),\n",
       " (1, 11),\n",
       " (8, 11),\n",
       " (7, 9),\n",
       " (2, 8),\n",
       " (9, 8),\n",
       " (3, 7),\n",
       " (4, 6),\n",
       " (6, 6)]"
      ]
     },
     "execution_count": 9,
     "metadata": {},
     "output_type": "execute_result"
    }
   ],
   "source": [
    "top_users"
   ]
  },
  {
   "cell_type": "code",
   "execution_count": 10,
   "id": "07171cc2-402b-4f98-81ba-fa945f56ab34",
   "metadata": {},
   "outputs": [],
   "source": [
    "top_users_dict = dict(top_users)"
   ]
  },
  {
   "cell_type": "code",
   "execution_count": 11,
   "id": "1cc39965-4ed1-4051-9d33-bf1f62f58f8d",
   "metadata": {},
   "outputs": [
    {
     "data": {
      "text/plain": [
       "{5: 12, 10: 12, 1: 11, 8: 11, 7: 9, 2: 8, 9: 8, 3: 7, 4: 6, 6: 6}"
      ]
     },
     "execution_count": 11,
     "metadata": {},
     "output_type": "execute_result"
    }
   ],
   "source": [
    "top_users_dict"
   ]
  },
  {
   "cell_type": "markdown",
   "id": "a3620502-c337-4171-8e8b-147fb8b9895d",
   "metadata": {},
   "source": [
    "\n",
    "Por qué usamos `sorted()` para encontrar al “top user”\n",
    "\n",
    "Cuando tienes un diccionario así:\n",
    "```python\n",
    "todos_by_user = {\n",
    "  1: 11,\n",
    "  2: 8,\n",
    "  3: 15,\n",
    "  4: 7,\n",
    "  ...\n",
    "}\n",
    "```\n",
    "cada **clave** es un `userId` y cada **valor** es la cantidad de tareas completadas.\n",
    "\n",
    "Para **encontrar** al usuario con más tareas completadas, queremos **ordenar** (sort) estos pares `(userId, cantidad)`. Sin embargo, un diccionario por sí mismo:\n",
    "- **No** tiene un orden garantizado basado en valores.\n",
    "- Sólo almacena la asociación `key -> value`.\n",
    "\n",
    "Por eso hacemos:\n",
    "\n",
    "```python\n",
    "top_users = sorted(todos_by_user.items(), key=lambda x: x[1], reverse=True)\n",
    "```\n",
    "- `todos_by_user.items()` produce una lista de tuplas: `[(userId1, cantidad1), (userId2, cantidad2), ...]`.\n",
    "- `key=lambda x: x[1]` indica que la **clave de ordenación** es el valor (cantidad) en la tupla `(userId, cantidad)`.\n",
    "- `reverse=True` para que el orden sea **descendente** (más tareas completadas primero).\n",
    "\n",
    "El resultado `top_users` es algo como:\n",
    "```python\n",
    "[\n",
    "  (3, 15),\n",
    "  (1, 11),\n",
    "  (2, 8),\n",
    "  (4, 7),\n",
    "  ...\n",
    "]\n",
    "```\n",
    "De esta forma, la tupla del índice `0` es `(3, 15)`, es decir, “el userId 3 con 15 tareas completadas”. ¡El top user!\n"
   ]
  },
  {
   "cell_type": "markdown",
   "id": "07fbac33-a0c7-48fc-a583-69194ef058ac",
   "metadata": {},
   "source": [
    "## Después buscamos el primero "
   ]
  },
  {
   "cell_type": "code",
   "execution_count": 12,
   "id": "db6aada4-c5bf-479f-9327-a991f3fc1b91",
   "metadata": {},
   "outputs": [],
   "source": [
    "max_complete = top_users[0][1]"
   ]
  },
  {
   "cell_type": "code",
   "execution_count": 13,
   "id": "27bc41bc-26f7-4dca-8316-9b7d8dfd7a43",
   "metadata": {},
   "outputs": [
    {
     "data": {
      "text/plain": [
       "12"
      ]
     },
     "execution_count": 13,
     "metadata": {},
     "output_type": "execute_result"
    }
   ],
   "source": [
    "max_complete"
   ]
  },
  {
   "cell_type": "code",
   "execution_count": 14,
   "id": "cf731c3d-88f9-4a53-b205-835c732ff798",
   "metadata": {},
   "outputs": [],
   "source": [
    "users = []\n",
    "\n",
    "for user, num_complete in top_users:\n",
    "    if num_complete < max_complete:\n",
    "        break\n",
    "    users.append(str(user))"
   ]
  },
  {
   "cell_type": "code",
   "execution_count": 15,
   "id": "8637ffc5-4606-48e2-b2c5-c85f1d9fd913",
   "metadata": {},
   "outputs": [
    {
     "name": "stdout",
     "output_type": "stream",
     "text": [
      "user(s) 5 and 10 completed 12 TODOs\n"
     ]
    }
   ],
   "source": [
    "max_users = \" and \".join(users)\n",
    "\n",
    "print(f\"user(s) {max_users} completed {max_complete} TODOs\")"
   ]
  },
  {
   "cell_type": "markdown",
   "id": "0edddb47-c573-4291-b24d-d7bab742044f",
   "metadata": {},
   "source": [
    "# 4 JSON file with all completed todo's of the TOP users"
   ]
  },
  {
   "cell_type": "markdown",
   "id": "3c7bd333-898a-404d-9ec8-d126ca86627b",
   "metadata": {},
   "source": [
    "Veamos paso a paso en qué **consiste** la función `keep(todo)` y **por qué** se usa para filtrar.\n",
    "\n",
    "```python\n",
    "def keep(todo):\n",
    "    is_completed = todo[\"completed\"]\n",
    "    has_max_count = todo[\"userId\"] in users\n",
    "    return is_completed and has_max_count\n",
    "```\n",
    "\n",
    "### 1. ¿Qué es `keep(todo)`?\n",
    "- Es **una función de filtrado**. Dada una tarea (`todo`), devuelve `True` si la tarea debe “mantenerse” en la lista final, y `False` si no.\n",
    "- `todo` es un **diccionario Python** con al menos estas claves: `userId`, `id`, `title`, `completed`.\n",
    "\n",
    "### 2. ¿Por qué se llama dentro de `filter()`?\n",
    "- Python tiene una función `filter(func, iterable)` que:\n",
    "  1. Toma cada elemento (en este caso, cada `todo` de la lista `todos`),\n",
    "  2. Llama a la función `func(todo)` (en tu ejemplo, `keep(todo)`),\n",
    "  3. Si `keep(todo)` devuelve `True`, el elemento permanece en el “filtro”; si devuelve `False`, se descarta.\n",
    "- Por tanto, `filter(keep, todos)` va iterando sobre cada “TODO” y se queda **solo** con aquellos para los que `keep(todo)` sea `True`.\n",
    "\n",
    "### 3. ¿Qué hacen las variables `is_completed` y `has_max_count`?\n",
    "```python\n",
    "is_completed = todo[\"completed\"]\n",
    "has_max_count = todo[\"userId\"] in users\n",
    "```\n",
    "1. `is_completed`: ¿La tarea está marcada como completada (`completed == True`)?  \n",
    "   - `todo[\"completed\"]` será `True` o `False`. \n",
    "2. `has_max_count`: ¿La tarea pertenece a un “usuario destacado” (por ejemplo, los que más tareas completaron)?  \n",
    "   - `users` suele ser una lista de IDs, p. ej. `[5, 10]`.\n",
    "   - Se verifica si `todo[\"userId\"]` **está** en esa lista.  \n",
    "   - Si `todo[\"userId\"]` no forma parte de los top users, `has_max_count` será `False`.\n",
    "\n",
    "### 4. El `return is_completed and has_max_count`\n",
    "\n",
    "- En Python, `and` solo es `True` si **ambas** condiciones son `True`.  \n",
    "- Significa: “Devuelve `True` si **la tarea está completada** y **el usuario es uno de los top**. En caso contrario, `False`”.  \n",
    "- Esto garantiza que **solo** se filtren las tareas completadas de aquellos dos (o más) usuarios destacados.\n",
    "\n",
    "### 5. El bug de tipos `int` vs. `str`\n",
    "- En el video ocurre que los “top users” se guardaban como `[\"5\", \"10\"]` (cadenas) mientras que `todo[\"userId\"]` es un **entero** (`int`).\n",
    "- Entonces `todo[\"userId\"] in users` siempre daba `False` si estabas comparando `5 in [\"5\", \"10\"]`.\n",
    "- La solución rápida es convertir uno de los lados para que coincidan en tipo, p. ej. `str(todo[\"userId\"]) in users` o almacenar `users = [5, 10]` como enteros.\n",
    "\n",
    "### 6. ¿Por qué se necesita una función separada?\n",
    "\n",
    "Separar la lógica en una función `keep(todo)` tiene ventajas:\n",
    "\n",
    "1. **Claridad**:  \n",
    "   - El nombre “keep” indica que esta función decide si “mantener” o no el `todo` en la lista filtrada.\n",
    "2. **Reutilización y mantenimiento**:  \n",
    "   - Si luego quisieras filtrar de otra forma (por ejemplo, excluir títulos que tengan “velit”), podrías agregarlo dentro de `keep(todo)` sin romper el resto del código.\n",
    "3. **Comodidad**:  \n",
    "   - Al usar `filter(keep, todos)`, no necesitas escribir un bucle for manual para descartar los elementos. Python lo hace por ti.\n",
    "\n",
    "### 7. Resultado final\n",
    "\n",
    "- Una vez definida la función `keep(todo)`, se hace algo como:\n",
    "  ```python\n",
    "  filtered_todos = list(filter(keep, todos))\n",
    "  ```\n",
    "- Esa `filtered_todos` será una **lista** con **solo** aquellos `todo` que cumplan `completed == True` y `userId` en `[5, 10]`.\n",
    "- Luego, con `json.dump(filtered_todos, data_file, indent=2)`, se guardan a `filtered_data_file.json`.\n",
    "\n",
    "**En resumen**:\n",
    "- `keep(todo)` es simplemente una **función** que decide **para cada tarea** si se queda (`True`) o se descarta (`False`).  \n",
    "- Se basa en dos condiciones: que la tarea esté completada y que pertenezca a los usuarios que más completaron.  \n",
    "- Usamos `filter(keep, todos)` para crear la lista filtrada.  \n",
    "- El bug era un tema de **tipos** (int vs string), pero no un error en la lógica del filtrado o la serialización JSON.\n",
    "\n",
    "¡Espero que ahora veas más clara la razón de ser y el funcionamiento de esta parte del código! Cualquier otra duda, aquí estoy para ayudarte."
   ]
  },
  {
   "cell_type": "code",
   "execution_count": 22,
   "id": "a5da7607-ad3e-4b3f-85aa-2b0ebba81d75",
   "metadata": {},
   "outputs": [
    {
     "data": {
      "text/plain": [
       "{'userId': 1, 'id': 1, 'title': 'delectus aut autem', 'completed': False}"
      ]
     },
     "execution_count": 22,
     "metadata": {},
     "output_type": "execute_result"
    }
   ],
   "source": [
    "todo"
   ]
  },
  {
   "cell_type": "code",
   "execution_count": 25,
   "id": "52569f35-3a35-41fc-a937-256fdf4e678e",
   "metadata": {},
   "outputs": [
    {
     "data": {
      "text/plain": [
       "['5', '10']"
      ]
     },
     "execution_count": 25,
     "metadata": {},
     "output_type": "execute_result"
    }
   ],
   "source": [
    "users"
   ]
  },
  {
   "cell_type": "code",
   "execution_count": 33,
   "id": "ac333e5a-2231-40e8-bf0b-e00151f5aca6",
   "metadata": {},
   "outputs": [],
   "source": [
    "#filtro de su el usuario\n",
    "def keep(todo):\n",
    "    is_completed = todo[\"completed\"]\n",
    "    has_max_count =  str(todo[\"userId\"]) in users\n",
    "    return is_completed and has_max_count"
   ]
  },
  {
   "cell_type": "code",
   "execution_count": 37,
   "id": "f090576a-716e-447c-afc2-24ed3885aa5d",
   "metadata": {},
   "outputs": [],
   "source": [
    "with open (\"filtered_data_file.json\", \"w\") as data_file:\n",
    "    filtered_todos = list(filter(keep, todos))\n",
    "    json.dump(filtered_todos, data_file, indent=2)"
   ]
  },
  {
   "cell_type": "code",
   "execution_count": null,
   "id": "9a156560-94a7-4875-a0ac-87dee132482e",
   "metadata": {},
   "outputs": [],
   "source": []
  }
 ],
 "metadata": {
  "kernelspec": {
   "display_name": "Python 3 (ipykernel)",
   "language": "python",
   "name": "python3"
  },
  "language_info": {
   "codemirror_mode": {
    "name": "ipython",
    "version": 3
   },
   "file_extension": ".py",
   "mimetype": "text/x-python",
   "name": "python",
   "nbconvert_exporter": "python",
   "pygments_lexer": "ipython3",
   "version": "3.9.21"
  }
 },
 "nbformat": 4,
 "nbformat_minor": 5
}
