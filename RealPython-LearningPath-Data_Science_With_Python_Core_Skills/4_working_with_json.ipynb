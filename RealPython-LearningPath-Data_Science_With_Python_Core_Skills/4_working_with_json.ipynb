{
 "cells": [
  {
   "cell_type": "markdown",
   "id": "5b715d4d-8480-4598-be20-65cec28a9e61",
   "metadata": {},
   "source": [
    "¡Claro! Vamos a explicarlo de la forma más sencilla posible.\n",
    "\n",
    "## 1\\. ¿Qué es **JSON**?\n",
    "- **JSON** (JavaScript Object Notation) es un formato de texto muy popular para **almacenar y transmitir** datos (por ejemplo, entre un servidor y un cliente).  \n",
    "- Es un texto con una estructura parecida a los diccionarios de Python, pero en realidad es un **string**.\n",
    "\n",
    "## 2\\. ¿Qué significa “**serializar**” y “**deserializar**”?\n",
    "- **Serializar** (o _serialize_): convertir tu objeto de Python (diccionarios, listas, tuplas, etc.) en un **string JSON**.  \n",
    "  - En otras palabras, transformar algo como `{\"nombre\": \"Juan\", \"edad\": 30}` (un diccionario Python) en un texto como `\"{\"nombre\": \"Juan\", \"edad\": 30}\"` (un string JSON).\n",
    "- **Deserializar** (o _deserialize_): lo contrario, convertir un **string JSON** en un objeto de Python.  \n",
    "  - Ejemplo: convertir el texto `\"{\"nombre\": \"Juan\", \"edad\": 30}\"` (JSON) en un diccionario Python real `{\"nombre\": \"Juan\", \"edad\": 30}`.\n",
    "\n",
    "## 3\\. Diferencia entre `dump()` / `dumps()` y `load()` / `loads()`\n",
    "\n",
    "### `dump()` y `dumps()`\n",
    "Ambas sirven para **serializar** (convertir a JSON).  \n",
    "- **`dump(data, archivo)`**  \n",
    "  - Toma tus datos en Python (por ejemplo, un diccionario) y los **escribe** en un **archivo** (u objeto que funcione como archivo).  \n",
    "  - No devuelve nada (generalmente no devuelven un valor útil).  \n",
    "  - Ejemplo:\n",
    "    ```python\n",
    "    with open(\"data_file.json\", \"w\") as write_file:\n",
    "        json.dump(data, write_file, indent=4)\n",
    "    ```\n",
    "    Aquí, `data` se convierte en texto JSON y se guarda dentro de `data_file.json`.\n",
    "\n",
    "- **`dumps(data)`**  \n",
    "  - Toma tus datos en Python y los **convierte** en un **string** con formato JSON.  \n",
    "  - **No** escribe directamente a un archivo, sino que te da el string para que lo uses donde quieras (puedes imprimirlo, enviarlo por red, guardarlo en una base de datos, etc.).  \n",
    "  - Ejemplo:\n",
    "    ```python\n",
    "    json_str = json.dumps(data, indent=4)\n",
    "    ```\n",
    "    `json_str` será algo así como `\"{\"user\": {\"name\": \"William Williams\", \"age\": 93}}\"` (pero con saltos de línea y espacios si le pusiste `indent=4`).\n",
    "\n",
    "### `load()` y `loads()`\n",
    "Ambas sirven para **deserializar** (convertir de JSON a Python).\n",
    "- **`load(archivo)`**  \n",
    "  - Lee un **archivo** que contiene datos en formato JSON y los convierte en un objeto Python.  \n",
    "  - Ejemplo:\n",
    "    ```python\n",
    "    with open(\"data_file.json\", \"r\") as read_file:\n",
    "        data = json.load(read_file)\n",
    "    ```\n",
    "    Aquí, `data` volvería a ser el diccionario original.  \n",
    "\n",
    "- **`loads(cadena_json)`**  \n",
    "  - Toma un **string** que contiene texto JSON y lo convierte en un objeto de Python.  \n",
    "  - Ejemplo:\n",
    "    ```python\n",
    "    decoded_data = json.loads('{\"nombre\": \"Juan\", \"edad\": 30}')\n",
    "    ```\n",
    "    Aquí, `decoded_data` sería el diccionario `{\"nombre\": \"Juan\", \"edad\": 30}`.\n",
    "\n",
    "## 4\\. Aplicándolo a tu ejemplo\n",
    "```python\n",
    "data = {\n",
    "    \"user\": {\n",
    "        \"name\": \"William Williams\", \n",
    "        \"age\": 93\n",
    "    }\n",
    "}\n",
    "\n",
    "with open(\"data_file.json\", \"w\") as write_file:\n",
    "    json.dump(data, write_file, indent=4 )\n",
    "```\n",
    "- Con `json.dump(...)` escribimos el diccionario `data` directamente en el archivo `\"data_file.json\"` como texto JSON.\n",
    "\n",
    "```python\n",
    "json_str = json.dumps(data, indent=4)\n",
    "```\n",
    "- Aquí convertimos `data` a un **string** JSON (`json_str`).  \n",
    "  - Se guarda en la variable `json_str`. Ese string lo podríamos imprimir o mandar por la red, etc.\n",
    "\n",
    "```python\n",
    "blackjack_hand = (8, \"Q\")\n",
    "encoded_hand = json.dumps(blackjack_hand)\n",
    "decoded_hand = json.loads(encoded_hand)\n",
    "```\n",
    "1. `json.dumps(blackjack_hand)` -> *serializa* la tupla `(8, \"Q\")` a un string JSON, por ejemplo: `\"[8, \"Q\"]\"`.  \n",
    "2. `json.loads(encoded_hand)` -> *deserializa* ese string `\"[8, \"Q\"]\"` de nuevo a un objeto de Python, que normalmente será `[8, \"Q\"]` como lista (ojo, las tuplas se suelen convertir a listas cuando se hace JSON, porque JSON no tiene tipo “tupla”).\n",
    "\n",
    "```python\n",
    "response = requests.get(\"https://jsonplaceholder.typicode.com/todos\")\n",
    "todos = json.loads(response.text)\n",
    "```\n",
    "1. `response.text` es un string con el JSON que te devolvió el servidor.  \n",
    "2. `json.loads(response.text)` convierte ese string JSON en un objeto Python (según lo que contenga, suele ser una lista o diccionario).\n",
    "\n",
    "## 5\\. Resumen rápido:\n",
    "\n",
    "- **`dump()`**: Convierte objetos Python a JSON y **lo escribe en un archivo**.  \n",
    "- **`dumps()`**: Convierte objetos Python a JSON y te lo devuelve como un **string**.  \n",
    "- **`load()`**: Lee **desde un archivo** con datos JSON y lo convierte a un objeto Python.  \n",
    "- **`loads()`**: Toma un **string** con texto JSON y lo convierte a un objeto Python.\n",
    "\n",
    "**Serializar** = convertir de Python a JSON (para guardarlo o enviarlo).  \n",
    "**Deserializar** = convertir de JSON a Python (para usarlo en tu programa).\n",
    "\n",
    "¡Y eso es todo! Con estos conceptos, ya sabes por qué se usa `dump()` en algunos contextos (cuando escribes/lees archivos) y `dumps()` en otros (cuando quieres manejar el string directamente). Y lo mismo con `load()` y `loads()`."
   ]
  },
  {
   "cell_type": "markdown",
   "id": "235b73ea-59e8-4065-8b55-ced48ed5d763",
   "metadata": {},
   "source": [
    "# Serializing JSON Data "
   ]
  },
  {
   "cell_type": "code",
   "execution_count": 26,
   "id": "9562923c-0a88-44c9-8e17-f90b51f1310c",
   "metadata": {},
   "outputs": [],
   "source": [
    "import json\n",
    "import pandas as pd"
   ]
  },
  {
   "cell_type": "code",
   "execution_count": 27,
   "id": "2d6110f0-759e-40d3-a858-ae3ad606d8e1",
   "metadata": {},
   "outputs": [],
   "source": [
    "#dump() --> use to write date to file-like objetct. serilize to json file\n",
    "#dumps() -> seilize intro a string, when we want to use it somewhere else or use it. \n",
    "\n",
    "\n"
   ]
  },
  {
   "cell_type": "code",
   "execution_count": 28,
   "id": "cf0b015f-381b-438e-a0c3-e6c472148ab6",
   "metadata": {},
   "outputs": [],
   "source": [
    "data = {\n",
    "    \"user\": {\n",
    "        \"name\": \"William Williams\", \n",
    "        \"age\": 93\n",
    "    }\n",
    "}\n",
    "\n"
   ]
  },
  {
   "cell_type": "code",
   "execution_count": 29,
   "id": "65a91e68-a571-4e2f-9449-71aaa975bd47",
   "metadata": {},
   "outputs": [],
   "source": [
    "with open(\"data_file.json\", \"w\") as write_file:\n",
    "    json.dump(data, write_file, indent=4 )"
   ]
  },
  {
   "cell_type": "code",
   "execution_count": 30,
   "id": "eb05ac1e-0847-4bd9-a3c0-e79f475cca10",
   "metadata": {},
   "outputs": [
    {
     "data": {
      "text/plain": [
       "'{\\n    \"user\": {\\n        \"name\": \"William Williams\",\\n        \"age\": 93\\n    }\\n}'"
      ]
     },
     "execution_count": 30,
     "metadata": {},
     "output_type": "execute_result"
    }
   ],
   "source": [
    "json_str = json.dumps(data, indent=4)\n",
    "json_str"
   ]
  },
  {
   "cell_type": "code",
   "execution_count": 31,
   "id": "0bcbad1b-091b-4cb7-8194-0146c17fbb75",
   "metadata": {},
   "outputs": [
    {
     "data": {
      "text/html": [
       "<div>\n",
       "<style scoped>\n",
       "    .dataframe tbody tr th:only-of-type {\n",
       "        vertical-align: middle;\n",
       "    }\n",
       "\n",
       "    .dataframe tbody tr th {\n",
       "        vertical-align: top;\n",
       "    }\n",
       "\n",
       "    .dataframe thead th {\n",
       "        text-align: right;\n",
       "    }\n",
       "</style>\n",
       "<table border=\"1\" class=\"dataframe\">\n",
       "  <thead>\n",
       "    <tr style=\"text-align: right;\">\n",
       "      <th></th>\n",
       "      <th>user</th>\n",
       "    </tr>\n",
       "  </thead>\n",
       "  <tbody>\n",
       "    <tr>\n",
       "      <th>name</th>\n",
       "      <td>William Williams</td>\n",
       "    </tr>\n",
       "    <tr>\n",
       "      <th>age</th>\n",
       "      <td>93</td>\n",
       "    </tr>\n",
       "  </tbody>\n",
       "</table>\n",
       "</div>"
      ],
      "text/plain": [
       "                  user\n",
       "name  William Williams\n",
       "age                 93"
      ]
     },
     "execution_count": 31,
     "metadata": {},
     "output_type": "execute_result"
    }
   ],
   "source": [
    "pd.read_json(\"data_file.json\")"
   ]
  },
  {
   "cell_type": "markdown",
   "id": "ad6c4a7f-0bfb-444e-bb75-42e8bfd16220",
   "metadata": {},
   "source": [
    "# Deserializing JSON Data"
   ]
  },
  {
   "cell_type": "code",
   "execution_count": 32,
   "id": "db2d9ba0-a6dd-4e21-a881-223b73144b99",
   "metadata": {},
   "outputs": [],
   "source": [
    "import json"
   ]
  },
  {
   "cell_type": "code",
   "execution_count": 34,
   "id": "d440d3d3-e94f-4c7b-a792-6b21599a3fc1",
   "metadata": {},
   "outputs": [],
   "source": [
    "blackjack_hand = (8, \"Q\")\n",
    "enconded_hand = json.dumps(blackjack_hand)\n",
    "decoded_hand = json.loads(enconded_hand)"
   ]
  },
  {
   "cell_type": "code",
   "execution_count": 35,
   "id": "fb059858-c188-4dec-b64b-2f9970ed086f",
   "metadata": {},
   "outputs": [
    {
     "data": {
      "text/plain": [
       "list"
      ]
     },
     "execution_count": 35,
     "metadata": {},
     "output_type": "execute_result"
    }
   ],
   "source": [
    "type(decoded_hand)"
   ]
  },
  {
   "cell_type": "code",
   "execution_count": 36,
   "id": "efe6aa07-0006-41a1-9ab9-55fb606f7c5f",
   "metadata": {},
   "outputs": [
    {
     "data": {
      "text/plain": [
       "[8, 'Q']"
      ]
     },
     "execution_count": 36,
     "metadata": {},
     "output_type": "execute_result"
    }
   ],
   "source": [
    "decoded_hand"
   ]
  },
  {
   "cell_type": "code",
   "execution_count": 37,
   "id": "dd01031b-0ff0-4c0e-bb69-46d13bec26a2",
   "metadata": {},
   "outputs": [
    {
     "data": {
      "text/plain": [
       "True"
      ]
     },
     "execution_count": 37,
     "metadata": {},
     "output_type": "execute_result"
    }
   ],
   "source": [
    "blackjack_hand == tuple(decoded_hand)"
   ]
  },
  {
   "cell_type": "markdown",
   "id": "10fda093-5440-49a6-b505-f5ee7cbd923e",
   "metadata": {},
   "source": [
    "# Working With JSON Data"
   ]
  },
  {
   "cell_type": "code",
   "execution_count": 38,
   "id": "8b020b3d-eb94-4e2e-b9ff-2bd0e17c8e03",
   "metadata": {},
   "outputs": [],
   "source": [
    "import json\n",
    "import requests"
   ]
  },
  {
   "cell_type": "code",
   "execution_count": 50,
   "id": "462c6a3c-b567-4cbf-9aa6-c7d3f39ec708",
   "metadata": {},
   "outputs": [
    {
     "name": "stdout",
     "output_type": "stream",
     "text": [
      "conectado\n"
     ]
    }
   ],
   "source": [
    "response = requests.get(\"https://jsonplaceholder.typicode.com/todos\")\n",
    "if response.status_code == 200:\n",
    "    print(\"conectado\")\n",
    "else:\n",
    "    print(response.status_code)\n",
    "\n",
    "    "
   ]
  },
  {
   "cell_type": "code",
   "execution_count": 53,
   "id": "f8c75c6b-d7c9-4fa6-b653-e059c21aad00",
   "metadata": {},
   "outputs": [],
   "source": [
    "todos = json.loads(response.text)"
   ]
  },
  {
   "cell_type": "code",
   "execution_count": 56,
   "id": "5106a7a4-9f15-4b20-a5f3-a8777db4d8ea",
   "metadata": {},
   "outputs": [
    {
     "data": {
      "text/plain": [
       "list"
      ]
     },
     "execution_count": 56,
     "metadata": {},
     "output_type": "execute_result"
    }
   ],
   "source": [
    "type(todos)"
   ]
  },
  {
   "cell_type": "code",
   "execution_count": 59,
   "id": "1a5127b9-bc37-480a-9570-1415bafa3401",
   "metadata": {},
   "outputs": [
    {
     "data": {
      "text/plain": [
       "[{'userId': 1, 'id': 1, 'title': 'delectus aut autem', 'completed': False}]"
      ]
     },
     "execution_count": 59,
     "metadata": {},
     "output_type": "execute_result"
    }
   ],
   "source": [
    "todos[0:1]"
   ]
  },
  {
   "cell_type": "code",
   "execution_count": 57,
   "id": "86e9b99c-ca16-4115-8d0c-d1fc07442e6d",
   "metadata": {},
   "outputs": [],
   "source": [
    "todos_by_user = {}\n",
    "\n",
    "for todo in todos:\n",
    "    if todo[\"completed\"]:\n",
    "        try:\n",
    "            todos_by_user[todo[\"userId\"]] += 1\n",
    "        except KeyError:\n",
    "            todos_by_user[todo[\"userId\"]] = 1\n",
    "            "
   ]
  },
  {
   "cell_type": "code",
   "execution_count": 58,
   "id": "2713e496-20a1-4852-8a48-85ed355c5091",
   "metadata": {},
   "outputs": [
    {
     "data": {
      "text/plain": [
       "{1: 11, 2: 8, 3: 7, 4: 6, 5: 12, 6: 6, 7: 9, 8: 11, 9: 8, 10: 12}"
      ]
     },
     "execution_count": 58,
     "metadata": {},
     "output_type": "execute_result"
    }
   ],
   "source": [
    "todos_by_user"
   ]
  },
  {
   "cell_type": "code",
   "execution_count": 62,
   "id": "9234cc2e-a42e-4599-a5a1-2f6ee66d3c7c",
   "metadata": {},
   "outputs": [],
   "source": [
    "todos_by_user = {}\n",
    "\n",
    "for todo in todos:\n",
    "    if todo[\"completed\"]:\n",
    "        todos_by_user[todo[\"userId\"]] = todos_by_user.get(todo[\"userId\"], 0) + 1\n"
   ]
  },
  {
   "cell_type": "markdown",
   "id": "9451202c-1c63-4a9e-afc9-ae28b34d8454",
   "metadata": {},
   "source": [
    "### practicando dict.get(key, default) "
   ]
  },
  {
   "cell_type": "markdown",
   "id": "de4bfe50-7af6-4b65-8188-9d5d19777c21",
   "metadata": {},
   "source": [
    "\n",
    "\n",
    "El método `get` de los diccionarios en Python (**`dict.get(key, default)`**) funciona de esta manera:\n",
    "\n",
    "1. Busca la **clave** (`key`) en el diccionario.\n",
    "2. Si **encuentra** esa clave, **devuelve** el valor asociado a ella.\n",
    "3. Si **no encuentra** la clave, **devuelve** el valor que pusiste como `default`. (Por defecto, este valor suele ser `None` si no se especifica).\n"
   ]
  },
  {
   "cell_type": "code",
   "execution_count": 63,
   "id": "8ce397b8-3a9d-4e88-b9b8-8479c3e4290d",
   "metadata": {},
   "outputs": [
    {
     "data": {
      "text/plain": [
       "{'nombre': 'Juan', 'edad': 30}"
      ]
     },
     "execution_count": 63,
     "metadata": {},
     "output_type": "execute_result"
    }
   ],
   "source": [
    "mi_dicc = {\"nombre\": \"Juan\", \n",
    "           \"edad\": 30}\n",
    "mi_dicc"
   ]
  },
  {
   "cell_type": "code",
   "execution_count": 66,
   "id": "61c0c6a7-b145-4653-b7ac-43a538e9346b",
   "metadata": {},
   "outputs": [
    {
     "data": {
      "text/plain": [
       "'Juan'"
      ]
     },
     "execution_count": 66,
     "metadata": {},
     "output_type": "execute_result"
    }
   ],
   "source": [
    "valor_nombre = mi_dicc.get(\"nombre\", \"No existe\")\n",
    "valor_nombre"
   ]
  },
  {
   "cell_type": "code",
   "execution_count": 69,
   "id": "232e7a2a-d033-4744-8277-f588c0872a37",
   "metadata": {},
   "outputs": [
    {
     "data": {
      "text/plain": [
       "'Juan'"
      ]
     },
     "execution_count": 69,
     "metadata": {},
     "output_type": "execute_result"
    }
   ],
   "source": [
    "valor_nombre = mi_dicc[\"nombre\"]\n",
    "valor_nombre"
   ]
  },
  {
   "cell_type": "code",
   "execution_count": 73,
   "id": "14e73ef6-442d-4e2b-a9de-df92e9b7a62c",
   "metadata": {},
   "outputs": [
    {
     "data": {
      "text/plain": [
       "30"
      ]
     },
     "execution_count": 73,
     "metadata": {},
     "output_type": "execute_result"
    }
   ],
   "source": [
    "mi_dicc.get(\"edad\")"
   ]
  },
  {
   "cell_type": "code",
   "execution_count": 74,
   "id": "e3b9838a-aabd-4e04-88fe-bd19c4ce2c7a",
   "metadata": {},
   "outputs": [],
   "source": [
    "mi_dicc.get(\"pais\")"
   ]
  },
  {
   "cell_type": "code",
   "execution_count": 78,
   "id": "9b289cf8-7353-427e-884a-0ff071088430",
   "metadata": {},
   "outputs": [
    {
     "data": {
      "text/plain": [
       "31"
      ]
     },
     "execution_count": 78,
     "metadata": {},
     "output_type": "execute_result"
    }
   ],
   "source": [
    "mi_dicc.get(\"edad\", 0) + 1\n"
   ]
  },
  {
   "cell_type": "code",
   "execution_count": 94,
   "id": "43c0873f-03ab-4623-b535-9a460010af0d",
   "metadata": {},
   "outputs": [
    {
     "name": "stdout",
     "output_type": "stream",
     "text": [
      "{'userId': 1, 'id': 1, 'title': 'delectus aut autem', 'completed': False}\n",
      "{'userId': 1, 'id': 2, 'title': 'quis ut nam facilis et officia qui', 'completed': False}\n",
      "{'userId': 1, 'id': 3, 'title': 'fugiat veniam minus', 'completed': False}\n",
      "{'userId': 1, 'id': 4, 'title': 'et porro tempora', 'completed': True}\n",
      "{'userId': 1, 'id': 5, 'title': 'laboriosam mollitia et enim quasi adipisci quia provident illum', 'completed': False}\n",
      "{'userId': 1, 'id': 6, 'title': 'qui ullam ratione quibusdam voluptatem quia omnis', 'completed': False}\n",
      "{'userId': 1, 'id': 7, 'title': 'illo expedita consequatur quia in', 'completed': False}\n",
      "{'userId': 1, 'id': 8, 'title': 'quo adipisci enim quam ut ab', 'completed': True}\n",
      "{'userId': 1, 'id': 9, 'title': 'molestiae perspiciatis ipsa', 'completed': False}\n",
      "{'userId': 1, 'id': 10, 'title': 'illo est ratione doloremque quia maiores aut', 'completed': True}\n",
      "{'userId': 1, 'id': 11, 'title': 'vero rerum temporibus dolor', 'completed': True}\n",
      "{'userId': 1, 'id': 12, 'title': 'ipsa repellendus fugit nisi', 'completed': True}\n",
      "{'userId': 1, 'id': 13, 'title': 'et doloremque nulla', 'completed': False}\n",
      "{'userId': 1, 'id': 14, 'title': 'repellendus sunt dolores architecto voluptatum', 'completed': True}\n",
      "{'userId': 1, 'id': 15, 'title': 'ab voluptatum amet voluptas', 'completed': True}\n",
      "{'userId': 1, 'id': 16, 'title': 'accusamus eos facilis sint et aut voluptatem', 'completed': True}\n",
      "{'userId': 1, 'id': 17, 'title': 'quo laboriosam deleniti aut qui', 'completed': True}\n",
      "{'userId': 1, 'id': 18, 'title': 'dolorum est consequatur ea mollitia in culpa', 'completed': False}\n",
      "{'userId': 1, 'id': 19, 'title': 'molestiae ipsa aut voluptatibus pariatur dolor nihil', 'completed': True}\n",
      "{'userId': 1, 'id': 20, 'title': 'ullam nobis libero sapiente ad optio sint', 'completed': True}\n",
      "{'userId': 2, 'id': 21, 'title': 'suscipit repellat esse quibusdam voluptatem incidunt', 'completed': False}\n",
      "{'userId': 2, 'id': 22, 'title': 'distinctio vitae autem nihil ut molestias quo', 'completed': True}\n",
      "{'userId': 2, 'id': 23, 'title': 'et itaque necessitatibus maxime molestiae qui quas velit', 'completed': False}\n",
      "{'userId': 2, 'id': 24, 'title': 'adipisci non ad dicta qui amet quaerat doloribus ea', 'completed': False}\n",
      "{'userId': 2, 'id': 25, 'title': 'voluptas quo tenetur perspiciatis explicabo natus', 'completed': True}\n",
      "{'userId': 2, 'id': 26, 'title': 'aliquam aut quasi', 'completed': True}\n",
      "{'userId': 2, 'id': 27, 'title': 'veritatis pariatur delectus', 'completed': True}\n",
      "{'userId': 2, 'id': 28, 'title': 'nesciunt totam sit blanditiis sit', 'completed': False}\n",
      "{'userId': 2, 'id': 29, 'title': 'laborum aut in quam', 'completed': False}\n",
      "{'userId': 2, 'id': 30, 'title': 'nemo perspiciatis repellat ut dolor libero commodi blanditiis omnis', 'completed': True}\n",
      "{'userId': 2, 'id': 31, 'title': 'repudiandae totam in est sint facere fuga', 'completed': False}\n",
      "{'userId': 2, 'id': 32, 'title': 'earum doloribus ea doloremque quis', 'completed': False}\n",
      "{'userId': 2, 'id': 33, 'title': 'sint sit aut vero', 'completed': False}\n",
      "{'userId': 2, 'id': 34, 'title': 'porro aut necessitatibus eaque distinctio', 'completed': False}\n",
      "{'userId': 2, 'id': 35, 'title': 'repellendus veritatis molestias dicta incidunt', 'completed': True}\n",
      "{'userId': 2, 'id': 36, 'title': 'excepturi deleniti adipisci voluptatem et neque optio illum ad', 'completed': True}\n",
      "{'userId': 2, 'id': 37, 'title': 'sunt cum tempora', 'completed': False}\n",
      "{'userId': 2, 'id': 38, 'title': 'totam quia non', 'completed': False}\n",
      "{'userId': 2, 'id': 39, 'title': 'doloremque quibusdam asperiores libero corrupti illum qui omnis', 'completed': False}\n",
      "{'userId': 2, 'id': 40, 'title': 'totam atque quo nesciunt', 'completed': True}\n",
      "{'userId': 3, 'id': 41, 'title': 'aliquid amet impedit consequatur aspernatur placeat eaque fugiat suscipit', 'completed': False}\n",
      "{'userId': 3, 'id': 42, 'title': 'rerum perferendis error quia ut eveniet', 'completed': False}\n",
      "{'userId': 3, 'id': 43, 'title': 'tempore ut sint quis recusandae', 'completed': True}\n",
      "{'userId': 3, 'id': 44, 'title': 'cum debitis quis accusamus doloremque ipsa natus sapiente omnis', 'completed': True}\n",
      "{'userId': 3, 'id': 45, 'title': 'velit soluta adipisci molestias reiciendis harum', 'completed': False}\n",
      "{'userId': 3, 'id': 46, 'title': 'vel voluptatem repellat nihil placeat corporis', 'completed': False}\n",
      "{'userId': 3, 'id': 47, 'title': 'nam qui rerum fugiat accusamus', 'completed': False}\n",
      "{'userId': 3, 'id': 48, 'title': 'sit reprehenderit omnis quia', 'completed': False}\n",
      "{'userId': 3, 'id': 49, 'title': 'ut necessitatibus aut maiores debitis officia blanditiis velit et', 'completed': False}\n",
      "{'userId': 3, 'id': 50, 'title': 'cupiditate necessitatibus ullam aut quis dolor voluptate', 'completed': True}\n",
      "{'userId': 3, 'id': 51, 'title': 'distinctio exercitationem ab doloribus', 'completed': False}\n",
      "{'userId': 3, 'id': 52, 'title': 'nesciunt dolorum quis recusandae ad pariatur ratione', 'completed': False}\n",
      "{'userId': 3, 'id': 53, 'title': 'qui labore est occaecati recusandae aliquid quam', 'completed': False}\n",
      "{'userId': 3, 'id': 54, 'title': 'quis et est ut voluptate quam dolor', 'completed': True}\n",
      "{'userId': 3, 'id': 55, 'title': 'voluptatum omnis minima qui occaecati provident nulla voluptatem ratione', 'completed': True}\n",
      "{'userId': 3, 'id': 56, 'title': 'deleniti ea temporibus enim', 'completed': True}\n",
      "{'userId': 3, 'id': 57, 'title': 'pariatur et magnam ea doloribus similique voluptatem rerum quia', 'completed': False}\n",
      "{'userId': 3, 'id': 58, 'title': 'est dicta totam qui explicabo doloribus qui dignissimos', 'completed': False}\n",
      "{'userId': 3, 'id': 59, 'title': 'perspiciatis velit id laborum placeat iusto et aliquam odio', 'completed': False}\n",
      "{'userId': 3, 'id': 60, 'title': 'et sequi qui architecto ut adipisci', 'completed': True}\n",
      "{'userId': 4, 'id': 61, 'title': 'odit optio omnis qui sunt', 'completed': True}\n",
      "{'userId': 4, 'id': 62, 'title': 'et placeat et tempore aspernatur sint numquam', 'completed': False}\n",
      "{'userId': 4, 'id': 63, 'title': 'doloremque aut dolores quidem fuga qui nulla', 'completed': True}\n",
      "{'userId': 4, 'id': 64, 'title': 'voluptas consequatur qui ut quia magnam nemo esse', 'completed': False}\n",
      "{'userId': 4, 'id': 65, 'title': 'fugiat pariatur ratione ut asperiores necessitatibus magni', 'completed': False}\n",
      "{'userId': 4, 'id': 66, 'title': 'rerum eum molestias autem voluptatum sit optio', 'completed': False}\n",
      "{'userId': 4, 'id': 67, 'title': 'quia voluptatibus voluptatem quos similique maiores repellat', 'completed': False}\n",
      "{'userId': 4, 'id': 68, 'title': 'aut id perspiciatis voluptatem iusto', 'completed': False}\n",
      "{'userId': 4, 'id': 69, 'title': 'doloribus sint dolorum ab adipisci itaque dignissimos aliquam suscipit', 'completed': False}\n",
      "{'userId': 4, 'id': 70, 'title': 'ut sequi accusantium et mollitia delectus sunt', 'completed': False}\n",
      "{'userId': 4, 'id': 71, 'title': 'aut velit saepe ullam', 'completed': False}\n",
      "{'userId': 4, 'id': 72, 'title': 'praesentium facilis facere quis harum voluptatibus voluptatem eum', 'completed': False}\n",
      "{'userId': 4, 'id': 73, 'title': 'sint amet quia totam corporis qui exercitationem commodi', 'completed': True}\n",
      "{'userId': 4, 'id': 74, 'title': 'expedita tempore nobis eveniet laborum maiores', 'completed': False}\n",
      "{'userId': 4, 'id': 75, 'title': 'occaecati adipisci est possimus totam', 'completed': False}\n",
      "{'userId': 4, 'id': 76, 'title': 'sequi dolorem sed', 'completed': True}\n",
      "{'userId': 4, 'id': 77, 'title': 'maiores aut nesciunt delectus exercitationem vel assumenda eligendi at', 'completed': False}\n",
      "{'userId': 4, 'id': 78, 'title': 'reiciendis est magnam amet nemo iste recusandae impedit quaerat', 'completed': False}\n",
      "{'userId': 4, 'id': 79, 'title': 'eum ipsa maxime ut', 'completed': True}\n",
      "{'userId': 4, 'id': 80, 'title': 'tempore molestias dolores rerum sequi voluptates ipsum consequatur', 'completed': True}\n",
      "{'userId': 5, 'id': 81, 'title': 'suscipit qui totam', 'completed': True}\n",
      "{'userId': 5, 'id': 82, 'title': 'voluptates eum voluptas et dicta', 'completed': False}\n",
      "{'userId': 5, 'id': 83, 'title': 'quidem at rerum quis ex aut sit quam', 'completed': True}\n",
      "{'userId': 5, 'id': 84, 'title': 'sunt veritatis ut voluptate', 'completed': False}\n",
      "{'userId': 5, 'id': 85, 'title': 'et quia ad iste a', 'completed': True}\n",
      "{'userId': 5, 'id': 86, 'title': 'incidunt ut saepe autem', 'completed': True}\n",
      "{'userId': 5, 'id': 87, 'title': 'laudantium quae eligendi consequatur quia et vero autem', 'completed': True}\n",
      "{'userId': 5, 'id': 88, 'title': 'vitae aut excepturi laboriosam sint aliquam et et accusantium', 'completed': False}\n",
      "{'userId': 5, 'id': 89, 'title': 'sequi ut omnis et', 'completed': True}\n",
      "{'userId': 5, 'id': 90, 'title': 'molestiae nisi accusantium tenetur dolorem et', 'completed': True}\n",
      "{'userId': 5, 'id': 91, 'title': 'nulla quis consequatur saepe qui id expedita', 'completed': True}\n",
      "{'userId': 5, 'id': 92, 'title': 'in omnis laboriosam', 'completed': True}\n",
      "{'userId': 5, 'id': 93, 'title': 'odio iure consequatur molestiae quibusdam necessitatibus quia sint', 'completed': True}\n",
      "{'userId': 5, 'id': 94, 'title': 'facilis modi saepe mollitia', 'completed': False}\n",
      "{'userId': 5, 'id': 95, 'title': 'vel nihil et molestiae iusto assumenda nemo quo ut', 'completed': True}\n",
      "{'userId': 5, 'id': 96, 'title': 'nobis suscipit ducimus enim asperiores voluptas', 'completed': False}\n",
      "{'userId': 5, 'id': 97, 'title': 'dolorum laboriosam eos qui iure aliquam', 'completed': False}\n",
      "{'userId': 5, 'id': 98, 'title': 'debitis accusantium ut quo facilis nihil quis sapiente necessitatibus', 'completed': True}\n",
      "{'userId': 5, 'id': 99, 'title': 'neque voluptates ratione', 'completed': False}\n",
      "{'userId': 5, 'id': 100, 'title': 'excepturi a et neque qui expedita vel voluptate', 'completed': False}\n",
      "{'userId': 6, 'id': 101, 'title': 'explicabo enim cumque porro aperiam occaecati minima', 'completed': False}\n",
      "{'userId': 6, 'id': 102, 'title': 'sed ab consequatur', 'completed': False}\n",
      "{'userId': 6, 'id': 103, 'title': 'non sunt delectus illo nulla tenetur enim omnis', 'completed': False}\n",
      "{'userId': 6, 'id': 104, 'title': 'excepturi non laudantium quo', 'completed': False}\n",
      "{'userId': 6, 'id': 105, 'title': 'totam quia dolorem et illum repellat voluptas optio', 'completed': True}\n",
      "{'userId': 6, 'id': 106, 'title': 'ad illo quis voluptatem temporibus', 'completed': True}\n",
      "{'userId': 6, 'id': 107, 'title': 'praesentium facilis omnis laudantium fugit ad iusto nihil nesciunt', 'completed': False}\n",
      "{'userId': 6, 'id': 108, 'title': 'a eos eaque nihil et exercitationem incidunt delectus', 'completed': True}\n",
      "{'userId': 6, 'id': 109, 'title': 'autem temporibus harum quisquam in culpa', 'completed': True}\n",
      "{'userId': 6, 'id': 110, 'title': 'aut aut ea corporis', 'completed': True}\n",
      "{'userId': 6, 'id': 111, 'title': 'magni accusantium labore et id quis provident', 'completed': False}\n",
      "{'userId': 6, 'id': 112, 'title': 'consectetur impedit quisquam qui deserunt non rerum consequuntur eius', 'completed': False}\n",
      "{'userId': 6, 'id': 113, 'title': 'quia atque aliquam sunt impedit voluptatum rerum assumenda nisi', 'completed': False}\n",
      "{'userId': 6, 'id': 114, 'title': 'cupiditate quos possimus corporis quisquam exercitationem beatae', 'completed': False}\n",
      "{'userId': 6, 'id': 115, 'title': 'sed et ea eum', 'completed': False}\n",
      "{'userId': 6, 'id': 116, 'title': 'ipsa dolores vel facilis ut', 'completed': True}\n",
      "{'userId': 6, 'id': 117, 'title': 'sequi quae est et qui qui eveniet asperiores', 'completed': False}\n",
      "{'userId': 6, 'id': 118, 'title': 'quia modi consequatur vero fugiat', 'completed': False}\n",
      "{'userId': 6, 'id': 119, 'title': 'corporis ducimus ea perspiciatis iste', 'completed': False}\n",
      "{'userId': 6, 'id': 120, 'title': 'dolorem laboriosam vel voluptas et aliquam quasi', 'completed': False}\n",
      "{'userId': 7, 'id': 121, 'title': 'inventore aut nihil minima laudantium hic qui omnis', 'completed': True}\n",
      "{'userId': 7, 'id': 122, 'title': 'provident aut nobis culpa', 'completed': True}\n",
      "{'userId': 7, 'id': 123, 'title': 'esse et quis iste est earum aut impedit', 'completed': False}\n",
      "{'userId': 7, 'id': 124, 'title': 'qui consectetur id', 'completed': False}\n",
      "{'userId': 7, 'id': 125, 'title': 'aut quasi autem iste tempore illum possimus', 'completed': False}\n",
      "{'userId': 7, 'id': 126, 'title': 'ut asperiores perspiciatis veniam ipsum rerum saepe', 'completed': True}\n",
      "{'userId': 7, 'id': 127, 'title': 'voluptatem libero consectetur rerum ut', 'completed': True}\n",
      "{'userId': 7, 'id': 128, 'title': 'eius omnis est qui voluptatem autem', 'completed': False}\n",
      "{'userId': 7, 'id': 129, 'title': 'rerum culpa quis harum', 'completed': False}\n",
      "{'userId': 7, 'id': 130, 'title': 'nulla aliquid eveniet harum laborum libero alias ut unde', 'completed': True}\n",
      "{'userId': 7, 'id': 131, 'title': 'qui ea incidunt quis', 'completed': False}\n",
      "{'userId': 7, 'id': 132, 'title': 'qui molestiae voluptatibus velit iure harum quisquam', 'completed': True}\n",
      "{'userId': 7, 'id': 133, 'title': 'et labore eos enim rerum consequatur sunt', 'completed': True}\n",
      "{'userId': 7, 'id': 134, 'title': 'molestiae doloribus et laborum quod ea', 'completed': False}\n",
      "{'userId': 7, 'id': 135, 'title': 'facere ipsa nam eum voluptates reiciendis vero qui', 'completed': False}\n",
      "{'userId': 7, 'id': 136, 'title': 'asperiores illo tempora fuga sed ut quasi adipisci', 'completed': False}\n",
      "{'userId': 7, 'id': 137, 'title': 'qui sit non', 'completed': False}\n",
      "{'userId': 7, 'id': 138, 'title': 'placeat minima consequatur rem qui ut', 'completed': True}\n",
      "{'userId': 7, 'id': 139, 'title': 'consequatur doloribus id possimus voluptas a voluptatem', 'completed': False}\n",
      "{'userId': 7, 'id': 140, 'title': 'aut consectetur in blanditiis deserunt quia sed laboriosam', 'completed': True}\n",
      "{'userId': 8, 'id': 141, 'title': 'explicabo consectetur debitis voluptates quas quae culpa rerum non', 'completed': True}\n",
      "{'userId': 8, 'id': 142, 'title': 'maiores accusantium architecto necessitatibus reiciendis ea aut', 'completed': True}\n",
      "{'userId': 8, 'id': 143, 'title': 'eum non recusandae cupiditate animi', 'completed': False}\n",
      "{'userId': 8, 'id': 144, 'title': 'ut eum exercitationem sint', 'completed': False}\n",
      "{'userId': 8, 'id': 145, 'title': 'beatae qui ullam incidunt voluptatem non nisi aliquam', 'completed': False}\n",
      "{'userId': 8, 'id': 146, 'title': 'molestiae suscipit ratione nihil odio libero impedit vero totam', 'completed': True}\n",
      "{'userId': 8, 'id': 147, 'title': 'eum itaque quod reprehenderit et facilis dolor autem ut', 'completed': True}\n",
      "{'userId': 8, 'id': 148, 'title': 'esse quas et quo quasi exercitationem', 'completed': False}\n",
      "{'userId': 8, 'id': 149, 'title': 'animi voluptas quod perferendis est', 'completed': False}\n",
      "{'userId': 8, 'id': 150, 'title': 'eos amet tempore laudantium fugit a', 'completed': False}\n",
      "{'userId': 8, 'id': 151, 'title': 'accusamus adipisci dicta qui quo ea explicabo sed vero', 'completed': True}\n",
      "{'userId': 8, 'id': 152, 'title': 'odit eligendi recusandae doloremque cumque non', 'completed': False}\n",
      "{'userId': 8, 'id': 153, 'title': 'ea aperiam consequatur qui repellat eos', 'completed': False}\n",
      "{'userId': 8, 'id': 154, 'title': 'rerum non ex sapiente', 'completed': True}\n",
      "{'userId': 8, 'id': 155, 'title': 'voluptatem nobis consequatur et assumenda magnam', 'completed': True}\n",
      "{'userId': 8, 'id': 156, 'title': 'nam quia quia nulla repellat assumenda quibusdam sit nobis', 'completed': True}\n",
      "{'userId': 8, 'id': 157, 'title': 'dolorem veniam quisquam deserunt repellendus', 'completed': True}\n",
      "{'userId': 8, 'id': 158, 'title': 'debitis vitae delectus et harum accusamus aut deleniti a', 'completed': True}\n",
      "{'userId': 8, 'id': 159, 'title': 'debitis adipisci quibusdam aliquam sed dolore ea praesentium nobis', 'completed': True}\n",
      "{'userId': 8, 'id': 160, 'title': 'et praesentium aliquam est', 'completed': False}\n",
      "{'userId': 9, 'id': 161, 'title': 'ex hic consequuntur earum omnis alias ut occaecati culpa', 'completed': True}\n",
      "{'userId': 9, 'id': 162, 'title': 'omnis laboriosam molestias animi sunt dolore', 'completed': True}\n",
      "{'userId': 9, 'id': 163, 'title': 'natus corrupti maxime laudantium et voluptatem laboriosam odit', 'completed': False}\n",
      "{'userId': 9, 'id': 164, 'title': 'reprehenderit quos aut aut consequatur est sed', 'completed': False}\n",
      "{'userId': 9, 'id': 165, 'title': 'fugiat perferendis sed aut quidem', 'completed': False}\n",
      "{'userId': 9, 'id': 166, 'title': 'quos quo possimus suscipit minima ut', 'completed': False}\n",
      "{'userId': 9, 'id': 167, 'title': 'et quis minus quo a asperiores molestiae', 'completed': False}\n",
      "{'userId': 9, 'id': 168, 'title': 'recusandae quia qui sunt libero', 'completed': False}\n",
      "{'userId': 9, 'id': 169, 'title': 'ea odio perferendis officiis', 'completed': True}\n",
      "{'userId': 9, 'id': 170, 'title': 'quisquam aliquam quia doloribus aut', 'completed': False}\n",
      "{'userId': 9, 'id': 171, 'title': 'fugiat aut voluptatibus corrupti deleniti velit iste odio', 'completed': True}\n",
      "{'userId': 9, 'id': 172, 'title': 'et provident amet rerum consectetur et voluptatum', 'completed': False}\n",
      "{'userId': 9, 'id': 173, 'title': 'harum ad aperiam quis', 'completed': False}\n",
      "{'userId': 9, 'id': 174, 'title': 'similique aut quo', 'completed': False}\n",
      "{'userId': 9, 'id': 175, 'title': 'laudantium eius officia perferendis provident perspiciatis asperiores', 'completed': True}\n",
      "{'userId': 9, 'id': 176, 'title': 'magni soluta corrupti ut maiores rem quidem', 'completed': False}\n",
      "{'userId': 9, 'id': 177, 'title': 'et placeat temporibus voluptas est tempora quos quibusdam', 'completed': False}\n",
      "{'userId': 9, 'id': 178, 'title': 'nesciunt itaque commodi tempore', 'completed': True}\n",
      "{'userId': 9, 'id': 179, 'title': 'omnis consequuntur cupiditate impedit itaque ipsam quo', 'completed': True}\n",
      "{'userId': 9, 'id': 180, 'title': 'debitis nisi et dolorem repellat et', 'completed': True}\n",
      "{'userId': 10, 'id': 181, 'title': 'ut cupiditate sequi aliquam fuga maiores', 'completed': False}\n",
      "{'userId': 10, 'id': 182, 'title': 'inventore saepe cumque et aut illum enim', 'completed': True}\n",
      "{'userId': 10, 'id': 183, 'title': 'omnis nulla eum aliquam distinctio', 'completed': True}\n",
      "{'userId': 10, 'id': 184, 'title': 'molestias modi perferendis perspiciatis', 'completed': False}\n",
      "{'userId': 10, 'id': 185, 'title': 'voluptates dignissimos sed doloribus animi quaerat aut', 'completed': False}\n",
      "{'userId': 10, 'id': 186, 'title': 'explicabo odio est et', 'completed': False}\n",
      "{'userId': 10, 'id': 187, 'title': 'consequuntur animi possimus', 'completed': False}\n",
      "{'userId': 10, 'id': 188, 'title': 'vel non beatae est', 'completed': True}\n",
      "{'userId': 10, 'id': 189, 'title': 'culpa eius et voluptatem et', 'completed': True}\n",
      "{'userId': 10, 'id': 190, 'title': 'accusamus sint iusto et voluptatem exercitationem', 'completed': True}\n",
      "{'userId': 10, 'id': 191, 'title': 'temporibus atque distinctio omnis eius impedit tempore molestias pariatur', 'completed': True}\n",
      "{'userId': 10, 'id': 192, 'title': 'ut quas possimus exercitationem sint voluptates', 'completed': False}\n",
      "{'userId': 10, 'id': 193, 'title': 'rerum debitis voluptatem qui eveniet tempora distinctio a', 'completed': True}\n",
      "{'userId': 10, 'id': 194, 'title': 'sed ut vero sit molestiae', 'completed': False}\n",
      "{'userId': 10, 'id': 195, 'title': 'rerum ex veniam mollitia voluptatibus pariatur', 'completed': True}\n",
      "{'userId': 10, 'id': 196, 'title': 'consequuntur aut ut fugit similique', 'completed': True}\n",
      "{'userId': 10, 'id': 197, 'title': 'dignissimos quo nobis earum saepe', 'completed': True}\n",
      "{'userId': 10, 'id': 198, 'title': 'quis eius est sint explicabo', 'completed': True}\n",
      "{'userId': 10, 'id': 199, 'title': 'numquam repellendus a magnam', 'completed': True}\n",
      "{'userId': 10, 'id': 200, 'title': 'ipsam aperiam voluptates qui', 'completed': False}\n"
     ]
    }
   ],
   "source": [
    "todos_by_user = {}\n",
    "\n",
    "for todo in todos:\n",
    "    print(todo)\n",
    "    todos_by_user[todo[\"userId\"]] = todos_by_user.get(todo[\"userId\"],0) +1"
   ]
  },
  {
   "cell_type": "code",
   "execution_count": 93,
   "id": "c22a5274-8299-4026-93c0-2dee408404ac",
   "metadata": {},
   "outputs": [
    {
     "data": {
      "text/plain": [
       "{1: 20, 2: 20, 3: 20, 4: 20, 5: 20, 6: 20, 7: 20, 8: 20, 9: 20, 10: 20}"
      ]
     },
     "execution_count": 93,
     "metadata": {},
     "output_type": "execute_result"
    }
   ],
   "source": [
    "todos_by_user"
   ]
  },
  {
   "cell_type": "code",
   "execution_count": null,
   "id": "8f7e348b-f058-458c-aa87-0f139fba296b",
   "metadata": {},
   "outputs": [],
   "source": []
  }
 ],
 "metadata": {
  "kernelspec": {
   "display_name": "Python 3 (ipykernel)",
   "language": "python",
   "name": "python3"
  },
  "language_info": {
   "codemirror_mode": {
    "name": "ipython",
    "version": 3
   },
   "file_extension": ".py",
   "mimetype": "text/x-python",
   "name": "python",
   "nbconvert_exporter": "python",
   "pygments_lexer": "ipython3",
   "version": "3.9.21"
  }
 },
 "nbformat": 4,
 "nbformat_minor": 5
}
