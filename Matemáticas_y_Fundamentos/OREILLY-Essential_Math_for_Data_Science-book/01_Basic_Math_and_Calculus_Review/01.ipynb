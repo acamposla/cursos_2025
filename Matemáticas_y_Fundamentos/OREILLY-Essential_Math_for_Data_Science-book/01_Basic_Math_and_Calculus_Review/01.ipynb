{
 "cells": [
  {
   "cell_type": "markdown",
   "id": "1392a117-dd9b-421b-a495-40a15fb88640",
   "metadata": {},
   "source": [
    "\n",
    "#  Basic Math and Calculus Review\n",
    "\n",
    "We will kick off the first chapter covering:\n",
    "- What numbers are and how variables and functions work on a Cartesian system\n",
    "- Exponents and logarithms\n",
    "- Learn the two basic operations of calculus: derivatives and integrals.\n",
    "\n",
    "## Number Theory\n",
    "\n",
    "- *Natural numbers* 1, 2, 3, 4, 5\n",
    "- *Whole numbres* Adding to natural numbers, the concept of “0” \n",
    "- *Integers* Whole positive and negative numners\n",
    "- *Rational numbers* Any number that you can express as a fraction, such as 2/3\n",
    "- *Irrational numbers* This includes the famous PI, square roots of certain numbers like Euler’s number \n",
    "- *Real numbers* include rational as well as irrational numbers\n",
    "- *Complex and imaginary numbers*  type when you take the square root of a negative number\n"
   ]
  },
  {
   "cell_type": "markdown",
   "id": "1cf58ed6-c87a-4c56-87b9-92818b8db2a4",
   "metadata": {},
   "source": [
    "## Order of Operations\n"
   ]
  },
  {
   "cell_type": "markdown",
   "id": "d9e2101e-d893-484a-9583-0dbc6d65da11",
   "metadata": {},
   "source": [
    "$$\n",
    "2 \\times \\frac{(3+2)^2}{5} - 4\n",
    "$$\n"
   ]
  },
  {
   "cell_type": "markdown",
   "id": "4fd311e6-f0ea-4c8d-b656-0ab742e96dad",
   "metadata": {},
   "source": [
    "**Example 1-1. Solving an expression in Python**\n"
   ]
  },
  {
   "cell_type": "code",
   "execution_count": 8,
   "id": "d8574821-2cfd-4fe7-a915-0def104207b5",
   "metadata": {},
   "outputs": [
    {
     "data": {
      "text/plain": [
       "6.0"
      ]
     },
     "execution_count": 8,
     "metadata": {},
     "output_type": "execute_result"
    }
   ],
   "source": [
    "my_value = 2 * (3+2)**2 / 5 -4\n",
    "my_value"
   ]
  },
  {
   "cell_type": "markdown",
   "id": "666bf2ab-7d8e-40bf-a784-b86f4b731b48",
   "metadata": {},
   "source": [
    "It is a good practice to liberally use parentheses in complex expressions so you establish control of the evaluation order."
   ]
  },
  {
   "cell_type": "markdown",
   "id": "6413b707-c1e2-42aa-9f56-cd22e6f84586",
   "metadata": {},
   "source": [
    "**Example 1-2. Making use of parentheses for clarity in Python**\n"
   ]
  },
  {
   "cell_type": "code",
   "execution_count": 9,
   "id": "2ee835ed-cc40-4b62-befc-91f988d3a01b",
   "metadata": {},
   "outputs": [
    {
     "data": {
      "text/plain": [
       "6.0"
      ]
     },
     "execution_count": 9,
     "metadata": {},
     "output_type": "execute_result"
    }
   ],
   "source": [
    "my_value = 2 *((3+2)**2 /5) -4\n",
    "my_value"
   ]
  },
  {
   "cell_type": "markdown",
   "id": "07705a2f-4002-4345-ac15-43f4e376bcba",
   "metadata": {},
   "source": [
    "## Variables\n",
    "A variable is a named placeholder for an unspecified or unknown number."
   ]
  },
  {
   "cell_type": "markdown",
   "id": "b41ade06-e738-45cb-8be5-809eff5be517",
   "metadata": {},
   "source": [
    "**Example 1-3. A variable in Python that is then multiplied**"
   ]
  },
  {
   "cell_type": "code",
   "execution_count": 10,
   "id": "2aca58dc-58b5-46fc-8f9d-1dc7d4e1ecaf",
   "metadata": {},
   "outputs": [
    {
     "name": "stdin",
     "output_type": "stream",
     "text": [
      "Please input a number\n",
      " 2\n"
     ]
    },
    {
     "data": {
      "text/plain": [
       "6"
      ]
     },
     "execution_count": 10,
     "metadata": {},
     "output_type": "execute_result"
    }
   ],
   "source": [
    "x = int(input(\"Please input a number\\n\"))\n",
    "product = 3 * x\n",
    "product"
   ]
  },
  {
   "cell_type": "markdown",
   "id": "a817d90f-daeb-4ee8-8db7-1a043d1bff10",
   "metadata": {},
   "source": [
    "- we use theta $\\theta$ to denote angles and\n",
    "-  $\\beta$ for a parameter in a linear regression\n"
   ]
  },
  {
   "cell_type": "markdown",
   "id": "8b76a169-746a-4902-9040-9ca71a722087",
   "metadata": {},
   "source": [
    "**Example 1-4. Greek variable names in Python**\n"
   ]
  },
  {
   "cell_type": "code",
   "execution_count": 12,
   "id": "d4b81bf8-0602-4556-a0d1-1a5529670c37",
   "metadata": {},
   "outputs": [],
   "source": [
    "beta = 1.75\n",
    "theta = 30.0"
   ]
  },
  {
   "cell_type": "markdown",
   "id": "cc4620a6-74ac-4822-95bd-d581a24685d0",
   "metadata": {},
   "source": [
    "If you encounter variables x1, x2, and x3, just treat them as three separate variables as shown in Example 1-5.\n",
    "\n"
   ]
  },
  {
   "cell_type": "markdown",
   "id": "24076024-8cd7-426e-9a4d-adff0e601b05",
   "metadata": {},
   "source": [
    "**Example 1-5. Expressing subscripted variables in Python**"
   ]
  },
  {
   "cell_type": "code",
   "execution_count": 13,
   "id": "6aa97ec0-915e-4328-a35c-dc311a3eba0c",
   "metadata": {},
   "outputs": [],
   "source": [
    "x1 = 3  # or x_1 = 3\n",
    "x2 = 10 # or x_2 = 10\n",
    "x3 = 44 # or x_3 = 44"
   ]
  },
  {
   "cell_type": "markdown",
   "id": "ebcbd753-7699-47b2-b119-9a5b8cb436aa",
   "metadata": {},
   "source": [
    "## Functions"
   ]
  },
  {
   "cell_type": "code",
   "execution_count": null,
   "id": "a992a0b3-51b4-4ad4-92a7-bc2ce11603cf",
   "metadata": {},
   "outputs": [],
   "source": []
  }
 ],
 "metadata": {
  "kernelspec": {
   "display_name": "Python 3 (ipykernel)",
   "language": "python",
   "name": "python3"
  },
  "language_info": {
   "codemirror_mode": {
    "name": "ipython",
    "version": 3
   },
   "file_extension": ".py",
   "mimetype": "text/x-python",
   "name": "python",
   "nbconvert_exporter": "python",
   "pygments_lexer": "ipython3",
   "version": "3.12.2"
  }
 },
 "nbformat": 4,
 "nbformat_minor": 5
}
