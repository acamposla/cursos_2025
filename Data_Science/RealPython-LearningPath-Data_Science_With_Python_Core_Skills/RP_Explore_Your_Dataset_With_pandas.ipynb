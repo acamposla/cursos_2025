{
 "cells": [
  {
   "cell_type": "code",
   "execution_count": null,
   "id": "76c64f10-78d1-4ac0-9394-c5cc892ec352",
   "metadata": {},
   "outputs": [],
   "source": []
  },
  {
   "cell_type": "code",
   "execution_count": 1,
   "id": "33612820-8fa8-4099-890b-23fb841c4a87",
   "metadata": {},
   "outputs": [],
   "source": [
    "#import sys\n",
    "#print(sys.executable)\n",
    "#print(sys.version)"
   ]
  },
  {
   "cell_type": "code",
   "execution_count": 2,
   "id": "7c562324-0c4d-4845-9b1b-ebda68280f53",
   "metadata": {},
   "outputs": [],
   "source": [
    "import pandas as pd\n",
    "import numpy as np"
   ]
  },
  {
   "cell_type": "code",
   "execution_count": 3,
   "id": "84e50536-a444-4b24-835b-8d0eda54a2de",
   "metadata": {},
   "outputs": [
    {
     "name": "stdout",
     "output_type": "stream",
     "text": [
      "2.2.3\n"
     ]
    }
   ],
   "source": [
    "print(pd.__version__)"
   ]
  },
  {
   "cell_type": "code",
   "execution_count": 4,
   "id": "268fcfe7-066e-4e02-8564-a068461ed315",
   "metadata": {},
   "outputs": [],
   "source": [
    "download_url=\"https://github.com/fivethirtyeight/data/blob/master/nba-elo/nbaallelo.csv\""
   ]
  },
  {
   "cell_type": "code",
   "execution_count": 5,
   "id": "8a0e8bfa-b88d-4eb9-9694-fee1272ecbbe",
   "metadata": {},
   "outputs": [],
   "source": [
    "import requests "
   ]
  },
  {
   "cell_type": "code",
   "execution_count": 6,
   "id": "835007eb-0edb-4735-b72e-d5c816176394",
   "metadata": {},
   "outputs": [],
   "source": [
    "response = requests.get(download_url)"
   ]
  },
  {
   "cell_type": "code",
   "execution_count": 7,
   "id": "3d6ae9c7-c548-4ccf-9778-0f286b094596",
   "metadata": {},
   "outputs": [
    {
     "name": "stdout",
     "output_type": "stream",
     "text": [
      "200\n"
     ]
    }
   ],
   "source": [
    "print(response.status_code)"
   ]
  },
  {
   "cell_type": "code",
   "execution_count": 8,
   "id": "47873430-2553-4c80-8dae-24e944b8e15e",
   "metadata": {},
   "outputs": [],
   "source": [
    "with open ('nba_all_elo.csv', 'wb') as f:\n",
    "    f.write(response.content)"
   ]
  },
  {
   "cell_type": "code",
   "execution_count": 9,
   "id": "f7f98b5c-0f93-4b72-8c09-0b0fed239531",
   "metadata": {},
   "outputs": [
    {
     "name": "stdout",
     "output_type": "stream",
     "text": [
      "RP_Explore_Your_Dataset_With_pandas.ipynb\n",
      "\u001b[1m\u001b[36mdata_sets\u001b[m\u001b[m\n",
      "\u001b[1m\u001b[36mjupyter_done\u001b[m\u001b[m\n",
      "nba_all_elo.csv\n"
     ]
    }
   ],
   "source": [
    "!ls"
   ]
  },
  {
   "cell_type": "code",
   "execution_count": 10,
   "id": "19425e87-d0b6-4bed-abea-708ef833185e",
   "metadata": {},
   "outputs": [],
   "source": [
    "import pandas as pd"
   ]
  },
  {
   "cell_type": "code",
   "execution_count": 11,
   "id": "5f6eebf3-d83e-4292-aff8-454f0618d67d",
   "metadata": {},
   "outputs": [],
   "source": [
    "nba = pd.read_csv('data_sets/nbaallelo.csv')"
   ]
  },
  {
   "cell_type": "code",
   "execution_count": 12,
   "id": "ee6b3d00-c22b-4bd5-b1de-556a27d97a2a",
   "metadata": {},
   "outputs": [
    {
     "data": {
      "text/plain": [
       "pandas.core.frame.DataFrame"
      ]
     },
     "execution_count": 12,
     "metadata": {},
     "output_type": "execute_result"
    }
   ],
   "source": [
    "type(nba)"
   ]
  },
  {
   "cell_type": "code",
   "execution_count": 13,
   "id": "540c29b4-f4dd-45d6-9f20-323f42d3ef0e",
   "metadata": {},
   "outputs": [
    {
     "data": {
      "text/plain": [
       "126314"
      ]
     },
     "execution_count": 13,
     "metadata": {},
     "output_type": "execute_result"
    }
   ],
   "source": [
    "len(nba)"
   ]
  },
  {
   "cell_type": "code",
   "execution_count": 14,
   "id": "39728dfa-1f9d-4870-bc7f-beba352fbd43",
   "metadata": {},
   "outputs": [
    {
     "data": {
      "text/plain": [
       "(126314, 23)"
      ]
     },
     "execution_count": 14,
     "metadata": {},
     "output_type": "execute_result"
    }
   ],
   "source": [
    "nba.shape"
   ]
  },
  {
   "cell_type": "code",
   "execution_count": 15,
   "id": "df8aafd4-f025-4583-8753-dc4335928bb3",
   "metadata": {},
   "outputs": [
    {
     "data": {
      "text/html": [
       "<div>\n",
       "<style scoped>\n",
       "    .dataframe tbody tr th:only-of-type {\n",
       "        vertical-align: middle;\n",
       "    }\n",
       "\n",
       "    .dataframe tbody tr th {\n",
       "        vertical-align: top;\n",
       "    }\n",
       "\n",
       "    .dataframe thead th {\n",
       "        text-align: right;\n",
       "    }\n",
       "</style>\n",
       "<table border=\"1\" class=\"dataframe\">\n",
       "  <thead>\n",
       "    <tr style=\"text-align: right;\">\n",
       "      <th></th>\n",
       "      <th>gameorder</th>\n",
       "      <th>game_id</th>\n",
       "      <th>lg_id</th>\n",
       "      <th>_iscopy</th>\n",
       "      <th>year_id</th>\n",
       "      <th>date_game</th>\n",
       "      <th>seasongame</th>\n",
       "      <th>is_playoffs</th>\n",
       "      <th>team_id</th>\n",
       "      <th>fran_id</th>\n",
       "      <th>...</th>\n",
       "      <th>win_equiv</th>\n",
       "      <th>opp_id</th>\n",
       "      <th>opp_fran</th>\n",
       "      <th>opp_pts</th>\n",
       "      <th>opp_elo_i</th>\n",
       "      <th>opp_elo_n</th>\n",
       "      <th>game_location</th>\n",
       "      <th>game_result</th>\n",
       "      <th>forecast</th>\n",
       "      <th>notes</th>\n",
       "    </tr>\n",
       "  </thead>\n",
       "  <tbody>\n",
       "    <tr>\n",
       "      <th>0</th>\n",
       "      <td>1</td>\n",
       "      <td>194611010TRH</td>\n",
       "      <td>NBA</td>\n",
       "      <td>0</td>\n",
       "      <td>1947</td>\n",
       "      <td>11/1/1946</td>\n",
       "      <td>1</td>\n",
       "      <td>0</td>\n",
       "      <td>TRH</td>\n",
       "      <td>Huskies</td>\n",
       "      <td>...</td>\n",
       "      <td>40.294830</td>\n",
       "      <td>NYK</td>\n",
       "      <td>Knicks</td>\n",
       "      <td>68</td>\n",
       "      <td>1300.0000</td>\n",
       "      <td>1306.7233</td>\n",
       "      <td>H</td>\n",
       "      <td>L</td>\n",
       "      <td>0.640065</td>\n",
       "      <td>NaN</td>\n",
       "    </tr>\n",
       "    <tr>\n",
       "      <th>1</th>\n",
       "      <td>1</td>\n",
       "      <td>194611010TRH</td>\n",
       "      <td>NBA</td>\n",
       "      <td>1</td>\n",
       "      <td>1947</td>\n",
       "      <td>11/1/1946</td>\n",
       "      <td>1</td>\n",
       "      <td>0</td>\n",
       "      <td>NYK</td>\n",
       "      <td>Knicks</td>\n",
       "      <td>...</td>\n",
       "      <td>41.705170</td>\n",
       "      <td>TRH</td>\n",
       "      <td>Huskies</td>\n",
       "      <td>66</td>\n",
       "      <td>1300.0000</td>\n",
       "      <td>1293.2767</td>\n",
       "      <td>A</td>\n",
       "      <td>W</td>\n",
       "      <td>0.359935</td>\n",
       "      <td>NaN</td>\n",
       "    </tr>\n",
       "    <tr>\n",
       "      <th>2</th>\n",
       "      <td>2</td>\n",
       "      <td>194611020CHS</td>\n",
       "      <td>NBA</td>\n",
       "      <td>0</td>\n",
       "      <td>1947</td>\n",
       "      <td>11/2/1946</td>\n",
       "      <td>1</td>\n",
       "      <td>0</td>\n",
       "      <td>CHS</td>\n",
       "      <td>Stags</td>\n",
       "      <td>...</td>\n",
       "      <td>42.012257</td>\n",
       "      <td>NYK</td>\n",
       "      <td>Knicks</td>\n",
       "      <td>47</td>\n",
       "      <td>1306.7233</td>\n",
       "      <td>1297.0712</td>\n",
       "      <td>H</td>\n",
       "      <td>W</td>\n",
       "      <td>0.631101</td>\n",
       "      <td>NaN</td>\n",
       "    </tr>\n",
       "    <tr>\n",
       "      <th>3</th>\n",
       "      <td>2</td>\n",
       "      <td>194611020CHS</td>\n",
       "      <td>NBA</td>\n",
       "      <td>1</td>\n",
       "      <td>1947</td>\n",
       "      <td>11/2/1946</td>\n",
       "      <td>2</td>\n",
       "      <td>0</td>\n",
       "      <td>NYK</td>\n",
       "      <td>Knicks</td>\n",
       "      <td>...</td>\n",
       "      <td>40.692783</td>\n",
       "      <td>CHS</td>\n",
       "      <td>Stags</td>\n",
       "      <td>63</td>\n",
       "      <td>1300.0000</td>\n",
       "      <td>1309.6521</td>\n",
       "      <td>A</td>\n",
       "      <td>L</td>\n",
       "      <td>0.368899</td>\n",
       "      <td>NaN</td>\n",
       "    </tr>\n",
       "    <tr>\n",
       "      <th>4</th>\n",
       "      <td>3</td>\n",
       "      <td>194611020DTF</td>\n",
       "      <td>NBA</td>\n",
       "      <td>0</td>\n",
       "      <td>1947</td>\n",
       "      <td>11/2/1946</td>\n",
       "      <td>1</td>\n",
       "      <td>0</td>\n",
       "      <td>DTF</td>\n",
       "      <td>Falcons</td>\n",
       "      <td>...</td>\n",
       "      <td>38.864048</td>\n",
       "      <td>WSC</td>\n",
       "      <td>Capitols</td>\n",
       "      <td>50</td>\n",
       "      <td>1300.0000</td>\n",
       "      <td>1320.3811</td>\n",
       "      <td>H</td>\n",
       "      <td>L</td>\n",
       "      <td>0.640065</td>\n",
       "      <td>NaN</td>\n",
       "    </tr>\n",
       "    <tr>\n",
       "      <th>5</th>\n",
       "      <td>3</td>\n",
       "      <td>194611020DTF</td>\n",
       "      <td>NBA</td>\n",
       "      <td>1</td>\n",
       "      <td>1947</td>\n",
       "      <td>11/2/1946</td>\n",
       "      <td>1</td>\n",
       "      <td>0</td>\n",
       "      <td>WSC</td>\n",
       "      <td>Capitols</td>\n",
       "      <td>...</td>\n",
       "      <td>43.135952</td>\n",
       "      <td>DTF</td>\n",
       "      <td>Falcons</td>\n",
       "      <td>33</td>\n",
       "      <td>1300.0000</td>\n",
       "      <td>1279.6189</td>\n",
       "      <td>A</td>\n",
       "      <td>W</td>\n",
       "      <td>0.359935</td>\n",
       "      <td>NaN</td>\n",
       "    </tr>\n",
       "    <tr>\n",
       "      <th>6</th>\n",
       "      <td>4</td>\n",
       "      <td>194611020PRO</td>\n",
       "      <td>NBA</td>\n",
       "      <td>1</td>\n",
       "      <td>1947</td>\n",
       "      <td>11/2/1946</td>\n",
       "      <td>1</td>\n",
       "      <td>0</td>\n",
       "      <td>BOS</td>\n",
       "      <td>Celtics</td>\n",
       "      <td>...</td>\n",
       "      <td>40.459381</td>\n",
       "      <td>PRO</td>\n",
       "      <td>Steamrollers</td>\n",
       "      <td>59</td>\n",
       "      <td>1300.0000</td>\n",
       "      <td>1305.1542</td>\n",
       "      <td>A</td>\n",
       "      <td>L</td>\n",
       "      <td>0.359935</td>\n",
       "      <td>NaN</td>\n",
       "    </tr>\n",
       "    <tr>\n",
       "      <th>7</th>\n",
       "      <td>4</td>\n",
       "      <td>194611020PRO</td>\n",
       "      <td>NBA</td>\n",
       "      <td>0</td>\n",
       "      <td>1947</td>\n",
       "      <td>11/2/1946</td>\n",
       "      <td>1</td>\n",
       "      <td>0</td>\n",
       "      <td>PRO</td>\n",
       "      <td>Steamrollers</td>\n",
       "      <td>...</td>\n",
       "      <td>41.540619</td>\n",
       "      <td>BOS</td>\n",
       "      <td>Celtics</td>\n",
       "      <td>53</td>\n",
       "      <td>1300.0000</td>\n",
       "      <td>1294.8458</td>\n",
       "      <td>H</td>\n",
       "      <td>W</td>\n",
       "      <td>0.640065</td>\n",
       "      <td>NaN</td>\n",
       "    </tr>\n",
       "    <tr>\n",
       "      <th>8</th>\n",
       "      <td>5</td>\n",
       "      <td>194611020STB</td>\n",
       "      <td>NBA</td>\n",
       "      <td>1</td>\n",
       "      <td>1947</td>\n",
       "      <td>11/2/1946</td>\n",
       "      <td>1</td>\n",
       "      <td>0</td>\n",
       "      <td>PIT</td>\n",
       "      <td>Ironmen</td>\n",
       "      <td>...</td>\n",
       "      <td>40.507980</td>\n",
       "      <td>STB</td>\n",
       "      <td>Bombers</td>\n",
       "      <td>56</td>\n",
       "      <td>1300.0000</td>\n",
       "      <td>1304.6908</td>\n",
       "      <td>A</td>\n",
       "      <td>L</td>\n",
       "      <td>0.359935</td>\n",
       "      <td>NaN</td>\n",
       "    </tr>\n",
       "    <tr>\n",
       "      <th>9</th>\n",
       "      <td>5</td>\n",
       "      <td>194611020STB</td>\n",
       "      <td>NBA</td>\n",
       "      <td>0</td>\n",
       "      <td>1947</td>\n",
       "      <td>11/2/1946</td>\n",
       "      <td>1</td>\n",
       "      <td>0</td>\n",
       "      <td>STB</td>\n",
       "      <td>Bombers</td>\n",
       "      <td>...</td>\n",
       "      <td>41.492020</td>\n",
       "      <td>PIT</td>\n",
       "      <td>Ironmen</td>\n",
       "      <td>51</td>\n",
       "      <td>1300.0000</td>\n",
       "      <td>1295.3092</td>\n",
       "      <td>H</td>\n",
       "      <td>W</td>\n",
       "      <td>0.640065</td>\n",
       "      <td>NaN</td>\n",
       "    </tr>\n",
       "  </tbody>\n",
       "</table>\n",
       "<p>10 rows × 23 columns</p>\n",
       "</div>"
      ],
      "text/plain": [
       "   gameorder       game_id lg_id  _iscopy  year_id  date_game  seasongame  \\\n",
       "0          1  194611010TRH   NBA        0     1947  11/1/1946           1   \n",
       "1          1  194611010TRH   NBA        1     1947  11/1/1946           1   \n",
       "2          2  194611020CHS   NBA        0     1947  11/2/1946           1   \n",
       "3          2  194611020CHS   NBA        1     1947  11/2/1946           2   \n",
       "4          3  194611020DTF   NBA        0     1947  11/2/1946           1   \n",
       "5          3  194611020DTF   NBA        1     1947  11/2/1946           1   \n",
       "6          4  194611020PRO   NBA        1     1947  11/2/1946           1   \n",
       "7          4  194611020PRO   NBA        0     1947  11/2/1946           1   \n",
       "8          5  194611020STB   NBA        1     1947  11/2/1946           1   \n",
       "9          5  194611020STB   NBA        0     1947  11/2/1946           1   \n",
       "\n",
       "   is_playoffs team_id       fran_id  ...  win_equiv  opp_id      opp_fran  \\\n",
       "0            0     TRH       Huskies  ...  40.294830     NYK        Knicks   \n",
       "1            0     NYK        Knicks  ...  41.705170     TRH       Huskies   \n",
       "2            0     CHS         Stags  ...  42.012257     NYK        Knicks   \n",
       "3            0     NYK        Knicks  ...  40.692783     CHS         Stags   \n",
       "4            0     DTF       Falcons  ...  38.864048     WSC      Capitols   \n",
       "5            0     WSC      Capitols  ...  43.135952     DTF       Falcons   \n",
       "6            0     BOS       Celtics  ...  40.459381     PRO  Steamrollers   \n",
       "7            0     PRO  Steamrollers  ...  41.540619     BOS       Celtics   \n",
       "8            0     PIT       Ironmen  ...  40.507980     STB       Bombers   \n",
       "9            0     STB       Bombers  ...  41.492020     PIT       Ironmen   \n",
       "\n",
       "   opp_pts  opp_elo_i  opp_elo_n  game_location  game_result  forecast notes  \n",
       "0       68  1300.0000  1306.7233              H            L  0.640065   NaN  \n",
       "1       66  1300.0000  1293.2767              A            W  0.359935   NaN  \n",
       "2       47  1306.7233  1297.0712              H            W  0.631101   NaN  \n",
       "3       63  1300.0000  1309.6521              A            L  0.368899   NaN  \n",
       "4       50  1300.0000  1320.3811              H            L  0.640065   NaN  \n",
       "5       33  1300.0000  1279.6189              A            W  0.359935   NaN  \n",
       "6       59  1300.0000  1305.1542              A            L  0.359935   NaN  \n",
       "7       53  1300.0000  1294.8458              H            W  0.640065   NaN  \n",
       "8       56  1300.0000  1304.6908              A            L  0.359935   NaN  \n",
       "9       51  1300.0000  1295.3092              H            W  0.640065   NaN  \n",
       "\n",
       "[10 rows x 23 columns]"
      ]
     },
     "execution_count": 15,
     "metadata": {},
     "output_type": "execute_result"
    }
   ],
   "source": [
    "nba.head(10)"
   ]
  },
  {
   "cell_type": "code",
   "execution_count": 16,
   "id": "56fcf390-4531-4755-a74b-fbad4db389dd",
   "metadata": {},
   "outputs": [],
   "source": [
    "pd.set_option('display.max.columns',None)\n",
    "pd.set_option('display.precision',2)"
   ]
  },
  {
   "cell_type": "code",
   "execution_count": 17,
   "id": "ce1b04c9-ee25-4f65-98db-46f757e656a0",
   "metadata": {
    "scrolled": true
   },
   "outputs": [
    {
     "data": {
      "text/html": [
       "<div>\n",
       "<style scoped>\n",
       "    .dataframe tbody tr th:only-of-type {\n",
       "        vertical-align: middle;\n",
       "    }\n",
       "\n",
       "    .dataframe tbody tr th {\n",
       "        vertical-align: top;\n",
       "    }\n",
       "\n",
       "    .dataframe thead th {\n",
       "        text-align: right;\n",
       "    }\n",
       "</style>\n",
       "<table border=\"1\" class=\"dataframe\">\n",
       "  <thead>\n",
       "    <tr style=\"text-align: right;\">\n",
       "      <th></th>\n",
       "      <th>gameorder</th>\n",
       "      <th>game_id</th>\n",
       "      <th>lg_id</th>\n",
       "      <th>_iscopy</th>\n",
       "      <th>year_id</th>\n",
       "      <th>date_game</th>\n",
       "      <th>seasongame</th>\n",
       "      <th>is_playoffs</th>\n",
       "      <th>team_id</th>\n",
       "      <th>fran_id</th>\n",
       "      <th>pts</th>\n",
       "      <th>elo_i</th>\n",
       "      <th>elo_n</th>\n",
       "      <th>win_equiv</th>\n",
       "      <th>opp_id</th>\n",
       "      <th>opp_fran</th>\n",
       "      <th>opp_pts</th>\n",
       "      <th>opp_elo_i</th>\n",
       "      <th>opp_elo_n</th>\n",
       "      <th>game_location</th>\n",
       "      <th>game_result</th>\n",
       "      <th>forecast</th>\n",
       "      <th>notes</th>\n",
       "    </tr>\n",
       "  </thead>\n",
       "  <tbody>\n",
       "    <tr>\n",
       "      <th>126309</th>\n",
       "      <td>63155</td>\n",
       "      <td>201506110CLE</td>\n",
       "      <td>NBA</td>\n",
       "      <td>0</td>\n",
       "      <td>2015</td>\n",
       "      <td>6/11/2015</td>\n",
       "      <td>100</td>\n",
       "      <td>1</td>\n",
       "      <td>CLE</td>\n",
       "      <td>Cavaliers</td>\n",
       "      <td>82</td>\n",
       "      <td>1723.41</td>\n",
       "      <td>1704.39</td>\n",
       "      <td>60.31</td>\n",
       "      <td>GSW</td>\n",
       "      <td>Warriors</td>\n",
       "      <td>103</td>\n",
       "      <td>1790.96</td>\n",
       "      <td>1809.98</td>\n",
       "      <td>H</td>\n",
       "      <td>L</td>\n",
       "      <td>0.55</td>\n",
       "      <td>NaN</td>\n",
       "    </tr>\n",
       "    <tr>\n",
       "      <th>126310</th>\n",
       "      <td>63156</td>\n",
       "      <td>201506140GSW</td>\n",
       "      <td>NBA</td>\n",
       "      <td>0</td>\n",
       "      <td>2015</td>\n",
       "      <td>6/14/2015</td>\n",
       "      <td>102</td>\n",
       "      <td>1</td>\n",
       "      <td>GSW</td>\n",
       "      <td>Warriors</td>\n",
       "      <td>104</td>\n",
       "      <td>1809.98</td>\n",
       "      <td>1813.63</td>\n",
       "      <td>68.01</td>\n",
       "      <td>CLE</td>\n",
       "      <td>Cavaliers</td>\n",
       "      <td>91</td>\n",
       "      <td>1704.39</td>\n",
       "      <td>1700.74</td>\n",
       "      <td>H</td>\n",
       "      <td>W</td>\n",
       "      <td>0.77</td>\n",
       "      <td>NaN</td>\n",
       "    </tr>\n",
       "    <tr>\n",
       "      <th>126311</th>\n",
       "      <td>63156</td>\n",
       "      <td>201506140GSW</td>\n",
       "      <td>NBA</td>\n",
       "      <td>1</td>\n",
       "      <td>2015</td>\n",
       "      <td>6/14/2015</td>\n",
       "      <td>101</td>\n",
       "      <td>1</td>\n",
       "      <td>CLE</td>\n",
       "      <td>Cavaliers</td>\n",
       "      <td>91</td>\n",
       "      <td>1704.39</td>\n",
       "      <td>1700.74</td>\n",
       "      <td>60.01</td>\n",
       "      <td>GSW</td>\n",
       "      <td>Warriors</td>\n",
       "      <td>104</td>\n",
       "      <td>1809.98</td>\n",
       "      <td>1813.63</td>\n",
       "      <td>A</td>\n",
       "      <td>L</td>\n",
       "      <td>0.23</td>\n",
       "      <td>NaN</td>\n",
       "    </tr>\n",
       "    <tr>\n",
       "      <th>126312</th>\n",
       "      <td>63157</td>\n",
       "      <td>201506170CLE</td>\n",
       "      <td>NBA</td>\n",
       "      <td>0</td>\n",
       "      <td>2015</td>\n",
       "      <td>6/16/2015</td>\n",
       "      <td>102</td>\n",
       "      <td>1</td>\n",
       "      <td>CLE</td>\n",
       "      <td>Cavaliers</td>\n",
       "      <td>97</td>\n",
       "      <td>1700.74</td>\n",
       "      <td>1692.09</td>\n",
       "      <td>59.29</td>\n",
       "      <td>GSW</td>\n",
       "      <td>Warriors</td>\n",
       "      <td>105</td>\n",
       "      <td>1813.63</td>\n",
       "      <td>1822.29</td>\n",
       "      <td>H</td>\n",
       "      <td>L</td>\n",
       "      <td>0.48</td>\n",
       "      <td>NaN</td>\n",
       "    </tr>\n",
       "    <tr>\n",
       "      <th>126313</th>\n",
       "      <td>63157</td>\n",
       "      <td>201506170CLE</td>\n",
       "      <td>NBA</td>\n",
       "      <td>1</td>\n",
       "      <td>2015</td>\n",
       "      <td>6/16/2015</td>\n",
       "      <td>103</td>\n",
       "      <td>1</td>\n",
       "      <td>GSW</td>\n",
       "      <td>Warriors</td>\n",
       "      <td>105</td>\n",
       "      <td>1813.63</td>\n",
       "      <td>1822.29</td>\n",
       "      <td>68.52</td>\n",
       "      <td>CLE</td>\n",
       "      <td>Cavaliers</td>\n",
       "      <td>97</td>\n",
       "      <td>1700.74</td>\n",
       "      <td>1692.09</td>\n",
       "      <td>A</td>\n",
       "      <td>W</td>\n",
       "      <td>0.52</td>\n",
       "      <td>NaN</td>\n",
       "    </tr>\n",
       "  </tbody>\n",
       "</table>\n",
       "</div>"
      ],
      "text/plain": [
       "        gameorder       game_id lg_id  _iscopy  year_id  date_game  \\\n",
       "126309      63155  201506110CLE   NBA        0     2015  6/11/2015   \n",
       "126310      63156  201506140GSW   NBA        0     2015  6/14/2015   \n",
       "126311      63156  201506140GSW   NBA        1     2015  6/14/2015   \n",
       "126312      63157  201506170CLE   NBA        0     2015  6/16/2015   \n",
       "126313      63157  201506170CLE   NBA        1     2015  6/16/2015   \n",
       "\n",
       "        seasongame  is_playoffs team_id    fran_id  pts    elo_i    elo_n  \\\n",
       "126309         100            1     CLE  Cavaliers   82  1723.41  1704.39   \n",
       "126310         102            1     GSW   Warriors  104  1809.98  1813.63   \n",
       "126311         101            1     CLE  Cavaliers   91  1704.39  1700.74   \n",
       "126312         102            1     CLE  Cavaliers   97  1700.74  1692.09   \n",
       "126313         103            1     GSW   Warriors  105  1813.63  1822.29   \n",
       "\n",
       "        win_equiv opp_id   opp_fran  opp_pts  opp_elo_i  opp_elo_n  \\\n",
       "126309      60.31    GSW   Warriors      103    1790.96    1809.98   \n",
       "126310      68.01    CLE  Cavaliers       91    1704.39    1700.74   \n",
       "126311      60.01    GSW   Warriors      104    1809.98    1813.63   \n",
       "126312      59.29    GSW   Warriors      105    1813.63    1822.29   \n",
       "126313      68.52    CLE  Cavaliers       97    1700.74    1692.09   \n",
       "\n",
       "       game_location game_result  forecast notes  \n",
       "126309             H           L      0.55   NaN  \n",
       "126310             H           W      0.77   NaN  \n",
       "126311             A           L      0.23   NaN  \n",
       "126312             H           L      0.48   NaN  \n",
       "126313             A           W      0.52   NaN  "
      ]
     },
     "execution_count": 17,
     "metadata": {},
     "output_type": "execute_result"
    }
   ],
   "source": [
    "nba.tail()"
   ]
  },
  {
   "cell_type": "markdown",
   "id": "73aeac6f-395b-4e76-9a4d-fae239f35f34",
   "metadata": {},
   "source": [
    "# Getting to Know DataFrame Objects"
   ]
  },
  {
   "cell_type": "code",
   "execution_count": 18,
   "id": "a481ba34-27ea-4eba-a6c9-623c5953fe26",
   "metadata": {},
   "outputs": [
    {
     "name": "stdout",
     "output_type": "stream",
     "text": [
      "<class 'pandas.core.frame.DataFrame'>\n",
      "RangeIndex: 126314 entries, 0 to 126313\n",
      "Data columns (total 23 columns):\n",
      " #   Column         Non-Null Count   Dtype  \n",
      "---  ------         --------------   -----  \n",
      " 0   gameorder      126314 non-null  int64  \n",
      " 1   game_id        126314 non-null  object \n",
      " 2   lg_id          126314 non-null  object \n",
      " 3   _iscopy        126314 non-null  int64  \n",
      " 4   year_id        126314 non-null  int64  \n",
      " 5   date_game      126314 non-null  object \n",
      " 6   seasongame     126314 non-null  int64  \n",
      " 7   is_playoffs    126314 non-null  int64  \n",
      " 8   team_id        126314 non-null  object \n",
      " 9   fran_id        126314 non-null  object \n",
      " 10  pts            126314 non-null  int64  \n",
      " 11  elo_i          126314 non-null  float64\n",
      " 12  elo_n          126314 non-null  float64\n",
      " 13  win_equiv      126314 non-null  float64\n",
      " 14  opp_id         126314 non-null  object \n",
      " 15  opp_fran       126314 non-null  object \n",
      " 16  opp_pts        126314 non-null  int64  \n",
      " 17  opp_elo_i      126314 non-null  float64\n",
      " 18  opp_elo_n      126314 non-null  float64\n",
      " 19  game_location  126314 non-null  object \n",
      " 20  game_result    126314 non-null  object \n",
      " 21  forecast       126314 non-null  float64\n",
      " 22  notes          5424 non-null    object \n",
      "dtypes: float64(6), int64(7), object(10)\n",
      "memory usage: 22.2+ MB\n"
     ]
    }
   ],
   "source": [
    "nba.info()"
   ]
  },
  {
   "cell_type": "code",
   "execution_count": 19,
   "id": "607f1150-ec79-4e18-8295-0eecd56491a6",
   "metadata": {},
   "outputs": [
    {
     "data": {
      "text/html": [
       "<div>\n",
       "<style scoped>\n",
       "    .dataframe tbody tr th:only-of-type {\n",
       "        vertical-align: middle;\n",
       "    }\n",
       "\n",
       "    .dataframe tbody tr th {\n",
       "        vertical-align: top;\n",
       "    }\n",
       "\n",
       "    .dataframe thead th {\n",
       "        text-align: right;\n",
       "    }\n",
       "</style>\n",
       "<table border=\"1\" class=\"dataframe\">\n",
       "  <thead>\n",
       "    <tr style=\"text-align: right;\">\n",
       "      <th></th>\n",
       "      <th>gameorder</th>\n",
       "      <th>_iscopy</th>\n",
       "      <th>year_id</th>\n",
       "      <th>seasongame</th>\n",
       "      <th>is_playoffs</th>\n",
       "      <th>pts</th>\n",
       "      <th>elo_i</th>\n",
       "      <th>elo_n</th>\n",
       "      <th>win_equiv</th>\n",
       "      <th>opp_pts</th>\n",
       "      <th>opp_elo_i</th>\n",
       "      <th>opp_elo_n</th>\n",
       "      <th>forecast</th>\n",
       "    </tr>\n",
       "  </thead>\n",
       "  <tbody>\n",
       "    <tr>\n",
       "      <th>count</th>\n",
       "      <td>126314.00</td>\n",
       "      <td>126314.0</td>\n",
       "      <td>126314.00</td>\n",
       "      <td>126314.00</td>\n",
       "      <td>126314.00</td>\n",
       "      <td>126314.00</td>\n",
       "      <td>126314.00</td>\n",
       "      <td>126314.00</td>\n",
       "      <td>126314.00</td>\n",
       "      <td>126314.00</td>\n",
       "      <td>126314.00</td>\n",
       "      <td>126314.00</td>\n",
       "      <td>126314.00</td>\n",
       "    </tr>\n",
       "    <tr>\n",
       "      <th>mean</th>\n",
       "      <td>31579.00</td>\n",
       "      <td>0.5</td>\n",
       "      <td>1988.20</td>\n",
       "      <td>43.53</td>\n",
       "      <td>0.06</td>\n",
       "      <td>102.73</td>\n",
       "      <td>1495.24</td>\n",
       "      <td>1495.24</td>\n",
       "      <td>41.71</td>\n",
       "      <td>102.73</td>\n",
       "      <td>1495.24</td>\n",
       "      <td>1495.24</td>\n",
       "      <td>0.50</td>\n",
       "    </tr>\n",
       "    <tr>\n",
       "      <th>std</th>\n",
       "      <td>18231.93</td>\n",
       "      <td>0.5</td>\n",
       "      <td>17.58</td>\n",
       "      <td>25.38</td>\n",
       "      <td>0.24</td>\n",
       "      <td>14.81</td>\n",
       "      <td>112.14</td>\n",
       "      <td>112.46</td>\n",
       "      <td>10.63</td>\n",
       "      <td>14.81</td>\n",
       "      <td>112.14</td>\n",
       "      <td>112.46</td>\n",
       "      <td>0.22</td>\n",
       "    </tr>\n",
       "    <tr>\n",
       "      <th>min</th>\n",
       "      <td>1.00</td>\n",
       "      <td>0.0</td>\n",
       "      <td>1947.00</td>\n",
       "      <td>1.00</td>\n",
       "      <td>0.00</td>\n",
       "      <td>0.00</td>\n",
       "      <td>1091.64</td>\n",
       "      <td>1085.77</td>\n",
       "      <td>10.15</td>\n",
       "      <td>0.00</td>\n",
       "      <td>1091.64</td>\n",
       "      <td>1085.77</td>\n",
       "      <td>0.02</td>\n",
       "    </tr>\n",
       "    <tr>\n",
       "      <th>25%</th>\n",
       "      <td>15790.00</td>\n",
       "      <td>0.0</td>\n",
       "      <td>1975.00</td>\n",
       "      <td>22.00</td>\n",
       "      <td>0.00</td>\n",
       "      <td>93.00</td>\n",
       "      <td>1417.24</td>\n",
       "      <td>1416.99</td>\n",
       "      <td>34.10</td>\n",
       "      <td>93.00</td>\n",
       "      <td>1417.24</td>\n",
       "      <td>1416.99</td>\n",
       "      <td>0.33</td>\n",
       "    </tr>\n",
       "    <tr>\n",
       "      <th>50%</th>\n",
       "      <td>31579.00</td>\n",
       "      <td>0.5</td>\n",
       "      <td>1990.00</td>\n",
       "      <td>43.00</td>\n",
       "      <td>0.00</td>\n",
       "      <td>103.00</td>\n",
       "      <td>1500.95</td>\n",
       "      <td>1500.95</td>\n",
       "      <td>42.11</td>\n",
       "      <td>103.00</td>\n",
       "      <td>1500.95</td>\n",
       "      <td>1500.95</td>\n",
       "      <td>0.50</td>\n",
       "    </tr>\n",
       "    <tr>\n",
       "      <th>75%</th>\n",
       "      <td>47368.00</td>\n",
       "      <td>1.0</td>\n",
       "      <td>2003.00</td>\n",
       "      <td>65.00</td>\n",
       "      <td>0.00</td>\n",
       "      <td>112.00</td>\n",
       "      <td>1576.06</td>\n",
       "      <td>1576.29</td>\n",
       "      <td>49.64</td>\n",
       "      <td>112.00</td>\n",
       "      <td>1576.06</td>\n",
       "      <td>1576.29</td>\n",
       "      <td>0.67</td>\n",
       "    </tr>\n",
       "    <tr>\n",
       "      <th>max</th>\n",
       "      <td>63157.00</td>\n",
       "      <td>1.0</td>\n",
       "      <td>2015.00</td>\n",
       "      <td>108.00</td>\n",
       "      <td>1.00</td>\n",
       "      <td>186.00</td>\n",
       "      <td>1853.10</td>\n",
       "      <td>1853.10</td>\n",
       "      <td>71.11</td>\n",
       "      <td>186.00</td>\n",
       "      <td>1853.10</td>\n",
       "      <td>1853.10</td>\n",
       "      <td>0.98</td>\n",
       "    </tr>\n",
       "  </tbody>\n",
       "</table>\n",
       "</div>"
      ],
      "text/plain": [
       "       gameorder   _iscopy    year_id  seasongame  is_playoffs        pts  \\\n",
       "count  126314.00  126314.0  126314.00   126314.00    126314.00  126314.00   \n",
       "mean    31579.00       0.5    1988.20       43.53         0.06     102.73   \n",
       "std     18231.93       0.5      17.58       25.38         0.24      14.81   \n",
       "min         1.00       0.0    1947.00        1.00         0.00       0.00   \n",
       "25%     15790.00       0.0    1975.00       22.00         0.00      93.00   \n",
       "50%     31579.00       0.5    1990.00       43.00         0.00     103.00   \n",
       "75%     47368.00       1.0    2003.00       65.00         0.00     112.00   \n",
       "max     63157.00       1.0    2015.00      108.00         1.00     186.00   \n",
       "\n",
       "           elo_i      elo_n  win_equiv    opp_pts  opp_elo_i  opp_elo_n  \\\n",
       "count  126314.00  126314.00  126314.00  126314.00  126314.00  126314.00   \n",
       "mean     1495.24    1495.24      41.71     102.73    1495.24    1495.24   \n",
       "std       112.14     112.46      10.63      14.81     112.14     112.46   \n",
       "min      1091.64    1085.77      10.15       0.00    1091.64    1085.77   \n",
       "25%      1417.24    1416.99      34.10      93.00    1417.24    1416.99   \n",
       "50%      1500.95    1500.95      42.11     103.00    1500.95    1500.95   \n",
       "75%      1576.06    1576.29      49.64     112.00    1576.06    1576.29   \n",
       "max      1853.10    1853.10      71.11     186.00    1853.10    1853.10   \n",
       "\n",
       "        forecast  \n",
       "count  126314.00  \n",
       "mean        0.50  \n",
       "std         0.22  \n",
       "min         0.02  \n",
       "25%         0.33  \n",
       "50%         0.50  \n",
       "75%         0.67  \n",
       "max         0.98  "
      ]
     },
     "execution_count": 19,
     "metadata": {},
     "output_type": "execute_result"
    }
   ],
   "source": [
    "nba.describe()"
   ]
  },
  {
   "cell_type": "code",
   "execution_count": 20,
   "id": "9347578c-73de-45c6-8ae5-a537dbd37aa4",
   "metadata": {},
   "outputs": [
    {
     "data": {
      "text/plain": [
       "team_id\n",
       "BOS    5997\n",
       "NYK    5769\n",
       "LAL    5078\n",
       "DET    4985\n",
       "PHI    4533\n",
       "       ... \n",
       "INJ      60\n",
       "PIT      60\n",
       "DTF      60\n",
       "TRH      60\n",
       "SDS      11\n",
       "Name: count, Length: 104, dtype: int64"
      ]
     },
     "execution_count": 20,
     "metadata": {},
     "output_type": "execute_result"
    }
   ],
   "source": [
    "nba['team_id'].value_counts()"
   ]
  },
  {
   "cell_type": "code",
   "execution_count": 21,
   "id": "f5cffb91-edbe-4c3a-90cc-9fa00071b997",
   "metadata": {},
   "outputs": [
    {
     "data": {
      "text/plain": [
       "fran_id\n",
       "Lakers          6024\n",
       "Celtics         5997\n",
       "Knicks          5769\n",
       "Warriors        5657\n",
       "Pistons         5650\n",
       "Sixers          5644\n",
       "Hawks           5572\n",
       "Kings           5475\n",
       "Wizards         4582\n",
       "Spurs           4309\n",
       "Bulls           4307\n",
       "Pacers          4227\n",
       "Thunder         4178\n",
       "Rockets         4154\n",
       "Nuggets         4120\n",
       "Nets            4106\n",
       "Suns            4080\n",
       "Bucks           4034\n",
       "Trailblazers    3870\n",
       "Cavaliers       3810\n",
       "Clippers        3733\n",
       "Jazz            3555\n",
       "Mavericks       3013\n",
       "Heat            2371\n",
       "Pelicans        2254\n",
       "Magic           2207\n",
       "Timberwolves    2131\n",
       "Grizzlies       1657\n",
       "Raptors         1634\n",
       "Hornets          894\n",
       "Colonels         846\n",
       "Squires          799\n",
       "Spirits          777\n",
       "Stars            756\n",
       "Sounds           697\n",
       "Baltimore        467\n",
       "Floridians       440\n",
       "Condors          430\n",
       "Capitols         291\n",
       "Olympians        282\n",
       "Sails            274\n",
       "Stags            260\n",
       "Bombers          249\n",
       "Steamrollers     168\n",
       "Packers           72\n",
       "Redskins          65\n",
       "Rebels            63\n",
       "Waterloo          62\n",
       "Denver            62\n",
       "Falcons           60\n",
       "Jets              60\n",
       "Ironmen           60\n",
       "Huskies           60\n",
       "Name: count, dtype: int64"
      ]
     },
     "execution_count": 21,
     "metadata": {},
     "output_type": "execute_result"
    }
   ],
   "source": [
    "nba['fran_id'].value_counts()"
   ]
  },
  {
   "cell_type": "code",
   "execution_count": 22,
   "id": "8faeb732-9a29-4bf0-8662-8b7b7cb62b13",
   "metadata": {},
   "outputs": [
    {
     "data": {
      "text/html": [
       "<div>\n",
       "<style scoped>\n",
       "    .dataframe tbody tr th:only-of-type {\n",
       "        vertical-align: middle;\n",
       "    }\n",
       "\n",
       "    .dataframe tbody tr th {\n",
       "        vertical-align: top;\n",
       "    }\n",
       "\n",
       "    .dataframe thead th {\n",
       "        text-align: right;\n",
       "    }\n",
       "</style>\n",
       "<table border=\"1\" class=\"dataframe\">\n",
       "  <thead>\n",
       "    <tr style=\"text-align: right;\">\n",
       "      <th></th>\n",
       "      <th>gameorder</th>\n",
       "      <th>game_id</th>\n",
       "      <th>lg_id</th>\n",
       "      <th>_iscopy</th>\n",
       "      <th>year_id</th>\n",
       "      <th>date_game</th>\n",
       "      <th>seasongame</th>\n",
       "      <th>is_playoffs</th>\n",
       "      <th>team_id</th>\n",
       "      <th>fran_id</th>\n",
       "      <th>pts</th>\n",
       "      <th>elo_i</th>\n",
       "      <th>elo_n</th>\n",
       "      <th>win_equiv</th>\n",
       "      <th>opp_id</th>\n",
       "      <th>opp_fran</th>\n",
       "      <th>opp_pts</th>\n",
       "      <th>opp_elo_i</th>\n",
       "      <th>opp_elo_n</th>\n",
       "      <th>game_location</th>\n",
       "      <th>game_result</th>\n",
       "      <th>forecast</th>\n",
       "      <th>notes</th>\n",
       "    </tr>\n",
       "  </thead>\n",
       "  <tbody>\n",
       "    <tr>\n",
       "      <th>1136</th>\n",
       "      <td>569</td>\n",
       "      <td>194811040BLB</td>\n",
       "      <td>NBA</td>\n",
       "      <td>1</td>\n",
       "      <td>1949</td>\n",
       "      <td>11/4/1948</td>\n",
       "      <td>1</td>\n",
       "      <td>0</td>\n",
       "      <td>MNL</td>\n",
       "      <td>Lakers</td>\n",
       "      <td>84</td>\n",
       "      <td>1527.00</td>\n",
       "      <td>1542.25</td>\n",
       "      <td>51.22</td>\n",
       "      <td>BLB</td>\n",
       "      <td>Baltimore</td>\n",
       "      <td>72</td>\n",
       "      <td>1507.21</td>\n",
       "      <td>1491.95</td>\n",
       "      <td>A</td>\n",
       "      <td>W</td>\n",
       "      <td>0.39</td>\n",
       "      <td>NaN</td>\n",
       "    </tr>\n",
       "    <tr>\n",
       "      <th>1152</th>\n",
       "      <td>577</td>\n",
       "      <td>194811060WSC</td>\n",
       "      <td>NBA</td>\n",
       "      <td>1</td>\n",
       "      <td>1949</td>\n",
       "      <td>11/6/1948</td>\n",
       "      <td>2</td>\n",
       "      <td>0</td>\n",
       "      <td>MNL</td>\n",
       "      <td>Lakers</td>\n",
       "      <td>62</td>\n",
       "      <td>1542.25</td>\n",
       "      <td>1536.21</td>\n",
       "      <td>50.62</td>\n",
       "      <td>WSC</td>\n",
       "      <td>Capitols</td>\n",
       "      <td>67</td>\n",
       "      <td>1481.87</td>\n",
       "      <td>1487.92</td>\n",
       "      <td>A</td>\n",
       "      <td>L</td>\n",
       "      <td>0.44</td>\n",
       "      <td>NaN</td>\n",
       "    </tr>\n",
       "    <tr>\n",
       "      <th>1159</th>\n",
       "      <td>580</td>\n",
       "      <td>194811090BOS</td>\n",
       "      <td>NBA</td>\n",
       "      <td>1</td>\n",
       "      <td>1949</td>\n",
       "      <td>11/9/1948</td>\n",
       "      <td>3</td>\n",
       "      <td>0</td>\n",
       "      <td>MNL</td>\n",
       "      <td>Lakers</td>\n",
       "      <td>55</td>\n",
       "      <td>1536.21</td>\n",
       "      <td>1513.49</td>\n",
       "      <td>48.34</td>\n",
       "      <td>BOS</td>\n",
       "      <td>Celtics</td>\n",
       "      <td>77</td>\n",
       "      <td>1359.33</td>\n",
       "      <td>1382.05</td>\n",
       "      <td>A</td>\n",
       "      <td>L</td>\n",
       "      <td>0.61</td>\n",
       "      <td>NaN</td>\n",
       "    </tr>\n",
       "    <tr>\n",
       "      <th>1170</th>\n",
       "      <td>586</td>\n",
       "      <td>194811110NYK</td>\n",
       "      <td>NBA</td>\n",
       "      <td>1</td>\n",
       "      <td>1949</td>\n",
       "      <td>11/11/1948</td>\n",
       "      <td>4</td>\n",
       "      <td>0</td>\n",
       "      <td>MNL</td>\n",
       "      <td>Lakers</td>\n",
       "      <td>77</td>\n",
       "      <td>1513.49</td>\n",
       "      <td>1524.96</td>\n",
       "      <td>49.50</td>\n",
       "      <td>NYK</td>\n",
       "      <td>Knicks</td>\n",
       "      <td>68</td>\n",
       "      <td>1460.42</td>\n",
       "      <td>1448.95</td>\n",
       "      <td>A</td>\n",
       "      <td>W</td>\n",
       "      <td>0.43</td>\n",
       "      <td>NaN</td>\n",
       "    </tr>\n",
       "    <tr>\n",
       "      <th>1183</th>\n",
       "      <td>592</td>\n",
       "      <td>194811130PRO</td>\n",
       "      <td>NBA</td>\n",
       "      <td>1</td>\n",
       "      <td>1949</td>\n",
       "      <td>11/13/1948</td>\n",
       "      <td>5</td>\n",
       "      <td>0</td>\n",
       "      <td>MNL</td>\n",
       "      <td>Lakers</td>\n",
       "      <td>90</td>\n",
       "      <td>1524.96</td>\n",
       "      <td>1533.27</td>\n",
       "      <td>50.33</td>\n",
       "      <td>PRO</td>\n",
       "      <td>Steamrollers</td>\n",
       "      <td>67</td>\n",
       "      <td>1245.95</td>\n",
       "      <td>1237.63</td>\n",
       "      <td>A</td>\n",
       "      <td>W</td>\n",
       "      <td>0.74</td>\n",
       "      <td>NaN</td>\n",
       "    </tr>\n",
       "    <tr>\n",
       "      <th>...</th>\n",
       "      <td>...</td>\n",
       "      <td>...</td>\n",
       "      <td>...</td>\n",
       "      <td>...</td>\n",
       "      <td>...</td>\n",
       "      <td>...</td>\n",
       "      <td>...</td>\n",
       "      <td>...</td>\n",
       "      <td>...</td>\n",
       "      <td>...</td>\n",
       "      <td>...</td>\n",
       "      <td>...</td>\n",
       "      <td>...</td>\n",
       "      <td>...</td>\n",
       "      <td>...</td>\n",
       "      <td>...</td>\n",
       "      <td>...</td>\n",
       "      <td>...</td>\n",
       "      <td>...</td>\n",
       "      <td>...</td>\n",
       "      <td>...</td>\n",
       "      <td>...</td>\n",
       "      <td>...</td>\n",
       "    </tr>\n",
       "    <tr>\n",
       "      <th>126016</th>\n",
       "      <td>63009</td>\n",
       "      <td>201504080DEN</td>\n",
       "      <td>NBA</td>\n",
       "      <td>1</td>\n",
       "      <td>2015</td>\n",
       "      <td>4/8/2015</td>\n",
       "      <td>78</td>\n",
       "      <td>0</td>\n",
       "      <td>LAL</td>\n",
       "      <td>Lakers</td>\n",
       "      <td>101</td>\n",
       "      <td>1313.78</td>\n",
       "      <td>1307.51</td>\n",
       "      <td>21.92</td>\n",
       "      <td>DEN</td>\n",
       "      <td>Nuggets</td>\n",
       "      <td>119</td>\n",
       "      <td>1415.06</td>\n",
       "      <td>1421.32</td>\n",
       "      <td>A</td>\n",
       "      <td>L</td>\n",
       "      <td>0.24</td>\n",
       "      <td>NaN</td>\n",
       "    </tr>\n",
       "    <tr>\n",
       "      <th>126052</th>\n",
       "      <td>63027</td>\n",
       "      <td>201504100LAL</td>\n",
       "      <td>NBA</td>\n",
       "      <td>0</td>\n",
       "      <td>2015</td>\n",
       "      <td>4/10/2015</td>\n",
       "      <td>79</td>\n",
       "      <td>0</td>\n",
       "      <td>LAL</td>\n",
       "      <td>Lakers</td>\n",
       "      <td>106</td>\n",
       "      <td>1307.51</td>\n",
       "      <td>1312.95</td>\n",
       "      <td>22.37</td>\n",
       "      <td>MIN</td>\n",
       "      <td>Timberwolves</td>\n",
       "      <td>98</td>\n",
       "      <td>1283.92</td>\n",
       "      <td>1278.48</td>\n",
       "      <td>H</td>\n",
       "      <td>W</td>\n",
       "      <td>0.67</td>\n",
       "      <td>NaN</td>\n",
       "    </tr>\n",
       "    <tr>\n",
       "      <th>126086</th>\n",
       "      <td>63044</td>\n",
       "      <td>201504120LAL</td>\n",
       "      <td>NBA</td>\n",
       "      <td>0</td>\n",
       "      <td>2015</td>\n",
       "      <td>4/12/2015</td>\n",
       "      <td>80</td>\n",
       "      <td>0</td>\n",
       "      <td>LAL</td>\n",
       "      <td>Lakers</td>\n",
       "      <td>106</td>\n",
       "      <td>1312.95</td>\n",
       "      <td>1305.92</td>\n",
       "      <td>21.79</td>\n",
       "      <td>DAL</td>\n",
       "      <td>Mavericks</td>\n",
       "      <td>120</td>\n",
       "      <td>1556.22</td>\n",
       "      <td>1563.25</td>\n",
       "      <td>H</td>\n",
       "      <td>L</td>\n",
       "      <td>0.30</td>\n",
       "      <td>NaN</td>\n",
       "    </tr>\n",
       "    <tr>\n",
       "      <th>126115</th>\n",
       "      <td>63058</td>\n",
       "      <td>201504130SAC</td>\n",
       "      <td>NBA</td>\n",
       "      <td>1</td>\n",
       "      <td>2015</td>\n",
       "      <td>4/13/2015</td>\n",
       "      <td>81</td>\n",
       "      <td>0</td>\n",
       "      <td>LAL</td>\n",
       "      <td>Lakers</td>\n",
       "      <td>92</td>\n",
       "      <td>1305.92</td>\n",
       "      <td>1301.39</td>\n",
       "      <td>21.42</td>\n",
       "      <td>SAC</td>\n",
       "      <td>Kings</td>\n",
       "      <td>102</td>\n",
       "      <td>1395.60</td>\n",
       "      <td>1400.13</td>\n",
       "      <td>A</td>\n",
       "      <td>L</td>\n",
       "      <td>0.25</td>\n",
       "      <td>NaN</td>\n",
       "    </tr>\n",
       "    <tr>\n",
       "      <th>126137</th>\n",
       "      <td>63069</td>\n",
       "      <td>201504150LAL</td>\n",
       "      <td>NBA</td>\n",
       "      <td>0</td>\n",
       "      <td>2015</td>\n",
       "      <td>4/15/2015</td>\n",
       "      <td>82</td>\n",
       "      <td>0</td>\n",
       "      <td>LAL</td>\n",
       "      <td>Lakers</td>\n",
       "      <td>99</td>\n",
       "      <td>1301.39</td>\n",
       "      <td>1283.24</td>\n",
       "      <td>19.99</td>\n",
       "      <td>SAC</td>\n",
       "      <td>Kings</td>\n",
       "      <td>122</td>\n",
       "      <td>1400.13</td>\n",
       "      <td>1418.28</td>\n",
       "      <td>H</td>\n",
       "      <td>L</td>\n",
       "      <td>0.50</td>\n",
       "      <td>NaN</td>\n",
       "    </tr>\n",
       "  </tbody>\n",
       "</table>\n",
       "<p>6024 rows × 23 columns</p>\n",
       "</div>"
      ],
      "text/plain": [
       "        gameorder       game_id lg_id  _iscopy  year_id   date_game  \\\n",
       "1136          569  194811040BLB   NBA        1     1949   11/4/1948   \n",
       "1152          577  194811060WSC   NBA        1     1949   11/6/1948   \n",
       "1159          580  194811090BOS   NBA        1     1949   11/9/1948   \n",
       "1170          586  194811110NYK   NBA        1     1949  11/11/1948   \n",
       "1183          592  194811130PRO   NBA        1     1949  11/13/1948   \n",
       "...           ...           ...   ...      ...      ...         ...   \n",
       "126016      63009  201504080DEN   NBA        1     2015    4/8/2015   \n",
       "126052      63027  201504100LAL   NBA        0     2015   4/10/2015   \n",
       "126086      63044  201504120LAL   NBA        0     2015   4/12/2015   \n",
       "126115      63058  201504130SAC   NBA        1     2015   4/13/2015   \n",
       "126137      63069  201504150LAL   NBA        0     2015   4/15/2015   \n",
       "\n",
       "        seasongame  is_playoffs team_id fran_id  pts    elo_i    elo_n  \\\n",
       "1136             1            0     MNL  Lakers   84  1527.00  1542.25   \n",
       "1152             2            0     MNL  Lakers   62  1542.25  1536.21   \n",
       "1159             3            0     MNL  Lakers   55  1536.21  1513.49   \n",
       "1170             4            0     MNL  Lakers   77  1513.49  1524.96   \n",
       "1183             5            0     MNL  Lakers   90  1524.96  1533.27   \n",
       "...            ...          ...     ...     ...  ...      ...      ...   \n",
       "126016          78            0     LAL  Lakers  101  1313.78  1307.51   \n",
       "126052          79            0     LAL  Lakers  106  1307.51  1312.95   \n",
       "126086          80            0     LAL  Lakers  106  1312.95  1305.92   \n",
       "126115          81            0     LAL  Lakers   92  1305.92  1301.39   \n",
       "126137          82            0     LAL  Lakers   99  1301.39  1283.24   \n",
       "\n",
       "        win_equiv opp_id      opp_fran  opp_pts  opp_elo_i  opp_elo_n  \\\n",
       "1136        51.22    BLB     Baltimore       72    1507.21    1491.95   \n",
       "1152        50.62    WSC      Capitols       67    1481.87    1487.92   \n",
       "1159        48.34    BOS       Celtics       77    1359.33    1382.05   \n",
       "1170        49.50    NYK        Knicks       68    1460.42    1448.95   \n",
       "1183        50.33    PRO  Steamrollers       67    1245.95    1237.63   \n",
       "...           ...    ...           ...      ...        ...        ...   \n",
       "126016      21.92    DEN       Nuggets      119    1415.06    1421.32   \n",
       "126052      22.37    MIN  Timberwolves       98    1283.92    1278.48   \n",
       "126086      21.79    DAL     Mavericks      120    1556.22    1563.25   \n",
       "126115      21.42    SAC         Kings      102    1395.60    1400.13   \n",
       "126137      19.99    SAC         Kings      122    1400.13    1418.28   \n",
       "\n",
       "       game_location game_result  forecast notes  \n",
       "1136               A           W      0.39   NaN  \n",
       "1152               A           L      0.44   NaN  \n",
       "1159               A           L      0.61   NaN  \n",
       "1170               A           W      0.43   NaN  \n",
       "1183               A           W      0.74   NaN  \n",
       "...              ...         ...       ...   ...  \n",
       "126016             A           L      0.24   NaN  \n",
       "126052             H           W      0.67   NaN  \n",
       "126086             H           L      0.30   NaN  \n",
       "126115             A           L      0.25   NaN  \n",
       "126137             H           L      0.50   NaN  \n",
       "\n",
       "[6024 rows x 23 columns]"
      ]
     },
     "execution_count": 22,
     "metadata": {},
     "output_type": "execute_result"
    }
   ],
   "source": [
    "nba.loc[nba['fran_id'] == 'Lakers']"
   ]
  },
  {
   "cell_type": "code",
   "execution_count": 23,
   "id": "6b8d6e59-bf5a-4111-9eb6-5c6ffd84c8f2",
   "metadata": {},
   "outputs": [
    {
     "data": {
      "text/plain": [
       "1136      MNL\n",
       "1152      MNL\n",
       "1159      MNL\n",
       "1170      MNL\n",
       "1183      MNL\n",
       "         ... \n",
       "126016    LAL\n",
       "126052    LAL\n",
       "126086    LAL\n",
       "126115    LAL\n",
       "126137    LAL\n",
       "Name: team_id, Length: 6024, dtype: object"
      ]
     },
     "execution_count": 23,
     "metadata": {},
     "output_type": "execute_result"
    }
   ],
   "source": [
    "nba.loc[nba['fran_id'] == 'Lakers', 'team_id']"
   ]
  },
  {
   "cell_type": "code",
   "execution_count": 24,
   "id": "482c060a-7a27-46ca-b26c-f9b30ec356f4",
   "metadata": {},
   "outputs": [
    {
     "data": {
      "text/plain": [
       "team_id\n",
       "LAL    5078\n",
       "MNL     946\n",
       "Name: count, dtype: int64"
      ]
     },
     "execution_count": 24,
     "metadata": {},
     "output_type": "execute_result"
    }
   ],
   "source": [
    "nba.loc[nba['fran_id'] == 'Lakers', 'team_id'].value_counts()"
   ]
  },
  {
   "cell_type": "code",
   "execution_count": 25,
   "id": "f7833c58-5639-4836-ba7d-533cd8ab4287",
   "metadata": {},
   "outputs": [
    {
     "data": {
      "text/plain": [
       "1136     11/4/1948\n",
       "1152     11/6/1948\n",
       "1159     11/9/1948\n",
       "1170    11/11/1948\n",
       "1183    11/13/1948\n",
       "           ...    \n",
       "9701     3/19/1960\n",
       "9702     3/20/1960\n",
       "9709     3/22/1960\n",
       "9711     3/24/1960\n",
       "9715     3/26/1960\n",
       "Name: date_game, Length: 946, dtype: object"
      ]
     },
     "execution_count": 25,
     "metadata": {},
     "output_type": "execute_result"
    }
   ],
   "source": [
    "nba.loc[nba['team_id'] =='MNL', 'date_game']"
   ]
  },
  {
   "cell_type": "code",
   "execution_count": 26,
   "id": "11f02982-5540-4852-8001-9891c88dc254",
   "metadata": {},
   "outputs": [
    {
     "data": {
      "text/plain": [
       "'4/9/1959'"
      ]
     },
     "execution_count": 26,
     "metadata": {},
     "output_type": "execute_result"
    }
   ],
   "source": [
    "nba.loc[nba['team_id'] =='MNL', 'date_game'].max()"
   ]
  },
  {
   "cell_type": "code",
   "execution_count": 27,
   "id": "15216939-404f-4a72-99c8-64831b47bbd7",
   "metadata": {},
   "outputs": [],
   "source": [
    "nba['date_played'] = pd.to_datetime(nba['date_game'])"
   ]
  },
  {
   "cell_type": "code",
   "execution_count": 28,
   "id": "294fa16c-e475-426f-b2f6-29ab36786157",
   "metadata": {},
   "outputs": [
    {
     "data": {
      "text/plain": [
       "Timestamp('1960-03-26 00:00:00')"
      ]
     },
     "execution_count": 28,
     "metadata": {},
     "output_type": "execute_result"
    }
   ],
   "source": [
    "nba.loc[nba['team_id']== 'MNL', 'date_played'].max() "
   ]
  },
  {
   "cell_type": "code",
   "execution_count": 29,
   "id": "cbcab336-e05f-4918-865a-e67b99c14e18",
   "metadata": {},
   "outputs": [
    {
     "name": "stdout",
     "output_type": "stream",
     "text": [
      "<class 'pandas.core.frame.DataFrame'>\n",
      "RangeIndex: 126314 entries, 0 to 126313\n",
      "Data columns (total 24 columns):\n",
      " #   Column         Non-Null Count   Dtype         \n",
      "---  ------         --------------   -----         \n",
      " 0   gameorder      126314 non-null  int64         \n",
      " 1   game_id        126314 non-null  object        \n",
      " 2   lg_id          126314 non-null  object        \n",
      " 3   _iscopy        126314 non-null  int64         \n",
      " 4   year_id        126314 non-null  int64         \n",
      " 5   date_game      126314 non-null  object        \n",
      " 6   seasongame     126314 non-null  int64         \n",
      " 7   is_playoffs    126314 non-null  int64         \n",
      " 8   team_id        126314 non-null  object        \n",
      " 9   fran_id        126314 non-null  object        \n",
      " 10  pts            126314 non-null  int64         \n",
      " 11  elo_i          126314 non-null  float64       \n",
      " 12  elo_n          126314 non-null  float64       \n",
      " 13  win_equiv      126314 non-null  float64       \n",
      " 14  opp_id         126314 non-null  object        \n",
      " 15  opp_fran       126314 non-null  object        \n",
      " 16  opp_pts        126314 non-null  int64         \n",
      " 17  opp_elo_i      126314 non-null  float64       \n",
      " 18  opp_elo_n      126314 non-null  float64       \n",
      " 19  game_location  126314 non-null  object        \n",
      " 20  game_result    126314 non-null  object        \n",
      " 21  forecast       126314 non-null  float64       \n",
      " 22  notes          5424 non-null    object        \n",
      " 23  date_played    126314 non-null  datetime64[ns]\n",
      "dtypes: datetime64[ns](1), float64(6), int64(7), object(10)\n",
      "memory usage: 23.1+ MB\n"
     ]
    }
   ],
   "source": [
    "nba.info()"
   ]
  },
  {
   "cell_type": "code",
   "execution_count": 30,
   "id": "8b57389d-36b0-4ada-b811-072251a67c74",
   "metadata": {},
   "outputs": [
    {
     "data": {
      "text/plain": [
       "np.int64(626484)"
      ]
     },
     "execution_count": 30,
     "metadata": {},
     "output_type": "execute_result"
    }
   ],
   "source": [
    "total_bos_points = nba.loc[nba['team_id'] == 'BOS', 'pts'].sum()\n",
    "total_bos_points"
   ]
  },
  {
   "cell_type": "code",
   "execution_count": 31,
   "id": "3ea3a3ca-86ce-44e5-a382-5704022f05fc",
   "metadata": {},
   "outputs": [
    {
     "data": {
      "text/plain": [
       "70"
      ]
     },
     "execution_count": 31,
     "metadata": {},
     "output_type": "execute_result"
    }
   ],
   "source": [
    "years_bos_played = len(nba.loc[nba['team_id']=='BOS', 'date_played'].apply(lambda v: v.year).unique())\n",
    "years_bos_played"
   ]
  },
  {
   "cell_type": "code",
   "execution_count": 32,
   "id": "56b1158e-5795-4fbb-aa58-7df8053d80d5",
   "metadata": {},
   "outputs": [
    {
     "data": {
      "text/plain": [
       "np.float64(8949.77)"
      ]
     },
     "execution_count": 32,
     "metadata": {},
     "output_type": "execute_result"
    }
   ],
   "source": [
    "round(total_bos_points / years_bos_played, 2)"
   ]
  },
  {
   "cell_type": "code",
   "execution_count": 33,
   "id": "d555be7b-c69e-4724-9079-15d05f911798",
   "metadata": {
    "scrolled": true
   },
   "outputs": [
    {
     "data": {
      "text/html": [
       "<div>\n",
       "<style scoped>\n",
       "    .dataframe tbody tr th:only-of-type {\n",
       "        vertical-align: middle;\n",
       "    }\n",
       "\n",
       "    .dataframe tbody tr th {\n",
       "        vertical-align: top;\n",
       "    }\n",
       "\n",
       "    .dataframe thead th {\n",
       "        text-align: right;\n",
       "    }\n",
       "</style>\n",
       "<table border=\"1\" class=\"dataframe\">\n",
       "  <thead>\n",
       "    <tr style=\"text-align: right;\">\n",
       "      <th></th>\n",
       "      <th>gameorder</th>\n",
       "      <th>game_id</th>\n",
       "      <th>lg_id</th>\n",
       "      <th>_iscopy</th>\n",
       "      <th>year_id</th>\n",
       "      <th>date_game</th>\n",
       "      <th>seasongame</th>\n",
       "      <th>is_playoffs</th>\n",
       "      <th>team_id</th>\n",
       "      <th>fran_id</th>\n",
       "      <th>pts</th>\n",
       "      <th>elo_i</th>\n",
       "      <th>elo_n</th>\n",
       "      <th>win_equiv</th>\n",
       "      <th>opp_id</th>\n",
       "      <th>opp_fran</th>\n",
       "      <th>opp_pts</th>\n",
       "      <th>opp_elo_i</th>\n",
       "      <th>opp_elo_n</th>\n",
       "      <th>game_location</th>\n",
       "      <th>game_result</th>\n",
       "      <th>forecast</th>\n",
       "      <th>notes</th>\n",
       "      <th>date_played</th>\n",
       "    </tr>\n",
       "  </thead>\n",
       "  <tbody>\n",
       "    <tr>\n",
       "      <th>0</th>\n",
       "      <td>1</td>\n",
       "      <td>194611010TRH</td>\n",
       "      <td>NBA</td>\n",
       "      <td>0</td>\n",
       "      <td>1947</td>\n",
       "      <td>11/1/1946</td>\n",
       "      <td>1</td>\n",
       "      <td>0</td>\n",
       "      <td>TRH</td>\n",
       "      <td>Huskies</td>\n",
       "      <td>66</td>\n",
       "      <td>1300.00</td>\n",
       "      <td>1293.28</td>\n",
       "      <td>40.29</td>\n",
       "      <td>NYK</td>\n",
       "      <td>Knicks</td>\n",
       "      <td>68</td>\n",
       "      <td>1300.00</td>\n",
       "      <td>1306.72</td>\n",
       "      <td>H</td>\n",
       "      <td>L</td>\n",
       "      <td>0.64</td>\n",
       "      <td>NaN</td>\n",
       "      <td>1946-11-01</td>\n",
       "    </tr>\n",
       "    <tr>\n",
       "      <th>1</th>\n",
       "      <td>1</td>\n",
       "      <td>194611010TRH</td>\n",
       "      <td>NBA</td>\n",
       "      <td>1</td>\n",
       "      <td>1947</td>\n",
       "      <td>11/1/1946</td>\n",
       "      <td>1</td>\n",
       "      <td>0</td>\n",
       "      <td>NYK</td>\n",
       "      <td>Knicks</td>\n",
       "      <td>68</td>\n",
       "      <td>1300.00</td>\n",
       "      <td>1306.72</td>\n",
       "      <td>41.71</td>\n",
       "      <td>TRH</td>\n",
       "      <td>Huskies</td>\n",
       "      <td>66</td>\n",
       "      <td>1300.00</td>\n",
       "      <td>1293.28</td>\n",
       "      <td>A</td>\n",
       "      <td>W</td>\n",
       "      <td>0.36</td>\n",
       "      <td>NaN</td>\n",
       "      <td>1946-11-01</td>\n",
       "    </tr>\n",
       "    <tr>\n",
       "      <th>2</th>\n",
       "      <td>2</td>\n",
       "      <td>194611020CHS</td>\n",
       "      <td>NBA</td>\n",
       "      <td>0</td>\n",
       "      <td>1947</td>\n",
       "      <td>11/2/1946</td>\n",
       "      <td>1</td>\n",
       "      <td>0</td>\n",
       "      <td>CHS</td>\n",
       "      <td>Stags</td>\n",
       "      <td>63</td>\n",
       "      <td>1300.00</td>\n",
       "      <td>1309.65</td>\n",
       "      <td>42.01</td>\n",
       "      <td>NYK</td>\n",
       "      <td>Knicks</td>\n",
       "      <td>47</td>\n",
       "      <td>1306.72</td>\n",
       "      <td>1297.07</td>\n",
       "      <td>H</td>\n",
       "      <td>W</td>\n",
       "      <td>0.63</td>\n",
       "      <td>NaN</td>\n",
       "      <td>1946-11-02</td>\n",
       "    </tr>\n",
       "    <tr>\n",
       "      <th>3</th>\n",
       "      <td>2</td>\n",
       "      <td>194611020CHS</td>\n",
       "      <td>NBA</td>\n",
       "      <td>1</td>\n",
       "      <td>1947</td>\n",
       "      <td>11/2/1946</td>\n",
       "      <td>2</td>\n",
       "      <td>0</td>\n",
       "      <td>NYK</td>\n",
       "      <td>Knicks</td>\n",
       "      <td>47</td>\n",
       "      <td>1306.72</td>\n",
       "      <td>1297.07</td>\n",
       "      <td>40.69</td>\n",
       "      <td>CHS</td>\n",
       "      <td>Stags</td>\n",
       "      <td>63</td>\n",
       "      <td>1300.00</td>\n",
       "      <td>1309.65</td>\n",
       "      <td>A</td>\n",
       "      <td>L</td>\n",
       "      <td>0.37</td>\n",
       "      <td>NaN</td>\n",
       "      <td>1946-11-02</td>\n",
       "    </tr>\n",
       "    <tr>\n",
       "      <th>4</th>\n",
       "      <td>3</td>\n",
       "      <td>194611020DTF</td>\n",
       "      <td>NBA</td>\n",
       "      <td>0</td>\n",
       "      <td>1947</td>\n",
       "      <td>11/2/1946</td>\n",
       "      <td>1</td>\n",
       "      <td>0</td>\n",
       "      <td>DTF</td>\n",
       "      <td>Falcons</td>\n",
       "      <td>33</td>\n",
       "      <td>1300.00</td>\n",
       "      <td>1279.62</td>\n",
       "      <td>38.86</td>\n",
       "      <td>WSC</td>\n",
       "      <td>Capitols</td>\n",
       "      <td>50</td>\n",
       "      <td>1300.00</td>\n",
       "      <td>1320.38</td>\n",
       "      <td>H</td>\n",
       "      <td>L</td>\n",
       "      <td>0.64</td>\n",
       "      <td>NaN</td>\n",
       "      <td>1946-11-02</td>\n",
       "    </tr>\n",
       "    <tr>\n",
       "      <th>...</th>\n",
       "      <td>...</td>\n",
       "      <td>...</td>\n",
       "      <td>...</td>\n",
       "      <td>...</td>\n",
       "      <td>...</td>\n",
       "      <td>...</td>\n",
       "      <td>...</td>\n",
       "      <td>...</td>\n",
       "      <td>...</td>\n",
       "      <td>...</td>\n",
       "      <td>...</td>\n",
       "      <td>...</td>\n",
       "      <td>...</td>\n",
       "      <td>...</td>\n",
       "      <td>...</td>\n",
       "      <td>...</td>\n",
       "      <td>...</td>\n",
       "      <td>...</td>\n",
       "      <td>...</td>\n",
       "      <td>...</td>\n",
       "      <td>...</td>\n",
       "      <td>...</td>\n",
       "      <td>...</td>\n",
       "      <td>...</td>\n",
       "    </tr>\n",
       "    <tr>\n",
       "      <th>126309</th>\n",
       "      <td>63155</td>\n",
       "      <td>201506110CLE</td>\n",
       "      <td>NBA</td>\n",
       "      <td>0</td>\n",
       "      <td>2015</td>\n",
       "      <td>6/11/2015</td>\n",
       "      <td>100</td>\n",
       "      <td>1</td>\n",
       "      <td>CLE</td>\n",
       "      <td>Cavaliers</td>\n",
       "      <td>82</td>\n",
       "      <td>1723.41</td>\n",
       "      <td>1704.39</td>\n",
       "      <td>60.31</td>\n",
       "      <td>GSW</td>\n",
       "      <td>Warriors</td>\n",
       "      <td>103</td>\n",
       "      <td>1790.96</td>\n",
       "      <td>1809.98</td>\n",
       "      <td>H</td>\n",
       "      <td>L</td>\n",
       "      <td>0.55</td>\n",
       "      <td>NaN</td>\n",
       "      <td>2015-06-11</td>\n",
       "    </tr>\n",
       "    <tr>\n",
       "      <th>126310</th>\n",
       "      <td>63156</td>\n",
       "      <td>201506140GSW</td>\n",
       "      <td>NBA</td>\n",
       "      <td>0</td>\n",
       "      <td>2015</td>\n",
       "      <td>6/14/2015</td>\n",
       "      <td>102</td>\n",
       "      <td>1</td>\n",
       "      <td>GSW</td>\n",
       "      <td>Warriors</td>\n",
       "      <td>104</td>\n",
       "      <td>1809.98</td>\n",
       "      <td>1813.63</td>\n",
       "      <td>68.01</td>\n",
       "      <td>CLE</td>\n",
       "      <td>Cavaliers</td>\n",
       "      <td>91</td>\n",
       "      <td>1704.39</td>\n",
       "      <td>1700.74</td>\n",
       "      <td>H</td>\n",
       "      <td>W</td>\n",
       "      <td>0.77</td>\n",
       "      <td>NaN</td>\n",
       "      <td>2015-06-14</td>\n",
       "    </tr>\n",
       "    <tr>\n",
       "      <th>126311</th>\n",
       "      <td>63156</td>\n",
       "      <td>201506140GSW</td>\n",
       "      <td>NBA</td>\n",
       "      <td>1</td>\n",
       "      <td>2015</td>\n",
       "      <td>6/14/2015</td>\n",
       "      <td>101</td>\n",
       "      <td>1</td>\n",
       "      <td>CLE</td>\n",
       "      <td>Cavaliers</td>\n",
       "      <td>91</td>\n",
       "      <td>1704.39</td>\n",
       "      <td>1700.74</td>\n",
       "      <td>60.01</td>\n",
       "      <td>GSW</td>\n",
       "      <td>Warriors</td>\n",
       "      <td>104</td>\n",
       "      <td>1809.98</td>\n",
       "      <td>1813.63</td>\n",
       "      <td>A</td>\n",
       "      <td>L</td>\n",
       "      <td>0.23</td>\n",
       "      <td>NaN</td>\n",
       "      <td>2015-06-14</td>\n",
       "    </tr>\n",
       "    <tr>\n",
       "      <th>126312</th>\n",
       "      <td>63157</td>\n",
       "      <td>201506170CLE</td>\n",
       "      <td>NBA</td>\n",
       "      <td>0</td>\n",
       "      <td>2015</td>\n",
       "      <td>6/16/2015</td>\n",
       "      <td>102</td>\n",
       "      <td>1</td>\n",
       "      <td>CLE</td>\n",
       "      <td>Cavaliers</td>\n",
       "      <td>97</td>\n",
       "      <td>1700.74</td>\n",
       "      <td>1692.09</td>\n",
       "      <td>59.29</td>\n",
       "      <td>GSW</td>\n",
       "      <td>Warriors</td>\n",
       "      <td>105</td>\n",
       "      <td>1813.63</td>\n",
       "      <td>1822.29</td>\n",
       "      <td>H</td>\n",
       "      <td>L</td>\n",
       "      <td>0.48</td>\n",
       "      <td>NaN</td>\n",
       "      <td>2015-06-16</td>\n",
       "    </tr>\n",
       "    <tr>\n",
       "      <th>126313</th>\n",
       "      <td>63157</td>\n",
       "      <td>201506170CLE</td>\n",
       "      <td>NBA</td>\n",
       "      <td>1</td>\n",
       "      <td>2015</td>\n",
       "      <td>6/16/2015</td>\n",
       "      <td>103</td>\n",
       "      <td>1</td>\n",
       "      <td>GSW</td>\n",
       "      <td>Warriors</td>\n",
       "      <td>105</td>\n",
       "      <td>1813.63</td>\n",
       "      <td>1822.29</td>\n",
       "      <td>68.52</td>\n",
       "      <td>CLE</td>\n",
       "      <td>Cavaliers</td>\n",
       "      <td>97</td>\n",
       "      <td>1700.74</td>\n",
       "      <td>1692.09</td>\n",
       "      <td>A</td>\n",
       "      <td>W</td>\n",
       "      <td>0.52</td>\n",
       "      <td>NaN</td>\n",
       "      <td>2015-06-16</td>\n",
       "    </tr>\n",
       "  </tbody>\n",
       "</table>\n",
       "<p>126314 rows × 24 columns</p>\n",
       "</div>"
      ],
      "text/plain": [
       "        gameorder       game_id lg_id  _iscopy  year_id  date_game  \\\n",
       "0               1  194611010TRH   NBA        0     1947  11/1/1946   \n",
       "1               1  194611010TRH   NBA        1     1947  11/1/1946   \n",
       "2               2  194611020CHS   NBA        0     1947  11/2/1946   \n",
       "3               2  194611020CHS   NBA        1     1947  11/2/1946   \n",
       "4               3  194611020DTF   NBA        0     1947  11/2/1946   \n",
       "...           ...           ...   ...      ...      ...        ...   \n",
       "126309      63155  201506110CLE   NBA        0     2015  6/11/2015   \n",
       "126310      63156  201506140GSW   NBA        0     2015  6/14/2015   \n",
       "126311      63156  201506140GSW   NBA        1     2015  6/14/2015   \n",
       "126312      63157  201506170CLE   NBA        0     2015  6/16/2015   \n",
       "126313      63157  201506170CLE   NBA        1     2015  6/16/2015   \n",
       "\n",
       "        seasongame  is_playoffs team_id    fran_id  pts    elo_i    elo_n  \\\n",
       "0                1            0     TRH    Huskies   66  1300.00  1293.28   \n",
       "1                1            0     NYK     Knicks   68  1300.00  1306.72   \n",
       "2                1            0     CHS      Stags   63  1300.00  1309.65   \n",
       "3                2            0     NYK     Knicks   47  1306.72  1297.07   \n",
       "4                1            0     DTF    Falcons   33  1300.00  1279.62   \n",
       "...            ...          ...     ...        ...  ...      ...      ...   \n",
       "126309         100            1     CLE  Cavaliers   82  1723.41  1704.39   \n",
       "126310         102            1     GSW   Warriors  104  1809.98  1813.63   \n",
       "126311         101            1     CLE  Cavaliers   91  1704.39  1700.74   \n",
       "126312         102            1     CLE  Cavaliers   97  1700.74  1692.09   \n",
       "126313         103            1     GSW   Warriors  105  1813.63  1822.29   \n",
       "\n",
       "        win_equiv opp_id   opp_fran  opp_pts  opp_elo_i  opp_elo_n  \\\n",
       "0           40.29    NYK     Knicks       68    1300.00    1306.72   \n",
       "1           41.71    TRH    Huskies       66    1300.00    1293.28   \n",
       "2           42.01    NYK     Knicks       47    1306.72    1297.07   \n",
       "3           40.69    CHS      Stags       63    1300.00    1309.65   \n",
       "4           38.86    WSC   Capitols       50    1300.00    1320.38   \n",
       "...           ...    ...        ...      ...        ...        ...   \n",
       "126309      60.31    GSW   Warriors      103    1790.96    1809.98   \n",
       "126310      68.01    CLE  Cavaliers       91    1704.39    1700.74   \n",
       "126311      60.01    GSW   Warriors      104    1809.98    1813.63   \n",
       "126312      59.29    GSW   Warriors      105    1813.63    1822.29   \n",
       "126313      68.52    CLE  Cavaliers       97    1700.74    1692.09   \n",
       "\n",
       "       game_location game_result  forecast notes date_played  \n",
       "0                  H           L      0.64   NaN  1946-11-01  \n",
       "1                  A           W      0.36   NaN  1946-11-01  \n",
       "2                  H           W      0.63   NaN  1946-11-02  \n",
       "3                  A           L      0.37   NaN  1946-11-02  \n",
       "4                  H           L      0.64   NaN  1946-11-02  \n",
       "...              ...         ...       ...   ...         ...  \n",
       "126309             H           L      0.55   NaN  2015-06-11  \n",
       "126310             H           W      0.77   NaN  2015-06-14  \n",
       "126311             A           L      0.23   NaN  2015-06-14  \n",
       "126312             H           L      0.48   NaN  2015-06-16  \n",
       "126313             A           W      0.52   NaN  2015-06-16  \n",
       "\n",
       "[126314 rows x 24 columns]"
      ]
     },
     "execution_count": 33,
     "metadata": {},
     "output_type": "execute_result"
    }
   ],
   "source": [
    "nba"
   ]
  },
  {
   "cell_type": "code",
   "execution_count": 34,
   "id": "8c9b6ed0-09b8-4cf6-8875-8b66d426071d",
   "metadata": {},
   "outputs": [
    {
     "data": {
      "text/plain": [
       "Index(['gameorder', 'game_id', 'lg_id', '_iscopy', 'year_id', 'date_game',\n",
       "       'seasongame', 'is_playoffs', 'team_id', 'fran_id', 'pts', 'elo_i',\n",
       "       'elo_n', 'win_equiv', 'opp_id', 'opp_fran', 'opp_pts', 'opp_elo_i',\n",
       "       'opp_elo_n', 'game_location', 'game_result', 'forecast', 'notes',\n",
       "       'date_played'],\n",
       "      dtype='object')"
      ]
     },
     "execution_count": 34,
     "metadata": {},
     "output_type": "execute_result"
    }
   ],
   "source": [
    "nba.axes[1]"
   ]
  },
  {
   "cell_type": "code",
   "execution_count": 35,
   "id": "4ef342f5-cb57-457b-aa11-2e95adc0ab10",
   "metadata": {},
   "outputs": [
    {
     "data": {
      "text/plain": [
       "False"
      ]
     },
     "execution_count": 35,
     "metadata": {},
     "output_type": "execute_result"
    }
   ],
   "source": [
    "'points' in nba.axes[1]"
   ]
  },
  {
   "cell_type": "code",
   "execution_count": 36,
   "id": "9a3b9b07-eac0-4e46-b20a-24e78cf9e748",
   "metadata": {},
   "outputs": [
    {
     "data": {
      "text/plain": [
       "True"
      ]
     },
     "execution_count": 36,
     "metadata": {},
     "output_type": "execute_result"
    }
   ],
   "source": [
    "'pts' in nba.axes[1]"
   ]
  },
  {
   "cell_type": "code",
   "execution_count": 37,
   "id": "5d90851d-c445-48be-828b-bd17c0fcc169",
   "metadata": {},
   "outputs": [
    {
     "data": {
      "text/plain": [
       "True"
      ]
     },
     "execution_count": 37,
     "metadata": {},
     "output_type": "execute_result"
    }
   ],
   "source": [
    "'pts' in nba.columns"
   ]
  },
  {
   "cell_type": "markdown",
   "id": "3ef28eab-2ca9-47d2-86c1-b56dc47b1923",
   "metadata": {},
   "source": [
    "# Exploring DataFrame and Series Objects"
   ]
  },
  {
   "cell_type": "code",
   "execution_count": 38,
   "id": "ff95f169-4a1b-4de9-80f4-fa6c3c257286",
   "metadata": {},
   "outputs": [],
   "source": [
    "revenues = pd.Series([5000, 7000,1980])"
   ]
  },
  {
   "cell_type": "code",
   "execution_count": 39,
   "id": "52885789-7a87-45eb-93b9-fa330446e513",
   "metadata": {},
   "outputs": [
    {
     "data": {
      "text/plain": [
       "array([5000, 7000, 1980])"
      ]
     },
     "execution_count": 39,
     "metadata": {},
     "output_type": "execute_result"
    }
   ],
   "source": [
    "revenues.values"
   ]
  },
  {
   "cell_type": "code",
   "execution_count": 40,
   "id": "7250f17d-ff6a-4f4b-b2c8-223e581d56d6",
   "metadata": {},
   "outputs": [
    {
     "data": {
      "text/plain": [
       "RangeIndex(start=0, stop=3, step=1)"
      ]
     },
     "execution_count": 40,
     "metadata": {},
     "output_type": "execute_result"
    }
   ],
   "source": [
    "revenues.index"
   ]
  },
  {
   "cell_type": "code",
   "execution_count": 41,
   "id": "8f789deb-c0a8-4733-89e5-0e7e83823e90",
   "metadata": {},
   "outputs": [],
   "source": [
    "city_revenues = pd.Series([4200, 8000, 6500], index=['Amsterdam', 'Toronto', 'Tokyio'])"
   ]
  },
  {
   "cell_type": "code",
   "execution_count": 42,
   "id": "91c60528-6a01-4f4e-8802-7e1b27b25a4f",
   "metadata": {},
   "outputs": [
    {
     "data": {
      "text/plain": [
       "Amsterdam    4200\n",
       "Toronto      8000\n",
       "Tokyio       6500\n",
       "dtype: int64"
      ]
     },
     "execution_count": 42,
     "metadata": {},
     "output_type": "execute_result"
    }
   ],
   "source": [
    "city_revenues"
   ]
  },
  {
   "cell_type": "code",
   "execution_count": 43,
   "id": "2dc3ec61-0044-43cb-8340-7836050bda66",
   "metadata": {},
   "outputs": [
    {
     "data": {
      "text/plain": [
       "array([1, 2, 3, 4])"
      ]
     },
     "execution_count": 43,
     "metadata": {},
     "output_type": "execute_result"
    }
   ],
   "source": [
    "array_1 = np.array([1, 2, 3, 4])\n",
    "array_1"
   ]
  },
  {
   "cell_type": "code",
   "execution_count": null,
   "id": "e9e38016-fe50-4170-b144-3d975244eaa3",
   "metadata": {},
   "outputs": [],
   "source": []
  },
  {
   "cell_type": "code",
   "execution_count": 44,
   "id": "c1667d04-5137-406c-aafd-f600e36e9eb8",
   "metadata": {},
   "outputs": [
    {
     "data": {
      "text/plain": [
       "Amsterdam    4200\n",
       "Toronto      8000\n",
       "Tokyio       6500\n",
       "dtype: int64"
      ]
     },
     "execution_count": 44,
     "metadata": {},
     "output_type": "execute_result"
    }
   ],
   "source": [
    "city_revenues"
   ]
  },
  {
   "cell_type": "code",
   "execution_count": 45,
   "id": "babb5b76-fa8b-4d5a-8c4a-eb2c7a206a1b",
   "metadata": {},
   "outputs": [],
   "source": [
    "city_rev_dic = {\"Amsterdam\":4200,\n",
    "               \"Toronto\": 5000, \n",
    "               \"Madrid\": 6000}"
   ]
  },
  {
   "cell_type": "code",
   "execution_count": 46,
   "id": "2be0b415-2347-4f6a-98c8-8c28610f73ab",
   "metadata": {},
   "outputs": [
    {
     "data": {
      "text/plain": [
       "{'Amsterdam': 4200, 'Toronto': 5000, 'Madrid': 6000}"
      ]
     },
     "execution_count": 46,
     "metadata": {},
     "output_type": "execute_result"
    }
   ],
   "source": [
    "city_rev_dic"
   ]
  },
  {
   "cell_type": "code",
   "execution_count": null,
   "id": "11dc1337-2a98-41ae-9677-0eb66d24ffc8",
   "metadata": {},
   "outputs": [],
   "source": []
  },
  {
   "cell_type": "code",
   "execution_count": 47,
   "id": "736c5c21-2ec6-4044-8340-7b83bf825638",
   "metadata": {},
   "outputs": [
    {
     "data": {
      "text/plain": [
       "{'Amsterdam': 4200, 'Toronto': 5000, 'Madrid': 6000}"
      ]
     },
     "execution_count": 47,
     "metadata": {},
     "output_type": "execute_result"
    }
   ],
   "source": [
    "city_rev_dic"
   ]
  },
  {
   "cell_type": "code",
   "execution_count": 48,
   "id": "f6b17cea-fd62-4088-8535-ae8009bb79a5",
   "metadata": {},
   "outputs": [
    {
     "data": {
      "text/plain": [
       "4200"
      ]
     },
     "execution_count": 48,
     "metadata": {},
     "output_type": "execute_result"
    }
   ],
   "source": [
    "city_rev_dic[\"Amsterdam\"]"
   ]
  },
  {
   "cell_type": "code",
   "execution_count": 49,
   "id": "2e155cf3-214d-4ca0-9e27-aad038c072d8",
   "metadata": {},
   "outputs": [
    {
     "data": {
      "text/plain": [
       "np.int64(4200)"
      ]
     },
     "execution_count": 49,
     "metadata": {},
     "output_type": "execute_result"
    }
   ],
   "source": [
    "city_revenues[\"Amsterdam\"]"
   ]
  },
  {
   "cell_type": "code",
   "execution_count": 50,
   "id": "cd84d116-15fa-46aa-b6ae-75a2b561b02e",
   "metadata": {},
   "outputs": [],
   "source": [
    "count= {\"Amsterdam\":5, \"Toronto\":9}"
   ]
  },
  {
   "cell_type": "code",
   "execution_count": 51,
   "id": "8045356e-8c72-4f18-b26e-c870b69dd6a4",
   "metadata": {},
   "outputs": [],
   "source": [
    "#monto un dataframe con series que tienen el mismo indice (las ciudades)\n",
    "city_data = pd.DataFrame({\"revenue\": city_revenues, \"count\":count})"
   ]
  },
  {
   "cell_type": "code",
   "execution_count": 52,
   "id": "49ac4072-cde7-476d-90c1-54e6378b304e",
   "metadata": {},
   "outputs": [
    {
     "data": {
      "text/html": [
       "<div>\n",
       "<style scoped>\n",
       "    .dataframe tbody tr th:only-of-type {\n",
       "        vertical-align: middle;\n",
       "    }\n",
       "\n",
       "    .dataframe tbody tr th {\n",
       "        vertical-align: top;\n",
       "    }\n",
       "\n",
       "    .dataframe thead th {\n",
       "        text-align: right;\n",
       "    }\n",
       "</style>\n",
       "<table border=\"1\" class=\"dataframe\">\n",
       "  <thead>\n",
       "    <tr style=\"text-align: right;\">\n",
       "      <th></th>\n",
       "      <th>revenue</th>\n",
       "      <th>count</th>\n",
       "    </tr>\n",
       "  </thead>\n",
       "  <tbody>\n",
       "    <tr>\n",
       "      <th>Amsterdam</th>\n",
       "      <td>4200</td>\n",
       "      <td>5.0</td>\n",
       "    </tr>\n",
       "    <tr>\n",
       "      <th>Tokyio</th>\n",
       "      <td>6500</td>\n",
       "      <td>NaN</td>\n",
       "    </tr>\n",
       "    <tr>\n",
       "      <th>Toronto</th>\n",
       "      <td>8000</td>\n",
       "      <td>9.0</td>\n",
       "    </tr>\n",
       "  </tbody>\n",
       "</table>\n",
       "</div>"
      ],
      "text/plain": [
       "           revenue  count\n",
       "Amsterdam     4200    5.0\n",
       "Tokyio        6500    NaN\n",
       "Toronto       8000    9.0"
      ]
     },
     "execution_count": 52,
     "metadata": {},
     "output_type": "execute_result"
    }
   ],
   "source": [
    "city_data"
   ]
  },
  {
   "cell_type": "code",
   "execution_count": 53,
   "id": "ac99a4c2-e605-4fa0-b40e-9cfa55ad312f",
   "metadata": {},
   "outputs": [
    {
     "data": {
      "text/plain": [
       "Index(['Amsterdam', 'Toronto', 'Tokyio'], dtype='object')"
      ]
     },
     "execution_count": 53,
     "metadata": {},
     "output_type": "execute_result"
    }
   ],
   "source": [
    "city_revenues.keys()"
   ]
  },
  {
   "cell_type": "code",
   "execution_count": 54,
   "id": "12c325b6-23cc-46c2-8abe-c742c3e7b831",
   "metadata": {},
   "outputs": [
    {
     "data": {
      "text/plain": [
       "dict_keys(['Amsterdam', 'Toronto', 'Madrid'])"
      ]
     },
     "execution_count": 54,
     "metadata": {},
     "output_type": "execute_result"
    }
   ],
   "source": [
    "city_rev_dic.keys()"
   ]
  },
  {
   "cell_type": "code",
   "execution_count": 55,
   "id": "0ec43790-b6db-4591-b5dd-2fc118091c8b",
   "metadata": {
    "scrolled": true
   },
   "outputs": [
    {
     "data": {
      "text/plain": [
       "Index(['revenue', 'count'], dtype='object')"
      ]
     },
     "execution_count": 55,
     "metadata": {},
     "output_type": "execute_result"
    }
   ],
   "source": [
    "city_data.axes[1]"
   ]
  },
  {
   "cell_type": "code",
   "execution_count": 56,
   "id": "e1e1c2d8-9388-41b2-bf6e-d0f60a43a2df",
   "metadata": {},
   "outputs": [
    {
     "data": {
      "text/plain": [
       "Amsterdam    4200\n",
       "Toronto      8000\n",
       "Tokyio       6500\n",
       "dtype: int64"
      ]
     },
     "execution_count": 56,
     "metadata": {},
     "output_type": "execute_result"
    }
   ],
   "source": [
    "city_revenues"
   ]
  },
  {
   "cell_type": "code",
   "execution_count": 57,
   "id": "fcbc450b-061b-4c84-be3e-cfc6f2c184fa",
   "metadata": {},
   "outputs": [
    {
     "name": "stderr",
     "output_type": "stream",
     "text": [
      "/var/folders/42/tg009yd16fd7lk4bbyt3hzth0000gn/T/ipykernel_2451/3958202293.py:1: FutureWarning: Series.__getitem__ treating keys as positions is deprecated. In a future version, integer keys will always be treated as labels (consistent with DataFrame behavior). To access a value by position, use `ser.iloc[pos]`\n",
      "  city_revenues[1]\n"
     ]
    },
    {
     "data": {
      "text/plain": [
       "np.int64(8000)"
      ]
     },
     "execution_count": 57,
     "metadata": {},
     "output_type": "execute_result"
    }
   ],
   "source": [
    "city_revenues[1]"
   ]
  },
  {
   "cell_type": "code",
   "execution_count": 58,
   "id": "a72e6e94-dd21-4333-83fc-0b39435c5ae5",
   "metadata": {},
   "outputs": [
    {
     "data": {
      "text/plain": [
       "np.int64(8000)"
      ]
     },
     "execution_count": 58,
     "metadata": {},
     "output_type": "execute_result"
    }
   ],
   "source": [
    "city_revenues[\"Toronto\"]"
   ]
  },
  {
   "cell_type": "code",
   "execution_count": 59,
   "id": "06726b08-ca75-4548-88aa-e1c3162370d6",
   "metadata": {},
   "outputs": [
    {
     "data": {
      "text/plain": [
       "Index(['Amsterdam', 'Toronto', 'Tokyio'], dtype='object')"
      ]
     },
     "execution_count": 59,
     "metadata": {},
     "output_type": "execute_result"
    }
   ],
   "source": [
    "city_revenues.keys()"
   ]
  },
  {
   "cell_type": "code",
   "execution_count": 60,
   "id": "f66efce6-6ee0-4a85-9c35-0727fa7c9d56",
   "metadata": {},
   "outputs": [
    {
     "data": {
      "text/plain": [
       "array([4200, 8000, 6500])"
      ]
     },
     "execution_count": 60,
     "metadata": {},
     "output_type": "execute_result"
    }
   ],
   "source": [
    "city_revenues.values"
   ]
  },
  {
   "cell_type": "code",
   "execution_count": 61,
   "id": "35306d2e-bc02-44b0-9975-a9928c362d08",
   "metadata": {},
   "outputs": [
    {
     "data": {
      "text/plain": [
       "np.int64(7000)"
      ]
     },
     "execution_count": 61,
     "metadata": {},
     "output_type": "execute_result"
    }
   ],
   "source": [
    "revenues[1]"
   ]
  },
  {
   "cell_type": "code",
   "execution_count": 62,
   "id": "3e40b012-6ef0-4f65-a402-f1c6bedddc3f",
   "metadata": {},
   "outputs": [
    {
     "name": "stdout",
     "output_type": "stream",
     "text": [
      "5000\n",
      "7000\n",
      "1980\n"
     ]
    }
   ],
   "source": [
    "for k, v in enumerate(revenues):\n",
    "    print(v)\n",
    "    \n",
    "    "
   ]
  },
  {
   "cell_type": "code",
   "execution_count": 63,
   "id": "8fd94fa4-b921-492b-8f47-c8e48b68efcc",
   "metadata": {},
   "outputs": [
    {
     "name": "stdout",
     "output_type": "stream",
     "text": [
      "5000\n",
      "7000\n",
      "1980\n"
     ]
    }
   ],
   "source": [
    "for k, v in revenues.items():\n",
    "    print(v)"
   ]
  },
  {
   "cell_type": "code",
   "execution_count": 64,
   "id": "87b8f474-c6a6-4006-bc4a-238930754473",
   "metadata": {},
   "outputs": [
    {
     "name": "stdout",
     "output_type": "stream",
     "text": [
      "1980\n"
     ]
    }
   ],
   "source": [
    "print(revenues[2])"
   ]
  },
  {
   "cell_type": "code",
   "execution_count": 65,
   "id": "74cad6d3-f0c7-4188-9a7b-43fbaf196ad8",
   "metadata": {},
   "outputs": [
    {
     "data": {
      "text/plain": [
       "np.int64(8000)"
      ]
     },
     "execution_count": 65,
     "metadata": {},
     "output_type": "execute_result"
    }
   ],
   "source": [
    "city_revenues['Toronto']"
   ]
  },
  {
   "cell_type": "code",
   "execution_count": 66,
   "id": "110fd746-726f-431b-9726-8b5ea04d845e",
   "metadata": {},
   "outputs": [
    {
     "data": {
      "text/plain": [
       "np.int64(7000)"
      ]
     },
     "execution_count": 66,
     "metadata": {},
     "output_type": "execute_result"
    }
   ],
   "source": [
    "revenues.get(1, \"none\")"
   ]
  },
  {
   "cell_type": "code",
   "execution_count": 67,
   "id": "12fcc146-1030-4dc7-a051-97bb97c03c58",
   "metadata": {},
   "outputs": [
    {
     "data": {
      "text/plain": [
       "'none'"
      ]
     },
     "execution_count": 67,
     "metadata": {},
     "output_type": "execute_result"
    }
   ],
   "source": [
    "revenues.get(30, \"none\")"
   ]
  },
  {
   "cell_type": "code",
   "execution_count": 68,
   "id": "c95bbec6-0600-4986-a46b-527ca0a81eec",
   "metadata": {},
   "outputs": [],
   "source": [
    "colors = pd.Series(\n",
    "['red', 'yellow', 'blue' , 'green'],\n",
    "    index=[1, 2, 3, 4]   \n",
    ")"
   ]
  },
  {
   "cell_type": "code",
   "execution_count": 69,
   "id": "e20aa72a-6162-4613-bcf0-f1d157c7c531",
   "metadata": {},
   "outputs": [
    {
     "data": {
      "text/plain": [
       "1       red\n",
       "2    yellow\n",
       "3      blue\n",
       "4     green\n",
       "dtype: object"
      ]
     },
     "execution_count": 69,
     "metadata": {},
     "output_type": "execute_result"
    }
   ],
   "source": [
    "colors"
   ]
  },
  {
   "cell_type": "code",
   "execution_count": 70,
   "id": "2d242f05-59fd-4baf-88fc-cc34dc13b051",
   "metadata": {},
   "outputs": [
    {
     "data": {
      "text/plain": [
       "'yellow'"
      ]
     },
     "execution_count": 70,
     "metadata": {},
     "output_type": "execute_result"
    }
   ],
   "source": [
    "colors[2]"
   ]
  },
  {
   "cell_type": "code",
   "execution_count": 71,
   "id": "83ba89d4-4916-44f9-a46f-8cf15d66ea67",
   "metadata": {},
   "outputs": [
    {
     "data": {
      "text/plain": [
       "'red'"
      ]
     },
     "execution_count": 71,
     "metadata": {},
     "output_type": "execute_result"
    }
   ],
   "source": [
    "colors[1]"
   ]
  },
  {
   "cell_type": "code",
   "execution_count": 72,
   "id": "996745f1-9a55-4871-b7e3-635682479ccb",
   "metadata": {},
   "outputs": [
    {
     "data": {
      "text/plain": [
       "array(['red', 'yellow', 'blue', 'green'], dtype=object)"
      ]
     },
     "execution_count": 72,
     "metadata": {},
     "output_type": "execute_result"
    }
   ],
   "source": [
    "colors.values"
   ]
  },
  {
   "cell_type": "code",
   "execution_count": 73,
   "id": "0b7b8c58-cb70-45a5-9e9f-83fbae44062e",
   "metadata": {},
   "outputs": [
    {
     "data": {
      "text/plain": [
       "'red'"
      ]
     },
     "execution_count": 73,
     "metadata": {},
     "output_type": "execute_result"
    }
   ],
   "source": [
    "colors.loc[1]"
   ]
  },
  {
   "cell_type": "code",
   "execution_count": 74,
   "id": "c97f8aac-b433-455b-8366-bf6f9ce7f1d9",
   "metadata": {},
   "outputs": [
    {
     "data": {
      "text/plain": [
       "'yellow'"
      ]
     },
     "execution_count": 74,
     "metadata": {},
     "output_type": "execute_result"
    }
   ],
   "source": [
    "colors.iloc[1]"
   ]
  },
  {
   "cell_type": "code",
   "execution_count": 75,
   "id": "779e2547-e0f5-429c-8b99-7ab96028e9ae",
   "metadata": {},
   "outputs": [
    {
     "data": {
      "text/plain": [
       "2    yellow\n",
       "dtype: object"
      ]
     },
     "execution_count": 75,
     "metadata": {},
     "output_type": "execute_result"
    }
   ],
   "source": [
    "colors.iloc[1:2]"
   ]
  },
  {
   "cell_type": "code",
   "execution_count": 76,
   "id": "9b68e0ac-a38f-4912-bc8c-a0f604193ad4",
   "metadata": {},
   "outputs": [
    {
     "data": {
      "text/plain": [
       "2    yellow\n",
       "3      blue\n",
       "dtype: object"
      ]
     },
     "execution_count": 76,
     "metadata": {},
     "output_type": "execute_result"
    }
   ],
   "source": [
    "colors.iloc[1:3]"
   ]
  },
  {
   "cell_type": "markdown",
   "id": "69733eb0-1f0f-4385-a686-9c2667037627",
   "metadata": {},
   "source": [
    "## Accesing Data in a DataFrame"
   ]
  },
  {
   "cell_type": "code",
   "execution_count": 77,
   "id": "cd993199-8cb4-4d61-b150-cdfe440abd4a",
   "metadata": {},
   "outputs": [
    {
     "data": {
      "text/plain": [
       "revenue    6500.0\n",
       "count         NaN\n",
       "Name: Tokyio, dtype: float64"
      ]
     },
     "execution_count": 77,
     "metadata": {},
     "output_type": "execute_result"
    }
   ],
   "source": [
    "city_data.iloc[1]"
   ]
  },
  {
   "cell_type": "code",
   "execution_count": 78,
   "id": "e0c0aea0-16c0-44d6-8366-a9657974931c",
   "metadata": {},
   "outputs": [
    {
     "data": {
      "text/html": [
       "<div>\n",
       "<style scoped>\n",
       "    .dataframe tbody tr th:only-of-type {\n",
       "        vertical-align: middle;\n",
       "    }\n",
       "\n",
       "    .dataframe tbody tr th {\n",
       "        vertical-align: top;\n",
       "    }\n",
       "\n",
       "    .dataframe thead th {\n",
       "        text-align: right;\n",
       "    }\n",
       "</style>\n",
       "<table border=\"1\" class=\"dataframe\">\n",
       "  <thead>\n",
       "    <tr style=\"text-align: right;\">\n",
       "      <th></th>\n",
       "      <th>revenue</th>\n",
       "      <th>count</th>\n",
       "    </tr>\n",
       "  </thead>\n",
       "  <tbody>\n",
       "    <tr>\n",
       "      <th>Toronto</th>\n",
       "      <td>8000</td>\n",
       "      <td>9.0</td>\n",
       "    </tr>\n",
       "  </tbody>\n",
       "</table>\n",
       "</div>"
      ],
      "text/plain": [
       "         revenue  count\n",
       "Toronto     8000    9.0"
      ]
     },
     "execution_count": 78,
     "metadata": {},
     "output_type": "execute_result"
    }
   ],
   "source": [
    "city_data.loc['Tokyo':'Toronto']"
   ]
  },
  {
   "cell_type": "code",
   "execution_count": 79,
   "id": "bdcd97f4-0af4-4bec-93e0-033543f8a6c2",
   "metadata": {},
   "outputs": [
    {
     "data": {
      "text/plain": [
       "gameorder                      63157\n",
       "game_id                 201506170CLE\n",
       "lg_id                            NBA\n",
       "_iscopy                            0\n",
       "year_id                         2015\n",
       "date_game                  6/16/2015\n",
       "seasongame                       102\n",
       "is_playoffs                        1\n",
       "team_id                          CLE\n",
       "fran_id                    Cavaliers\n",
       "pts                               97\n",
       "elo_i                        1700.74\n",
       "elo_n                        1692.09\n",
       "win_equiv                      59.29\n",
       "opp_id                           GSW\n",
       "opp_fran                    Warriors\n",
       "opp_pts                          105\n",
       "opp_elo_i                    1813.63\n",
       "opp_elo_n                    1822.29\n",
       "game_location                      H\n",
       "game_result                        L\n",
       "forecast                        0.48\n",
       "notes                            NaN\n",
       "date_played      2015-06-16 00:00:00\n",
       "Name: 126312, dtype: object"
      ]
     },
     "execution_count": 79,
     "metadata": {},
     "output_type": "execute_result"
    }
   ],
   "source": [
    "nba.iloc[-2]"
   ]
  },
  {
   "cell_type": "code",
   "execution_count": 80,
   "id": "7fbae5fe-9cb4-48d7-81b5-34f2e353d238",
   "metadata": {},
   "outputs": [
    {
     "data": {
      "text/html": [
       "<div>\n",
       "<style scoped>\n",
       "    .dataframe tbody tr th:only-of-type {\n",
       "        vertical-align: middle;\n",
       "    }\n",
       "\n",
       "    .dataframe tbody tr th {\n",
       "        vertical-align: top;\n",
       "    }\n",
       "\n",
       "    .dataframe thead th {\n",
       "        text-align: right;\n",
       "    }\n",
       "</style>\n",
       "<table border=\"1\" class=\"dataframe\">\n",
       "  <thead>\n",
       "    <tr style=\"text-align: right;\">\n",
       "      <th></th>\n",
       "      <th>fran_id</th>\n",
       "      <th>opp_fran</th>\n",
       "    </tr>\n",
       "  </thead>\n",
       "  <tbody>\n",
       "    <tr>\n",
       "      <th>2</th>\n",
       "      <td>Stags</td>\n",
       "      <td>Knicks</td>\n",
       "    </tr>\n",
       "    <tr>\n",
       "      <th>3</th>\n",
       "      <td>Knicks</td>\n",
       "      <td>Stags</td>\n",
       "    </tr>\n",
       "    <tr>\n",
       "      <th>4</th>\n",
       "      <td>Falcons</td>\n",
       "      <td>Capitols</td>\n",
       "    </tr>\n",
       "    <tr>\n",
       "      <th>5</th>\n",
       "      <td>Capitols</td>\n",
       "      <td>Falcons</td>\n",
       "    </tr>\n",
       "    <tr>\n",
       "      <th>6</th>\n",
       "      <td>Celtics</td>\n",
       "      <td>Steamrollers</td>\n",
       "    </tr>\n",
       "    <tr>\n",
       "      <th>7</th>\n",
       "      <td>Steamrollers</td>\n",
       "      <td>Celtics</td>\n",
       "    </tr>\n",
       "    <tr>\n",
       "      <th>8</th>\n",
       "      <td>Ironmen</td>\n",
       "      <td>Bombers</td>\n",
       "    </tr>\n",
       "    <tr>\n",
       "      <th>9</th>\n",
       "      <td>Bombers</td>\n",
       "      <td>Ironmen</td>\n",
       "    </tr>\n",
       "    <tr>\n",
       "      <th>10</th>\n",
       "      <td>Huskies</td>\n",
       "      <td>Rebels</td>\n",
       "    </tr>\n",
       "    <tr>\n",
       "      <th>11</th>\n",
       "      <td>Rebels</td>\n",
       "      <td>Huskies</td>\n",
       "    </tr>\n",
       "    <tr>\n",
       "      <th>12</th>\n",
       "      <td>Ironmen</td>\n",
       "      <td>Capitols</td>\n",
       "    </tr>\n",
       "    <tr>\n",
       "      <th>13</th>\n",
       "      <td>Capitols</td>\n",
       "      <td>Ironmen</td>\n",
       "    </tr>\n",
       "    <tr>\n",
       "      <th>14</th>\n",
       "      <td>Celtics</td>\n",
       "      <td>Stags</td>\n",
       "    </tr>\n",
       "    <tr>\n",
       "      <th>15</th>\n",
       "      <td>Stags</td>\n",
       "      <td>Celtics</td>\n",
       "    </tr>\n",
       "    <tr>\n",
       "      <th>16</th>\n",
       "      <td>Bombers</td>\n",
       "      <td>Falcons</td>\n",
       "    </tr>\n",
       "    <tr>\n",
       "      <th>17</th>\n",
       "      <td>Falcons</td>\n",
       "      <td>Bombers</td>\n",
       "    </tr>\n",
       "    <tr>\n",
       "      <th>18</th>\n",
       "      <td>Ironmen</td>\n",
       "      <td>Warriors</td>\n",
       "    </tr>\n",
       "    <tr>\n",
       "      <th>19</th>\n",
       "      <td>Warriors</td>\n",
       "      <td>Ironmen</td>\n",
       "    </tr>\n",
       "    <tr>\n",
       "      <th>20</th>\n",
       "      <td>Steamrollers</td>\n",
       "      <td>Stags</td>\n",
       "    </tr>\n",
       "  </tbody>\n",
       "</table>\n",
       "</div>"
      ],
      "text/plain": [
       "         fran_id      opp_fran\n",
       "2          Stags        Knicks\n",
       "3         Knicks         Stags\n",
       "4        Falcons      Capitols\n",
       "5       Capitols       Falcons\n",
       "6        Celtics  Steamrollers\n",
       "7   Steamrollers       Celtics\n",
       "8        Ironmen       Bombers\n",
       "9        Bombers       Ironmen\n",
       "10       Huskies        Rebels\n",
       "11        Rebels       Huskies\n",
       "12       Ironmen      Capitols\n",
       "13      Capitols       Ironmen\n",
       "14       Celtics         Stags\n",
       "15         Stags       Celtics\n",
       "16       Bombers       Falcons\n",
       "17       Falcons       Bombers\n",
       "18       Ironmen      Warriors\n",
       "19      Warriors       Ironmen\n",
       "20  Steamrollers         Stags"
      ]
     },
     "execution_count": 80,
     "metadata": {},
     "output_type": "execute_result"
    }
   ],
   "source": [
    "nba.loc[2:20,[\"fran_id\", \"opp_fran\"]]"
   ]
  },
  {
   "cell_type": "markdown",
   "id": "4c0d7ce3-ce68-4544-9c2e-e21fb1086c4b",
   "metadata": {},
   "source": [
    "## Querying Your Dataset"
   ]
  },
  {
   "cell_type": "code",
   "execution_count": 81,
   "id": "788cc377-efff-4440-a8ac-6e18e89d5740",
   "metadata": {},
   "outputs": [
    {
     "data": {
      "text/plain": [
       "(12658, 24)"
      ]
     },
     "execution_count": 81,
     "metadata": {},
     "output_type": "execute_result"
    }
   ],
   "source": [
    "current_decade = nba[nba['year_id'] > 2010]\n",
    "current_decade.shape"
   ]
  },
  {
   "cell_type": "code",
   "execution_count": 82,
   "id": "f18e4fe6-cc68-4f20-920b-94314691a19c",
   "metadata": {},
   "outputs": [
    {
     "data": {
      "text/plain": [
       "0         False\n",
       "1         False\n",
       "2         False\n",
       "3         False\n",
       "4         False\n",
       "          ...  \n",
       "126309     True\n",
       "126310     True\n",
       "126311     True\n",
       "126312     True\n",
       "126313     True\n",
       "Name: year_id, Length: 126314, dtype: bool"
      ]
     },
     "execution_count": 82,
     "metadata": {},
     "output_type": "execute_result"
    }
   ],
   "source": [
    "nba['year_id'] > 2010"
   ]
  },
  {
   "cell_type": "code",
   "execution_count": 83,
   "id": "5d8aa296-20a5-4984-871d-f1404b1d7d23",
   "metadata": {},
   "outputs": [
    {
     "name": "stdout",
     "output_type": "stream",
     "text": [
      "<class 'pandas.core.frame.DataFrame'>\n",
      "RangeIndex: 126314 entries, 0 to 126313\n",
      "Data columns (total 24 columns):\n",
      " #   Column         Non-Null Count   Dtype         \n",
      "---  ------         --------------   -----         \n",
      " 0   gameorder      126314 non-null  int64         \n",
      " 1   game_id        126314 non-null  object        \n",
      " 2   lg_id          126314 non-null  object        \n",
      " 3   _iscopy        126314 non-null  int64         \n",
      " 4   year_id        126314 non-null  int64         \n",
      " 5   date_game      126314 non-null  object        \n",
      " 6   seasongame     126314 non-null  int64         \n",
      " 7   is_playoffs    126314 non-null  int64         \n",
      " 8   team_id        126314 non-null  object        \n",
      " 9   fran_id        126314 non-null  object        \n",
      " 10  pts            126314 non-null  int64         \n",
      " 11  elo_i          126314 non-null  float64       \n",
      " 12  elo_n          126314 non-null  float64       \n",
      " 13  win_equiv      126314 non-null  float64       \n",
      " 14  opp_id         126314 non-null  object        \n",
      " 15  opp_fran       126314 non-null  object        \n",
      " 16  opp_pts        126314 non-null  int64         \n",
      " 17  opp_elo_i      126314 non-null  float64       \n",
      " 18  opp_elo_n      126314 non-null  float64       \n",
      " 19  game_location  126314 non-null  object        \n",
      " 20  game_result    126314 non-null  object        \n",
      " 21  forecast       126314 non-null  float64       \n",
      " 22  notes          5424 non-null    object        \n",
      " 23  date_played    126314 non-null  datetime64[ns]\n",
      "dtypes: datetime64[ns](1), float64(6), int64(7), object(10)\n",
      "memory usage: 23.1+ MB\n"
     ]
    }
   ],
   "source": [
    "nba.info()"
   ]
  },
  {
   "cell_type": "code",
   "execution_count": 84,
   "id": "2823fab8-5723-4910-81be-7f393ece5e3b",
   "metadata": {},
   "outputs": [
    {
     "data": {
      "text/html": [
       "<div>\n",
       "<style scoped>\n",
       "    .dataframe tbody tr th:only-of-type {\n",
       "        vertical-align: middle;\n",
       "    }\n",
       "\n",
       "    .dataframe tbody tr th {\n",
       "        vertical-align: top;\n",
       "    }\n",
       "\n",
       "    .dataframe thead th {\n",
       "        text-align: right;\n",
       "    }\n",
       "</style>\n",
       "<table border=\"1\" class=\"dataframe\">\n",
       "  <thead>\n",
       "    <tr style=\"text-align: right;\">\n",
       "      <th></th>\n",
       "      <th>notes</th>\n",
       "      <th>gameorder</th>\n",
       "    </tr>\n",
       "  </thead>\n",
       "  <tbody>\n",
       "    <tr>\n",
       "      <th>930</th>\n",
       "      <td>at Baltimore's Fifth Regiment Armory</td>\n",
       "      <td>466</td>\n",
       "    </tr>\n",
       "    <tr>\n",
       "      <th>931</th>\n",
       "      <td>at Baltimore's Fifth Regiment Armory</td>\n",
       "      <td>466</td>\n",
       "    </tr>\n",
       "    <tr>\n",
       "      <th>1084</th>\n",
       "      <td>Tiebreaker</td>\n",
       "      <td>543</td>\n",
       "    </tr>\n",
       "    <tr>\n",
       "      <th>1085</th>\n",
       "      <td>Tiebreaker</td>\n",
       "      <td>543</td>\n",
       "    </tr>\n",
       "    <tr>\n",
       "      <th>1088</th>\n",
       "      <td>Tiebreaker</td>\n",
       "      <td>545</td>\n",
       "    </tr>\n",
       "    <tr>\n",
       "      <th>...</th>\n",
       "      <td>...</td>\n",
       "      <td>...</td>\n",
       "    </tr>\n",
       "    <tr>\n",
       "      <th>122207</th>\n",
       "      <td>at London, England</td>\n",
       "      <td>61104</td>\n",
       "    </tr>\n",
       "    <tr>\n",
       "      <th>123916</th>\n",
       "      <td>at Mexico City Arena, Mexico City, Mexico</td>\n",
       "      <td>61959</td>\n",
       "    </tr>\n",
       "    <tr>\n",
       "      <th>123917</th>\n",
       "      <td>at Mexico City Arena, Mexico City, Mexico</td>\n",
       "      <td>61959</td>\n",
       "    </tr>\n",
       "    <tr>\n",
       "      <th>124862</th>\n",
       "      <td>at The O2, London, England</td>\n",
       "      <td>62432</td>\n",
       "    </tr>\n",
       "    <tr>\n",
       "      <th>124863</th>\n",
       "      <td>at The O2, London, England</td>\n",
       "      <td>62432</td>\n",
       "    </tr>\n",
       "  </tbody>\n",
       "</table>\n",
       "<p>5424 rows × 2 columns</p>\n",
       "</div>"
      ],
      "text/plain": [
       "                                            notes  gameorder\n",
       "930          at Baltimore's Fifth Regiment Armory        466\n",
       "931          at Baltimore's Fifth Regiment Armory        466\n",
       "1084                                   Tiebreaker        543\n",
       "1085                                   Tiebreaker        543\n",
       "1088                                   Tiebreaker        545\n",
       "...                                           ...        ...\n",
       "122207                         at London, England      61104\n",
       "123916  at Mexico City Arena, Mexico City, Mexico      61959\n",
       "123917  at Mexico City Arena, Mexico City, Mexico      61959\n",
       "124862                 at The O2, London, England      62432\n",
       "124863                 at The O2, London, England      62432\n",
       "\n",
       "[5424 rows x 2 columns]"
      ]
     },
     "execution_count": 84,
     "metadata": {},
     "output_type": "execute_result"
    }
   ],
   "source": [
    "nba.loc[nba.notes.notnull(),['notes', 'gameorder']]"
   ]
  },
  {
   "cell_type": "code",
   "execution_count": 85,
   "id": "d484fad5-afdb-4b72-b438-15a2498c7824",
   "metadata": {},
   "outputs": [
    {
     "data": {
      "text/html": [
       "<div>\n",
       "<style scoped>\n",
       "    .dataframe tbody tr th:only-of-type {\n",
       "        vertical-align: middle;\n",
       "    }\n",
       "\n",
       "    .dataframe tbody tr th {\n",
       "        vertical-align: top;\n",
       "    }\n",
       "\n",
       "    .dataframe thead th {\n",
       "        text-align: right;\n",
       "    }\n",
       "</style>\n",
       "<table border=\"1\" class=\"dataframe\">\n",
       "  <thead>\n",
       "    <tr style=\"text-align: right;\">\n",
       "      <th></th>\n",
       "      <th>fran_id</th>\n",
       "    </tr>\n",
       "  </thead>\n",
       "  <tbody>\n",
       "    <tr>\n",
       "      <th>7</th>\n",
       "      <td>Steamrollers</td>\n",
       "    </tr>\n",
       "    <tr>\n",
       "      <th>9</th>\n",
       "      <td>Bombers</td>\n",
       "    </tr>\n",
       "    <tr>\n",
       "      <th>16</th>\n",
       "      <td>Bombers</td>\n",
       "    </tr>\n",
       "    <tr>\n",
       "      <th>20</th>\n",
       "      <td>Steamrollers</td>\n",
       "    </tr>\n",
       "    <tr>\n",
       "      <th>22</th>\n",
       "      <td>Bombers</td>\n",
       "    </tr>\n",
       "    <tr>\n",
       "      <th>...</th>\n",
       "      <td>...</td>\n",
       "    </tr>\n",
       "    <tr>\n",
       "      <th>126304</th>\n",
       "      <td>Cavaliers</td>\n",
       "    </tr>\n",
       "    <tr>\n",
       "      <th>126307</th>\n",
       "      <td>Cavaliers</td>\n",
       "    </tr>\n",
       "    <tr>\n",
       "      <th>126309</th>\n",
       "      <td>Cavaliers</td>\n",
       "    </tr>\n",
       "    <tr>\n",
       "      <th>126311</th>\n",
       "      <td>Cavaliers</td>\n",
       "    </tr>\n",
       "    <tr>\n",
       "      <th>126312</th>\n",
       "      <td>Cavaliers</td>\n",
       "    </tr>\n",
       "  </tbody>\n",
       "</table>\n",
       "<p>27797 rows × 1 columns</p>\n",
       "</div>"
      ],
      "text/plain": [
       "             fran_id\n",
       "7       Steamrollers\n",
       "9            Bombers\n",
       "16           Bombers\n",
       "20      Steamrollers\n",
       "22           Bombers\n",
       "...              ...\n",
       "126304     Cavaliers\n",
       "126307     Cavaliers\n",
       "126309     Cavaliers\n",
       "126311     Cavaliers\n",
       "126312     Cavaliers\n",
       "\n",
       "[27797 rows x 1 columns]"
      ]
     },
     "execution_count": 85,
     "metadata": {},
     "output_type": "execute_result"
    }
   ],
   "source": [
    "ers_teams = nba.loc[nba['fran_id'].str.endswith('ers'),[\"fran_id\"]]\n",
    "ers_teams"
   ]
  },
  {
   "cell_type": "markdown",
   "id": "6255e6b2-4832-4266-b150-214cfdf02c3a",
   "metadata": {},
   "source": [
    "## Grouping and Aggregating Your Data"
   ]
  },
  {
   "cell_type": "code",
   "execution_count": 86,
   "id": "022597c4-66a4-48da-8886-65a9becdc748",
   "metadata": {},
   "outputs": [
    {
     "data": {
      "text/plain": [
       "np.int64(8000)"
      ]
     },
     "execution_count": 86,
     "metadata": {},
     "output_type": "execute_result"
    }
   ],
   "source": [
    "city_revenues.max()"
   ]
  },
  {
   "cell_type": "code",
   "execution_count": 87,
   "id": "9651e3dd-0c64-4f6d-b986-feb6c1325194",
   "metadata": {},
   "outputs": [
    {
     "data": {
      "text/plain": [
       "np.int64(12976235)"
      ]
     },
     "execution_count": 87,
     "metadata": {},
     "output_type": "execute_result"
    }
   ],
   "source": [
    "nba['pts'].sum()"
   ]
  },
  {
   "cell_type": "code",
   "execution_count": 88,
   "id": "245b926a-8162-46e7-ba73-469ed5b500f1",
   "metadata": {
    "editable": true,
    "slideshow": {
     "slide_type": ""
    },
    "tags": []
   },
   "outputs": [
    {
     "data": {
      "text/html": [
       "<div>\n",
       "<style scoped>\n",
       "    .dataframe tbody tr th:only-of-type {\n",
       "        vertical-align: middle;\n",
       "    }\n",
       "\n",
       "    .dataframe tbody tr th {\n",
       "        vertical-align: top;\n",
       "    }\n",
       "\n",
       "    .dataframe thead th {\n",
       "        text-align: right;\n",
       "    }\n",
       "</style>\n",
       "<table border=\"1\" class=\"dataframe\">\n",
       "  <thead>\n",
       "    <tr style=\"text-align: right;\">\n",
       "      <th></th>\n",
       "      <th>fran_id</th>\n",
       "      <th>puntos</th>\n",
       "      <th>elo</th>\n",
       "    </tr>\n",
       "  </thead>\n",
       "  <tbody>\n",
       "    <tr>\n",
       "      <th>0</th>\n",
       "      <td>Huskies</td>\n",
       "      <td>3995</td>\n",
       "      <td>60</td>\n",
       "    </tr>\n",
       "    <tr>\n",
       "      <th>1</th>\n",
       "      <td>Knicks</td>\n",
       "      <td>582497</td>\n",
       "      <td>5769</td>\n",
       "    </tr>\n",
       "    <tr>\n",
       "      <th>2</th>\n",
       "      <td>Stags</td>\n",
       "      <td>20398</td>\n",
       "      <td>260</td>\n",
       "    </tr>\n",
       "    <tr>\n",
       "      <th>3</th>\n",
       "      <td>Falcons</td>\n",
       "      <td>3797</td>\n",
       "      <td>60</td>\n",
       "    </tr>\n",
       "    <tr>\n",
       "      <th>4</th>\n",
       "      <td>Capitols</td>\n",
       "      <td>22387</td>\n",
       "      <td>291</td>\n",
       "    </tr>\n",
       "    <tr>\n",
       "      <th>5</th>\n",
       "      <td>Celtics</td>\n",
       "      <td>626484</td>\n",
       "      <td>5997</td>\n",
       "    </tr>\n",
       "    <tr>\n",
       "      <th>6</th>\n",
       "      <td>Steamrollers</td>\n",
       "      <td>12372</td>\n",
       "      <td>168</td>\n",
       "    </tr>\n",
       "    <tr>\n",
       "      <th>7</th>\n",
       "      <td>Ironmen</td>\n",
       "      <td>3674</td>\n",
       "      <td>60</td>\n",
       "    </tr>\n",
       "    <tr>\n",
       "      <th>8</th>\n",
       "      <td>Bombers</td>\n",
       "      <td>17793</td>\n",
       "      <td>249</td>\n",
       "    </tr>\n",
       "    <tr>\n",
       "      <th>9</th>\n",
       "      <td>Rebels</td>\n",
       "      <td>4474</td>\n",
       "      <td>63</td>\n",
       "    </tr>\n",
       "    <tr>\n",
       "      <th>10</th>\n",
       "      <td>Warriors</td>\n",
       "      <td>591224</td>\n",
       "      <td>5657</td>\n",
       "    </tr>\n",
       "    <tr>\n",
       "      <th>11</th>\n",
       "      <td>Baltimore</td>\n",
       "      <td>37219</td>\n",
       "      <td>467</td>\n",
       "    </tr>\n",
       "    <tr>\n",
       "      <th>12</th>\n",
       "      <td>Jets</td>\n",
       "      <td>4482</td>\n",
       "      <td>60</td>\n",
       "    </tr>\n",
       "    <tr>\n",
       "      <th>13</th>\n",
       "      <td>Pistons</td>\n",
       "      <td>572758</td>\n",
       "      <td>5650</td>\n",
       "    </tr>\n",
       "    <tr>\n",
       "      <th>14</th>\n",
       "      <td>Lakers</td>\n",
       "      <td>637444</td>\n",
       "      <td>6024</td>\n",
       "    </tr>\n",
       "    <tr>\n",
       "      <th>15</th>\n",
       "      <td>Kings</td>\n",
       "      <td>569245</td>\n",
       "      <td>5475</td>\n",
       "    </tr>\n",
       "    <tr>\n",
       "      <th>16</th>\n",
       "      <td>Hawks</td>\n",
       "      <td>567261</td>\n",
       "      <td>5572</td>\n",
       "    </tr>\n",
       "    <tr>\n",
       "      <th>17</th>\n",
       "      <td>Denver</td>\n",
       "      <td>4818</td>\n",
       "      <td>62</td>\n",
       "    </tr>\n",
       "    <tr>\n",
       "      <th>18</th>\n",
       "      <td>Olympians</td>\n",
       "      <td>22864</td>\n",
       "      <td>282</td>\n",
       "    </tr>\n",
       "    <tr>\n",
       "      <th>19</th>\n",
       "      <td>Redskins</td>\n",
       "      <td>5372</td>\n",
       "      <td>65</td>\n",
       "    </tr>\n",
       "    <tr>\n",
       "      <th>20</th>\n",
       "      <td>Waterloo</td>\n",
       "      <td>4921</td>\n",
       "      <td>62</td>\n",
       "    </tr>\n",
       "    <tr>\n",
       "      <th>21</th>\n",
       "      <td>Packers</td>\n",
       "      <td>6193</td>\n",
       "      <td>72</td>\n",
       "    </tr>\n",
       "    <tr>\n",
       "      <th>22</th>\n",
       "      <td>Sixers</td>\n",
       "      <td>585891</td>\n",
       "      <td>5644</td>\n",
       "    </tr>\n",
       "    <tr>\n",
       "      <th>23</th>\n",
       "      <td>Wizards</td>\n",
       "      <td>474809</td>\n",
       "      <td>4582</td>\n",
       "    </tr>\n",
       "    <tr>\n",
       "      <th>24</th>\n",
       "      <td>Bulls</td>\n",
       "      <td>437269</td>\n",
       "      <td>4307</td>\n",
       "    </tr>\n",
       "    <tr>\n",
       "      <th>25</th>\n",
       "      <td>Thunder</td>\n",
       "      <td>437735</td>\n",
       "      <td>4178</td>\n",
       "    </tr>\n",
       "    <tr>\n",
       "      <th>26</th>\n",
       "      <td>Squires</td>\n",
       "      <td>91127</td>\n",
       "      <td>799</td>\n",
       "    </tr>\n",
       "    <tr>\n",
       "      <th>27</th>\n",
       "      <td>Stars</td>\n",
       "      <td>84940</td>\n",
       "      <td>756</td>\n",
       "    </tr>\n",
       "    <tr>\n",
       "      <th>28</th>\n",
       "      <td>Rockets</td>\n",
       "      <td>432504</td>\n",
       "      <td>4154</td>\n",
       "    </tr>\n",
       "    <tr>\n",
       "      <th>29</th>\n",
       "      <td>Colonels</td>\n",
       "      <td>94435</td>\n",
       "      <td>846</td>\n",
       "    </tr>\n",
       "    <tr>\n",
       "      <th>30</th>\n",
       "      <td>Pacers</td>\n",
       "      <td>438288</td>\n",
       "      <td>4227</td>\n",
       "    </tr>\n",
       "    <tr>\n",
       "      <th>31</th>\n",
       "      <td>Nuggets</td>\n",
       "      <td>445780</td>\n",
       "      <td>4120</td>\n",
       "    </tr>\n",
       "    <tr>\n",
       "      <th>32</th>\n",
       "      <td>Spurs</td>\n",
       "      <td>453822</td>\n",
       "      <td>4309</td>\n",
       "    </tr>\n",
       "    <tr>\n",
       "      <th>33</th>\n",
       "      <td>Spirits</td>\n",
       "      <td>85874</td>\n",
       "      <td>777</td>\n",
       "    </tr>\n",
       "    <tr>\n",
       "      <th>34</th>\n",
       "      <td>Sounds</td>\n",
       "      <td>75582</td>\n",
       "      <td>697</td>\n",
       "    </tr>\n",
       "    <tr>\n",
       "      <th>35</th>\n",
       "      <td>Floridians</td>\n",
       "      <td>49568</td>\n",
       "      <td>440</td>\n",
       "    </tr>\n",
       "    <tr>\n",
       "      <th>36</th>\n",
       "      <td>Nets</td>\n",
       "      <td>417809</td>\n",
       "      <td>4106</td>\n",
       "    </tr>\n",
       "    <tr>\n",
       "      <th>37</th>\n",
       "      <td>Condors</td>\n",
       "      <td>49642</td>\n",
       "      <td>430</td>\n",
       "    </tr>\n",
       "    <tr>\n",
       "      <th>38</th>\n",
       "      <td>Bucks</td>\n",
       "      <td>418326</td>\n",
       "      <td>4034</td>\n",
       "    </tr>\n",
       "    <tr>\n",
       "      <th>39</th>\n",
       "      <td>Suns</td>\n",
       "      <td>437486</td>\n",
       "      <td>4080</td>\n",
       "    </tr>\n",
       "    <tr>\n",
       "      <th>40</th>\n",
       "      <td>Clippers</td>\n",
       "      <td>380523</td>\n",
       "      <td>3733</td>\n",
       "    </tr>\n",
       "    <tr>\n",
       "      <th>41</th>\n",
       "      <td>Cavaliers</td>\n",
       "      <td>380416</td>\n",
       "      <td>3810</td>\n",
       "    </tr>\n",
       "    <tr>\n",
       "      <th>42</th>\n",
       "      <td>Trailblazers</td>\n",
       "      <td>402695</td>\n",
       "      <td>3870</td>\n",
       "    </tr>\n",
       "    <tr>\n",
       "      <th>43</th>\n",
       "      <td>Sails</td>\n",
       "      <td>30080</td>\n",
       "      <td>274</td>\n",
       "    </tr>\n",
       "    <tr>\n",
       "      <th>44</th>\n",
       "      <td>Jazz</td>\n",
       "      <td>363155</td>\n",
       "      <td>3555</td>\n",
       "    </tr>\n",
       "    <tr>\n",
       "      <th>45</th>\n",
       "      <td>Mavericks</td>\n",
       "      <td>309239</td>\n",
       "      <td>3013</td>\n",
       "    </tr>\n",
       "    <tr>\n",
       "      <th>46</th>\n",
       "      <td>Pelicans</td>\n",
       "      <td>220794</td>\n",
       "      <td>2254</td>\n",
       "    </tr>\n",
       "    <tr>\n",
       "      <th>47</th>\n",
       "      <td>Heat</td>\n",
       "      <td>229103</td>\n",
       "      <td>2371</td>\n",
       "    </tr>\n",
       "    <tr>\n",
       "      <th>48</th>\n",
       "      <td>Timberwolves</td>\n",
       "      <td>207693</td>\n",
       "      <td>2131</td>\n",
       "    </tr>\n",
       "    <tr>\n",
       "      <th>49</th>\n",
       "      <td>Magic</td>\n",
       "      <td>219436</td>\n",
       "      <td>2207</td>\n",
       "    </tr>\n",
       "    <tr>\n",
       "      <th>50</th>\n",
       "      <td>Grizzlies</td>\n",
       "      <td>157683</td>\n",
       "      <td>1657</td>\n",
       "    </tr>\n",
       "    <tr>\n",
       "      <th>51</th>\n",
       "      <td>Raptors</td>\n",
       "      <td>158370</td>\n",
       "      <td>1634</td>\n",
       "    </tr>\n",
       "    <tr>\n",
       "      <th>52</th>\n",
       "      <td>Hornets</td>\n",
       "      <td>84489</td>\n",
       "      <td>894</td>\n",
       "    </tr>\n",
       "  </tbody>\n",
       "</table>\n",
       "</div>"
      ],
      "text/plain": [
       "         fran_id  puntos   elo\n",
       "0        Huskies    3995    60\n",
       "1         Knicks  582497  5769\n",
       "2          Stags   20398   260\n",
       "3        Falcons    3797    60\n",
       "4       Capitols   22387   291\n",
       "5        Celtics  626484  5997\n",
       "6   Steamrollers   12372   168\n",
       "7        Ironmen    3674    60\n",
       "8        Bombers   17793   249\n",
       "9         Rebels    4474    63\n",
       "10      Warriors  591224  5657\n",
       "11     Baltimore   37219   467\n",
       "12          Jets    4482    60\n",
       "13       Pistons  572758  5650\n",
       "14        Lakers  637444  6024\n",
       "15         Kings  569245  5475\n",
       "16         Hawks  567261  5572\n",
       "17        Denver    4818    62\n",
       "18     Olympians   22864   282\n",
       "19      Redskins    5372    65\n",
       "20      Waterloo    4921    62\n",
       "21       Packers    6193    72\n",
       "22        Sixers  585891  5644\n",
       "23       Wizards  474809  4582\n",
       "24         Bulls  437269  4307\n",
       "25       Thunder  437735  4178\n",
       "26       Squires   91127   799\n",
       "27         Stars   84940   756\n",
       "28       Rockets  432504  4154\n",
       "29      Colonels   94435   846\n",
       "30        Pacers  438288  4227\n",
       "31       Nuggets  445780  4120\n",
       "32         Spurs  453822  4309\n",
       "33       Spirits   85874   777\n",
       "34        Sounds   75582   697\n",
       "35    Floridians   49568   440\n",
       "36          Nets  417809  4106\n",
       "37       Condors   49642   430\n",
       "38         Bucks  418326  4034\n",
       "39          Suns  437486  4080\n",
       "40      Clippers  380523  3733\n",
       "41     Cavaliers  380416  3810\n",
       "42  Trailblazers  402695  3870\n",
       "43         Sails   30080   274\n",
       "44          Jazz  363155  3555\n",
       "45     Mavericks  309239  3013\n",
       "46      Pelicans  220794  2254\n",
       "47          Heat  229103  2371\n",
       "48  Timberwolves  207693  2131\n",
       "49         Magic  219436  2207\n",
       "50     Grizzlies  157683  1657\n",
       "51       Raptors  158370  1634\n",
       "52       Hornets   84489   894"
      ]
     },
     "execution_count": 88,
     "metadata": {},
     "output_type": "execute_result"
    }
   ],
   "source": [
    "nba.groupby('fran_id', sort=False, as_index=False).agg(puntos=('pts', 'sum'),elo=('opp_elo_i', 'count'))\n"
   ]
  },
  {
   "cell_type": "code",
   "execution_count": 89,
   "id": "8e9b3249-dfd2-46c1-9842-5cc467124095",
   "metadata": {},
   "outputs": [
    {
     "data": {
      "text/html": [
       "<div>\n",
       "<style scoped>\n",
       "    .dataframe tbody tr th:only-of-type {\n",
       "        vertical-align: middle;\n",
       "    }\n",
       "\n",
       "    .dataframe tbody tr th {\n",
       "        vertical-align: top;\n",
       "    }\n",
       "\n",
       "    .dataframe thead th {\n",
       "        text-align: right;\n",
       "    }\n",
       "</style>\n",
       "<table border=\"1\" class=\"dataframe\">\n",
       "  <thead>\n",
       "    <tr style=\"text-align: right;\">\n",
       "      <th></th>\n",
       "      <th>gameorder</th>\n",
       "      <th>game_id</th>\n",
       "      <th>lg_id</th>\n",
       "      <th>_iscopy</th>\n",
       "      <th>year_id</th>\n",
       "      <th>date_game</th>\n",
       "      <th>seasongame</th>\n",
       "      <th>is_playoffs</th>\n",
       "      <th>team_id</th>\n",
       "      <th>fran_id</th>\n",
       "      <th>pts</th>\n",
       "      <th>elo_i</th>\n",
       "      <th>elo_n</th>\n",
       "      <th>win_equiv</th>\n",
       "      <th>opp_id</th>\n",
       "      <th>opp_fran</th>\n",
       "      <th>opp_pts</th>\n",
       "      <th>opp_elo_i</th>\n",
       "      <th>opp_elo_n</th>\n",
       "      <th>game_location</th>\n",
       "      <th>game_result</th>\n",
       "      <th>forecast</th>\n",
       "      <th>notes</th>\n",
       "      <th>date_played</th>\n",
       "    </tr>\n",
       "  </thead>\n",
       "  <tbody>\n",
       "    <tr>\n",
       "      <th>0</th>\n",
       "      <td>1</td>\n",
       "      <td>194611010TRH</td>\n",
       "      <td>NBA</td>\n",
       "      <td>0</td>\n",
       "      <td>1947</td>\n",
       "      <td>11/1/1946</td>\n",
       "      <td>1</td>\n",
       "      <td>0</td>\n",
       "      <td>TRH</td>\n",
       "      <td>Huskies</td>\n",
       "      <td>66</td>\n",
       "      <td>1300.00</td>\n",
       "      <td>1293.28</td>\n",
       "      <td>40.29</td>\n",
       "      <td>NYK</td>\n",
       "      <td>Knicks</td>\n",
       "      <td>68</td>\n",
       "      <td>1300.00</td>\n",
       "      <td>1306.72</td>\n",
       "      <td>H</td>\n",
       "      <td>L</td>\n",
       "      <td>0.64</td>\n",
       "      <td>NaN</td>\n",
       "      <td>1946-11-01</td>\n",
       "    </tr>\n",
       "    <tr>\n",
       "      <th>1</th>\n",
       "      <td>1</td>\n",
       "      <td>194611010TRH</td>\n",
       "      <td>NBA</td>\n",
       "      <td>1</td>\n",
       "      <td>1947</td>\n",
       "      <td>11/1/1946</td>\n",
       "      <td>1</td>\n",
       "      <td>0</td>\n",
       "      <td>NYK</td>\n",
       "      <td>Knicks</td>\n",
       "      <td>68</td>\n",
       "      <td>1300.00</td>\n",
       "      <td>1306.72</td>\n",
       "      <td>41.71</td>\n",
       "      <td>TRH</td>\n",
       "      <td>Huskies</td>\n",
       "      <td>66</td>\n",
       "      <td>1300.00</td>\n",
       "      <td>1293.28</td>\n",
       "      <td>A</td>\n",
       "      <td>W</td>\n",
       "      <td>0.36</td>\n",
       "      <td>NaN</td>\n",
       "      <td>1946-11-01</td>\n",
       "    </tr>\n",
       "    <tr>\n",
       "      <th>2</th>\n",
       "      <td>2</td>\n",
       "      <td>194611020CHS</td>\n",
       "      <td>NBA</td>\n",
       "      <td>0</td>\n",
       "      <td>1947</td>\n",
       "      <td>11/2/1946</td>\n",
       "      <td>1</td>\n",
       "      <td>0</td>\n",
       "      <td>CHS</td>\n",
       "      <td>Stags</td>\n",
       "      <td>63</td>\n",
       "      <td>1300.00</td>\n",
       "      <td>1309.65</td>\n",
       "      <td>42.01</td>\n",
       "      <td>NYK</td>\n",
       "      <td>Knicks</td>\n",
       "      <td>47</td>\n",
       "      <td>1306.72</td>\n",
       "      <td>1297.07</td>\n",
       "      <td>H</td>\n",
       "      <td>W</td>\n",
       "      <td>0.63</td>\n",
       "      <td>NaN</td>\n",
       "      <td>1946-11-02</td>\n",
       "    </tr>\n",
       "    <tr>\n",
       "      <th>3</th>\n",
       "      <td>2</td>\n",
       "      <td>194611020CHS</td>\n",
       "      <td>NBA</td>\n",
       "      <td>1</td>\n",
       "      <td>1947</td>\n",
       "      <td>11/2/1946</td>\n",
       "      <td>2</td>\n",
       "      <td>0</td>\n",
       "      <td>NYK</td>\n",
       "      <td>Knicks</td>\n",
       "      <td>47</td>\n",
       "      <td>1306.72</td>\n",
       "      <td>1297.07</td>\n",
       "      <td>40.69</td>\n",
       "      <td>CHS</td>\n",
       "      <td>Stags</td>\n",
       "      <td>63</td>\n",
       "      <td>1300.00</td>\n",
       "      <td>1309.65</td>\n",
       "      <td>A</td>\n",
       "      <td>L</td>\n",
       "      <td>0.37</td>\n",
       "      <td>NaN</td>\n",
       "      <td>1946-11-02</td>\n",
       "    </tr>\n",
       "    <tr>\n",
       "      <th>4</th>\n",
       "      <td>3</td>\n",
       "      <td>194611020DTF</td>\n",
       "      <td>NBA</td>\n",
       "      <td>0</td>\n",
       "      <td>1947</td>\n",
       "      <td>11/2/1946</td>\n",
       "      <td>1</td>\n",
       "      <td>0</td>\n",
       "      <td>DTF</td>\n",
       "      <td>Falcons</td>\n",
       "      <td>33</td>\n",
       "      <td>1300.00</td>\n",
       "      <td>1279.62</td>\n",
       "      <td>38.86</td>\n",
       "      <td>WSC</td>\n",
       "      <td>Capitols</td>\n",
       "      <td>50</td>\n",
       "      <td>1300.00</td>\n",
       "      <td>1320.38</td>\n",
       "      <td>H</td>\n",
       "      <td>L</td>\n",
       "      <td>0.64</td>\n",
       "      <td>NaN</td>\n",
       "      <td>1946-11-02</td>\n",
       "    </tr>\n",
       "    <tr>\n",
       "      <th>...</th>\n",
       "      <td>...</td>\n",
       "      <td>...</td>\n",
       "      <td>...</td>\n",
       "      <td>...</td>\n",
       "      <td>...</td>\n",
       "      <td>...</td>\n",
       "      <td>...</td>\n",
       "      <td>...</td>\n",
       "      <td>...</td>\n",
       "      <td>...</td>\n",
       "      <td>...</td>\n",
       "      <td>...</td>\n",
       "      <td>...</td>\n",
       "      <td>...</td>\n",
       "      <td>...</td>\n",
       "      <td>...</td>\n",
       "      <td>...</td>\n",
       "      <td>...</td>\n",
       "      <td>...</td>\n",
       "      <td>...</td>\n",
       "      <td>...</td>\n",
       "      <td>...</td>\n",
       "      <td>...</td>\n",
       "      <td>...</td>\n",
       "    </tr>\n",
       "    <tr>\n",
       "      <th>126309</th>\n",
       "      <td>63155</td>\n",
       "      <td>201506110CLE</td>\n",
       "      <td>NBA</td>\n",
       "      <td>0</td>\n",
       "      <td>2015</td>\n",
       "      <td>6/11/2015</td>\n",
       "      <td>100</td>\n",
       "      <td>1</td>\n",
       "      <td>CLE</td>\n",
       "      <td>Cavaliers</td>\n",
       "      <td>82</td>\n",
       "      <td>1723.41</td>\n",
       "      <td>1704.39</td>\n",
       "      <td>60.31</td>\n",
       "      <td>GSW</td>\n",
       "      <td>Warriors</td>\n",
       "      <td>103</td>\n",
       "      <td>1790.96</td>\n",
       "      <td>1809.98</td>\n",
       "      <td>H</td>\n",
       "      <td>L</td>\n",
       "      <td>0.55</td>\n",
       "      <td>NaN</td>\n",
       "      <td>2015-06-11</td>\n",
       "    </tr>\n",
       "    <tr>\n",
       "      <th>126310</th>\n",
       "      <td>63156</td>\n",
       "      <td>201506140GSW</td>\n",
       "      <td>NBA</td>\n",
       "      <td>0</td>\n",
       "      <td>2015</td>\n",
       "      <td>6/14/2015</td>\n",
       "      <td>102</td>\n",
       "      <td>1</td>\n",
       "      <td>GSW</td>\n",
       "      <td>Warriors</td>\n",
       "      <td>104</td>\n",
       "      <td>1809.98</td>\n",
       "      <td>1813.63</td>\n",
       "      <td>68.01</td>\n",
       "      <td>CLE</td>\n",
       "      <td>Cavaliers</td>\n",
       "      <td>91</td>\n",
       "      <td>1704.39</td>\n",
       "      <td>1700.74</td>\n",
       "      <td>H</td>\n",
       "      <td>W</td>\n",
       "      <td>0.77</td>\n",
       "      <td>NaN</td>\n",
       "      <td>2015-06-14</td>\n",
       "    </tr>\n",
       "    <tr>\n",
       "      <th>126311</th>\n",
       "      <td>63156</td>\n",
       "      <td>201506140GSW</td>\n",
       "      <td>NBA</td>\n",
       "      <td>1</td>\n",
       "      <td>2015</td>\n",
       "      <td>6/14/2015</td>\n",
       "      <td>101</td>\n",
       "      <td>1</td>\n",
       "      <td>CLE</td>\n",
       "      <td>Cavaliers</td>\n",
       "      <td>91</td>\n",
       "      <td>1704.39</td>\n",
       "      <td>1700.74</td>\n",
       "      <td>60.01</td>\n",
       "      <td>GSW</td>\n",
       "      <td>Warriors</td>\n",
       "      <td>104</td>\n",
       "      <td>1809.98</td>\n",
       "      <td>1813.63</td>\n",
       "      <td>A</td>\n",
       "      <td>L</td>\n",
       "      <td>0.23</td>\n",
       "      <td>NaN</td>\n",
       "      <td>2015-06-14</td>\n",
       "    </tr>\n",
       "    <tr>\n",
       "      <th>126312</th>\n",
       "      <td>63157</td>\n",
       "      <td>201506170CLE</td>\n",
       "      <td>NBA</td>\n",
       "      <td>0</td>\n",
       "      <td>2015</td>\n",
       "      <td>6/16/2015</td>\n",
       "      <td>102</td>\n",
       "      <td>1</td>\n",
       "      <td>CLE</td>\n",
       "      <td>Cavaliers</td>\n",
       "      <td>97</td>\n",
       "      <td>1700.74</td>\n",
       "      <td>1692.09</td>\n",
       "      <td>59.29</td>\n",
       "      <td>GSW</td>\n",
       "      <td>Warriors</td>\n",
       "      <td>105</td>\n",
       "      <td>1813.63</td>\n",
       "      <td>1822.29</td>\n",
       "      <td>H</td>\n",
       "      <td>L</td>\n",
       "      <td>0.48</td>\n",
       "      <td>NaN</td>\n",
       "      <td>2015-06-16</td>\n",
       "    </tr>\n",
       "    <tr>\n",
       "      <th>126313</th>\n",
       "      <td>63157</td>\n",
       "      <td>201506170CLE</td>\n",
       "      <td>NBA</td>\n",
       "      <td>1</td>\n",
       "      <td>2015</td>\n",
       "      <td>6/16/2015</td>\n",
       "      <td>103</td>\n",
       "      <td>1</td>\n",
       "      <td>GSW</td>\n",
       "      <td>Warriors</td>\n",
       "      <td>105</td>\n",
       "      <td>1813.63</td>\n",
       "      <td>1822.29</td>\n",
       "      <td>68.52</td>\n",
       "      <td>CLE</td>\n",
       "      <td>Cavaliers</td>\n",
       "      <td>97</td>\n",
       "      <td>1700.74</td>\n",
       "      <td>1692.09</td>\n",
       "      <td>A</td>\n",
       "      <td>W</td>\n",
       "      <td>0.52</td>\n",
       "      <td>NaN</td>\n",
       "      <td>2015-06-16</td>\n",
       "    </tr>\n",
       "  </tbody>\n",
       "</table>\n",
       "<p>126314 rows × 24 columns</p>\n",
       "</div>"
      ],
      "text/plain": [
       "        gameorder       game_id lg_id  _iscopy  year_id  date_game  \\\n",
       "0               1  194611010TRH   NBA        0     1947  11/1/1946   \n",
       "1               1  194611010TRH   NBA        1     1947  11/1/1946   \n",
       "2               2  194611020CHS   NBA        0     1947  11/2/1946   \n",
       "3               2  194611020CHS   NBA        1     1947  11/2/1946   \n",
       "4               3  194611020DTF   NBA        0     1947  11/2/1946   \n",
       "...           ...           ...   ...      ...      ...        ...   \n",
       "126309      63155  201506110CLE   NBA        0     2015  6/11/2015   \n",
       "126310      63156  201506140GSW   NBA        0     2015  6/14/2015   \n",
       "126311      63156  201506140GSW   NBA        1     2015  6/14/2015   \n",
       "126312      63157  201506170CLE   NBA        0     2015  6/16/2015   \n",
       "126313      63157  201506170CLE   NBA        1     2015  6/16/2015   \n",
       "\n",
       "        seasongame  is_playoffs team_id    fran_id  pts    elo_i    elo_n  \\\n",
       "0                1            0     TRH    Huskies   66  1300.00  1293.28   \n",
       "1                1            0     NYK     Knicks   68  1300.00  1306.72   \n",
       "2                1            0     CHS      Stags   63  1300.00  1309.65   \n",
       "3                2            0     NYK     Knicks   47  1306.72  1297.07   \n",
       "4                1            0     DTF    Falcons   33  1300.00  1279.62   \n",
       "...            ...          ...     ...        ...  ...      ...      ...   \n",
       "126309         100            1     CLE  Cavaliers   82  1723.41  1704.39   \n",
       "126310         102            1     GSW   Warriors  104  1809.98  1813.63   \n",
       "126311         101            1     CLE  Cavaliers   91  1704.39  1700.74   \n",
       "126312         102            1     CLE  Cavaliers   97  1700.74  1692.09   \n",
       "126313         103            1     GSW   Warriors  105  1813.63  1822.29   \n",
       "\n",
       "        win_equiv opp_id   opp_fran  opp_pts  opp_elo_i  opp_elo_n  \\\n",
       "0           40.29    NYK     Knicks       68    1300.00    1306.72   \n",
       "1           41.71    TRH    Huskies       66    1300.00    1293.28   \n",
       "2           42.01    NYK     Knicks       47    1306.72    1297.07   \n",
       "3           40.69    CHS      Stags       63    1300.00    1309.65   \n",
       "4           38.86    WSC   Capitols       50    1300.00    1320.38   \n",
       "...           ...    ...        ...      ...        ...        ...   \n",
       "126309      60.31    GSW   Warriors      103    1790.96    1809.98   \n",
       "126310      68.01    CLE  Cavaliers       91    1704.39    1700.74   \n",
       "126311      60.01    GSW   Warriors      104    1809.98    1813.63   \n",
       "126312      59.29    GSW   Warriors      105    1813.63    1822.29   \n",
       "126313      68.52    CLE  Cavaliers       97    1700.74    1692.09   \n",
       "\n",
       "       game_location game_result  forecast notes date_played  \n",
       "0                  H           L      0.64   NaN  1946-11-01  \n",
       "1                  A           W      0.36   NaN  1946-11-01  \n",
       "2                  H           W      0.63   NaN  1946-11-02  \n",
       "3                  A           L      0.37   NaN  1946-11-02  \n",
       "4                  H           L      0.64   NaN  1946-11-02  \n",
       "...              ...         ...       ...   ...         ...  \n",
       "126309             H           L      0.55   NaN  2015-06-11  \n",
       "126310             H           W      0.77   NaN  2015-06-14  \n",
       "126311             A           L      0.23   NaN  2015-06-14  \n",
       "126312             H           L      0.48   NaN  2015-06-16  \n",
       "126313             A           W      0.52   NaN  2015-06-16  \n",
       "\n",
       "[126314 rows x 24 columns]"
      ]
     },
     "execution_count": 89,
     "metadata": {},
     "output_type": "execute_result"
    }
   ],
   "source": [
    "nba"
   ]
  },
  {
   "cell_type": "code",
   "execution_count": 90,
   "id": "f4ce4c2a-ff66-4e32-85eb-289e8739534d",
   "metadata": {
    "editable": true,
    "slideshow": {
     "slide_type": ""
    },
    "tags": []
   },
   "outputs": [
    {
     "data": {
      "text/html": [
       "<div>\n",
       "<style scoped>\n",
       "    .dataframe tbody tr th:only-of-type {\n",
       "        vertical-align: middle;\n",
       "    }\n",
       "\n",
       "    .dataframe tbody tr th {\n",
       "        vertical-align: top;\n",
       "    }\n",
       "\n",
       "    .dataframe thead th {\n",
       "        text-align: right;\n",
       "    }\n",
       "</style>\n",
       "<table border=\"1\" class=\"dataframe\">\n",
       "  <thead>\n",
       "    <tr style=\"text-align: right;\">\n",
       "      <th></th>\n",
       "      <th>is_playoffs</th>\n",
       "      <th>game_result</th>\n",
       "      <th>Current_year</th>\n",
       "    </tr>\n",
       "  </thead>\n",
       "  <tbody>\n",
       "    <tr>\n",
       "      <th>0</th>\n",
       "      <td>0</td>\n",
       "      <td>L</td>\n",
       "      <td>15</td>\n",
       "    </tr>\n",
       "    <tr>\n",
       "      <th>1</th>\n",
       "      <td>0</td>\n",
       "      <td>W</td>\n",
       "      <td>67</td>\n",
       "    </tr>\n",
       "    <tr>\n",
       "      <th>2</th>\n",
       "      <td>1</td>\n",
       "      <td>L</td>\n",
       "      <td>5</td>\n",
       "    </tr>\n",
       "    <tr>\n",
       "      <th>3</th>\n",
       "      <td>1</td>\n",
       "      <td>W</td>\n",
       "      <td>16</td>\n",
       "    </tr>\n",
       "  </tbody>\n",
       "</table>\n",
       "</div>"
      ],
      "text/plain": [
       "   is_playoffs game_result  Current_year\n",
       "0            0           L            15\n",
       "1            0           W            67\n",
       "2            1           L             5\n",
       "3            1           W            16"
      ]
     },
     "execution_count": 90,
     "metadata": {},
     "output_type": "execute_result"
    }
   ],
   "source": [
    "nba[\n",
    "(nba['fran_id'] == 'Warriors') &\n",
    "(nba['year_id'] == 2015)\n",
    "].groupby(['is_playoffs', 'game_result'], as_index=False).agg(Current_year=('game_id', 'count'))"
   ]
  },
  {
   "cell_type": "markdown",
   "id": "8f99c01c-290a-4ac3-b960-f32a6a119570",
   "metadata": {},
   "source": [
    "## Changing Columns in a DataFrame"
   ]
  },
  {
   "cell_type": "code",
   "execution_count": 91,
   "id": "b9e87ad4-d8c4-4179-96cd-cff5c41c90e6",
   "metadata": {},
   "outputs": [],
   "source": [
    "nba_copy = nba.copy()"
   ]
  },
  {
   "cell_type": "code",
   "execution_count": 92,
   "id": "d4ca8838-b46b-4d2e-8286-bfccb022d708",
   "metadata": {},
   "outputs": [
    {
     "data": {
      "text/plain": [
       "Index(['gameorder', 'game_id', 'lg_id', '_iscopy', 'year_id', 'date_game',\n",
       "       'seasongame', 'is_playoffs', 'team_id', 'fran_id', 'pts', 'elo_i',\n",
       "       'elo_n', 'win_equiv', 'opp_id', 'opp_fran', 'opp_pts', 'opp_elo_i',\n",
       "       'opp_elo_n', 'game_location', 'game_result', 'forecast', 'notes',\n",
       "       'date_played'],\n",
       "      dtype='object')"
      ]
     },
     "execution_count": 92,
     "metadata": {},
     "output_type": "execute_result"
    }
   ],
   "source": [
    "nba_copy.columns"
   ]
  },
  {
   "cell_type": "code",
   "execution_count": 93,
   "id": "9de7fd1a-8b41-48d6-9801-db47826d1b25",
   "metadata": {},
   "outputs": [],
   "source": [
    "nba_copy['difference'] = nba_copy['pts'] - nba_copy['opp_pts']"
   ]
  },
  {
   "cell_type": "code",
   "execution_count": 94,
   "id": "ae488dbd-bc0f-45fc-a9ae-ba2e501906e9",
   "metadata": {},
   "outputs": [
    {
     "data": {
      "text/plain": [
       "RangeIndex(start=0, stop=126314, step=1)"
      ]
     },
     "execution_count": 94,
     "metadata": {},
     "output_type": "execute_result"
    }
   ],
   "source": [
    "nba_copy.index"
   ]
  },
  {
   "cell_type": "code",
   "execution_count": 95,
   "id": "06a2d5e1-e029-4307-bb02-719d54ee3af8",
   "metadata": {},
   "outputs": [],
   "source": [
    "nba_copy.rename(columns={\n",
    "    'game_result': 'result',\n",
    "    'game_location':'location'\n",
    "}, inplace=True\n",
    "                          )"
   ]
  },
  {
   "cell_type": "code",
   "execution_count": 96,
   "id": "88c78e99-1b5b-423e-bbda-e98b659e1efe",
   "metadata": {},
   "outputs": [
    {
     "name": "stdout",
     "output_type": "stream",
     "text": [
      "<class 'pandas.core.frame.DataFrame'>\n",
      "RangeIndex: 126314 entries, 0 to 126313\n",
      "Data columns (total 25 columns):\n",
      " #   Column       Non-Null Count   Dtype         \n",
      "---  ------       --------------   -----         \n",
      " 0   gameorder    126314 non-null  int64         \n",
      " 1   game_id      126314 non-null  object        \n",
      " 2   lg_id        126314 non-null  object        \n",
      " 3   _iscopy      126314 non-null  int64         \n",
      " 4   year_id      126314 non-null  int64         \n",
      " 5   date_game    126314 non-null  object        \n",
      " 6   seasongame   126314 non-null  int64         \n",
      " 7   is_playoffs  126314 non-null  int64         \n",
      " 8   team_id      126314 non-null  object        \n",
      " 9   fran_id      126314 non-null  object        \n",
      " 10  pts          126314 non-null  int64         \n",
      " 11  elo_i        126314 non-null  float64       \n",
      " 12  elo_n        126314 non-null  float64       \n",
      " 13  win_equiv    126314 non-null  float64       \n",
      " 14  opp_id       126314 non-null  object        \n",
      " 15  opp_fran     126314 non-null  object        \n",
      " 16  opp_pts      126314 non-null  int64         \n",
      " 17  opp_elo_i    126314 non-null  float64       \n",
      " 18  opp_elo_n    126314 non-null  float64       \n",
      " 19  location     126314 non-null  object        \n",
      " 20  result       126314 non-null  object        \n",
      " 21  forecast     126314 non-null  float64       \n",
      " 22  notes        5424 non-null    object        \n",
      " 23  date_played  126314 non-null  datetime64[ns]\n",
      " 24  difference   126314 non-null  int64         \n",
      "dtypes: datetime64[ns](1), float64(6), int64(8), object(10)\n",
      "memory usage: 24.1+ MB\n"
     ]
    }
   ],
   "source": [
    "nba_copy.info()"
   ]
  },
  {
   "cell_type": "code",
   "execution_count": 97,
   "id": "e4037bd7-1ecd-4c32-aa00-775527bf3334",
   "metadata": {},
   "outputs": [],
   "source": [
    "elo_columns = ['elo_i','elo_n', 'opp_elo_i','opp_elo_n']\n",
    "nba_copy.drop(elo_columns, axis=1, inplace=True)"
   ]
  },
  {
   "cell_type": "code",
   "execution_count": 98,
   "id": "0f637d1c-52aa-4075-8c4c-32ff6aef9818",
   "metadata": {},
   "outputs": [
    {
     "name": "stdout",
     "output_type": "stream",
     "text": [
      "<class 'pandas.core.frame.DataFrame'>\n",
      "RangeIndex: 126314 entries, 0 to 126313\n",
      "Data columns (total 21 columns):\n",
      " #   Column       Non-Null Count   Dtype         \n",
      "---  ------       --------------   -----         \n",
      " 0   gameorder    126314 non-null  int64         \n",
      " 1   game_id      126314 non-null  object        \n",
      " 2   lg_id        126314 non-null  object        \n",
      " 3   _iscopy      126314 non-null  int64         \n",
      " 4   year_id      126314 non-null  int64         \n",
      " 5   date_game    126314 non-null  object        \n",
      " 6   seasongame   126314 non-null  int64         \n",
      " 7   is_playoffs  126314 non-null  int64         \n",
      " 8   team_id      126314 non-null  object        \n",
      " 9   fran_id      126314 non-null  object        \n",
      " 10  pts          126314 non-null  int64         \n",
      " 11  win_equiv    126314 non-null  float64       \n",
      " 12  opp_id       126314 non-null  object        \n",
      " 13  opp_fran     126314 non-null  object        \n",
      " 14  opp_pts      126314 non-null  int64         \n",
      " 15  location     126314 non-null  object        \n",
      " 16  result       126314 non-null  object        \n",
      " 17  forecast     126314 non-null  float64       \n",
      " 18  notes        5424 non-null    object        \n",
      " 19  date_played  126314 non-null  datetime64[ns]\n",
      " 20  difference   126314 non-null  int64         \n",
      "dtypes: datetime64[ns](1), float64(2), int64(8), object(10)\n",
      "memory usage: 20.2+ MB\n"
     ]
    }
   ],
   "source": [
    "nba_copy.info()"
   ]
  },
  {
   "cell_type": "markdown",
   "id": "53746d07-45fb-4f0f-826d-43b56abc3ee2",
   "metadata": {},
   "source": [
    "## Specifying Data Types\n"
   ]
  },
  {
   "cell_type": "code",
   "execution_count": 99,
   "id": "f6e8e1e9-2df0-446b-8b07-0d00976a42c3",
   "metadata": {},
   "outputs": [
    {
     "name": "stdout",
     "output_type": "stream",
     "text": [
      "<class 'pandas.core.frame.DataFrame'>\n",
      "RangeIndex: 126314 entries, 0 to 126313\n",
      "Data columns (total 24 columns):\n",
      " #   Column         Non-Null Count   Dtype         \n",
      "---  ------         --------------   -----         \n",
      " 0   gameorder      126314 non-null  int64         \n",
      " 1   game_id        126314 non-null  object        \n",
      " 2   lg_id          126314 non-null  object        \n",
      " 3   _iscopy        126314 non-null  int64         \n",
      " 4   year_id        126314 non-null  int64         \n",
      " 5   date_game      126314 non-null  object        \n",
      " 6   seasongame     126314 non-null  int64         \n",
      " 7   is_playoffs    126314 non-null  int64         \n",
      " 8   team_id        126314 non-null  object        \n",
      " 9   fran_id        126314 non-null  object        \n",
      " 10  pts            126314 non-null  int64         \n",
      " 11  elo_i          126314 non-null  float64       \n",
      " 12  elo_n          126314 non-null  float64       \n",
      " 13  win_equiv      126314 non-null  float64       \n",
      " 14  opp_id         126314 non-null  object        \n",
      " 15  opp_fran       126314 non-null  object        \n",
      " 16  opp_pts        126314 non-null  int64         \n",
      " 17  opp_elo_i      126314 non-null  float64       \n",
      " 18  opp_elo_n      126314 non-null  float64       \n",
      " 19  game_location  126314 non-null  object        \n",
      " 20  game_result    126314 non-null  object        \n",
      " 21  forecast       126314 non-null  float64       \n",
      " 22  notes          5424 non-null    object        \n",
      " 23  date_played    126314 non-null  datetime64[ns]\n",
      "dtypes: datetime64[ns](1), float64(6), int64(7), object(10)\n",
      "memory usage: 23.1+ MB\n"
     ]
    }
   ],
   "source": [
    "nba.info()"
   ]
  },
  {
   "cell_type": "code",
   "execution_count": 100,
   "id": "656ba6a7-830d-48a1-b223-ba8149a4c1c0",
   "metadata": {},
   "outputs": [
    {
     "data": {
      "text/plain": [
       "0         11/1/1946\n",
       "1         11/1/1946\n",
       "2         11/2/1946\n",
       "3         11/2/1946\n",
       "4         11/2/1946\n",
       "            ...    \n",
       "126309    6/11/2015\n",
       "126310    6/14/2015\n",
       "126311    6/14/2015\n",
       "126312    6/16/2015\n",
       "126313    6/16/2015\n",
       "Name: date_game, Length: 126314, dtype: object"
      ]
     },
     "execution_count": 100,
     "metadata": {},
     "output_type": "execute_result"
    }
   ],
   "source": [
    "nba.date_game"
   ]
  },
  {
   "cell_type": "code",
   "execution_count": 101,
   "id": "db80c72b-57e2-4562-b6e8-cac123c83071",
   "metadata": {},
   "outputs": [],
   "source": [
    "nba['date_game'] = pd.to_datetime(nba['date_game'])"
   ]
  },
  {
   "cell_type": "code",
   "execution_count": 102,
   "id": "d9b5835e-9663-4298-a2e5-d1608e58d108",
   "metadata": {},
   "outputs": [
    {
     "data": {
      "text/plain": [
       "array(['H', 'A', 'N'], dtype=object)"
      ]
     },
     "execution_count": 102,
     "metadata": {},
     "output_type": "execute_result"
    }
   ],
   "source": [
    "nba['game_location'].unique()"
   ]
  },
  {
   "cell_type": "code",
   "execution_count": 103,
   "id": "37eb806b-6f38-4b1d-b597-8d5d095cfffb",
   "metadata": {},
   "outputs": [],
   "source": [
    "nba['game_location'] = pd.Categorical(nba['game_location'])"
   ]
  },
  {
   "cell_type": "code",
   "execution_count": 104,
   "id": "2c2c68ca-152b-4beb-bc8f-6ba1bf169f4d",
   "metadata": {},
   "outputs": [
    {
     "data": {
      "text/plain": [
       "CategoricalDtype(categories=['A', 'H', 'N'], ordered=False, categories_dtype=object)"
      ]
     },
     "execution_count": 104,
     "metadata": {},
     "output_type": "execute_result"
    }
   ],
   "source": [
    "nba['game_location'].dtype"
   ]
  },
  {
   "cell_type": "markdown",
   "id": "0132b67b-0952-4bd3-949c-828dad378729",
   "metadata": {},
   "source": [
    "## Cleaning Your Data\n"
   ]
  },
  {
   "cell_type": "code",
   "execution_count": 105,
   "id": "b1da3883-2d4b-4b49-8ea2-67cd4db79229",
   "metadata": {},
   "outputs": [
    {
     "name": "stdout",
     "output_type": "stream",
     "text": [
      "<class 'pandas.core.frame.DataFrame'>\n",
      "RangeIndex: 126314 entries, 0 to 126313\n",
      "Data columns (total 24 columns):\n",
      " #   Column         Non-Null Count   Dtype         \n",
      "---  ------         --------------   -----         \n",
      " 0   gameorder      126314 non-null  int64         \n",
      " 1   game_id        126314 non-null  object        \n",
      " 2   lg_id          126314 non-null  object        \n",
      " 3   _iscopy        126314 non-null  int64         \n",
      " 4   year_id        126314 non-null  int64         \n",
      " 5   date_game      126314 non-null  datetime64[ns]\n",
      " 6   seasongame     126314 non-null  int64         \n",
      " 7   is_playoffs    126314 non-null  int64         \n",
      " 8   team_id        126314 non-null  object        \n",
      " 9   fran_id        126314 non-null  object        \n",
      " 10  pts            126314 non-null  int64         \n",
      " 11  elo_i          126314 non-null  float64       \n",
      " 12  elo_n          126314 non-null  float64       \n",
      " 13  win_equiv      126314 non-null  float64       \n",
      " 14  opp_id         126314 non-null  object        \n",
      " 15  opp_fran       126314 non-null  object        \n",
      " 16  opp_pts        126314 non-null  int64         \n",
      " 17  opp_elo_i      126314 non-null  float64       \n",
      " 18  opp_elo_n      126314 non-null  float64       \n",
      " 19  game_location  126314 non-null  category      \n",
      " 20  game_result    126314 non-null  object        \n",
      " 21  forecast       126314 non-null  float64       \n",
      " 22  notes          5424 non-null    object        \n",
      " 23  date_played    126314 non-null  datetime64[ns]\n",
      "dtypes: category(1), datetime64[ns](2), float64(6), int64(7), object(8)\n",
      "memory usage: 22.3+ MB\n"
     ]
    }
   ],
   "source": [
    "nba.info()"
   ]
  },
  {
   "cell_type": "code",
   "execution_count": 106,
   "id": "54a45c0a-7a7b-41fc-9d2f-5140f42c2c16",
   "metadata": {},
   "outputs": [
    {
     "data": {
      "text/plain": [
       "(5424, 24)"
      ]
     },
     "execution_count": 106,
     "metadata": {},
     "output_type": "execute_result"
    }
   ],
   "source": [
    "clean_nba = nba.dropna()\n",
    "clean_nba.shape"
   ]
  },
  {
   "cell_type": "code",
   "execution_count": 107,
   "id": "53320202-e3ff-40f3-a735-3872c108f713",
   "metadata": {},
   "outputs": [
    {
     "data": {
      "text/plain": [
       "(126314, 23)"
      ]
     },
     "execution_count": 107,
     "metadata": {},
     "output_type": "execute_result"
    }
   ],
   "source": [
    "clean_nba = nba.dropna(axis=1)\n",
    "clean_nba.shape"
   ]
  },
  {
   "cell_type": "code",
   "execution_count": 108,
   "id": "492675cc-7589-43d1-9de7-e650d4c357b6",
   "metadata": {},
   "outputs": [
    {
     "name": "stderr",
     "output_type": "stream",
     "text": [
      "/var/folders/42/tg009yd16fd7lk4bbyt3hzth0000gn/T/ipykernel_2451/1894709386.py:2: FutureWarning: A value is trying to be set on a copy of a DataFrame or Series through chained assignment using an inplace method.\n",
      "The behavior will change in pandas 3.0. This inplace method will never work because the intermediate object on which we are setting values always behaves as a copy.\n",
      "\n",
      "For example, when doing 'df[col].method(value, inplace=True)', try using 'df.method({col: value}, inplace=True)' or df[col] = df[col].method(value) instead, to perform the operation inplace on the original object.\n",
      "\n",
      "\n",
      "  nba_copy['notes'].fillna(value=\"no notes at all\", inplace=True)\n"
     ]
    }
   ],
   "source": [
    "nba_copy = nba.copy()\n",
    "nba_copy['notes'].fillna(value=\"no notes at all\", inplace=True)"
   ]
  },
  {
   "cell_type": "code",
   "execution_count": 109,
   "id": "177badc8-aef5-4332-98a3-7b4cd889bb45",
   "metadata": {},
   "outputs": [
    {
     "name": "stdout",
     "output_type": "stream",
     "text": [
      "<class 'pandas.core.frame.DataFrame'>\n",
      "RangeIndex: 126314 entries, 0 to 126313\n",
      "Data columns (total 24 columns):\n",
      " #   Column         Non-Null Count   Dtype         \n",
      "---  ------         --------------   -----         \n",
      " 0   gameorder      126314 non-null  int64         \n",
      " 1   game_id        126314 non-null  object        \n",
      " 2   lg_id          126314 non-null  object        \n",
      " 3   _iscopy        126314 non-null  int64         \n",
      " 4   year_id        126314 non-null  int64         \n",
      " 5   date_game      126314 non-null  datetime64[ns]\n",
      " 6   seasongame     126314 non-null  int64         \n",
      " 7   is_playoffs    126314 non-null  int64         \n",
      " 8   team_id        126314 non-null  object        \n",
      " 9   fran_id        126314 non-null  object        \n",
      " 10  pts            126314 non-null  int64         \n",
      " 11  elo_i          126314 non-null  float64       \n",
      " 12  elo_n          126314 non-null  float64       \n",
      " 13  win_equiv      126314 non-null  float64       \n",
      " 14  opp_id         126314 non-null  object        \n",
      " 15  opp_fran       126314 non-null  object        \n",
      " 16  opp_pts        126314 non-null  int64         \n",
      " 17  opp_elo_i      126314 non-null  float64       \n",
      " 18  opp_elo_n      126314 non-null  float64       \n",
      " 19  game_location  126314 non-null  category      \n",
      " 20  game_result    126314 non-null  object        \n",
      " 21  forecast       126314 non-null  float64       \n",
      " 22  notes          126314 non-null  object        \n",
      " 23  date_played    126314 non-null  datetime64[ns]\n",
      "dtypes: category(1), datetime64[ns](2), float64(6), int64(7), object(8)\n",
      "memory usage: 22.3+ MB\n"
     ]
    }
   ],
   "source": [
    "nba_copy.info()"
   ]
  },
  {
   "cell_type": "code",
   "execution_count": 110,
   "id": "78fa14e6-b71d-4674-b573-b58f041bf7b9",
   "metadata": {},
   "outputs": [
    {
     "data": {
      "text/plain": [
       "count              126314\n",
       "unique                232\n",
       "top       no notes at all\n",
       "freq               120890\n",
       "Name: notes, dtype: object"
      ]
     },
     "execution_count": 110,
     "metadata": {},
     "output_type": "execute_result"
    }
   ],
   "source": [
    "nba_copy['notes'].describe()"
   ]
  },
  {
   "cell_type": "code",
   "execution_count": 111,
   "id": "bee509fa-c412-44a3-9a63-6b847b9d860e",
   "metadata": {},
   "outputs": [
    {
     "data": {
      "text/html": [
       "<div>\n",
       "<style scoped>\n",
       "    .dataframe tbody tr th:only-of-type {\n",
       "        vertical-align: middle;\n",
       "    }\n",
       "\n",
       "    .dataframe tbody tr th {\n",
       "        vertical-align: top;\n",
       "    }\n",
       "\n",
       "    .dataframe thead th {\n",
       "        text-align: right;\n",
       "    }\n",
       "</style>\n",
       "<table border=\"1\" class=\"dataframe\">\n",
       "  <thead>\n",
       "    <tr style=\"text-align: right;\">\n",
       "      <th></th>\n",
       "      <th>gameorder</th>\n",
       "      <th>_iscopy</th>\n",
       "      <th>year_id</th>\n",
       "      <th>date_game</th>\n",
       "      <th>seasongame</th>\n",
       "      <th>is_playoffs</th>\n",
       "      <th>pts</th>\n",
       "      <th>elo_i</th>\n",
       "      <th>elo_n</th>\n",
       "      <th>win_equiv</th>\n",
       "      <th>opp_pts</th>\n",
       "      <th>opp_elo_i</th>\n",
       "      <th>opp_elo_n</th>\n",
       "      <th>forecast</th>\n",
       "      <th>date_played</th>\n",
       "    </tr>\n",
       "  </thead>\n",
       "  <tbody>\n",
       "    <tr>\n",
       "      <th>count</th>\n",
       "      <td>126314.00</td>\n",
       "      <td>126314.0</td>\n",
       "      <td>126314.00</td>\n",
       "      <td>126314</td>\n",
       "      <td>126314.00</td>\n",
       "      <td>126314.00</td>\n",
       "      <td>126314.00</td>\n",
       "      <td>126314.00</td>\n",
       "      <td>126314.00</td>\n",
       "      <td>126314.00</td>\n",
       "      <td>126314.00</td>\n",
       "      <td>126314.00</td>\n",
       "      <td>126314.00</td>\n",
       "      <td>126314.00</td>\n",
       "      <td>126314</td>\n",
       "    </tr>\n",
       "    <tr>\n",
       "      <th>mean</th>\n",
       "      <td>31579.00</td>\n",
       "      <td>0.5</td>\n",
       "      <td>1988.20</td>\n",
       "      <td>1988-04-09 00:53:18.429311104</td>\n",
       "      <td>43.53</td>\n",
       "      <td>0.06</td>\n",
       "      <td>102.73</td>\n",
       "      <td>1495.24</td>\n",
       "      <td>1495.24</td>\n",
       "      <td>41.71</td>\n",
       "      <td>102.73</td>\n",
       "      <td>1495.24</td>\n",
       "      <td>1495.24</td>\n",
       "      <td>0.50</td>\n",
       "      <td>1988-04-09 00:53:18.429311104</td>\n",
       "    </tr>\n",
       "    <tr>\n",
       "      <th>min</th>\n",
       "      <td>1.00</td>\n",
       "      <td>0.0</td>\n",
       "      <td>1947.00</td>\n",
       "      <td>1946-11-01 00:00:00</td>\n",
       "      <td>1.00</td>\n",
       "      <td>0.00</td>\n",
       "      <td>0.00</td>\n",
       "      <td>1091.64</td>\n",
       "      <td>1085.77</td>\n",
       "      <td>10.15</td>\n",
       "      <td>0.00</td>\n",
       "      <td>1091.64</td>\n",
       "      <td>1085.77</td>\n",
       "      <td>0.02</td>\n",
       "      <td>1946-11-01 00:00:00</td>\n",
       "    </tr>\n",
       "    <tr>\n",
       "      <th>25%</th>\n",
       "      <td>15790.00</td>\n",
       "      <td>0.0</td>\n",
       "      <td>1975.00</td>\n",
       "      <td>1974-11-08 00:00:00</td>\n",
       "      <td>22.00</td>\n",
       "      <td>0.00</td>\n",
       "      <td>93.00</td>\n",
       "      <td>1417.24</td>\n",
       "      <td>1416.99</td>\n",
       "      <td>34.10</td>\n",
       "      <td>93.00</td>\n",
       "      <td>1417.24</td>\n",
       "      <td>1416.99</td>\n",
       "      <td>0.33</td>\n",
       "      <td>1974-11-08 00:00:00</td>\n",
       "    </tr>\n",
       "    <tr>\n",
       "      <th>50%</th>\n",
       "      <td>31579.00</td>\n",
       "      <td>0.5</td>\n",
       "      <td>1990.00</td>\n",
       "      <td>1990-02-06 00:00:00</td>\n",
       "      <td>43.00</td>\n",
       "      <td>0.00</td>\n",
       "      <td>103.00</td>\n",
       "      <td>1500.95</td>\n",
       "      <td>1500.95</td>\n",
       "      <td>42.11</td>\n",
       "      <td>103.00</td>\n",
       "      <td>1500.95</td>\n",
       "      <td>1500.95</td>\n",
       "      <td>0.50</td>\n",
       "      <td>1990-02-06 00:00:00</td>\n",
       "    </tr>\n",
       "    <tr>\n",
       "      <th>75%</th>\n",
       "      <td>47368.00</td>\n",
       "      <td>1.0</td>\n",
       "      <td>2003.00</td>\n",
       "      <td>2003-03-19 00:00:00</td>\n",
       "      <td>65.00</td>\n",
       "      <td>0.00</td>\n",
       "      <td>112.00</td>\n",
       "      <td>1576.06</td>\n",
       "      <td>1576.29</td>\n",
       "      <td>49.64</td>\n",
       "      <td>112.00</td>\n",
       "      <td>1576.06</td>\n",
       "      <td>1576.29</td>\n",
       "      <td>0.67</td>\n",
       "      <td>2003-03-19 00:00:00</td>\n",
       "    </tr>\n",
       "    <tr>\n",
       "      <th>max</th>\n",
       "      <td>63157.00</td>\n",
       "      <td>1.0</td>\n",
       "      <td>2015.00</td>\n",
       "      <td>2015-06-16 00:00:00</td>\n",
       "      <td>108.00</td>\n",
       "      <td>1.00</td>\n",
       "      <td>186.00</td>\n",
       "      <td>1853.10</td>\n",
       "      <td>1853.10</td>\n",
       "      <td>71.11</td>\n",
       "      <td>186.00</td>\n",
       "      <td>1853.10</td>\n",
       "      <td>1853.10</td>\n",
       "      <td>0.98</td>\n",
       "      <td>2015-06-16 00:00:00</td>\n",
       "    </tr>\n",
       "    <tr>\n",
       "      <th>std</th>\n",
       "      <td>18231.93</td>\n",
       "      <td>0.5</td>\n",
       "      <td>17.58</td>\n",
       "      <td>NaN</td>\n",
       "      <td>25.38</td>\n",
       "      <td>0.24</td>\n",
       "      <td>14.81</td>\n",
       "      <td>112.14</td>\n",
       "      <td>112.46</td>\n",
       "      <td>10.63</td>\n",
       "      <td>14.81</td>\n",
       "      <td>112.14</td>\n",
       "      <td>112.46</td>\n",
       "      <td>0.22</td>\n",
       "      <td>NaN</td>\n",
       "    </tr>\n",
       "  </tbody>\n",
       "</table>\n",
       "</div>"
      ],
      "text/plain": [
       "       gameorder   _iscopy    year_id                      date_game  \\\n",
       "count  126314.00  126314.0  126314.00                         126314   \n",
       "mean    31579.00       0.5    1988.20  1988-04-09 00:53:18.429311104   \n",
       "min         1.00       0.0    1947.00            1946-11-01 00:00:00   \n",
       "25%     15790.00       0.0    1975.00            1974-11-08 00:00:00   \n",
       "50%     31579.00       0.5    1990.00            1990-02-06 00:00:00   \n",
       "75%     47368.00       1.0    2003.00            2003-03-19 00:00:00   \n",
       "max     63157.00       1.0    2015.00            2015-06-16 00:00:00   \n",
       "std     18231.93       0.5      17.58                            NaN   \n",
       "\n",
       "       seasongame  is_playoffs        pts      elo_i      elo_n  win_equiv  \\\n",
       "count   126314.00    126314.00  126314.00  126314.00  126314.00  126314.00   \n",
       "mean        43.53         0.06     102.73    1495.24    1495.24      41.71   \n",
       "min          1.00         0.00       0.00    1091.64    1085.77      10.15   \n",
       "25%         22.00         0.00      93.00    1417.24    1416.99      34.10   \n",
       "50%         43.00         0.00     103.00    1500.95    1500.95      42.11   \n",
       "75%         65.00         0.00     112.00    1576.06    1576.29      49.64   \n",
       "max        108.00         1.00     186.00    1853.10    1853.10      71.11   \n",
       "std         25.38         0.24      14.81     112.14     112.46      10.63   \n",
       "\n",
       "         opp_pts  opp_elo_i  opp_elo_n   forecast  \\\n",
       "count  126314.00  126314.00  126314.00  126314.00   \n",
       "mean      102.73    1495.24    1495.24       0.50   \n",
       "min         0.00    1091.64    1085.77       0.02   \n",
       "25%        93.00    1417.24    1416.99       0.33   \n",
       "50%       103.00    1500.95    1500.95       0.50   \n",
       "75%       112.00    1576.06    1576.29       0.67   \n",
       "max       186.00    1853.10    1853.10       0.98   \n",
       "std        14.81     112.14     112.46       0.22   \n",
       "\n",
       "                         date_played  \n",
       "count                         126314  \n",
       "mean   1988-04-09 00:53:18.429311104  \n",
       "min              1946-11-01 00:00:00  \n",
       "25%              1974-11-08 00:00:00  \n",
       "50%              1990-02-06 00:00:00  \n",
       "75%              2003-03-19 00:00:00  \n",
       "max              2015-06-16 00:00:00  \n",
       "std                              NaN  "
      ]
     },
     "execution_count": 111,
     "metadata": {},
     "output_type": "execute_result"
    }
   ],
   "source": [
    "nba.describe()"
   ]
  },
  {
   "cell_type": "code",
   "execution_count": 112,
   "id": "889e7880-5c9a-450d-a9b1-c5393e37d9bc",
   "metadata": {},
   "outputs": [
    {
     "data": {
      "text/html": [
       "<div>\n",
       "<style scoped>\n",
       "    .dataframe tbody tr th:only-of-type {\n",
       "        vertical-align: middle;\n",
       "    }\n",
       "\n",
       "    .dataframe tbody tr th {\n",
       "        vertical-align: top;\n",
       "    }\n",
       "\n",
       "    .dataframe thead th {\n",
       "        text-align: right;\n",
       "    }\n",
       "</style>\n",
       "<table border=\"1\" class=\"dataframe\">\n",
       "  <thead>\n",
       "    <tr style=\"text-align: right;\">\n",
       "      <th></th>\n",
       "      <th>gameorder</th>\n",
       "      <th>game_id</th>\n",
       "      <th>lg_id</th>\n",
       "      <th>_iscopy</th>\n",
       "      <th>year_id</th>\n",
       "      <th>date_game</th>\n",
       "      <th>seasongame</th>\n",
       "      <th>is_playoffs</th>\n",
       "      <th>team_id</th>\n",
       "      <th>fran_id</th>\n",
       "      <th>pts</th>\n",
       "      <th>elo_i</th>\n",
       "      <th>elo_n</th>\n",
       "      <th>win_equiv</th>\n",
       "      <th>opp_id</th>\n",
       "      <th>opp_fran</th>\n",
       "      <th>opp_pts</th>\n",
       "      <th>opp_elo_i</th>\n",
       "      <th>opp_elo_n</th>\n",
       "      <th>game_location</th>\n",
       "      <th>game_result</th>\n",
       "      <th>forecast</th>\n",
       "      <th>notes</th>\n",
       "      <th>date_played</th>\n",
       "    </tr>\n",
       "  </thead>\n",
       "  <tbody>\n",
       "    <tr>\n",
       "      <th>26684</th>\n",
       "      <td>13343</td>\n",
       "      <td>197210260VIR</td>\n",
       "      <td>ABA</td>\n",
       "      <td>1</td>\n",
       "      <td>1973</td>\n",
       "      <td>1972-10-26</td>\n",
       "      <td>7</td>\n",
       "      <td>0</td>\n",
       "      <td>DNR</td>\n",
       "      <td>Nuggets</td>\n",
       "      <td>0</td>\n",
       "      <td>1460.34</td>\n",
       "      <td>1457.45</td>\n",
       "      <td>40.41</td>\n",
       "      <td>VIR</td>\n",
       "      <td>Squires</td>\n",
       "      <td>2</td>\n",
       "      <td>1484.19</td>\n",
       "      <td>1487.08</td>\n",
       "      <td>A</td>\n",
       "      <td>L</td>\n",
       "      <td>0.33</td>\n",
       "      <td>at Richmond VA; forfeit to VIR</td>\n",
       "      <td>1972-10-26</td>\n",
       "    </tr>\n",
       "  </tbody>\n",
       "</table>\n",
       "</div>"
      ],
      "text/plain": [
       "       gameorder       game_id lg_id  _iscopy  year_id  date_game  seasongame  \\\n",
       "26684      13343  197210260VIR   ABA        1     1973 1972-10-26           7   \n",
       "\n",
       "       is_playoffs team_id  fran_id  pts    elo_i    elo_n  win_equiv opp_id  \\\n",
       "26684            0     DNR  Nuggets    0  1460.34  1457.45      40.41    VIR   \n",
       "\n",
       "      opp_fran  opp_pts  opp_elo_i  opp_elo_n game_location game_result  \\\n",
       "26684  Squires        2    1484.19    1487.08             A           L   \n",
       "\n",
       "       forecast                           notes date_played  \n",
       "26684      0.33  at Richmond VA; forfeit to VIR  1972-10-26  "
      ]
     },
     "execution_count": 112,
     "metadata": {},
     "output_type": "execute_result"
    }
   ],
   "source": [
    "nba[nba['pts'] == 0]"
   ]
  },
  {
   "cell_type": "code",
   "execution_count": 113,
   "id": "93adef59-1069-4977-8616-afce9633f98c",
   "metadata": {},
   "outputs": [
    {
     "data": {
      "text/plain": [
       "True"
      ]
     },
     "execution_count": 113,
     "metadata": {},
     "output_type": "execute_result"
    }
   ],
   "source": [
    "nba[(nba['pts'] > nba['opp_pts']) & (nba['game_result'] != \"W\")].empty"
   ]
  },
  {
   "cell_type": "code",
   "execution_count": 114,
   "id": "ce95ab6a-5f69-422d-ae65-85b50c7580c0",
   "metadata": {},
   "outputs": [
    {
     "data": {
      "text/plain": [
       "True"
      ]
     },
     "execution_count": 114,
     "metadata": {},
     "output_type": "execute_result"
    }
   ],
   "source": [
    "nba[(nba['pts'] < nba['opp_pts']) & (nba['game_result'] != \"L\")].empty"
   ]
  },
  {
   "cell_type": "markdown",
   "id": "d3e53a04-d7e7-4875-b2cb-c7b25fd9a145",
   "metadata": {},
   "source": [
    "## Combining Multiple Datasets\n",
    "\n"
   ]
  },
  {
   "cell_type": "code",
   "execution_count": 115,
   "id": "2cf68b46-84dd-43bb-8d24-7a77d73549a2",
   "metadata": {},
   "outputs": [
    {
     "data": {
      "text/html": [
       "<div>\n",
       "<style scoped>\n",
       "    .dataframe tbody tr th:only-of-type {\n",
       "        vertical-align: middle;\n",
       "    }\n",
       "\n",
       "    .dataframe tbody tr th {\n",
       "        vertical-align: top;\n",
       "    }\n",
       "\n",
       "    .dataframe thead th {\n",
       "        text-align: right;\n",
       "    }\n",
       "</style>\n",
       "<table border=\"1\" class=\"dataframe\">\n",
       "  <thead>\n",
       "    <tr style=\"text-align: right;\">\n",
       "      <th></th>\n",
       "      <th>revenue</th>\n",
       "      <th>count</th>\n",
       "    </tr>\n",
       "  </thead>\n",
       "  <tbody>\n",
       "    <tr>\n",
       "      <th>Amsterdam</th>\n",
       "      <td>4200</td>\n",
       "      <td>5.0</td>\n",
       "    </tr>\n",
       "    <tr>\n",
       "      <th>Tokyio</th>\n",
       "      <td>6500</td>\n",
       "      <td>NaN</td>\n",
       "    </tr>\n",
       "    <tr>\n",
       "      <th>Toronto</th>\n",
       "      <td>8000</td>\n",
       "      <td>9.0</td>\n",
       "    </tr>\n",
       "  </tbody>\n",
       "</table>\n",
       "</div>"
      ],
      "text/plain": [
       "           revenue  count\n",
       "Amsterdam     4200    5.0\n",
       "Tokyio        6500    NaN\n",
       "Toronto       8000    9.0"
      ]
     },
     "execution_count": 115,
     "metadata": {},
     "output_type": "execute_result"
    }
   ],
   "source": [
    "city_data"
   ]
  },
  {
   "cell_type": "code",
   "execution_count": 116,
   "id": "32593cc3-b5ae-4eda-9ba3-ca694e9be5cf",
   "metadata": {},
   "outputs": [],
   "source": [
    "city_data.index = city_data.index.str.replace(\"Tokyio\", \"Tokyo\")"
   ]
  },
  {
   "cell_type": "code",
   "execution_count": 117,
   "id": "aac7478a-6ff5-4f32-a2c4-5c253438683f",
   "metadata": {},
   "outputs": [],
   "source": [
    "city_data.rename(columns=\n",
    "    {\"count\": \"employee_count\"}, inplace=True)"
   ]
  },
  {
   "cell_type": "code",
   "execution_count": 118,
   "id": "ca1bf37f-4ffc-4cae-90fb-e93a29ae2b27",
   "metadata": {},
   "outputs": [],
   "source": [
    "further_city_data = pd.DataFrame(\n",
    "    {\n",
    "        'revenue' : [7000, 3400],\n",
    "        'employee_count' : [2,2]\n",
    "    },\n",
    "    index=[\"New York\", \"Barcelona\"]\n",
    ")\n"
   ]
  },
  {
   "cell_type": "code",
   "execution_count": 119,
   "id": "2753f49e-4903-4a42-a314-baae84a8fd9b",
   "metadata": {},
   "outputs": [],
   "source": [
    "all_city_data = pd.concat([city_data, further_city_data], sort=False)"
   ]
  },
  {
   "cell_type": "code",
   "execution_count": 120,
   "id": "979a43ca-4b84-4aeb-b70f-46906e8b8973",
   "metadata": {},
   "outputs": [
    {
     "data": {
      "text/html": [
       "<div>\n",
       "<style scoped>\n",
       "    .dataframe tbody tr th:only-of-type {\n",
       "        vertical-align: middle;\n",
       "    }\n",
       "\n",
       "    .dataframe tbody tr th {\n",
       "        vertical-align: top;\n",
       "    }\n",
       "\n",
       "    .dataframe thead th {\n",
       "        text-align: right;\n",
       "    }\n",
       "</style>\n",
       "<table border=\"1\" class=\"dataframe\">\n",
       "  <thead>\n",
       "    <tr style=\"text-align: right;\">\n",
       "      <th></th>\n",
       "      <th>revenue</th>\n",
       "      <th>employee_count</th>\n",
       "    </tr>\n",
       "  </thead>\n",
       "  <tbody>\n",
       "    <tr>\n",
       "      <th>Amsterdam</th>\n",
       "      <td>4200</td>\n",
       "      <td>5.0</td>\n",
       "    </tr>\n",
       "    <tr>\n",
       "      <th>Tokyo</th>\n",
       "      <td>6500</td>\n",
       "      <td>NaN</td>\n",
       "    </tr>\n",
       "    <tr>\n",
       "      <th>Toronto</th>\n",
       "      <td>8000</td>\n",
       "      <td>9.0</td>\n",
       "    </tr>\n",
       "    <tr>\n",
       "      <th>New York</th>\n",
       "      <td>7000</td>\n",
       "      <td>2.0</td>\n",
       "    </tr>\n",
       "    <tr>\n",
       "      <th>Barcelona</th>\n",
       "      <td>3400</td>\n",
       "      <td>2.0</td>\n",
       "    </tr>\n",
       "  </tbody>\n",
       "</table>\n",
       "</div>"
      ],
      "text/plain": [
       "           revenue  employee_count\n",
       "Amsterdam     4200             5.0\n",
       "Tokyo         6500             NaN\n",
       "Toronto       8000             9.0\n",
       "New York      7000             2.0\n",
       "Barcelona     3400             2.0"
      ]
     },
     "execution_count": 120,
     "metadata": {},
     "output_type": "execute_result"
    }
   ],
   "source": [
    "all_city_data"
   ]
  },
  {
   "cell_type": "code",
   "execution_count": 121,
   "id": "3f1d1f6c-5b76-4aa8-b637-117040ec054b",
   "metadata": {},
   "outputs": [],
   "source": [
    "city_countries = pd.DataFrame(\n",
    "    {'country':['Holland', 'Japan', 'Holland','Canada', 'Spain'],\n",
    "     'capital': [1, 1, 0, 0, 0]\n",
    "    }, index=[\"Amsterdam\", \"Tokyo\", \"Rotterdam\", \"Toronto\", \"Barcelona\"])"
   ]
  },
  {
   "cell_type": "code",
   "execution_count": 122,
   "id": "47fda6a3-e98f-4926-bd32-2b2f909889e5",
   "metadata": {},
   "outputs": [
    {
     "data": {
      "text/html": [
       "<div>\n",
       "<style scoped>\n",
       "    .dataframe tbody tr th:only-of-type {\n",
       "        vertical-align: middle;\n",
       "    }\n",
       "\n",
       "    .dataframe tbody tr th {\n",
       "        vertical-align: top;\n",
       "    }\n",
       "\n",
       "    .dataframe thead th {\n",
       "        text-align: right;\n",
       "    }\n",
       "</style>\n",
       "<table border=\"1\" class=\"dataframe\">\n",
       "  <thead>\n",
       "    <tr style=\"text-align: right;\">\n",
       "      <th></th>\n",
       "      <th>country</th>\n",
       "      <th>capital</th>\n",
       "    </tr>\n",
       "  </thead>\n",
       "  <tbody>\n",
       "    <tr>\n",
       "      <th>Amsterdam</th>\n",
       "      <td>Holland</td>\n",
       "      <td>1</td>\n",
       "    </tr>\n",
       "    <tr>\n",
       "      <th>Tokyo</th>\n",
       "      <td>Japan</td>\n",
       "      <td>1</td>\n",
       "    </tr>\n",
       "    <tr>\n",
       "      <th>Rotterdam</th>\n",
       "      <td>Holland</td>\n",
       "      <td>0</td>\n",
       "    </tr>\n",
       "    <tr>\n",
       "      <th>Toronto</th>\n",
       "      <td>Canada</td>\n",
       "      <td>0</td>\n",
       "    </tr>\n",
       "    <tr>\n",
       "      <th>Barcelona</th>\n",
       "      <td>Spain</td>\n",
       "      <td>0</td>\n",
       "    </tr>\n",
       "  </tbody>\n",
       "</table>\n",
       "</div>"
      ],
      "text/plain": [
       "           country  capital\n",
       "Amsterdam  Holland        1\n",
       "Tokyo        Japan        1\n",
       "Rotterdam  Holland        0\n",
       "Toronto     Canada        0\n",
       "Barcelona    Spain        0"
      ]
     },
     "execution_count": 122,
     "metadata": {},
     "output_type": "execute_result"
    }
   ],
   "source": [
    "city_countries"
   ]
  },
  {
   "cell_type": "code",
   "execution_count": 123,
   "id": "9da66a3f-6bdf-4a2c-a657-e0e392281b89",
   "metadata": {},
   "outputs": [],
   "source": [
    "cities = pd.concat([all_city_data, city_countries], axis=1, sort=False, join='inner')"
   ]
  },
  {
   "cell_type": "code",
   "execution_count": 124,
   "id": "68727313-24ac-4c60-b04d-8d75a7c72cf5",
   "metadata": {},
   "outputs": [
    {
     "data": {
      "text/html": [
       "<div>\n",
       "<style scoped>\n",
       "    .dataframe tbody tr th:only-of-type {\n",
       "        vertical-align: middle;\n",
       "    }\n",
       "\n",
       "    .dataframe tbody tr th {\n",
       "        vertical-align: top;\n",
       "    }\n",
       "\n",
       "    .dataframe thead th {\n",
       "        text-align: right;\n",
       "    }\n",
       "</style>\n",
       "<table border=\"1\" class=\"dataframe\">\n",
       "  <thead>\n",
       "    <tr style=\"text-align: right;\">\n",
       "      <th></th>\n",
       "      <th>revenue</th>\n",
       "      <th>employee_count</th>\n",
       "      <th>country</th>\n",
       "      <th>capital</th>\n",
       "    </tr>\n",
       "  </thead>\n",
       "  <tbody>\n",
       "    <tr>\n",
       "      <th>Amsterdam</th>\n",
       "      <td>4200</td>\n",
       "      <td>5.0</td>\n",
       "      <td>Holland</td>\n",
       "      <td>1</td>\n",
       "    </tr>\n",
       "    <tr>\n",
       "      <th>Tokyo</th>\n",
       "      <td>6500</td>\n",
       "      <td>NaN</td>\n",
       "      <td>Japan</td>\n",
       "      <td>1</td>\n",
       "    </tr>\n",
       "    <tr>\n",
       "      <th>Toronto</th>\n",
       "      <td>8000</td>\n",
       "      <td>9.0</td>\n",
       "      <td>Canada</td>\n",
       "      <td>0</td>\n",
       "    </tr>\n",
       "    <tr>\n",
       "      <th>Barcelona</th>\n",
       "      <td>3400</td>\n",
       "      <td>2.0</td>\n",
       "      <td>Spain</td>\n",
       "      <td>0</td>\n",
       "    </tr>\n",
       "  </tbody>\n",
       "</table>\n",
       "</div>"
      ],
      "text/plain": [
       "           revenue  employee_count  country  capital\n",
       "Amsterdam     4200             5.0  Holland        1\n",
       "Tokyo         6500             NaN    Japan        1\n",
       "Toronto       8000             9.0   Canada        0\n",
       "Barcelona     3400             2.0    Spain        0"
      ]
     },
     "execution_count": 124,
     "metadata": {},
     "output_type": "execute_result"
    }
   ],
   "source": [
    "cities"
   ]
  },
  {
   "cell_type": "code",
   "execution_count": 125,
   "id": "2d9344cf-deef-465c-9e86-788380c2a9c0",
   "metadata": {},
   "outputs": [],
   "source": [
    "countries = pd.DataFrame({\n",
    "    'population_millions':[17, 127, 37],\n",
    "    'continent': ['Europe', 'Asia', 'North America']\n",
    "}, index=[\"Holland\", \"Japan\", \"Canada\"])"
   ]
  },
  {
   "cell_type": "code",
   "execution_count": 126,
   "id": "68298aa8-a360-4b53-a1e4-e264dfb3ab62",
   "metadata": {},
   "outputs": [
    {
     "data": {
      "text/html": [
       "<div>\n",
       "<style scoped>\n",
       "    .dataframe tbody tr th:only-of-type {\n",
       "        vertical-align: middle;\n",
       "    }\n",
       "\n",
       "    .dataframe tbody tr th {\n",
       "        vertical-align: top;\n",
       "    }\n",
       "\n",
       "    .dataframe thead th {\n",
       "        text-align: right;\n",
       "    }\n",
       "</style>\n",
       "<table border=\"1\" class=\"dataframe\">\n",
       "  <thead>\n",
       "    <tr style=\"text-align: right;\">\n",
       "      <th></th>\n",
       "      <th>population_millions</th>\n",
       "      <th>continent</th>\n",
       "    </tr>\n",
       "  </thead>\n",
       "  <tbody>\n",
       "    <tr>\n",
       "      <th>Holland</th>\n",
       "      <td>17</td>\n",
       "      <td>Europe</td>\n",
       "    </tr>\n",
       "    <tr>\n",
       "      <th>Japan</th>\n",
       "      <td>127</td>\n",
       "      <td>Asia</td>\n",
       "    </tr>\n",
       "    <tr>\n",
       "      <th>Canada</th>\n",
       "      <td>37</td>\n",
       "      <td>North America</td>\n",
       "    </tr>\n",
       "  </tbody>\n",
       "</table>\n",
       "</div>"
      ],
      "text/plain": [
       "         population_millions      continent\n",
       "Holland                   17         Europe\n",
       "Japan                    127           Asia\n",
       "Canada                    37  North America"
      ]
     },
     "execution_count": 126,
     "metadata": {},
     "output_type": "execute_result"
    }
   ],
   "source": [
    "countries"
   ]
  },
  {
   "cell_type": "code",
   "execution_count": 127,
   "id": "748c4597-40ea-4065-a3c9-578f4a63dcb8",
   "metadata": {},
   "outputs": [
    {
     "data": {
      "text/html": [
       "<div>\n",
       "<style scoped>\n",
       "    .dataframe tbody tr th:only-of-type {\n",
       "        vertical-align: middle;\n",
       "    }\n",
       "\n",
       "    .dataframe tbody tr th {\n",
       "        vertical-align: top;\n",
       "    }\n",
       "\n",
       "    .dataframe thead th {\n",
       "        text-align: right;\n",
       "    }\n",
       "</style>\n",
       "<table border=\"1\" class=\"dataframe\">\n",
       "  <thead>\n",
       "    <tr style=\"text-align: right;\">\n",
       "      <th></th>\n",
       "      <th>revenue</th>\n",
       "      <th>employee_count</th>\n",
       "      <th>country</th>\n",
       "      <th>capital</th>\n",
       "      <th>population_millions</th>\n",
       "      <th>continent</th>\n",
       "    </tr>\n",
       "  </thead>\n",
       "  <tbody>\n",
       "    <tr>\n",
       "      <th>Amsterdam</th>\n",
       "      <td>4200</td>\n",
       "      <td>5.0</td>\n",
       "      <td>Holland</td>\n",
       "      <td>1</td>\n",
       "      <td>17</td>\n",
       "      <td>Europe</td>\n",
       "    </tr>\n",
       "    <tr>\n",
       "      <th>Tokyo</th>\n",
       "      <td>6500</td>\n",
       "      <td>NaN</td>\n",
       "      <td>Japan</td>\n",
       "      <td>1</td>\n",
       "      <td>127</td>\n",
       "      <td>Asia</td>\n",
       "    </tr>\n",
       "    <tr>\n",
       "      <th>Toronto</th>\n",
       "      <td>8000</td>\n",
       "      <td>9.0</td>\n",
       "      <td>Canada</td>\n",
       "      <td>0</td>\n",
       "      <td>37</td>\n",
       "      <td>North America</td>\n",
       "    </tr>\n",
       "  </tbody>\n",
       "</table>\n",
       "</div>"
      ],
      "text/plain": [
       "           revenue  employee_count  country  capital  population_millions  \\\n",
       "Amsterdam     4200             5.0  Holland        1                   17   \n",
       "Tokyo         6500             NaN    Japan        1                  127   \n",
       "Toronto       8000             9.0   Canada        0                   37   \n",
       "\n",
       "               continent  \n",
       "Amsterdam         Europe  \n",
       "Tokyo               Asia  \n",
       "Toronto    North America  "
      ]
     },
     "execution_count": 127,
     "metadata": {},
     "output_type": "execute_result"
    }
   ],
   "source": [
    "pd.merge(cities, countries, left_on=\"country\", right_index=True)"
   ]
  },
  {
   "cell_type": "code",
   "execution_count": 128,
   "id": "63e8a8bb-a2e0-45a3-9209-04d6a621ebd9",
   "metadata": {},
   "outputs": [
    {
     "data": {
      "text/html": [
       "<div>\n",
       "<style scoped>\n",
       "    .dataframe tbody tr th:only-of-type {\n",
       "        vertical-align: middle;\n",
       "    }\n",
       "\n",
       "    .dataframe tbody tr th {\n",
       "        vertical-align: top;\n",
       "    }\n",
       "\n",
       "    .dataframe thead th {\n",
       "        text-align: right;\n",
       "    }\n",
       "</style>\n",
       "<table border=\"1\" class=\"dataframe\">\n",
       "  <thead>\n",
       "    <tr style=\"text-align: right;\">\n",
       "      <th></th>\n",
       "      <th>revenue</th>\n",
       "      <th>employee_count</th>\n",
       "      <th>country</th>\n",
       "      <th>capital</th>\n",
       "      <th>population_millions</th>\n",
       "      <th>continent</th>\n",
       "    </tr>\n",
       "  </thead>\n",
       "  <tbody>\n",
       "    <tr>\n",
       "      <th>Amsterdam</th>\n",
       "      <td>4200</td>\n",
       "      <td>5.0</td>\n",
       "      <td>Holland</td>\n",
       "      <td>1</td>\n",
       "      <td>17.0</td>\n",
       "      <td>Europe</td>\n",
       "    </tr>\n",
       "    <tr>\n",
       "      <th>Tokyo</th>\n",
       "      <td>6500</td>\n",
       "      <td>NaN</td>\n",
       "      <td>Japan</td>\n",
       "      <td>1</td>\n",
       "      <td>127.0</td>\n",
       "      <td>Asia</td>\n",
       "    </tr>\n",
       "    <tr>\n",
       "      <th>Toronto</th>\n",
       "      <td>8000</td>\n",
       "      <td>9.0</td>\n",
       "      <td>Canada</td>\n",
       "      <td>0</td>\n",
       "      <td>37.0</td>\n",
       "      <td>North America</td>\n",
       "    </tr>\n",
       "    <tr>\n",
       "      <th>Barcelona</th>\n",
       "      <td>3400</td>\n",
       "      <td>2.0</td>\n",
       "      <td>Spain</td>\n",
       "      <td>0</td>\n",
       "      <td>NaN</td>\n",
       "      <td>NaN</td>\n",
       "    </tr>\n",
       "  </tbody>\n",
       "</table>\n",
       "</div>"
      ],
      "text/plain": [
       "           revenue  employee_count  country  capital  population_millions  \\\n",
       "Amsterdam     4200             5.0  Holland        1                 17.0   \n",
       "Tokyo         6500             NaN    Japan        1                127.0   \n",
       "Toronto       8000             9.0   Canada        0                 37.0   \n",
       "Barcelona     3400             2.0    Spain        0                  NaN   \n",
       "\n",
       "               continent  \n",
       "Amsterdam         Europe  \n",
       "Tokyo               Asia  \n",
       "Toronto    North America  \n",
       "Barcelona            NaN  "
      ]
     },
     "execution_count": 128,
     "metadata": {},
     "output_type": "execute_result"
    }
   ],
   "source": [
    "pd.merge(cities, countries, left_on=\"country\", right_index=True, how=\"left\")"
   ]
  },
  {
   "cell_type": "markdown",
   "id": "086c1bd5-0c14-4799-852a-6e476f148484",
   "metadata": {},
   "source": [
    "## Visualizing Your pandas DataFrame\n",
    "\n"
   ]
  },
  {
   "cell_type": "code",
   "execution_count": 129,
   "id": "22773b17-7a15-4376-96ae-f1069736180c",
   "metadata": {},
   "outputs": [
    {
     "data": {
      "text/html": [
       "<div>\n",
       "<style scoped>\n",
       "    .dataframe tbody tr th:only-of-type {\n",
       "        vertical-align: middle;\n",
       "    }\n",
       "\n",
       "    .dataframe tbody tr th {\n",
       "        vertical-align: top;\n",
       "    }\n",
       "\n",
       "    .dataframe thead th {\n",
       "        text-align: right;\n",
       "    }\n",
       "</style>\n",
       "<table border=\"1\" class=\"dataframe\">\n",
       "  <thead>\n",
       "    <tr style=\"text-align: right;\">\n",
       "      <th></th>\n",
       "      <th>gameorder</th>\n",
       "      <th>game_id</th>\n",
       "      <th>lg_id</th>\n",
       "      <th>_iscopy</th>\n",
       "      <th>year_id</th>\n",
       "      <th>date_game</th>\n",
       "      <th>seasongame</th>\n",
       "      <th>is_playoffs</th>\n",
       "      <th>team_id</th>\n",
       "      <th>fran_id</th>\n",
       "      <th>pts</th>\n",
       "      <th>elo_i</th>\n",
       "      <th>elo_n</th>\n",
       "      <th>win_equiv</th>\n",
       "      <th>opp_id</th>\n",
       "      <th>opp_fran</th>\n",
       "      <th>opp_pts</th>\n",
       "      <th>opp_elo_i</th>\n",
       "      <th>opp_elo_n</th>\n",
       "      <th>game_location</th>\n",
       "      <th>game_result</th>\n",
       "      <th>forecast</th>\n",
       "      <th>notes</th>\n",
       "      <th>date_played</th>\n",
       "    </tr>\n",
       "  </thead>\n",
       "  <tbody>\n",
       "    <tr>\n",
       "      <th>0</th>\n",
       "      <td>1</td>\n",
       "      <td>194611010TRH</td>\n",
       "      <td>NBA</td>\n",
       "      <td>0</td>\n",
       "      <td>1947</td>\n",
       "      <td>1946-11-01</td>\n",
       "      <td>1</td>\n",
       "      <td>0</td>\n",
       "      <td>TRH</td>\n",
       "      <td>Huskies</td>\n",
       "      <td>66</td>\n",
       "      <td>1300.00</td>\n",
       "      <td>1293.28</td>\n",
       "      <td>40.29</td>\n",
       "      <td>NYK</td>\n",
       "      <td>Knicks</td>\n",
       "      <td>68</td>\n",
       "      <td>1300.00</td>\n",
       "      <td>1306.72</td>\n",
       "      <td>H</td>\n",
       "      <td>L</td>\n",
       "      <td>0.64</td>\n",
       "      <td>NaN</td>\n",
       "      <td>1946-11-01</td>\n",
       "    </tr>\n",
       "    <tr>\n",
       "      <th>1</th>\n",
       "      <td>1</td>\n",
       "      <td>194611010TRH</td>\n",
       "      <td>NBA</td>\n",
       "      <td>1</td>\n",
       "      <td>1947</td>\n",
       "      <td>1946-11-01</td>\n",
       "      <td>1</td>\n",
       "      <td>0</td>\n",
       "      <td>NYK</td>\n",
       "      <td>Knicks</td>\n",
       "      <td>68</td>\n",
       "      <td>1300.00</td>\n",
       "      <td>1306.72</td>\n",
       "      <td>41.71</td>\n",
       "      <td>TRH</td>\n",
       "      <td>Huskies</td>\n",
       "      <td>66</td>\n",
       "      <td>1300.00</td>\n",
       "      <td>1293.28</td>\n",
       "      <td>A</td>\n",
       "      <td>W</td>\n",
       "      <td>0.36</td>\n",
       "      <td>NaN</td>\n",
       "      <td>1946-11-01</td>\n",
       "    </tr>\n",
       "    <tr>\n",
       "      <th>2</th>\n",
       "      <td>2</td>\n",
       "      <td>194611020CHS</td>\n",
       "      <td>NBA</td>\n",
       "      <td>0</td>\n",
       "      <td>1947</td>\n",
       "      <td>1946-11-02</td>\n",
       "      <td>1</td>\n",
       "      <td>0</td>\n",
       "      <td>CHS</td>\n",
       "      <td>Stags</td>\n",
       "      <td>63</td>\n",
       "      <td>1300.00</td>\n",
       "      <td>1309.65</td>\n",
       "      <td>42.01</td>\n",
       "      <td>NYK</td>\n",
       "      <td>Knicks</td>\n",
       "      <td>47</td>\n",
       "      <td>1306.72</td>\n",
       "      <td>1297.07</td>\n",
       "      <td>H</td>\n",
       "      <td>W</td>\n",
       "      <td>0.63</td>\n",
       "      <td>NaN</td>\n",
       "      <td>1946-11-02</td>\n",
       "    </tr>\n",
       "    <tr>\n",
       "      <th>3</th>\n",
       "      <td>2</td>\n",
       "      <td>194611020CHS</td>\n",
       "      <td>NBA</td>\n",
       "      <td>1</td>\n",
       "      <td>1947</td>\n",
       "      <td>1946-11-02</td>\n",
       "      <td>2</td>\n",
       "      <td>0</td>\n",
       "      <td>NYK</td>\n",
       "      <td>Knicks</td>\n",
       "      <td>47</td>\n",
       "      <td>1306.72</td>\n",
       "      <td>1297.07</td>\n",
       "      <td>40.69</td>\n",
       "      <td>CHS</td>\n",
       "      <td>Stags</td>\n",
       "      <td>63</td>\n",
       "      <td>1300.00</td>\n",
       "      <td>1309.65</td>\n",
       "      <td>A</td>\n",
       "      <td>L</td>\n",
       "      <td>0.37</td>\n",
       "      <td>NaN</td>\n",
       "      <td>1946-11-02</td>\n",
       "    </tr>\n",
       "    <tr>\n",
       "      <th>4</th>\n",
       "      <td>3</td>\n",
       "      <td>194611020DTF</td>\n",
       "      <td>NBA</td>\n",
       "      <td>0</td>\n",
       "      <td>1947</td>\n",
       "      <td>1946-11-02</td>\n",
       "      <td>1</td>\n",
       "      <td>0</td>\n",
       "      <td>DTF</td>\n",
       "      <td>Falcons</td>\n",
       "      <td>33</td>\n",
       "      <td>1300.00</td>\n",
       "      <td>1279.62</td>\n",
       "      <td>38.86</td>\n",
       "      <td>WSC</td>\n",
       "      <td>Capitols</td>\n",
       "      <td>50</td>\n",
       "      <td>1300.00</td>\n",
       "      <td>1320.38</td>\n",
       "      <td>H</td>\n",
       "      <td>L</td>\n",
       "      <td>0.64</td>\n",
       "      <td>NaN</td>\n",
       "      <td>1946-11-02</td>\n",
       "    </tr>\n",
       "  </tbody>\n",
       "</table>\n",
       "</div>"
      ],
      "text/plain": [
       "   gameorder       game_id lg_id  _iscopy  year_id  date_game  seasongame  \\\n",
       "0          1  194611010TRH   NBA        0     1947 1946-11-01           1   \n",
       "1          1  194611010TRH   NBA        1     1947 1946-11-01           1   \n",
       "2          2  194611020CHS   NBA        0     1947 1946-11-02           1   \n",
       "3          2  194611020CHS   NBA        1     1947 1946-11-02           2   \n",
       "4          3  194611020DTF   NBA        0     1947 1946-11-02           1   \n",
       "\n",
       "   is_playoffs team_id  fran_id  pts    elo_i    elo_n  win_equiv opp_id  \\\n",
       "0            0     TRH  Huskies   66  1300.00  1293.28      40.29    NYK   \n",
       "1            0     NYK   Knicks   68  1300.00  1306.72      41.71    TRH   \n",
       "2            0     CHS    Stags   63  1300.00  1309.65      42.01    NYK   \n",
       "3            0     NYK   Knicks   47  1306.72  1297.07      40.69    CHS   \n",
       "4            0     DTF  Falcons   33  1300.00  1279.62      38.86    WSC   \n",
       "\n",
       "   opp_fran  opp_pts  opp_elo_i  opp_elo_n game_location game_result  \\\n",
       "0    Knicks       68    1300.00    1306.72             H           L   \n",
       "1   Huskies       66    1300.00    1293.28             A           W   \n",
       "2    Knicks       47    1306.72    1297.07             H           W   \n",
       "3     Stags       63    1300.00    1309.65             A           L   \n",
       "4  Capitols       50    1300.00    1320.38             H           L   \n",
       "\n",
       "   forecast notes date_played  \n",
       "0      0.64   NaN  1946-11-01  \n",
       "1      0.36   NaN  1946-11-01  \n",
       "2      0.63   NaN  1946-11-02  \n",
       "3      0.37   NaN  1946-11-02  \n",
       "4      0.64   NaN  1946-11-02  "
      ]
     },
     "execution_count": 129,
     "metadata": {},
     "output_type": "execute_result"
    }
   ],
   "source": [
    "nba.head()"
   ]
  },
  {
   "cell_type": "code",
   "execution_count": 130,
   "id": "f5a4caa2-93fc-4b4a-a20c-a82e74fcaecc",
   "metadata": {},
   "outputs": [],
   "source": [
    "knicks_pts_by_year = nba[nba[\"fran_id\"] == \"Knicks\"].groupby(\"year_id\")[\"pts\"].sum()"
   ]
  },
  {
   "cell_type": "code",
   "execution_count": 131,
   "id": "0058de06-93aa-4079-b31a-1767d11fbb95",
   "metadata": {},
   "outputs": [
    {
     "data": {
      "text/plain": [
       "year_id\n",
       "1947    4234\n",
       "1948    3815\n",
       "1949    5253\n",
       "1950    5924\n",
       "1951    6814\n",
       "        ... \n",
       "2011    9097\n",
       "2012    6872\n",
       "2013    9259\n",
       "2014    8084\n",
       "2015    7535\n",
       "Name: pts, Length: 69, dtype: int64"
      ]
     },
     "execution_count": 131,
     "metadata": {},
     "output_type": "execute_result"
    }
   ],
   "source": [
    "knicks_pts_by_year"
   ]
  },
  {
   "cell_type": "code",
   "execution_count": 132,
   "id": "3da4462e-b6b8-49f4-ad67-96b335d6a1e0",
   "metadata": {},
   "outputs": [
    {
     "data": {
      "text/plain": [
       "<Axes: xlabel='year_id'>"
      ]
     },
     "execution_count": 132,
     "metadata": {},
     "output_type": "execute_result"
    },
    {
     "data": {
      "image/png": "[encoded data removed]",
      "text/plain": [
       "<Figure size 640x480 with 1 Axes>"
      ]
     },
     "metadata": {},
     "output_type": "display_data"
    }
   ],
   "source": [
    "knicks_pts_by_year.plot()"
   ]
  },
  {
   "cell_type": "code",
   "execution_count": 133,
   "id": "59dba6a0-9200-48b5-baab-2cee4bb9b43b",
   "metadata": {
    "scrolled": true
   },
   "outputs": [
    {
     "data": {
      "text/plain": [
       "<Axes: xlabel='year_id'>"
      ]
     },
     "execution_count": 133,
     "metadata": {},
     "output_type": "execute_result"
    },
    {
     "data": {
      "image/png": "[encoded data removed]",
      "text/plain": [
       "<Figure size 640x480 with 1 Axes>"
      ]
     },
     "metadata": {},
     "output_type": "display_data"
    }
   ],
   "source": [
    "knicks_pts_by_year.tail(10).plot(kind=\"bar\")"
   ]
  },
  {
   "cell_type": "code",
   "execution_count": 134,
   "id": "bbd78e42-4c53-4f42-82f7-b00e924ca5b2",
   "metadata": {},
   "outputs": [],
   "source": [
    "k = nba[(nba[\"fran_id\"] == \"Knicks\") & (nba[\"year_id\"] > 2000)]"
   ]
  },
  {
   "cell_type": "code",
   "execution_count": 135,
   "id": "7ccd4316-63ec-4b26-a563-b21501f89770",
   "metadata": {
    "scrolled": true
   },
   "outputs": [
    {
     "data": {
      "text/plain": [
       "<Axes: xlabel='pts', ylabel='opp_pts'>"
      ]
     },
     "execution_count": 135,
     "metadata": {},
     "output_type": "execute_result"
    },
    {
     "data": {
      "image/png": "[encoded data removed]",
      "text/plain": [
       "<Figure size 640x480 with 1 Axes>"
      ]
     },
     "metadata": {},
     "output_type": "display_data"
    }
   ],
   "source": [
    "nba[(nba[\"fran_id\"] == \"Knicks\") & (nba[\"year_id\"] > 2000) ].plot(kind=\"scatter\", x=\"pts\", y=\"opp_pts\")"
   ]
  },
  {
   "cell_type": "code",
   "execution_count": 147,
   "id": "b1199a52-adb3-4aa2-8220-266a9a585aaa",
   "metadata": {},
   "outputs": [],
   "source": [
    "import numpy as np\n",
    "import matplotlib.pyplot as plt\n"
   ]
  },
  {
   "cell_type": "code",
   "execution_count": 148,
   "id": "4c4b246c-d621-4f3f-93f5-58d788e346d5",
   "metadata": {},
   "outputs": [
    {
     "data": {
      "text/html": [
       "<div>\n",
       "<style scoped>\n",
       "    .dataframe tbody tr th:only-of-type {\n",
       "        vertical-align: middle;\n",
       "    }\n",
       "\n",
       "    .dataframe tbody tr th {\n",
       "        vertical-align: top;\n",
       "    }\n",
       "\n",
       "    .dataframe thead th {\n",
       "        text-align: right;\n",
       "    }\n",
       "</style>\n",
       "<table border=\"1\" class=\"dataframe\">\n",
       "  <thead>\n",
       "    <tr style=\"text-align: right;\">\n",
       "      <th></th>\n",
       "      <th>gameorder</th>\n",
       "      <th>game_id</th>\n",
       "      <th>lg_id</th>\n",
       "      <th>_iscopy</th>\n",
       "      <th>year_id</th>\n",
       "      <th>date_game</th>\n",
       "      <th>seasongame</th>\n",
       "      <th>is_playoffs</th>\n",
       "      <th>team_id</th>\n",
       "      <th>fran_id</th>\n",
       "      <th>pts</th>\n",
       "      <th>elo_i</th>\n",
       "      <th>elo_n</th>\n",
       "      <th>win_equiv</th>\n",
       "      <th>opp_id</th>\n",
       "      <th>opp_fran</th>\n",
       "      <th>opp_pts</th>\n",
       "      <th>opp_elo_i</th>\n",
       "      <th>opp_elo_n</th>\n",
       "      <th>game_location</th>\n",
       "      <th>game_result</th>\n",
       "      <th>forecast</th>\n",
       "      <th>notes</th>\n",
       "      <th>date_played</th>\n",
       "    </tr>\n",
       "  </thead>\n",
       "  <tbody>\n",
       "    <tr>\n",
       "      <th>87763</th>\n",
       "      <td>43882</td>\n",
       "      <td>200010310NYK</td>\n",
       "      <td>NBA</td>\n",
       "      <td>0</td>\n",
       "      <td>2001</td>\n",
       "      <td>2000-10-31</td>\n",
       "      <td>1</td>\n",
       "      <td>0</td>\n",
       "      <td>NYK</td>\n",
       "      <td>Knicks</td>\n",
       "      <td>72</td>\n",
       "      <td>1554.92</td>\n",
       "      <td>1525.94</td>\n",
       "      <td>43.66</td>\n",
       "      <td>PHI</td>\n",
       "      <td>Sixers</td>\n",
       "      <td>101</td>\n",
       "      <td>1562.98</td>\n",
       "      <td>1591.96</td>\n",
       "      <td>H</td>\n",
       "      <td>L</td>\n",
       "      <td>0.63</td>\n",
       "      <td>NaN</td>\n",
       "      <td>2000-10-31</td>\n",
       "    </tr>\n",
       "    <tr>\n",
       "      <th>87798</th>\n",
       "      <td>43900</td>\n",
       "      <td>200011020NYK</td>\n",
       "      <td>NBA</td>\n",
       "      <td>0</td>\n",
       "      <td>2001</td>\n",
       "      <td>2000-11-02</td>\n",
       "      <td>2</td>\n",
       "      <td>0</td>\n",
       "      <td>NYK</td>\n",
       "      <td>Knicks</td>\n",
       "      <td>94</td>\n",
       "      <td>1525.94</td>\n",
       "      <td>1531.38</td>\n",
       "      <td>44.22</td>\n",
       "      <td>ATL</td>\n",
       "      <td>Hawks</td>\n",
       "      <td>69</td>\n",
       "      <td>1354.05</td>\n",
       "      <td>1348.60</td>\n",
       "      <td>H</td>\n",
       "      <td>W</td>\n",
       "      <td>0.83</td>\n",
       "      <td>NaN</td>\n",
       "      <td>2000-11-02</td>\n",
       "    </tr>\n",
       "    <tr>\n",
       "      <th>87814</th>\n",
       "      <td>43908</td>\n",
       "      <td>200011030WAS</td>\n",
       "      <td>NBA</td>\n",
       "      <td>1</td>\n",
       "      <td>2001</td>\n",
       "      <td>2000-11-03</td>\n",
       "      <td>3</td>\n",
       "      <td>0</td>\n",
       "      <td>NYK</td>\n",
       "      <td>Knicks</td>\n",
       "      <td>80</td>\n",
       "      <td>1531.38</td>\n",
       "      <td>1538.41</td>\n",
       "      <td>44.96</td>\n",
       "      <td>WAS</td>\n",
       "      <td>Wizards</td>\n",
       "      <td>76</td>\n",
       "      <td>1461.17</td>\n",
       "      <td>1454.14</td>\n",
       "      <td>A</td>\n",
       "      <td>W</td>\n",
       "      <td>0.46</td>\n",
       "      <td>NaN</td>\n",
       "      <td>2000-11-03</td>\n",
       "    </tr>\n",
       "    <tr>\n",
       "      <th>87862</th>\n",
       "      <td>43932</td>\n",
       "      <td>200011070MIL</td>\n",
       "      <td>NBA</td>\n",
       "      <td>1</td>\n",
       "      <td>2001</td>\n",
       "      <td>2000-11-07</td>\n",
       "      <td>4</td>\n",
       "      <td>0</td>\n",
       "      <td>NYK</td>\n",
       "      <td>Knicks</td>\n",
       "      <td>103</td>\n",
       "      <td>1538.41</td>\n",
       "      <td>1554.92</td>\n",
       "      <td>46.66</td>\n",
       "      <td>MIL</td>\n",
       "      <td>Bucks</td>\n",
       "      <td>89</td>\n",
       "      <td>1511.67</td>\n",
       "      <td>1495.17</td>\n",
       "      <td>A</td>\n",
       "      <td>W</td>\n",
       "      <td>0.40</td>\n",
       "      <td>NaN</td>\n",
       "      <td>2000-11-07</td>\n",
       "    </tr>\n",
       "    <tr>\n",
       "      <th>87880</th>\n",
       "      <td>43941</td>\n",
       "      <td>200011080NYK</td>\n",
       "      <td>NBA</td>\n",
       "      <td>0</td>\n",
       "      <td>2001</td>\n",
       "      <td>2000-11-08</td>\n",
       "      <td>5</td>\n",
       "      <td>0</td>\n",
       "      <td>NYK</td>\n",
       "      <td>Knicks</td>\n",
       "      <td>97</td>\n",
       "      <td>1554.92</td>\n",
       "      <td>1546.13</td>\n",
       "      <td>45.76</td>\n",
       "      <td>CLE</td>\n",
       "      <td>Cavaliers</td>\n",
       "      <td>99</td>\n",
       "      <td>1452.64</td>\n",
       "      <td>1461.43</td>\n",
       "      <td>H</td>\n",
       "      <td>L</td>\n",
       "      <td>0.76</td>\n",
       "      <td>NaN</td>\n",
       "      <td>2000-11-08</td>\n",
       "    </tr>\n",
       "    <tr>\n",
       "      <th>...</th>\n",
       "      <td>...</td>\n",
       "      <td>...</td>\n",
       "      <td>...</td>\n",
       "      <td>...</td>\n",
       "      <td>...</td>\n",
       "      <td>...</td>\n",
       "      <td>...</td>\n",
       "      <td>...</td>\n",
       "      <td>...</td>\n",
       "      <td>...</td>\n",
       "      <td>...</td>\n",
       "      <td>...</td>\n",
       "      <td>...</td>\n",
       "      <td>...</td>\n",
       "      <td>...</td>\n",
       "      <td>...</td>\n",
       "      <td>...</td>\n",
       "      <td>...</td>\n",
       "      <td>...</td>\n",
       "      <td>...</td>\n",
       "      <td>...</td>\n",
       "      <td>...</td>\n",
       "      <td>...</td>\n",
       "      <td>...</td>\n",
       "    </tr>\n",
       "    <tr>\n",
       "      <th>126025</th>\n",
       "      <td>63013</td>\n",
       "      <td>201504080NYK</td>\n",
       "      <td>NBA</td>\n",
       "      <td>0</td>\n",
       "      <td>2015</td>\n",
       "      <td>2015-04-08</td>\n",
       "      <td>78</td>\n",
       "      <td>0</td>\n",
       "      <td>NYK</td>\n",
       "      <td>Knicks</td>\n",
       "      <td>86</td>\n",
       "      <td>1256.84</td>\n",
       "      <td>1248.35</td>\n",
       "      <td>17.41</td>\n",
       "      <td>IND</td>\n",
       "      <td>Pacers</td>\n",
       "      <td>102</td>\n",
       "      <td>1478.99</td>\n",
       "      <td>1487.47</td>\n",
       "      <td>H</td>\n",
       "      <td>L</td>\n",
       "      <td>0.33</td>\n",
       "      <td>NaN</td>\n",
       "      <td>2015-04-08</td>\n",
       "    </tr>\n",
       "    <tr>\n",
       "      <th>126056</th>\n",
       "      <td>63029</td>\n",
       "      <td>201504100NYK</td>\n",
       "      <td>NBA</td>\n",
       "      <td>0</td>\n",
       "      <td>2015</td>\n",
       "      <td>2015-04-10</td>\n",
       "      <td>79</td>\n",
       "      <td>0</td>\n",
       "      <td>NYK</td>\n",
       "      <td>Knicks</td>\n",
       "      <td>91</td>\n",
       "      <td>1248.35</td>\n",
       "      <td>1242.41</td>\n",
       "      <td>17.00</td>\n",
       "      <td>MIL</td>\n",
       "      <td>Bucks</td>\n",
       "      <td>99</td>\n",
       "      <td>1452.27</td>\n",
       "      <td>1458.22</td>\n",
       "      <td>H</td>\n",
       "      <td>L</td>\n",
       "      <td>0.35</td>\n",
       "      <td>NaN</td>\n",
       "      <td>2015-04-10</td>\n",
       "    </tr>\n",
       "    <tr>\n",
       "      <th>126072</th>\n",
       "      <td>63037</td>\n",
       "      <td>201504110ORL</td>\n",
       "      <td>NBA</td>\n",
       "      <td>1</td>\n",
       "      <td>2015</td>\n",
       "      <td>2015-04-11</td>\n",
       "      <td>80</td>\n",
       "      <td>0</td>\n",
       "      <td>NYK</td>\n",
       "      <td>Knicks</td>\n",
       "      <td>80</td>\n",
       "      <td>1242.41</td>\n",
       "      <td>1249.44</td>\n",
       "      <td>17.49</td>\n",
       "      <td>ORL</td>\n",
       "      <td>Magic</td>\n",
       "      <td>79</td>\n",
       "      <td>1325.88</td>\n",
       "      <td>1318.85</td>\n",
       "      <td>A</td>\n",
       "      <td>W</td>\n",
       "      <td>0.26</td>\n",
       "      <td>NaN</td>\n",
       "      <td>2015-04-11</td>\n",
       "    </tr>\n",
       "    <tr>\n",
       "      <th>126094</th>\n",
       "      <td>63048</td>\n",
       "      <td>201504130ATL</td>\n",
       "      <td>NBA</td>\n",
       "      <td>1</td>\n",
       "      <td>2015</td>\n",
       "      <td>2015-04-13</td>\n",
       "      <td>81</td>\n",
       "      <td>0</td>\n",
       "      <td>NYK</td>\n",
       "      <td>Knicks</td>\n",
       "      <td>112</td>\n",
       "      <td>1249.44</td>\n",
       "      <td>1268.42</td>\n",
       "      <td>18.86</td>\n",
       "      <td>ATL</td>\n",
       "      <td>Hawks</td>\n",
       "      <td>108</td>\n",
       "      <td>1618.96</td>\n",
       "      <td>1599.97</td>\n",
       "      <td>A</td>\n",
       "      <td>W</td>\n",
       "      <td>0.06</td>\n",
       "      <td>NaN</td>\n",
       "      <td>2015-04-13</td>\n",
       "    </tr>\n",
       "    <tr>\n",
       "      <th>126147</th>\n",
       "      <td>63074</td>\n",
       "      <td>201504150NYK</td>\n",
       "      <td>NBA</td>\n",
       "      <td>0</td>\n",
       "      <td>2015</td>\n",
       "      <td>2015-04-15</td>\n",
       "      <td>82</td>\n",
       "      <td>0</td>\n",
       "      <td>NYK</td>\n",
       "      <td>Knicks</td>\n",
       "      <td>90</td>\n",
       "      <td>1268.42</td>\n",
       "      <td>1255.68</td>\n",
       "      <td>17.93</td>\n",
       "      <td>DET</td>\n",
       "      <td>Pistons</td>\n",
       "      <td>112</td>\n",
       "      <td>1448.34</td>\n",
       "      <td>1461.08</td>\n",
       "      <td>H</td>\n",
       "      <td>L</td>\n",
       "      <td>0.39</td>\n",
       "      <td>NaN</td>\n",
       "      <td>2015-04-15</td>\n",
       "    </tr>\n",
       "  </tbody>\n",
       "</table>\n",
       "<p>1244 rows × 24 columns</p>\n",
       "</div>"
      ],
      "text/plain": [
       "        gameorder       game_id lg_id  _iscopy  year_id  date_game  \\\n",
       "87763       43882  200010310NYK   NBA        0     2001 2000-10-31   \n",
       "87798       43900  200011020NYK   NBA        0     2001 2000-11-02   \n",
       "87814       43908  200011030WAS   NBA        1     2001 2000-11-03   \n",
       "87862       43932  200011070MIL   NBA        1     2001 2000-11-07   \n",
       "87880       43941  200011080NYK   NBA        0     2001 2000-11-08   \n",
       "...           ...           ...   ...      ...      ...        ...   \n",
       "126025      63013  201504080NYK   NBA        0     2015 2015-04-08   \n",
       "126056      63029  201504100NYK   NBA        0     2015 2015-04-10   \n",
       "126072      63037  201504110ORL   NBA        1     2015 2015-04-11   \n",
       "126094      63048  201504130ATL   NBA        1     2015 2015-04-13   \n",
       "126147      63074  201504150NYK   NBA        0     2015 2015-04-15   \n",
       "\n",
       "        seasongame  is_playoffs team_id fran_id  pts    elo_i    elo_n  \\\n",
       "87763            1            0     NYK  Knicks   72  1554.92  1525.94   \n",
       "87798            2            0     NYK  Knicks   94  1525.94  1531.38   \n",
       "87814            3            0     NYK  Knicks   80  1531.38  1538.41   \n",
       "87862            4            0     NYK  Knicks  103  1538.41  1554.92   \n",
       "87880            5            0     NYK  Knicks   97  1554.92  1546.13   \n",
       "...            ...          ...     ...     ...  ...      ...      ...   \n",
       "126025          78            0     NYK  Knicks   86  1256.84  1248.35   \n",
       "126056          79            0     NYK  Knicks   91  1248.35  1242.41   \n",
       "126072          80            0     NYK  Knicks   80  1242.41  1249.44   \n",
       "126094          81            0     NYK  Knicks  112  1249.44  1268.42   \n",
       "126147          82            0     NYK  Knicks   90  1268.42  1255.68   \n",
       "\n",
       "        win_equiv opp_id   opp_fran  opp_pts  opp_elo_i  opp_elo_n  \\\n",
       "87763       43.66    PHI     Sixers      101    1562.98    1591.96   \n",
       "87798       44.22    ATL      Hawks       69    1354.05    1348.60   \n",
       "87814       44.96    WAS    Wizards       76    1461.17    1454.14   \n",
       "87862       46.66    MIL      Bucks       89    1511.67    1495.17   \n",
       "87880       45.76    CLE  Cavaliers       99    1452.64    1461.43   \n",
       "...           ...    ...        ...      ...        ...        ...   \n",
       "126025      17.41    IND     Pacers      102    1478.99    1487.47   \n",
       "126056      17.00    MIL      Bucks       99    1452.27    1458.22   \n",
       "126072      17.49    ORL      Magic       79    1325.88    1318.85   \n",
       "126094      18.86    ATL      Hawks      108    1618.96    1599.97   \n",
       "126147      17.93    DET    Pistons      112    1448.34    1461.08   \n",
       "\n",
       "       game_location game_result  forecast notes date_played  \n",
       "87763              H           L      0.63   NaN  2000-10-31  \n",
       "87798              H           W      0.83   NaN  2000-11-02  \n",
       "87814              A           W      0.46   NaN  2000-11-03  \n",
       "87862              A           W      0.40   NaN  2000-11-07  \n",
       "87880              H           L      0.76   NaN  2000-11-08  \n",
       "...              ...         ...       ...   ...         ...  \n",
       "126025             H           L      0.33   NaN  2015-04-08  \n",
       "126056             H           L      0.35   NaN  2015-04-10  \n",
       "126072             A           W      0.26   NaN  2015-04-11  \n",
       "126094             A           W      0.06   NaN  2015-04-13  \n",
       "126147             H           L      0.39   NaN  2015-04-15  \n",
       "\n",
       "[1244 rows x 24 columns]"
      ]
     },
     "execution_count": 148,
     "metadata": {},
     "output_type": "execute_result"
    }
   ],
   "source": [
    "k"
   ]
  },
  {
   "cell_type": "code",
   "execution_count": 149,
   "id": "d0972b06-5ad5-418b-9a04-05c570f6a79f",
   "metadata": {},
   "outputs": [],
   "source": [
    "#x = np.array(k.pts)\n",
    "#y = np.array(k.opp_pts)"
   ]
  },
  {
   "cell_type": "code",
   "execution_count": 150,
   "id": "877f6036-83f9-4520-b4ec-72e1c22adff3",
   "metadata": {},
   "outputs": [],
   "source": [
    "#X = x.reshape(-1, 1)"
   ]
  },
  {
   "cell_type": "code",
   "execution_count": 153,
   "id": "9d526dc5-e164-4e39-ab5d-55924269c935",
   "metadata": {},
   "outputs": [],
   "source": [
    "from sklearn.linear_model import LinearRegression\n"
   ]
  },
  {
   "cell_type": "code",
   "execution_count": 154,
   "id": "faf52747-82f8-4ef9-b460-612c7e3bd01d",
   "metadata": {},
   "outputs": [],
   "source": [
    "lr = LinearRegression()\n"
   ]
  },
  {
   "cell_type": "code",
   "execution_count": 165,
   "id": "da40183e-dead-4c79-a4d4-1085c65aadd4",
   "metadata": {},
   "outputs": [
    {
     "name": "stderr",
     "output_type": "stream",
     "text": [
      "/var/folders/42/tg009yd16fd7lk4bbyt3hzth0000gn/T/ipykernel_2451/1470016785.py:5: SettingWithCopyWarning: \n",
      "A value is trying to be set on a copy of a slice from a DataFrame.\n",
      "Try using .loc[row_indexer,col_indexer] = value instead\n",
      "\n",
      "See the caveats in the documentation: https://pandas.pydata.org/pandas-docs/stable/user_guide/indexing.html#returning-a-view-versus-a-copy\n",
      "  k[\"best_prediction\"] = k.pts * optimal_m + optimal_b\n"
     ]
    }
   ],
   "source": [
    "optimal_m = lr.fit(X = k[[\"pts\"]], y = k.opp_pts).coef_[0]\n",
    "\n",
    "optimal_b = lr.fit(X = k[[\"pts\"]], y = k.opp_pts).intercept_\n",
    "\n",
    "k[\"best_prediction\"] = k.pts * optimal_m + optimal_b"
   ]
  },
  {
   "cell_type": "code",
   "execution_count": 166,
   "id": "622d4582-6947-4259-a5a5-54ce884bc8ce",
   "metadata": {},
   "outputs": [
    {
     "data": {
      "text/html": [
       "<div>\n",
       "<style scoped>\n",
       "    .dataframe tbody tr th:only-of-type {\n",
       "        vertical-align: middle;\n",
       "    }\n",
       "\n",
       "    .dataframe tbody tr th {\n",
       "        vertical-align: top;\n",
       "    }\n",
       "\n",
       "    .dataframe thead th {\n",
       "        text-align: right;\n",
       "    }\n",
       "</style>\n",
       "<table border=\"1\" class=\"dataframe\">\n",
       "  <thead>\n",
       "    <tr style=\"text-align: right;\">\n",
       "      <th></th>\n",
       "      <th>gameorder</th>\n",
       "      <th>game_id</th>\n",
       "      <th>lg_id</th>\n",
       "      <th>_iscopy</th>\n",
       "      <th>year_id</th>\n",
       "      <th>date_game</th>\n",
       "      <th>seasongame</th>\n",
       "      <th>is_playoffs</th>\n",
       "      <th>team_id</th>\n",
       "      <th>fran_id</th>\n",
       "      <th>pts</th>\n",
       "      <th>elo_i</th>\n",
       "      <th>elo_n</th>\n",
       "      <th>win_equiv</th>\n",
       "      <th>opp_id</th>\n",
       "      <th>opp_fran</th>\n",
       "      <th>opp_pts</th>\n",
       "      <th>opp_elo_i</th>\n",
       "      <th>opp_elo_n</th>\n",
       "      <th>game_location</th>\n",
       "      <th>game_result</th>\n",
       "      <th>forecast</th>\n",
       "      <th>notes</th>\n",
       "      <th>date_played</th>\n",
       "      <th>best_prediction</th>\n",
       "    </tr>\n",
       "  </thead>\n",
       "  <tbody>\n",
       "    <tr>\n",
       "      <th>87763</th>\n",
       "      <td>43882</td>\n",
       "      <td>200010310NYK</td>\n",
       "      <td>NBA</td>\n",
       "      <td>0</td>\n",
       "      <td>2001</td>\n",
       "      <td>2000-10-31</td>\n",
       "      <td>1</td>\n",
       "      <td>0</td>\n",
       "      <td>NYK</td>\n",
       "      <td>Knicks</td>\n",
       "      <td>72</td>\n",
       "      <td>1554.92</td>\n",
       "      <td>1525.94</td>\n",
       "      <td>43.66</td>\n",
       "      <td>PHI</td>\n",
       "      <td>Sixers</td>\n",
       "      <td>101</td>\n",
       "      <td>1562.98</td>\n",
       "      <td>1591.96</td>\n",
       "      <td>H</td>\n",
       "      <td>L</td>\n",
       "      <td>0.63</td>\n",
       "      <td>NaN</td>\n",
       "      <td>2000-10-31</td>\n",
       "      <td>87.40</td>\n",
       "    </tr>\n",
       "    <tr>\n",
       "      <th>87798</th>\n",
       "      <td>43900</td>\n",
       "      <td>200011020NYK</td>\n",
       "      <td>NBA</td>\n",
       "      <td>0</td>\n",
       "      <td>2001</td>\n",
       "      <td>2000-11-02</td>\n",
       "      <td>2</td>\n",
       "      <td>0</td>\n",
       "      <td>NYK</td>\n",
       "      <td>Knicks</td>\n",
       "      <td>94</td>\n",
       "      <td>1525.94</td>\n",
       "      <td>1531.38</td>\n",
       "      <td>44.22</td>\n",
       "      <td>ATL</td>\n",
       "      <td>Hawks</td>\n",
       "      <td>69</td>\n",
       "      <td>1354.05</td>\n",
       "      <td>1348.60</td>\n",
       "      <td>H</td>\n",
       "      <td>W</td>\n",
       "      <td>0.83</td>\n",
       "      <td>NaN</td>\n",
       "      <td>2000-11-02</td>\n",
       "      <td>97.74</td>\n",
       "    </tr>\n",
       "    <tr>\n",
       "      <th>87814</th>\n",
       "      <td>43908</td>\n",
       "      <td>200011030WAS</td>\n",
       "      <td>NBA</td>\n",
       "      <td>1</td>\n",
       "      <td>2001</td>\n",
       "      <td>2000-11-03</td>\n",
       "      <td>3</td>\n",
       "      <td>0</td>\n",
       "      <td>NYK</td>\n",
       "      <td>Knicks</td>\n",
       "      <td>80</td>\n",
       "      <td>1531.38</td>\n",
       "      <td>1538.41</td>\n",
       "      <td>44.96</td>\n",
       "      <td>WAS</td>\n",
       "      <td>Wizards</td>\n",
       "      <td>76</td>\n",
       "      <td>1461.17</td>\n",
       "      <td>1454.14</td>\n",
       "      <td>A</td>\n",
       "      <td>W</td>\n",
       "      <td>0.46</td>\n",
       "      <td>NaN</td>\n",
       "      <td>2000-11-03</td>\n",
       "      <td>91.16</td>\n",
       "    </tr>\n",
       "    <tr>\n",
       "      <th>87862</th>\n",
       "      <td>43932</td>\n",
       "      <td>200011070MIL</td>\n",
       "      <td>NBA</td>\n",
       "      <td>1</td>\n",
       "      <td>2001</td>\n",
       "      <td>2000-11-07</td>\n",
       "      <td>4</td>\n",
       "      <td>0</td>\n",
       "      <td>NYK</td>\n",
       "      <td>Knicks</td>\n",
       "      <td>103</td>\n",
       "      <td>1538.41</td>\n",
       "      <td>1554.92</td>\n",
       "      <td>46.66</td>\n",
       "      <td>MIL</td>\n",
       "      <td>Bucks</td>\n",
       "      <td>89</td>\n",
       "      <td>1511.67</td>\n",
       "      <td>1495.17</td>\n",
       "      <td>A</td>\n",
       "      <td>W</td>\n",
       "      <td>0.40</td>\n",
       "      <td>NaN</td>\n",
       "      <td>2000-11-07</td>\n",
       "      <td>101.97</td>\n",
       "    </tr>\n",
       "    <tr>\n",
       "      <th>87880</th>\n",
       "      <td>43941</td>\n",
       "      <td>200011080NYK</td>\n",
       "      <td>NBA</td>\n",
       "      <td>0</td>\n",
       "      <td>2001</td>\n",
       "      <td>2000-11-08</td>\n",
       "      <td>5</td>\n",
       "      <td>0</td>\n",
       "      <td>NYK</td>\n",
       "      <td>Knicks</td>\n",
       "      <td>97</td>\n",
       "      <td>1554.92</td>\n",
       "      <td>1546.13</td>\n",
       "      <td>45.76</td>\n",
       "      <td>CLE</td>\n",
       "      <td>Cavaliers</td>\n",
       "      <td>99</td>\n",
       "      <td>1452.64</td>\n",
       "      <td>1461.43</td>\n",
       "      <td>H</td>\n",
       "      <td>L</td>\n",
       "      <td>0.76</td>\n",
       "      <td>NaN</td>\n",
       "      <td>2000-11-08</td>\n",
       "      <td>99.15</td>\n",
       "    </tr>\n",
       "    <tr>\n",
       "      <th>...</th>\n",
       "      <td>...</td>\n",
       "      <td>...</td>\n",
       "      <td>...</td>\n",
       "      <td>...</td>\n",
       "      <td>...</td>\n",
       "      <td>...</td>\n",
       "      <td>...</td>\n",
       "      <td>...</td>\n",
       "      <td>...</td>\n",
       "      <td>...</td>\n",
       "      <td>...</td>\n",
       "      <td>...</td>\n",
       "      <td>...</td>\n",
       "      <td>...</td>\n",
       "      <td>...</td>\n",
       "      <td>...</td>\n",
       "      <td>...</td>\n",
       "      <td>...</td>\n",
       "      <td>...</td>\n",
       "      <td>...</td>\n",
       "      <td>...</td>\n",
       "      <td>...</td>\n",
       "      <td>...</td>\n",
       "      <td>...</td>\n",
       "      <td>...</td>\n",
       "    </tr>\n",
       "    <tr>\n",
       "      <th>126025</th>\n",
       "      <td>63013</td>\n",
       "      <td>201504080NYK</td>\n",
       "      <td>NBA</td>\n",
       "      <td>0</td>\n",
       "      <td>2015</td>\n",
       "      <td>2015-04-08</td>\n",
       "      <td>78</td>\n",
       "      <td>0</td>\n",
       "      <td>NYK</td>\n",
       "      <td>Knicks</td>\n",
       "      <td>86</td>\n",
       "      <td>1256.84</td>\n",
       "      <td>1248.35</td>\n",
       "      <td>17.41</td>\n",
       "      <td>IND</td>\n",
       "      <td>Pacers</td>\n",
       "      <td>102</td>\n",
       "      <td>1478.99</td>\n",
       "      <td>1487.47</td>\n",
       "      <td>H</td>\n",
       "      <td>L</td>\n",
       "      <td>0.33</td>\n",
       "      <td>NaN</td>\n",
       "      <td>2015-04-08</td>\n",
       "      <td>93.98</td>\n",
       "    </tr>\n",
       "    <tr>\n",
       "      <th>126056</th>\n",
       "      <td>63029</td>\n",
       "      <td>201504100NYK</td>\n",
       "      <td>NBA</td>\n",
       "      <td>0</td>\n",
       "      <td>2015</td>\n",
       "      <td>2015-04-10</td>\n",
       "      <td>79</td>\n",
       "      <td>0</td>\n",
       "      <td>NYK</td>\n",
       "      <td>Knicks</td>\n",
       "      <td>91</td>\n",
       "      <td>1248.35</td>\n",
       "      <td>1242.41</td>\n",
       "      <td>17.00</td>\n",
       "      <td>MIL</td>\n",
       "      <td>Bucks</td>\n",
       "      <td>99</td>\n",
       "      <td>1452.27</td>\n",
       "      <td>1458.22</td>\n",
       "      <td>H</td>\n",
       "      <td>L</td>\n",
       "      <td>0.35</td>\n",
       "      <td>NaN</td>\n",
       "      <td>2015-04-10</td>\n",
       "      <td>96.33</td>\n",
       "    </tr>\n",
       "    <tr>\n",
       "      <th>126072</th>\n",
       "      <td>63037</td>\n",
       "      <td>201504110ORL</td>\n",
       "      <td>NBA</td>\n",
       "      <td>1</td>\n",
       "      <td>2015</td>\n",
       "      <td>2015-04-11</td>\n",
       "      <td>80</td>\n",
       "      <td>0</td>\n",
       "      <td>NYK</td>\n",
       "      <td>Knicks</td>\n",
       "      <td>80</td>\n",
       "      <td>1242.41</td>\n",
       "      <td>1249.44</td>\n",
       "      <td>17.49</td>\n",
       "      <td>ORL</td>\n",
       "      <td>Magic</td>\n",
       "      <td>79</td>\n",
       "      <td>1325.88</td>\n",
       "      <td>1318.85</td>\n",
       "      <td>A</td>\n",
       "      <td>W</td>\n",
       "      <td>0.26</td>\n",
       "      <td>NaN</td>\n",
       "      <td>2015-04-11</td>\n",
       "      <td>91.16</td>\n",
       "    </tr>\n",
       "    <tr>\n",
       "      <th>126094</th>\n",
       "      <td>63048</td>\n",
       "      <td>201504130ATL</td>\n",
       "      <td>NBA</td>\n",
       "      <td>1</td>\n",
       "      <td>2015</td>\n",
       "      <td>2015-04-13</td>\n",
       "      <td>81</td>\n",
       "      <td>0</td>\n",
       "      <td>NYK</td>\n",
       "      <td>Knicks</td>\n",
       "      <td>112</td>\n",
       "      <td>1249.44</td>\n",
       "      <td>1268.42</td>\n",
       "      <td>18.86</td>\n",
       "      <td>ATL</td>\n",
       "      <td>Hawks</td>\n",
       "      <td>108</td>\n",
       "      <td>1618.96</td>\n",
       "      <td>1599.97</td>\n",
       "      <td>A</td>\n",
       "      <td>W</td>\n",
       "      <td>0.06</td>\n",
       "      <td>NaN</td>\n",
       "      <td>2015-04-13</td>\n",
       "      <td>106.20</td>\n",
       "    </tr>\n",
       "    <tr>\n",
       "      <th>126147</th>\n",
       "      <td>63074</td>\n",
       "      <td>201504150NYK</td>\n",
       "      <td>NBA</td>\n",
       "      <td>0</td>\n",
       "      <td>2015</td>\n",
       "      <td>2015-04-15</td>\n",
       "      <td>82</td>\n",
       "      <td>0</td>\n",
       "      <td>NYK</td>\n",
       "      <td>Knicks</td>\n",
       "      <td>90</td>\n",
       "      <td>1268.42</td>\n",
       "      <td>1255.68</td>\n",
       "      <td>17.93</td>\n",
       "      <td>DET</td>\n",
       "      <td>Pistons</td>\n",
       "      <td>112</td>\n",
       "      <td>1448.34</td>\n",
       "      <td>1461.08</td>\n",
       "      <td>H</td>\n",
       "      <td>L</td>\n",
       "      <td>0.39</td>\n",
       "      <td>NaN</td>\n",
       "      <td>2015-04-15</td>\n",
       "      <td>95.86</td>\n",
       "    </tr>\n",
       "  </tbody>\n",
       "</table>\n",
       "<p>1244 rows × 25 columns</p>\n",
       "</div>"
      ],
      "text/plain": [
       "        gameorder       game_id lg_id  _iscopy  year_id  date_game  \\\n",
       "87763       43882  200010310NYK   NBA        0     2001 2000-10-31   \n",
       "87798       43900  200011020NYK   NBA        0     2001 2000-11-02   \n",
       "87814       43908  200011030WAS   NBA        1     2001 2000-11-03   \n",
       "87862       43932  200011070MIL   NBA        1     2001 2000-11-07   \n",
       "87880       43941  200011080NYK   NBA        0     2001 2000-11-08   \n",
       "...           ...           ...   ...      ...      ...        ...   \n",
       "126025      63013  201504080NYK   NBA        0     2015 2015-04-08   \n",
       "126056      63029  201504100NYK   NBA        0     2015 2015-04-10   \n",
       "126072      63037  201504110ORL   NBA        1     2015 2015-04-11   \n",
       "126094      63048  201504130ATL   NBA        1     2015 2015-04-13   \n",
       "126147      63074  201504150NYK   NBA        0     2015 2015-04-15   \n",
       "\n",
       "        seasongame  is_playoffs team_id fran_id  pts    elo_i    elo_n  \\\n",
       "87763            1            0     NYK  Knicks   72  1554.92  1525.94   \n",
       "87798            2            0     NYK  Knicks   94  1525.94  1531.38   \n",
       "87814            3            0     NYK  Knicks   80  1531.38  1538.41   \n",
       "87862            4            0     NYK  Knicks  103  1538.41  1554.92   \n",
       "87880            5            0     NYK  Knicks   97  1554.92  1546.13   \n",
       "...            ...          ...     ...     ...  ...      ...      ...   \n",
       "126025          78            0     NYK  Knicks   86  1256.84  1248.35   \n",
       "126056          79            0     NYK  Knicks   91  1248.35  1242.41   \n",
       "126072          80            0     NYK  Knicks   80  1242.41  1249.44   \n",
       "126094          81            0     NYK  Knicks  112  1249.44  1268.42   \n",
       "126147          82            0     NYK  Knicks   90  1268.42  1255.68   \n",
       "\n",
       "        win_equiv opp_id   opp_fran  opp_pts  opp_elo_i  opp_elo_n  \\\n",
       "87763       43.66    PHI     Sixers      101    1562.98    1591.96   \n",
       "87798       44.22    ATL      Hawks       69    1354.05    1348.60   \n",
       "87814       44.96    WAS    Wizards       76    1461.17    1454.14   \n",
       "87862       46.66    MIL      Bucks       89    1511.67    1495.17   \n",
       "87880       45.76    CLE  Cavaliers       99    1452.64    1461.43   \n",
       "...           ...    ...        ...      ...        ...        ...   \n",
       "126025      17.41    IND     Pacers      102    1478.99    1487.47   \n",
       "126056      17.00    MIL      Bucks       99    1452.27    1458.22   \n",
       "126072      17.49    ORL      Magic       79    1325.88    1318.85   \n",
       "126094      18.86    ATL      Hawks      108    1618.96    1599.97   \n",
       "126147      17.93    DET    Pistons      112    1448.34    1461.08   \n",
       "\n",
       "       game_location game_result  forecast notes date_played  best_prediction  \n",
       "87763              H           L      0.63   NaN  2000-10-31            87.40  \n",
       "87798              H           W      0.83   NaN  2000-11-02            97.74  \n",
       "87814              A           W      0.46   NaN  2000-11-03            91.16  \n",
       "87862              A           W      0.40   NaN  2000-11-07           101.97  \n",
       "87880              H           L      0.76   NaN  2000-11-08            99.15  \n",
       "...              ...         ...       ...   ...         ...              ...  \n",
       "126025             H           L      0.33   NaN  2015-04-08            93.98  \n",
       "126056             H           L      0.35   NaN  2015-04-10            96.33  \n",
       "126072             A           W      0.26   NaN  2015-04-11            91.16  \n",
       "126094             A           W      0.06   NaN  2015-04-13           106.20  \n",
       "126147             H           L      0.39   NaN  2015-04-15            95.86  \n",
       "\n",
       "[1244 rows x 25 columns]"
      ]
     },
     "execution_count": 166,
     "metadata": {},
     "output_type": "execute_result"
    }
   ],
   "source": [
    "k"
   ]
  },
  {
   "cell_type": "code",
   "execution_count": null,
   "id": "893dff76-0394-42cf-ba89-636944401df1",
   "metadata": {},
   "outputs": [],
   "source": []
  },
  {
   "cell_type": "code",
   "execution_count": 163,
   "id": "e345fe53-2d0d-4e65-87e0-20f8f0b70601",
   "metadata": {},
   "outputs": [
    {
     "name": "stdout",
     "output_type": "stream",
     "text": [
      "x: 0.4700545042468103 \n",
      "b y: 53.55130858353667\n"
     ]
    }
   ],
   "source": [
    "print(f\"x: {optimal_m} \\nb y: {optimal_b}\")"
   ]
  },
  {
   "cell_type": "code",
   "execution_count": 168,
   "id": "edd87a03-dbd1-42f6-b995-21336fe20274",
   "metadata": {},
   "outputs": [
    {
     "ename": "NameError",
     "evalue": "name 'data' is not defined",
     "output_type": "error",
     "traceback": [
      "\u001b[0;31m---------------------------------------------------------------------------\u001b[0m",
      "\u001b[0;31mNameError\u001b[0m                                 Traceback (most recent call last)",
      "Cell \u001b[0;32mIn[168], line 7\u001b[0m\n\u001b[1;32m      3\u001b[0m fig, ax \u001b[38;5;241m=\u001b[39m plt\u001b[38;5;241m.\u001b[39msubplots()\n\u001b[1;32m      4\u001b[0m sns\u001b[38;5;241m.\u001b[39mscatterplot(x\u001b[38;5;241m=\u001b[39mk[\u001b[38;5;124m\"\u001b[39m\u001b[38;5;124mpts\u001b[39m\u001b[38;5;124m\"\u001b[39m], y\u001b[38;5;241m=\u001b[39mk[\u001b[38;5;124m\"\u001b[39m\u001b[38;5;124mopp_pts\u001b[39m\u001b[38;5;124m\"\u001b[39m])\n\u001b[0;32m----> 7\u001b[0m plt\u001b[38;5;241m.\u001b[39mplot(k\u001b[38;5;241m.\u001b[39mpts, \u001b[43mdata\u001b[49m\u001b[38;5;241m.\u001b[39mbest_prediction, color\u001b[38;5;241m=\u001b[39m\u001b[38;5;124m'\u001b[39m\u001b[38;5;124my\u001b[39m\u001b[38;5;124m'\u001b[39m, label\u001b[38;5;241m=\u001b[39m\u001b[38;5;124m'\u001b[39m\u001b[38;5;124mbest\u001b[39m\u001b[38;5;124m'\u001b[39m)\n",
      "\u001b[0;31mNameError\u001b[0m: name 'data' is not defined"
     ]
    },
    {
     "data": {
      "image/png": "[encoded data removed]",
      "text/plain": [
       "<Figure size 640x480 with 1 Axes>"
      ]
     },
     "metadata": {},
     "output_type": "display_data"
    }
   ],
   "source": [
    "import seaborn as sns\n",
    "\n",
    "fig, ax = plt.subplots()\n",
    "sns.scatterplot(x=k[\"pts\"], y=k[\"opp_pts\"])\n",
    "\n",
    "\n",
    "plt.plot(k.pts, data.best_prediction, color='y', label='best')\n",
    "\n",
    "\n"
   ]
  },
  {
   "cell_type": "code",
   "execution_count": 142,
   "id": "008c44d4-6be0-4022-8225-66c3bfa0503d",
   "metadata": {},
   "outputs": [
    {
     "data": {
      "image/png": "[encoded data removed]",
      "text/plain": [
       "<Figure size 640x480 with 1 Axes>"
      ]
     },
     "metadata": {},
     "output_type": "display_data"
    }
   ],
   "source": [
    "\n",
    "# Suponiendo que ya tienes x, y, m, y b:\n",
    "# Dibujar los puntos originales\n",
    "plt.scatter(x, y, color='blue', label='Datos originales')\n",
    "\n",
    "\n",
    "# Crear puntos para la línea de regresión\n",
    "x_line = np.linspace(min(x), max(x), 100)  # Crear un rango de valores de x\n",
    "y_line = m * x_line + b                    # Calcular los valores de y según la regresión\n",
    "\n",
    "# Dibujar la línea de regresión\n",
    "plt.plot(x_line, y_line, color='red', label='Línea de regresión')\n",
    "\n",
    "# Añadir etiquetas, título y leyenda\n",
    "plt.xlabel('Puntos anotados (x)')\n",
    "plt.ylabel('Puntos permitidos (y)')\n",
    "plt.title('Regresión lineal: Relación entre x e y')\n",
    "plt.legend()\n",
    "\n",
    "# Mostrar el gráfico\n",
    "plt.show()"
   ]
  },
  {
   "cell_type": "code",
   "execution_count": 143,
   "id": "88301d0a-c76f-4c44-babb-3bad935a60d1",
   "metadata": {},
   "outputs": [
    {
     "data": {
      "text/plain": [
       "<Axes: xlabel='pts', ylabel='opp_pts'>"
      ]
     },
     "execution_count": 143,
     "metadata": {},
     "output_type": "execute_result"
    },
    {
     "data": {
      "image/png": "[encoded data removed]",
      "text/plain": [
       "<Figure size 640x480 with 1 Axes>"
      ]
     },
     "metadata": {},
     "output_type": "display_data"
    }
   ],
   "source": [
    "nba[(nba[\"fran_id\"] == \"Knicks\") & (nba[\"year_id\"] > 2000) ].plot(kind=\"scatter\", x=\"pts\", y=\"opp_pts\", s=0.5)"
   ]
  },
  {
   "cell_type": "code",
   "execution_count": 144,
   "id": "e7a7737f-736e-482c-aee8-d87511bebd68",
   "metadata": {},
   "outputs": [
    {
     "data": {
      "text/plain": [
       "game_result\n",
       "W    82\n",
       "L    23\n",
       "Name: count, dtype: int64"
      ]
     },
     "execution_count": 144,
     "metadata": {},
     "output_type": "execute_result"
    }
   ],
   "source": [
    "heat_13_wl = nba[\n",
    "    (nba[\"fran_id\"] == \"Heat\") &\n",
    "    (nba[\"year_id\"] == 2013)\n",
    "][\"game_result\"].value_counts()\n",
    "\n",
    "heat_13_wl"
   ]
  },
  {
   "cell_type": "code",
   "execution_count": 145,
   "id": "80f1125a-cb12-4d2b-b971-a5f1cf3f4835",
   "metadata": {},
   "outputs": [
    {
     "data": {
      "text/plain": [
       "<Axes: ylabel='count'>"
      ]
     },
     "execution_count": 145,
     "metadata": {},
     "output_type": "execute_result"
    },
    {
     "data": {
      "image/png": "[encoded data removed]",
      "text/plain": [
       "<Figure size 640x480 with 1 Axes>"
      ]
     },
     "metadata": {},
     "output_type": "display_data"
    }
   ],
   "source": [
    "heat_13_wl.plot(kind=\"pie\")"
   ]
  }
 ],
 "metadata": {
  "kernelspec": {
   "display_name": "Python 3 (ipykernel)",
   "language": "python",
   "name": "python3"
  },
  "language_info": {
   "codemirror_mode": {
    "name": "ipython",
    "version": 3
   },
   "file_extension": ".py",
   "mimetype": "text/x-python",
   "name": "python",
   "nbconvert_exporter": "python",
   "pygments_lexer": "ipython3",
   "version": "3.9.21"
  }
 },
 "nbformat": 4,
 "nbformat_minor": 5
}
