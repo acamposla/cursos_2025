{
 "cells": [
  {
   "cell_type": "markdown",
   "id": "911a71bf-7c82-4a45-890f-0f02c8397f66",
   "metadata": {},
   "source": [
    "# Lists"
   ]
  },
  {
   "cell_type": "code",
   "execution_count": 1,
   "id": "aeff5172-105a-4c4e-96f8-9552c0c023c0",
   "metadata": {},
   "outputs": [
    {
     "data": {
      "text/plain": [
       "[2, 4, 7]"
      ]
     },
     "execution_count": 1,
     "metadata": {},
     "output_type": "execute_result"
    }
   ],
   "source": [
    "[2,4,7]"
   ]
  },
  {
   "cell_type": "markdown",
   "id": "35f6cdc6-6ba4-4cd9-93f2-bb8e3c750d4d",
   "metadata": {},
   "source": [
    "# Creating Lists"
   ]
  },
  {
   "cell_type": "code",
   "execution_count": 3,
   "id": "308dab0d-591c-450a-8d80-f00535de1d9f",
   "metadata": {},
   "outputs": [],
   "source": [
    "regions = [\"Asia\", \"America\", \"Europe\"]"
   ]
  },
  {
   "cell_type": "raw",
   "id": "b153fc13-ae3f-4f12-b544-f4c1e137d18d",
   "metadata": {},
   "source": [
    "regions = []"
   ]
  },
  {
   "cell_type": "markdown",
   "id": "e69f067a-207c-489e-9754-e948fced9a8c",
   "metadata": {},
   "source": [
    "# Using Common Lists Object Methods"
   ]
  },
  {
   "cell_type": "code",
   "execution_count": 4,
   "id": "e384e07b-e91e-4c5f-9838-1243e4bdaf16",
   "metadata": {},
   "outputs": [],
   "source": [
    "my_list = []"
   ]
  },
  {
   "cell_type": "code",
   "execution_count": 6,
   "id": "ddbcd924-4473-4eff-b7e0-ec0c7863b02f",
   "metadata": {},
   "outputs": [
    {
     "data": {
      "text/plain": [
       "['Pay bills',\n",
       " 'Tidy up',\n",
       " 'Walk the dog',\n",
       " 'Cook dinner',\n",
       " 'Pay bills',\n",
       " 'Tidy up',\n",
       " 'Walk the dog',\n",
       " 'Cook dinner']"
      ]
     },
     "execution_count": 6,
     "metadata": {},
     "output_type": "execute_result"
    }
   ],
   "source": [
    "my_list.append(\"Pay bills\")\n",
    "my_list.append(\"Tidy up\")\n",
    "my_list.append(\"Walk the dog\")\n",
    "my_list.append(\"Cook dinner\")\n",
    "my_list\n",
    "\n"
   ]
  },
  {
   "cell_type": "code",
   "execution_count": 8,
   "id": "fbc94eaf-86e8-4346-b499-8ff7f4088c69",
   "metadata": {},
   "outputs": [
    {
     "data": {
      "text/plain": [
       "'Pay bills'"
      ]
     },
     "execution_count": 8,
     "metadata": {},
     "output_type": "execute_result"
    }
   ],
   "source": [
    "# each item has a numeric key known as index\n",
    "my_list[0]"
   ]
  },
  {
   "cell_type": "code",
   "execution_count": 10,
   "id": "8dc433fd-c464-42ba-a958-41e1097143ec",
   "metadata": {},
   "outputs": [
    {
     "data": {
      "text/plain": [
       "3"
      ]
     },
     "execution_count": 10,
     "metadata": {},
     "output_type": "execute_result"
    }
   ],
   "source": [
    "# index to insert a item\n",
    "i = my_list.index(\"Cook dinner\")\n",
    "i"
   ]
  },
  {
   "cell_type": "code",
   "execution_count": 11,
   "id": "c4303339-27f3-4df4-bed6-17a64c8c92e0",
   "metadata": {},
   "outputs": [],
   "source": [
    "my_list.insert(i, 'Go to farmacy')"
   ]
  },
  {
   "cell_type": "code",
   "execution_count": 12,
   "id": "6a34a1e3-bae5-4fe7-8089-23bd4b21976a",
   "metadata": {},
   "outputs": [
    {
     "data": {
      "text/plain": [
       "['Pay bills',\n",
       " 'Tidy up',\n",
       " 'Walk the dog',\n",
       " 'Go to farmacy',\n",
       " 'Cook dinner',\n",
       " 'Pay bills',\n",
       " 'Tidy up',\n",
       " 'Walk the dog',\n",
       " 'Cook dinner']"
      ]
     },
     "execution_count": 12,
     "metadata": {},
     "output_type": "execute_result"
    }
   ],
   "source": [
    "my_list"
   ]
  },
  {
   "cell_type": "code",
   "execution_count": 14,
   "id": "e7854f33-99e3-46f8-a2d7-ca46fe88a98a",
   "metadata": {},
   "outputs": [
    {
     "data": {
      "text/plain": [
       "2"
      ]
     },
     "execution_count": 14,
     "metadata": {},
     "output_type": "execute_result"
    }
   ],
   "source": [
    "# count\n",
    "my_list.count('Tidy up')"
   ]
  },
  {
   "cell_type": "markdown",
   "id": "a9439711-d6fe-4c91-a7ed-163b66e87829",
   "metadata": {},
   "source": [
    "# using Slice Notation"
   ]
  },
  {
   "cell_type": "code",
   "execution_count": 16,
   "id": "9369166d-4a17-469c-bd8c-65461f93916a",
   "metadata": {},
   "outputs": [
    {
     "data": {
      "text/plain": [
       "['Pay bills', 'Tidy up', 'Walk the dog']"
      ]
     },
     "execution_count": 16,
     "metadata": {},
     "output_type": "execute_result"
    }
   ],
   "source": [
    "my_list[0:3]"
   ]
  },
  {
   "cell_type": "code",
   "execution_count": 17,
   "id": "7d5890c9-1fae-4667-98a5-b571841ee06e",
   "metadata": {},
   "outputs": [
    {
     "data": {
      "text/plain": [
       "['Pay bills', 'Tidy up', 'Walk the dog']"
      ]
     },
     "execution_count": 17,
     "metadata": {},
     "output_type": "execute_result"
    }
   ],
   "source": [
    "my_list[:3]"
   ]
  },
  {
   "cell_type": "code",
   "execution_count": 18,
   "id": "ff3338c8-f8dc-494e-b6da-29e2be745649",
   "metadata": {},
   "outputs": [
    {
     "data": {
      "text/plain": [
       "['Go to farmacy',\n",
       " 'Cook dinner',\n",
       " 'Pay bills',\n",
       " 'Tidy up',\n",
       " 'Walk the dog',\n",
       " 'Cook dinner']"
      ]
     },
     "execution_count": 18,
     "metadata": {},
     "output_type": "execute_result"
    }
   ],
   "source": [
    "my_list[3:]"
   ]
  },
  {
   "cell_type": "code",
   "execution_count": 19,
   "id": "5e1f1158-6bbc-4112-b91c-ba17e1470086",
   "metadata": {},
   "outputs": [
    {
     "data": {
      "text/plain": [
       "['Pay bills',\n",
       " 'Tidy up',\n",
       " 'Walk the dog',\n",
       " 'Go to farmacy',\n",
       " 'Cook dinner',\n",
       " 'Pay bills',\n",
       " 'Tidy up',\n",
       " 'Walk the dog',\n",
       " 'Cook dinner']"
      ]
     },
     "execution_count": 19,
     "metadata": {},
     "output_type": "execute_result"
    }
   ],
   "source": [
    "my_list[:]"
   ]
  },
  {
   "cell_type": "code",
   "execution_count": 25,
   "id": "ea5a2b02-2599-4c2b-a985-c65cd79b5380",
   "metadata": {},
   "outputs": [],
   "source": [
    "# ading elemnts like append and insert but using slicing\n",
    "my_list[len(my_list):] = [\"Mow the lawn\", \"Water plants\"]"
   ]
  },
  {
   "cell_type": "code",
   "execution_count": 26,
   "id": "c3e627b0-eda1-4a0e-b6e4-5c77be6142de",
   "metadata": {},
   "outputs": [
    {
     "data": {
      "text/plain": [
       "['Pay bills',\n",
       " 'Tidy up',\n",
       " 'Walk the dog',\n",
       " 'Go to farmacy',\n",
       " 'Cook dinner',\n",
       " 'Pay bills',\n",
       " 'Tidy up',\n",
       " 'Walk the dog',\n",
       " 'Cook dinner',\n",
       " 'Mow the lawn',\n",
       " 'Water plants']"
      ]
     },
     "execution_count": 26,
     "metadata": {},
     "output_type": "execute_result"
    }
   ],
   "source": [
    "my_list"
   ]
  },
  {
   "cell_type": "code",
   "execution_count": 27,
   "id": "13241bd5-12e0-47c8-9582-36fe54b1aa06",
   "metadata": {},
   "outputs": [],
   "source": [
    "# removing using del\n",
    "del my_list[5:]"
   ]
  },
  {
   "cell_type": "code",
   "execution_count": 28,
   "id": "08f73ba9-d91d-4ffa-b617-1b98a5864fed",
   "metadata": {},
   "outputs": [
    {
     "data": {
      "text/plain": [
       "['Pay bills', 'Tidy up', 'Walk the dog', 'Go to farmacy', 'Cook dinner']"
      ]
     },
     "execution_count": 28,
     "metadata": {},
     "output_type": "execute_result"
    }
   ],
   "source": [
    "my_list"
   ]
  },
  {
   "cell_type": "markdown",
   "id": "0641aea4-28f6-46c7-bbab-aae953d0eb17",
   "metadata": {},
   "source": [
    "# Using a list as Queue"
   ]
  },
  {
   "cell_type": "code",
   "execution_count": 30,
   "id": "da4d8772-22a3-41bc-86d8-7c9fcc39e0f3",
   "metadata": {},
   "outputs": [],
   "source": [
    "# One end of queue is to add 'enqueue'\n",
    "# the other to remove 'dequeue'\n",
    "# Like FIFO\n",
    "\n",
    "from collections import deque\n",
    "queue = deque(my_list)"
   ]
  },
  {
   "cell_type": "code",
   "execution_count": 31,
   "id": "198fc1b6-3830-4eea-8f8f-e0290c696a67",
   "metadata": {},
   "outputs": [],
   "source": [
    "queue.append(\"Wash the car\")"
   ]
  },
  {
   "cell_type": "code",
   "execution_count": 32,
   "id": "f8ca5a31-08ec-4f0d-87ff-96e1109c6477",
   "metadata": {},
   "outputs": [
    {
     "data": {
      "text/plain": [
       "deque(['Pay bills',\n",
       "       'Tidy up',\n",
       "       'Walk the dog',\n",
       "       'Go to farmacy',\n",
       "       'Cook dinner',\n",
       "       'Wash the car'])"
      ]
     },
     "execution_count": 32,
     "metadata": {},
     "output_type": "execute_result"
    }
   ],
   "source": [
    "queue"
   ]
  },
  {
   "cell_type": "code",
   "execution_count": 33,
   "id": "136f0ffb-d6a7-4bba-b0c3-fc02611d481e",
   "metadata": {},
   "outputs": [
    {
     "name": "stdout",
     "output_type": "stream",
     "text": [
      "Pay bills  - Done\n"
     ]
    }
   ],
   "source": [
    "print(queue.popleft(), ' - Done')"
   ]
  },
  {
   "cell_type": "code",
   "execution_count": 34,
   "id": "a4fa9dea-c472-4d43-86ae-40a19c1b5acc",
   "metadata": {},
   "outputs": [
    {
     "data": {
      "text/plain": [
       "'Tidy up'"
      ]
     },
     "execution_count": 34,
     "metadata": {},
     "output_type": "execute_result"
    }
   ],
   "source": [
    "queue.popleft()"
   ]
  },
  {
   "cell_type": "code",
   "execution_count": 40,
   "id": "2dd334a8-e55a-4d99-bc91-c9c4fde333fe",
   "metadata": {},
   "outputs": [
    {
     "data": {
      "text/plain": [
       "['Walk the dog', 'Go to farmacy', 'Cook dinner', 'Wash the car']"
      ]
     },
     "execution_count": 40,
     "metadata": {},
     "output_type": "execute_result"
    }
   ],
   "source": [
    "list(queue)"
   ]
  },
  {
   "cell_type": "markdown",
   "id": "ddbf5117-fb2d-4504-8111-7ffc69ee0da7",
   "metadata": {},
   "source": [
    "# Using a list to Stack"
   ]
  },
  {
   "cell_type": "code",
   "execution_count": 53,
   "id": "7037238b-cefd-4c74-aff9-15ae586f4645",
   "metadata": {},
   "outputs": [],
   "source": [
    "# a stack implements last in last out: LIFO\n",
    "#  using pop"
   ]
  },
  {
   "cell_type": "code",
   "execution_count": 54,
   "id": "67e892dd-fbc9-467f-b7d6-471955c2362d",
   "metadata": {},
   "outputs": [
    {
     "data": {
      "text/plain": [
       "['Pay bills', 'Tidy up', 'Walk the dog', 'Go to farmacy', 'Cook dinner']"
      ]
     },
     "execution_count": 54,
     "metadata": {},
     "output_type": "execute_result"
    }
   ],
   "source": [
    "my_list"
   ]
  },
  {
   "cell_type": "code",
   "execution_count": 55,
   "id": "6e85356b-376f-40ba-8c10-50c61e4def82",
   "metadata": {},
   "outputs": [],
   "source": [
    "stack = []"
   ]
  },
  {
   "cell_type": "code",
   "execution_count": 56,
   "id": "d3444a5d-67e2-4896-9568-334fbabb9cda",
   "metadata": {},
   "outputs": [
    {
     "data": {
      "text/plain": [
       "[]"
      ]
     },
     "execution_count": 56,
     "metadata": {},
     "output_type": "execute_result"
    }
   ],
   "source": [
    "stack"
   ]
  },
  {
   "cell_type": "code",
   "execution_count": 57,
   "id": "19494e18-b133-4f23-8713-d0cd6e262942",
   "metadata": {},
   "outputs": [
    {
     "name": "stdout",
     "output_type": "stream",
     "text": [
      "Cook dinner  - Done!\n",
      "Go to farmacy  - Done!\n",
      "Walk the dog  - Done!\n",
      "Tidy up  - Done!\n",
      "Pay bills  - Done!\n",
      "\n",
      "The stack is empty\n"
     ]
    }
   ],
   "source": [
    "for task in my_list:\n",
    "    stack.append(task)\n",
    "while stack:\n",
    "    print(stack.pop(), \" - Done!\")\n",
    "\n",
    "print(\"\\nThe stack is empty\")"
   ]
  },
  {
   "cell_type": "markdown",
   "id": "1c45d963-9b11-4713-acd8-c32bdb5a0eed",
   "metadata": {},
   "source": [
    "# USing Lists and Stacks for Natural Language Processing"
   ]
  },
  {
   "cell_type": "code",
   "execution_count": 59,
   "id": "e2e2c0e4-15cd-4b85-bcb2-18e615923c4a",
   "metadata": {},
   "outputs": [],
   "source": [
    "import spacy"
   ]
  },
  {
   "cell_type": "code",
   "execution_count": 60,
   "id": "3cf714ae-692d-441c-b614-015c13fa1532",
   "metadata": {},
   "outputs": [],
   "source": [
    "txt = \"List is a ubiquitous data structure in Python programming language\""
   ]
  },
  {
   "cell_type": "code",
   "execution_count": 62,
   "id": "f47c4f95-7afe-4ef4-8757-a1b1927b2041",
   "metadata": {},
   "outputs": [],
   "source": [
    "nlp = spacy.load('en_core_web_sm')"
   ]
  },
  {
   "cell_type": "code",
   "execution_count": 64,
   "id": "1b097156-5b2c-49ed-872d-3e2e1d1932be",
   "metadata": {},
   "outputs": [
    {
     "data": {
      "text/plain": [
       "<spacy.lang.en.English at 0x1283d24f0>"
      ]
     },
     "execution_count": 64,
     "metadata": {},
     "output_type": "execute_result"
    }
   ],
   "source": [
    "nlp"
   ]
  },
  {
   "cell_type": "code",
   "execution_count": 63,
   "id": "386fbdc1-c15a-4d7a-af54-3a7bfbb24454",
   "metadata": {},
   "outputs": [],
   "source": [
    "doc = nlp(txt)"
   ]
  },
  {
   "cell_type": "code",
   "execution_count": 65,
   "id": "4567f10c-949d-488c-af9c-a48e4dd2cad9",
   "metadata": {},
   "outputs": [
    {
     "data": {
      "text/plain": [
       "List is a ubiquitous data structure in Python programming language"
      ]
     },
     "execution_count": 65,
     "metadata": {},
     "output_type": "execute_result"
    }
   ],
   "source": [
    "doc"
   ]
  },
  {
   "cell_type": "code",
   "execution_count": 66,
   "id": "2dddda73-9ef4-46af-ad1f-9d7045eaa317",
   "metadata": {},
   "outputs": [],
   "source": [
    "stk = []"
   ]
  },
  {
   "cell_type": "code",
   "execution_count": 71,
   "id": "0fda8a2f-669b-4184-b3b5-3853ec3d8a75",
   "metadata": {},
   "outputs": [
    {
     "name": "stdout",
     "output_type": "stream",
     "text": [
      "a ubiquitous\n"
     ]
    }
   ],
   "source": [
    "for w in doc:\n",
    "    if w.pos_ == \"NOUN\" or w.pos_ == \"PROPN\":\n",
    "        stack.append(w.text)\n",
    "    elif (w.head.pos_ == \"NOUN\" or w.head.pos_ == \"PROPN\") and (w in w.head.lefts):\n",
    "        stk.append(w.text)\n",
    "    elif stk:\n",
    "        chunk = \" \"\n",
    "        while stk:\n",
    "            chunk = stk.pop() + \" \" + chunk\n",
    "        print(chunk.strip())\n",
    "    "
   ]
  },
  {
   "cell_type": "code",
   "execution_count": null,
   "id": "6cf51573-a054-4187-8cdd-b1e491f59dd9",
   "metadata": {},
   "outputs": [],
   "source": []
  }
 ],
 "metadata": {
  "kernelspec": {
   "display_name": "Python 3 (ipykernel)",
   "language": "python",
   "name": "python3"
  },
  "language_info": {
   "codemirror_mode": {
    "name": "ipython",
    "version": 3
   },
   "file_extension": ".py",
   "mimetype": "text/x-python",
   "name": "python",
   "nbconvert_exporter": "python",
   "pygments_lexer": "ipython3",
   "version": "3.9.21"
  }
 },
 "nbformat": 4,
 "nbformat_minor": 5
}
