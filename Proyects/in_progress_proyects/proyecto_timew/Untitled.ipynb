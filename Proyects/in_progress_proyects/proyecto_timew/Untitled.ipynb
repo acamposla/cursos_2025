{
 "cells": [
  {
   "cell_type": "markdown",
   "id": "3f17ba03-5a54-4fe8-9dad-0d0de649818a",
   "metadata": {},
   "source": [
    "# 1. Cargar el Archivo JSON"
   ]
  },
  {
   "cell_type": "code",
   "execution_count": 13,
   "id": "2e9c9805-e2af-404e-b1d2-a1cc071541e8",
   "metadata": {},
   "outputs": [],
   "source": [
    "import json"
   ]
  },
  {
   "cell_type": "code",
   "execution_count": 14,
   "id": "51c821c6-8674-42b9-ad92-f42693e98e59",
   "metadata": {},
   "outputs": [
    {
     "name": "stdout",
     "output_type": "stream",
     "text": [
      "{'id': 76, 'start': '20241226T145939Z', 'end': '20241226T154237Z', 'tags': ['DataCamp-CareerTrack-Associate_Data_Analyst_in_SQL']}\n"
     ]
    }
   ],
   "source": [
    "# Cargar el archivo json\n",
    "\n",
    "with open(\"registros.json\", \"r\") as archivo:\n",
    "    registros = json.load(archivo)\n",
    "\n",
    "\n",
    "# Imprimir el primer registro para confirmar que se cargó correctamente\n",
    "print(registros[0])\n"
   ]
  },
  {
   "cell_type": "code",
   "execution_count": 15,
   "id": "5a26740e-d71a-4637-ab20-1c19684a899a",
   "metadata": {},
   "outputs": [
    {
     "name": "stdout",
     "output_type": "stream",
     "text": [
      "['DataCamp-CareerTrack-Associate_Data_Analyst_in_SQL']\n",
      "['+Matematicas', 'Oreilly-Book-Essential_Math_for_Data_Science']\n",
      "['DataCamp-CareerTrack-Associate_Data_Analyst_in_SQL']\n",
      "['+Matematicas', 'Coursera-Specialization-Mathematics_for_Machine_Learning']\n",
      "['+Matematicas', 'Coursera-Specialization-Mathematics_for_Machine_Learning']\n",
      "['Codewars-Ejercicios']\n",
      "['+Matematicas', 'Coursera-Specialization-Mathematics_for_Machine_Learning']\n",
      "['+Data_Science', 'DataCamp-CareerTrack-Associate_Data_Analyst_in_SQL']\n",
      "['+Matematicas', 'Oreilly-Book-Essential_Math_for_Data_Science']\n",
      "['+General_Workflow', 'Real_Python']\n",
      "['Codewars-Ejercicios']\n",
      "['+Data_Science', 'Coursera-Multipath-Introduction_to_Data_Analytics']\n",
      "['+Matematicas', 'KhaAcademy-Specialization-Algebra']\n",
      "['Codewars-Ejercicios']\n",
      "['+Matematicas', 'Oreilly-Book-Essential_Math_for_Data_Science']\n",
      "['+Data_Science', 'RealPython-LearningPath-Math_for_Data_Science']\n",
      "['+Matematicas', 'KhaAcademy-Specialization-Algebra']\n",
      "['Codewars-Ejercicios']\n",
      "['Codewars-Ejercicios']\n",
      "['+Data_Science', 'Coursera-Multipath-Introduction_to_Data_Analytics']\n",
      "['DataCamp-CareerTrack-Associate_Data_Analyst_in_SQL']\n",
      "['Codewars-Ejercicios: Resolver un ejercicio +Codewars-Ejercicios']\n",
      "['Codewars-Ejercicios: Resolver un ejercicio +Codewars-Ejercicios']\n",
      "['KhaAcademy-Specialization-Estadistica_de_Secundaria']\n",
      "['KhaAcademy-Specialization-Estadistica_de_Secundaria']\n",
      "['KhaAcademy-Specialization-Estadistica_de_Secundaria']\n",
      "['Codewars-Ejercicios: Resolver un ejercicio +Codewars-Ejercicios']\n",
      "['Coursera-Multipath-Introduction_to_Data_Analytics']\n",
      "['Coursera-Multipath-Introduction_to_Data_Analytics']\n",
      "['Codewars-Ejercicios: Resolver un ejercicio +Codewars-Ejercicios']\n",
      "['KhaAcademy-Specialization-Algebra: Sesión 2 +KhaAcademy-Specialization-Algebra']\n",
      "['KhaAcademy-Specialization-Statistics: Sesión 1 +KhaAcademy-Specialization-Statistics']\n",
      "['RealPython-LearningPath-Data_Science_Core_Skills: Modulo 1 +RealPython-LearningPath-Data_Science_Core_Skills']\n",
      "['RealPython-LearningPath-Data_Science_Core_Skills: Modulo 1 +RealPython-LearningPath-Data_Science_Core_Skills']\n",
      "['Codewars-Ejercicios']\n",
      "['DataCamp-CareerTrack-Associate_Data_Analyst_in_SQL']\n",
      "['KhaAcademy-Specialization-Algebra: Sesión 1 +KhaAcademy-Specialization-Algebra']\n",
      "['KhaAcademy-Specialization-Algebra: Sesión 1 +KhaAcademy-Specialization-Algebra']\n",
      "['KhaAcademy-Specialization-Statistics: Sesión 1 +KhaAcademy-Specialization-Statistics']\n",
      "['Codewars-Ejercicios']\n",
      "['Codewars-Ejercicios']\n",
      "['+RealPython-LearningPath-Data_Science_Core_Skills']\n",
      "['RealPython-LearningPath-Data_Science_Core_Skills']\n",
      "['RealPython-LearningPath-Data_Science_Core_Skills']\n",
      "['KhaAcademy-Specialization-Algebra']\n",
      "['KhaAcademy-Specialization-Estadistica_de_Secundaria']\n",
      "['RealPython-LearningPath-Data_Science_Core_Skills']\n",
      "['NoStarchPress-Book-Python_for_Data_Science']\n",
      "['KhaAcademy-Specialization-Estadistica_de_Secundaria']\n",
      "['KhaAcademy-Specialization-Algebra']\n",
      "['Coursera-Multipath-Introduction_to_Data_Analytics']\n",
      "['RealPython-LearningPath-Data_Science_Core_Skills']\n",
      "['KhaAcademy-Specialization-Estadistica_de_Secundaria']\n",
      "['KhaAcademy-Specialization-Estadistica_de_Secundaria']\n",
      "['DataCamp-CareerTrack-Associate_Data_Analyst_in_SQL']\n",
      "['Codewars-Ejercicios']\n",
      "['Coursera-Multipath-Introduction_to_Data_Analytics']\n",
      "['KhaAcademy-Specialization-Algebra']\n",
      "['KhaAcademy-Specialization-Estadistica_de_Secundaria']\n",
      "['KhaAcademy-Specialization-Estadistica_de_Secundaria']\n",
      "['Coursera-Multipath-Introduction_to_Data_Analytics']\n",
      "['KhaAcademy-Specialization-Estadistica_de_Secundaria']\n",
      "['KhaAcademy-Specialization-Estadistica_de_Secundaria']\n",
      "['Coursera-Multipath-Introduction_to_Data_Analytics']\n",
      "['RealPython-LearningPath-Data_Science_Core_Skills']\n",
      "['KhaAcademy-Specialization-Algebra']\n",
      "['RealPython-LearningPath-Data_Science_Core_Skills']\n",
      "['KhaAcademy-Specialization-Estadistica_de_Secundaria']\n",
      "['Coursera-Multipath-Introduction_to_Data_Analytics']\n",
      "['RealPython-LearningPath-Data_Science_Core_Skills']\n",
      "['RealPython-LearningPath-Data_Science_Core_Skills']\n",
      "['RealPython-LearningPath-Data_Science_Core_Skills']\n",
      "['RealPython-LearningPath-Data_Science_Core_Skills']\n",
      "['Oreilly-Book-Python_for_Data_Analysis']\n",
      "['KhaAcademy-Specialization-Estadistica_de_Secundaria']\n",
      "['KhaAcademy-Specialization-Estadistica_de_Secundaria']\n"
     ]
    }
   ],
   "source": [
    "for e in registros: \n",
    "    print(e[\"tags\"])"
   ]
  },
  {
   "cell_type": "code",
   "execution_count": 39,
   "id": "e76764f0-0359-4550-ba8b-2abfb6a709ff",
   "metadata": {},
   "outputs": [],
   "source": []
  },
  {
   "cell_type": "markdown",
   "id": "3f8ae05f-90ed-461f-b971-07d03eff5ca7",
   "metadata": {},
   "source": [
    "# Paso 1: Probar la extracción del prefijo \"+\" en una etiqueta\n"
   ]
  },
  {
   "cell_type": "code",
   "execution_count": 45,
   "id": "f39df1cb-667d-47f0-82cd-8d0cd09e355f",
   "metadata": {},
   "outputs": [
    {
     "name": "stdout",
     "output_type": "stream",
     "text": [
      "Etiqueta global extraida: Matematicas\n"
     ]
    }
   ],
   "source": [
    "# Verificamos si la etiqueta comienza con '+'\n",
    "tag = \"+Matematicas\"\n",
    "\n",
    "if tag.startswith('+'):\n",
    "    global_tag = tag[1:] #quita el prefijo +\n",
    "    print(\"Etiqueta global extraida:\", global_tag)\n",
    "else:\n",
    "    print(\"no tiene prefijo '+'.\")\n",
    "\n",
    "\n"
   ]
  },
  {
   "cell_type": "code",
   "execution_count": 46,
   "id": "5f592b27-aafb-4892-84d1-1fbc08f26ad9",
   "metadata": {},
   "outputs": [
    {
     "name": "stdout",
     "output_type": "stream",
     "text": [
      "Matematicas\n"
     ]
    }
   ],
   "source": [
    "print(global_tag)"
   ]
  },
  {
   "cell_type": "markdown",
   "id": "411eac2d-cb16-4f9a-a3aa-7716bbfb5541",
   "metadata": {},
   "source": [
    "# Paso 2: Normalizar una etiqueta y buscarla en un diccionario de mapeo\n"
   ]
  },
  {
   "cell_type": "code",
   "execution_count": 47,
   "id": "865a3d94-cabd-462b-860a-d2cc7f16f95c",
   "metadata": {},
   "outputs": [],
   "source": [
    "global_mapping = {\n",
    "    'datacamp-careertrack-associate_data_analyst_in_sql': 'Data_Science',\n",
    "    'oreilly-book-essential_math_for_data_science': 'Data_Science',\n",
    "    'codewars-ejercicios': 'Data_Science',\n",
    "    'coursera-specialization-mathematics_for_machine_learning': 'matematicas',\n",
    "    'coursera-multipath-introduction_to_data_analytics': 'data_science',\n",
    "    'khaacademy-specialization-algebra': 'matematicas',\n",
    "    'khaacademy-specialization-estadistica_de_secundaria': 'matematicas',\n",
    "    'realpython-learningpath-data_science_core_skills': 'data_science',\n",
    "    'nostarchpress-book-python_for_data_science': 'data_science',\n",
    "    'oreilly-book-python_for_data_analysis': 'data_science'\n",
    "}"
   ]
  },
  {
   "cell_type": "code",
   "execution_count": 49,
   "id": "8d35569a-2a3d-4be7-80ad-b6c6557ddbe1",
   "metadata": {},
   "outputs": [
    {
     "name": "stdout",
     "output_type": "stream",
     "text": [
      "Etiqueta normalizada: oreilly-book-essential_math_for_data_science\n"
     ]
    }
   ],
   "source": [
    "tag = \"Oreilly-Book-Essential_Math_for_Data_Science\"\n",
    "\n",
    "tag_norm = tag.strip().lower()  # Quita espacios y pasa a minúsculas\n",
    "print(\"Etiqueta normalizada:\", tag_norm)\n"
   ]
  },
  {
   "cell_type": "code",
   "execution_count": null,
   "id": "d5255b9a-ba5f-4bbb-9210-8a1014941283",
   "metadata": {},
   "outputs": [],
   "source": []
  },
  {
   "cell_type": "code",
   "execution_count": null,
   "id": "dde9977b-3c08-4c65-b53b-786b3608d56b",
   "metadata": {},
   "outputs": [],
   "source": []
  }
 ],
 "metadata": {
  "kernelspec": {
   "display_name": "Python 3 (ipykernel)",
   "language": "python",
   "name": "python3"
  },
  "language_info": {
   "codemirror_mode": {
    "name": "ipython",
    "version": 3
   },
   "file_extension": ".py",
   "mimetype": "text/x-python",
   "name": "python",
   "nbconvert_exporter": "python",
   "pygments_lexer": "ipython3",
   "version": "3.9.21"
  }
 },
 "nbformat": 4,
 "nbformat_minor": 5
}
