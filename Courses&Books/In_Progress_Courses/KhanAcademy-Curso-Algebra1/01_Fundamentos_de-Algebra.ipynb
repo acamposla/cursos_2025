{
 "cells": [
  {
   "cell_type": "markdown",
   "id": "a39ab2c1-25af-42a1-a5bf-ca92336baedb",
   "metadata": {},
   "source": [
    "# Leccion3 : Sustituir u Evaluar expresiones"
   ]
  },
  {
   "cell_type": "markdown",
   "id": "1e224fe9-ea32-4396-84e6-cd112da591d9",
   "metadata": {},
   "source": [
    "**E1. Evaluar expresiones con una sola variable:\n",
    "python**"
   ]
  },
  {
   "cell_type": "markdown",
   "id": "35656757-36c9-4799-9fa3-d073bf32e6ec",
   "metadata": {},
   "source": [
    "Ejercicio: Evalúa la expresión $2x^2 + 3x - 5$ para los valores $x = -1, x = 0, x = 2.$\n",
    "\n"
   ]
  },
  {
   "cell_type": "code",
   "execution_count": 15,
   "id": "d0f4ba76-0bb1-42e5-b4a8-bd95a025891e",
   "metadata": {},
   "outputs": [],
   "source": [
    "from sympy import symbols\n",
    "\n",
    "x = symbols('x')  # Declarar la variable\n",
    "expr = 2*x**2 + 3*x - 5  # Definir la expresión algebraica\n",
    "\n"
   ]
  },
  {
   "cell_type": "code",
   "execution_count": 16,
   "id": "2886f812-3590-4e3d-8368-c335b3580f2c",
   "metadata": {},
   "outputs": [
    {
     "name": "stdout",
     "output_type": "stream",
     "text": [
      "-6 -5 9\n"
     ]
    }
   ],
   "source": [
    "# Evaluar para x = -1\n",
    "result_1 = expr.subs(x, -1)\n",
    "\n",
    "# Evaluar para x = 0\n",
    "result_2 = expr.subs(x, 0)\n",
    "\n",
    "# Evaluar para x = 2\n",
    "result_3 = expr.subs(x, 2)\n",
    "\n",
    "\n",
    "print(result_1, result_2, result_3)"
   ]
  },
  {
   "cell_type": "code",
   "execution_count": 17,
   "id": "e3a6a2b5-4686-4ac9-80ca-2e6e401239d3",
   "metadata": {},
   "outputs": [
    {
     "name": "stdout",
     "output_type": "stream",
     "text": [
      "-6\n",
      "-5\n",
      "9\n"
     ]
    }
   ],
   "source": [
    "def funcion(x):\n",
    "    return 2*x**2 + 3*x - 5\n",
    "\n",
    "lista = [-1,0,2]\n",
    "for e in lista:\n",
    "    print(funcion(e))"
   ]
  },
  {
   "cell_type": "code",
   "execution_count": null,
   "id": "2a87f03a-467b-4134-8f53-2ca21984c6c1",
   "metadata": {},
   "outputs": [],
   "source": []
  },
  {
   "cell_type": "code",
   "execution_count": null,
   "id": "aeb0ffee-a406-481a-ac99-0030cdd4c74b",
   "metadata": {},
   "outputs": [],
   "source": []
  }
 ],
 "metadata": {
  "kernelspec": {
   "display_name": "Python (my_lab_env)",
   "language": "python",
   "name": "my_lab_env"
  },
  "language_info": {
   "codemirror_mode": {
    "name": "ipython",
    "version": 3
   },
   "file_extension": ".py",
   "mimetype": "text/x-python",
   "name": "python",
   "nbconvert_exporter": "python",
   "pygments_lexer": "ipython3",
   "version": "3.12.2"
  }
 },
 "nbformat": 4,
 "nbformat_minor": 5
}
