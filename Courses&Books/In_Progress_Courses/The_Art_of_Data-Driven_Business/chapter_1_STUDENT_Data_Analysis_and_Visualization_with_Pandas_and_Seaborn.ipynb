{
 "cells": [
  {
   "cell_type": "markdown",
   "metadata": {},
   "source": [
    "# Using NumPy for statistics and algebra"
   ]
  },
  {
   "cell_type": "code",
   "execution_count": 1,
   "metadata": {},
   "outputs": [],
   "source": [
    "import numpy as np"
   ]
  },
  {
   "cell_type": "code",
   "execution_count": 4,
   "metadata": {},
   "outputs": [
    {
     "name": "stdout",
     "output_type": "stream",
     "text": [
      "[1 2 3 4 5 6]\n",
      "[1 2 3 4 5 6]\n",
      "<class 'numpy.ndarray'>\n",
      "<class 'numpy.ndarray'>\n"
     ]
    }
   ],
   "source": [
    "# array vs arange!\n",
    "\n",
    "arr = np.array([1, 2, 3, 4, 5, 6])\n",
    "ran = np.arange(1, 7)\n",
    "\n",
    "print(arr)\n",
    "print(ran)\n",
    "print(type(arr))\n",
    "print(type(ran))\n"
   ]
  },
  {
   "cell_type": "code",
   "execution_count": 11,
   "metadata": {},
   "outputs": [
    {
     "name": "stdout",
     "output_type": "stream",
     "text": [
      "select elements by index 1\n",
      "slice elemtne of the array: [2 3 4 5]\n",
      "ending point of the array: [5 6]\n",
      "ending point of the array: [1 2 3 4]\n"
     ]
    }
   ],
   "source": [
    "# lets slice it!\n",
    "\n",
    "print(\"select elements by index\", arr[0]) # -> Como en una lista\n",
    "print(\"slice elemtne of the array:\", arr[1:5]) # ->  2, 3, 4, 5, 6 # incluye el indice 1 hasta el 5 sin incluir!\n",
    "print(\"ending point of the array:\", arr[4:])  # del indice 4 hasta el fina. El indice 4 es el 5\n",
    "print(\"ending point of the array:\", arr[:4]) # del principio hasta el indice 4 sin incluir por tanto 1,2,3,4"
   ]
  },
  {
   "cell_type": "code",
   "execution_count": 19,
   "metadata": {},
   "outputs": [
    {
     "name": "stdout",
     "output_type": "stream",
     "text": [
      "concatenar:  [1 2 3 4 5 6]\n",
      "sumar: [5 7 9]\n"
     ]
    }
   ],
   "source": [
    "# lets combine 'em!\n",
    "\n",
    "arr1 = np.array([1, 2, 3])\n",
    "arr2 = np.array([4, 5, 6])\n",
    "arr = np.concatenate((arr1, arr2))\n",
    "print(\"concatenar: \",arr)\n",
    "\n",
    "arr_sum = arr1 + arr2\n",
    "print(\"sumar:\", arr_sum)"
   ]
  },
  {
   "cell_type": "code",
   "execution_count": null,
   "metadata": {},
   "outputs": [],
   "source": []
  }
 ],
 "metadata": {
  "colab": {
   "collapsed_sections": [],
   "provenance": []
  },
  "kernelspec": {
   "display_name": "Python 3 (ipykernel)",
   "language": "python",
   "name": "python3"
  },
  "language_info": {
   "codemirror_mode": {
    "name": "ipython",
    "version": 3
   },
   "file_extension": ".py",
   "mimetype": "text/x-python",
   "name": "python",
   "nbconvert_exporter": "python",
   "pygments_lexer": "ipython3",
   "version": "3.9.21"
  }
 },
 "nbformat": 4,
 "nbformat_minor": 4
}
