{
 "cells": [
  {
   "cell_type": "markdown",
   "id": "8a15ff7c-ebc5-468d-b357-8ed4caa9d19e",
   "metadata": {},
   "source": [
    "# 1. Stacking de Arreglos\n"
   ]
  },
  {
   "cell_type": "code",
   "execution_count": 4,
   "id": "15ad39ee-83a9-4629-801b-f1909aef51e9",
   "metadata": {},
   "outputs": [],
   "source": [
    "import numpy as np"
   ]
  },
  {
   "cell_type": "markdown",
   "id": "6179cd7d-29e2-4958-a4e0-e88d6b58e52d",
   "metadata": {},
   "source": [
    "## Ejercicio 1:\n",
    "1. Crea dos arrays 1D:\n",
    "- a con los números del 1 al 3.\n",
    "- b con los números del 4 al 6.\n",
    "\n",
    "2. Une ambos arrays usando np.column_stack().\n",
    "3. Imprime el resultado.\n"
   ]
  },
  {
   "cell_type": "code",
   "execution_count": 39,
   "id": "f4567c85-4c4d-42ea-826a-f83a01e107a9",
   "metadata": {},
   "outputs": [
    {
     "name": "stdout",
     "output_type": "stream",
     "text": [
      "[1 2]\n",
      "[4 5]\n"
     ]
    }
   ],
   "source": [
    "# Crea dos arrays 1D:\n",
    "a = np.arange(1, 3)\n",
    "b = np. arange(4, 6)\n",
    "print(a)\n",
    "print(b)"
   ]
  },
  {
   "cell_type": "code",
   "execution_count": 42,
   "id": "7b35d0e7-825b-451d-b8aa-32af58643f5a",
   "metadata": {},
   "outputs": [],
   "source": [
    "# Une ambos arrays usando np.column_stack().\n",
    "stacked = np.column_stack((a,b))"
   ]
  },
  {
   "cell_type": "code",
   "execution_count": 43,
   "id": "3bfee071-4109-43b2-abc7-257bff7253ad",
   "metadata": {},
   "outputs": [
    {
     "name": "stdout",
     "output_type": "stream",
     "text": [
      "Resultado de np.column_stack((a, b)):\n",
      "[[1 4]\n",
      " [2 5]]\n"
     ]
    }
   ],
   "source": [
    "print(\"Resultado de np.column_stack((a, b)):\")\n",
    "print(stacked)"
   ]
  },
  {
   "cell_type": "code",
   "execution_count": null,
   "id": "f013a1ad-334c-44b9-b35d-f4c02eb863e1",
   "metadata": {},
   "outputs": [],
   "source": []
  }
 ],
 "metadata": {
  "kernelspec": {
   "display_name": "Python 3 (ipykernel)",
   "language": "python",
   "name": "python3"
  },
  "language_info": {
   "codemirror_mode": {
    "name": "ipython",
    "version": 3
   },
   "file_extension": ".py",
   "mimetype": "text/x-python",
   "name": "python",
   "nbconvert_exporter": "python",
   "pygments_lexer": "ipython3",
   "version": "3.9.21"
  }
 },
 "nbformat": 4,
 "nbformat_minor": 5
}
