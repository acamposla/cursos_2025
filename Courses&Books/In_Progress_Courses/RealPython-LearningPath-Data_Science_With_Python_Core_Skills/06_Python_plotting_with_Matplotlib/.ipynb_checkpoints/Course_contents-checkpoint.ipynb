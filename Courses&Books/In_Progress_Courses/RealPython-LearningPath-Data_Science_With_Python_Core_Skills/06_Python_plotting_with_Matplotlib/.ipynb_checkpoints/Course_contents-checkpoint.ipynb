{
 "cells": [
  {
   "cell_type": "markdown",
   "id": "8a15ff7c-ebc5-468d-b357-8ed4caa9d19e",
   "metadata": {},
   "source": [
    "# NumPy Review (Optional)\n"
   ]
  },
  {
   "cell_type": "code",
   "execution_count": 4,
   "id": "15ad39ee-83a9-4629-801b-f1909aef51e9",
   "metadata": {},
   "outputs": [],
   "source": [
    "import numpy as np"
   ]
  },
  {
   "cell_type": "code",
   "execution_count": 5,
   "id": "c01939d3-c302-430d-80c0-d3bdf1709c3f",
   "metadata": {},
   "outputs": [],
   "source": [
    "# seed function Pseudo-random number, not truly number that is predictable."
   ]
  },
  {
   "cell_type": "markdown",
   "id": "9ba98a92-a2b4-4d6e-b815-aeceefcf1227",
   "metadata": {},
   "source": [
    "## np.arange() "
   ]
  },
  {
   "cell_type": "markdown",
   "id": "f995679e-5de0-4e5b-a14f-a052b2d5d3dd",
   "metadata": {},
   "source": [
    "np.arange(start= , stop= , step)\n",
    "\n",
    "- Like a Python list, but with a fixed size and common data type for all elements"
   ]
  },
  {
   "cell_type": "code",
   "execution_count": 20,
   "id": "f6cd427c-8db7-48ae-95c1-11089d7e5fe1",
   "metadata": {
    "scrolled": true
   },
   "outputs": [
    {
     "data": {
      "text/plain": [
       "array([0, 1, 2, 3, 4])"
      ]
     },
     "execution_count": 20,
     "metadata": {},
     "output_type": "execute_result"
    }
   ],
   "source": [
    "np.arange(5) #1d array"
   ]
  },
  {
   "cell_type": "code",
   "execution_count": 21,
   "id": "aa330c71-9cdc-442b-a570-78c958de3358",
   "metadata": {},
   "outputs": [
    {
     "data": {
      "text/plain": [
       "array([1, 3, 5])"
      ]
     },
     "execution_count": 21,
     "metadata": {},
     "output_type": "execute_result"
    }
   ],
   "source": [
    "np.arange(start=1, stop=6, step=2) #including lower bound, exclusing upper bound"
   ]
  },
  {
   "cell_type": "markdown",
   "id": "e6e1da5f-d620-4e11-a7d6-cf7f10687e19",
   "metadata": {},
   "source": [
    "## np.random.randint(low, high, size)"
   ]
  },
  {
   "cell_type": "markdown",
   "id": "263238ba-431b-4956-92e2-2c2cfc71a5a4",
   "metadata": {},
   "source": [
    "- Generates numners between a lower bound(inclusive) and upper bound (exlusive)\n",
    "- The size parameter dictates the shape of the ndarray"
   ]
  },
  {
   "cell_type": "code",
   "execution_count": 22,
   "id": "a70e9af3-0797-451a-a141-b3488942be60",
   "metadata": {},
   "outputs": [
    {
     "data": {
      "text/plain": [
       "array([[0, 8, 2, 5],\n",
       "       [9, 1, 3, 5],\n",
       "       [6, 6, 9, 1]])"
      ]
     },
     "execution_count": 22,
     "metadata": {},
     "output_type": "execute_result"
    }
   ],
   "source": [
    "np.random.randint(low=0, high=10, size=(3, 4))"
   ]
  },
  {
   "cell_type": "markdown",
   "id": "b378c409-b895-4c1c-84b4-b9d1c8860597",
   "metadata": {},
   "source": [
    "## np.column_stack((a,b))"
   ]
  },
  {
   "cell_type": "markdown",
   "id": "a05c3a5c-7526-4eba-bbea-075cc6393176",
   "metadata": {},
   "source": [
    "Stacks two one-dimensional ndarrays on top of each other"
   ]
  },
  {
   "cell_type": "code",
   "execution_count": 29,
   "id": "7fc672fb-aa6c-4c6d-a18f-7bc7ecff1306",
   "metadata": {},
   "outputs": [
    {
     "data": {
      "text/plain": [
       "array([4, 5, 6])"
      ]
     },
     "execution_count": 29,
     "metadata": {},
     "output_type": "execute_result"
    }
   ],
   "source": [
    "a = np.arange(1,4)\n",
    "b = np.arange(4,7)\n",
    "b"
   ]
  },
  {
   "cell_type": "code",
   "execution_count": 27,
   "id": "d32d41bf-b8d1-41bc-a7f6-6b9a7923c5e6",
   "metadata": {},
   "outputs": [
    {
     "data": {
      "text/plain": [
       "array([[1, 4],\n",
       "       [2, 5],\n",
       "       [3, 6]])"
      ]
     },
     "execution_count": 27,
     "metadata": {},
     "output_type": "execute_result"
    }
   ],
   "source": [
    "np.column_stack((a,b))"
   ]
  },
  {
   "cell_type": "markdown",
   "id": "efb75b16-e4ce-4446-9e86-4dcc40966e9d",
   "metadata": {},
   "source": [
    "## Transposing and Reshaping"
   ]
  },
  {
   "cell_type": "code",
   "execution_count": 30,
   "id": "457d2586-d93e-4388-b0f0-f7c3a9bda0ad",
   "metadata": {},
   "outputs": [],
   "source": [
    "x = np.arange(6)"
   ]
  },
  {
   "cell_type": "code",
   "execution_count": 32,
   "id": "d7c921e6-37d3-465f-8b94-d0e5fd4316f8",
   "metadata": {},
   "outputs": [],
   "source": [
    "b = x.reshape(3,2)"
   ]
  },
  {
   "cell_type": "code",
   "execution_count": 34,
   "id": "7b6992fa-75d1-485b-bd3d-f4cc4143a682",
   "metadata": {},
   "outputs": [
    {
     "data": {
      "text/plain": [
       "array([[0, 2, 4],\n",
       "       [1, 3, 5]])"
      ]
     },
     "execution_count": 34,
     "metadata": {},
     "output_type": "execute_result"
    }
   ],
   "source": [
    "b.T"
   ]
  },
  {
   "cell_type": "markdown",
   "id": "d06b401b-7a9e-4b5c-8377-57d9031789ff",
   "metadata": {},
   "source": [
    "# Numpy.diag()"
   ]
  },
  {
   "cell_type": "markdown",
   "id": "64a87cbe-2505-474d-a535-7a5646fe704e",
   "metadata": {},
   "source": [
    "- Create a diagonal arrangement out of the numbers we suppy"
   ]
  },
  {
   "cell_type": "code",
   "execution_count": 35,
   "id": "4831a0b7-4dad-4cdd-9bf3-a1dbe6df81c6",
   "metadata": {},
   "outputs": [
    {
     "data": {
      "text/plain": [
       "array([[1, 0, 0],\n",
       "       [0, 2, 0],\n",
       "       [0, 0, 3]])"
      ]
     },
     "execution_count": 35,
     "metadata": {},
     "output_type": "execute_result"
    }
   ],
   "source": [
    "np.diag([1, 2, 3])"
   ]
  },
  {
   "cell_type": "code",
   "execution_count": null,
   "id": "612a6144-94e0-43d8-ba4e-232005a7b9eb",
   "metadata": {},
   "outputs": [],
   "source": []
  }
 ],
 "metadata": {
  "kernelspec": {
   "display_name": "Python 3 (ipykernel)",
   "language": "python",
   "name": "python3"
  },
  "language_info": {
   "codemirror_mode": {
    "name": "ipython",
    "version": 3
   },
   "file_extension": ".py",
   "mimetype": "text/x-python",
   "name": "python",
   "nbconvert_exporter": "python",
   "pygments_lexer": "ipython3",
   "version": "3.9.21"
  }
 },
 "nbformat": 4,
 "nbformat_minor": 5
}
