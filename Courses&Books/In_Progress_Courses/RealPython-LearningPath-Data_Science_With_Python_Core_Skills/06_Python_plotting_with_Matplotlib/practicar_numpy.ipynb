{
 "cells": [
  {
   "cell_type": "markdown",
   "id": "8a15ff7c-ebc5-468d-b357-8ed4caa9d19e",
   "metadata": {},
   "source": [
    "# 1. Stacking de Arreglos\n"
   ]
  },
  {
   "cell_type": "code",
   "execution_count": 4,
   "id": "15ad39ee-83a9-4629-801b-f1909aef51e9",
   "metadata": {},
   "outputs": [],
   "source": [
    "import numpy as np"
   ]
  },
  {
   "cell_type": "markdown",
   "id": "6179cd7d-29e2-4958-a4e0-e88d6b58e52d",
   "metadata": {},
   "source": [
    "## Ejercicio 1:\n",
    "1. Crea dos arrays 1D:\n",
    "- a con los números del 1 al 3.\n",
    "- b con los números del 4 al 6.\n",
    "\n",
    "2. Une ambos arrays usando np.column_stack().\n",
    "3. Imprime el resultado.\n"
   ]
  },
  {
   "cell_type": "code",
   "execution_count": 39,
   "id": "f4567c85-4c4d-42ea-826a-f83a01e107a9",
   "metadata": {},
   "outputs": [
    {
     "name": "stdout",
     "output_type": "stream",
     "text": [
      "[1 2]\n",
      "[4 5]\n"
     ]
    }
   ],
   "source": [
    "# Crea dos arrays 1D:\n",
    "a = np.arange(1, 3)\n",
    "b = np. arange(4, 6)\n",
    "print(a)\n",
    "print(b)"
   ]
  },
  {
   "cell_type": "code",
   "execution_count": 42,
   "id": "7b35d0e7-825b-451d-b8aa-32af58643f5a",
   "metadata": {},
   "outputs": [],
   "source": [
    "# Une ambos arrays usando np.column_stack().\n",
    "stacked = np.column_stack((a,b))"
   ]
  },
  {
   "cell_type": "code",
   "execution_count": 43,
   "id": "3bfee071-4109-43b2-abc7-257bff7253ad",
   "metadata": {},
   "outputs": [
    {
     "name": "stdout",
     "output_type": "stream",
     "text": [
      "Resultado de np.column_stack((a, b)):\n",
      "[[1 4]\n",
      " [2 5]]\n"
     ]
    }
   ],
   "source": [
    "print(\"Resultado de np.column_stack((a, b)):\")\n",
    "print(stacked)"
   ]
  },
  {
   "cell_type": "markdown",
   "id": "1c748352-2629-4934-b64f-8767e5b41936",
   "metadata": {
    "jp-MarkdownHeadingCollapsed": true
   },
   "source": [
    "Imagina que trabajas en un entorno de retail B2B donde necesitas analizar datos mensuales de tus clientes. Por ejemplo, supongamos que tienes dos conjuntos de datos:\n",
    "\n",
    "- **Ventas mensuales:** La cantidad de unidades vendidas de un producto en cada mes.\n",
    "- **Inventario inicial mensual:** La cantidad de unidades disponibles al inicio de cada mes en el almacén del cliente.\n",
    "\n",
    "Queremos combinar estos datos para poder, por ejemplo, analizar la relación entre las ventas y el inventario disponible, lo que puede ayudar a entender la rotación de stock o prever futuras necesidades de reposición.\n",
    "\n",
    "A continuación, un ejemplo real usando `np.column_stack()`:\n",
    "\n",
    "---\n"
   ]
  },
  {
   "cell_type": "code",
   "execution_count": 44,
   "id": "b729668a-44d4-49f8-b332-d925bf248fc3",
   "metadata": {},
   "outputs": [
    {
     "name": "stdout",
     "output_type": "stream",
     "text": [
      "Datos combinados (ventas, inventario):\n",
      "[[120 500]\n",
      " [150 480]\n",
      " [170 460]\n",
      " [160 450]\n",
      " [180 430]\n",
      " [200 410]]\n"
     ]
    }
   ],
   "source": [
    "import numpy as np\n",
    "\n",
    "ventas = np.array([120, 150, 170, 160, 180, 200])\n",
    "\n",
    "inventario =  np.array([500, 480, 460, 450, 430, 410])\n",
    "\n",
    "\n",
    "# Utilizamos np.column_stack() para combinar ambos arrays.\n",
    "# Cada fila de 'datos' corresponderá a un mes, con la primera columna siendo ventas\n",
    "# y la segunda columna el inventario disponible.\n",
    "\n",
    "datos = np.column_stack((ventas, inventario))\n",
    "\n",
    "print(\"Datos combinados (ventas, inventario):\")\n",
    "print(datos)"
   ]
  },
  {
   "cell_type": "markdown",
   "id": "8ad3beb4-a148-4602-8a93-5d247045869c",
   "metadata": {},
   "source": [
    "`\n",
    "\n",
    "---\n",
    "\n",
    "### Explicación del ejemplo\n",
    "\n",
    "1. **Datos separados:**  \n",
    "   - El array `ventas` contiene el número de unidades vendidas en cada mes.  \n",
    "   - El array `inventario` contiene el inventario disponible al inicio de cada mes.\n",
    "\n",
    "2. **Uso de `np.column_stack()`:**  \n",
    "   - Al aplicar `np.column_stack((ventas, inventario))`, se crea una nueva matriz 2D.  \n",
    "   - Cada fila de esta matriz corresponde a un mes, donde:\n",
    "     - La **primera columna** representa las ventas.\n",
    "     - La **segunda columna** representa el inventario.\n",
    "\n",
    "3. **Ventajas para el análisis:**  \n",
    "   - Esta estructura te permite realizar análisis estadísticos o aplicar modelos predictivos.  \n",
    "   - Por ejemplo, podrías usar regresión para ver cómo el inventario afecta las ventas, o identificar patrones en la relación entre ambos.\n",
    "\n",
    "En un entorno de retail B2B, combinar datos de esta manera es muy útil para integrar múltiples indicadores y obtener una visión más completa del desempeño de tus clientes o de tus productos. ¡Así puedes tomar decisiones más informadas!"
   ]
  },
  {
   "cell_type": "markdown",
   "id": "feea086f-5841-4438-83f6-b134e51fb615",
   "metadata": {},
   "source": [
    "# 2. Transposición y Cambio de Forma (Reshaping)"
   ]
  },
  {
   "cell_type": "markdown",
   "id": "3502851c-11ab-49bf-a6c0-1498c7d2add5",
   "metadata": {},
   "source": [
    "Concepto:\n",
    "- Reshape: Cambia la forma de un array sin cambiar sus datos.\n",
    "\n",
    "- Transposición: Cambia las filas por columnas, lo que es útil para matrices.\n"
   ]
  },
  {
   "cell_type": "markdown",
   "id": "144046ee-07c0-459b-bb60-d0a6c1e4028d",
   "metadata": {},
   "source": [
    "## Ejercicio 2:\n",
    "- Crea un array 1D con los números del 0 al 5 usando np.arange().\n",
    "- Transforma ese array en una matriz de 3 filas y 2 columnas usando .reshape(3,2).\n",
    "- Obtén la transpuesta de esta matriz usando .T.\n",
    "- Imprime tanto la matriz original como su transpuesta.\n"
   ]
  },
  {
   "cell_type": "code",
   "execution_count": 50,
   "id": "3760aa3b-34b6-4385-ae5c-897065cefcde",
   "metadata": {},
   "outputs": [
    {
     "name": "stdout",
     "output_type": "stream",
     "text": [
      "[0 1 2 3 4 5]\n"
     ]
    }
   ],
   "source": [
    "x = np.arange(6)\n",
    "print(x)"
   ]
  },
  {
   "cell_type": "code",
   "execution_count": 51,
   "id": "cc5a0580-5074-4f68-b5f9-dd75d235ab5a",
   "metadata": {},
   "outputs": [
    {
     "name": "stdout",
     "output_type": "stream",
     "text": [
      "[[0 1 2]\n",
      " [3 4 5]]\n"
     ]
    }
   ],
   "source": [
    "# Transforma ese array en una matriz de 3 filas y 2 columnas usando .reshape(3,2).\n",
    "\n",
    "b = x.reshape(2,3)\n",
    "print(b)"
   ]
  },
  {
   "cell_type": "code",
   "execution_count": 53,
   "id": "d8a81921-7fca-4cf9-8b1a-b5e33367e524",
   "metadata": {},
   "outputs": [
    {
     "name": "stdout",
     "output_type": "stream",
     "text": [
      "[[0 3]\n",
      " [1 4]\n",
      " [2 5]]\n"
     ]
    }
   ],
   "source": [
    "# Paso 3: Transponer la matriz\n",
    "b_transpuesta = b.T\n",
    "print(b_transpuesta)"
   ]
  },
  {
   "cell_type": "code",
   "execution_count": 56,
   "id": "7714ca1f-89f1-4ee9-9453-70f4b86c347e",
   "metadata": {},
   "outputs": [],
   "source": [
    "b_transpuesta_denuevo = b_transpuesta.T"
   ]
  },
  {
   "cell_type": "code",
   "execution_count": 57,
   "id": "94789f94-b232-4080-a620-24fb2d4f540c",
   "metadata": {},
   "outputs": [
    {
     "data": {
      "text/plain": [
       "array([[0, 1, 2],\n",
       "       [3, 4, 5]])"
      ]
     },
     "execution_count": 57,
     "metadata": {},
     "output_type": "execute_result"
    }
   ],
   "source": [
    "b_transpuesta_denuevo"
   ]
  },
  {
   "cell_type": "markdown",
   "id": "fe5ccd9b-988e-458c-9993-b447494f418e",
   "metadata": {},
   "source": [
    "# 3. Creación de Matrices Diagonales"
   ]
  },
  {
   "cell_type": "markdown",
   "id": "18797174-a5f9-4e23-ae44-1e36c13b1768",
   "metadata": {},
   "source": [
    "Concepto:\n",
    "- np.diag() puede utilizarse de dos maneras:\n",
    "\n",
    "- Si le pasas una lista (o array 1D), crea una matriz diagonal con esos elementos en la diagonal principal.\n",
    "- Si le pasas una matriz, extrae la diagonal.\n"
   ]
  },
  {
   "cell_type": "markdown",
   "id": "a57e7567-3e02-4e69-96c7-750df7db937d",
   "metadata": {},
   "source": [
    "## Ejercicio 3:\n",
    "- Crea un array 1D con los números [1, 2, 3].\n",
    "- Usa np.diag() para crear una matriz diagonal a partir de ese array.\n",
    "- Imprime el resultado."
   ]
  },
  {
   "cell_type": "code",
   "execution_count": 67,
   "id": "4d24f391-d506-4896-9cf9-93336c5b5a93",
   "metadata": {},
   "outputs": [],
   "source": [
    "# - Crea un array 1D con los números [1, 2, 3].\n",
    "a = np.arange(1,4)"
   ]
  },
  {
   "cell_type": "code",
   "execution_count": 72,
   "id": "b88a4bb8-09e8-41aa-abba-1da15d72610d",
   "metadata": {},
   "outputs": [
    {
     "name": "stdout",
     "output_type": "stream",
     "text": [
      "[1 2 3]\n"
     ]
    }
   ],
   "source": [
    "print(a)"
   ]
  },
  {
   "cell_type": "code",
   "execution_count": 74,
   "id": "08df0011-b455-4ffd-b0ea-65323475d2b7",
   "metadata": {},
   "outputs": [
    {
     "name": "stdout",
     "output_type": "stream",
     "text": [
      "[[1 0 0]\n",
      " [0 2 0]\n",
      " [0 0 3]]\n"
     ]
    }
   ],
   "source": [
    "# - Usa np.diag() para crear una matriz diagonal a partir de ese array.\n",
    "diag = np.diag(a)\n",
    "print(diag)"
   ]
  },
  {
   "cell_type": "markdown",
   "id": "d2acd126-d3c7-4c92-b891-1d6090a5a8ff",
   "metadata": {},
   "source": [
    "# Ejercicio Integrador: Combinando Conceptos\n"
   ]
  },
  {
   "cell_type": "markdown",
   "id": "1026e400-7ba9-495e-9939-2ab542e0b2d2",
   "metadata": {},
   "source": [
    "\n",
    "\n",
    "### **Objetivo:**\n",
    "Crea una función que realice lo siguiente:\n",
    "1. Reciba dos arrays 1D y los apile columna a columna.\n",
    "2. Cambie la forma del array apilado a otra dimensión (por ejemplo, 3 filas y 2 columnas, si es posible).\n",
    "3. Devuelva tanto el array original apilado como su transpuesta.\n",
    "\n",
    "### **Pista:**\n",
    "- Asegúrate de que la cantidad total de elementos sea la adecuada para el reshape.\n",
    "- Puedes utilizar la función `np.prod()` para comprobar el número total de elementos.\n"
   ]
  },
  {
   "cell_type": "code",
   "execution_count": 84,
   "id": "d9c369e9-c48e-4611-a5e6-a45f928c9302",
   "metadata": {},
   "outputs": [],
   "source": [
    "def procesa_arrays(a, b):\n",
    "    #Reciba dos arrays 1D y los apile columna a columna.\n",
    "    apilado = np.column_stack((a,b))\n",
    "    print(\"Array apilado\")\n",
    "    print(apilado)\n",
    "    # Cambie la forma del array apilado a otra dimensión (por ejemplo, 3 filas y 2 columnas, si es posible).\n",
    "    total_elementos = apilado.size\n",
    "    print(f\"los elementos son {total_elementos}\")\n",
    "    # Para este ejercicio, vamos a intentar cambiar la forma a (3, ?)\n",
    "    # Buscamos un divisor de total_elementos igual a 3\n",
    "    if total_elementos % 3 == 0:\n",
    "        nuevo_numero_columnas = total_elementos // 3\n",
    "        reshaped = apilado.reshape(3, nuevo_numero_columnas)\n",
    "        print(f\"\\nArray con nueva forma (3, {nuevo_numero_columnas}):\")\n",
    "        print(reshaped)\n",
    "        print(\"\\nTranspuesta del array reestructurado:\")\n",
    "        print(reshaped.T)\n",
    "    else:\n",
    "        print(\"\\nNo es posible reestructurar el array a 3 filas sin modificar el total de elementos.\")\n",
    "\n",
    "        \n",
    "        \n",
    "        \n",
    "\n",
    "    "
   ]
  },
  {
   "cell_type": "code",
   "execution_count": 85,
   "id": "a879e478-964b-461c-8518-9a56932a2770",
   "metadata": {},
   "outputs": [
    {
     "name": "stdout",
     "output_type": "stream",
     "text": [
      "Array apilado\n",
      "[[1 4]\n",
      " [2 5]\n",
      " [3 6]]\n",
      "los elementos son 6\n",
      "\n",
      "Array con nueva forma (3, 2):\n",
      "[[1 4]\n",
      " [2 5]\n",
      " [3 6]]\n",
      "\n",
      "Transpuesta del array reestructurado:\n",
      "[[1 2 3]\n",
      " [4 5 6]]\n"
     ]
    }
   ],
   "source": [
    "a = np.arange(1, 4)\n",
    "b = np.arange(4, 7)\n",
    "\n",
    "procesa_arrays(a, b)"
   ]
  },
  {
   "cell_type": "code",
   "execution_count": null,
   "id": "0c66a0e8-f31f-4cb4-a3b4-1ed6b411c2c0",
   "metadata": {},
   "outputs": [],
   "source": []
  }
 ],
 "metadata": {
  "kernelspec": {
   "display_name": "Python 3 (ipykernel)",
   "language": "python",
   "name": "python3"
  },
  "language_info": {
   "codemirror_mode": {
    "name": "ipython",
    "version": 3
   },
   "file_extension": ".py",
   "mimetype": "text/x-python",
   "name": "python",
   "nbconvert_exporter": "python",
   "pygments_lexer": "ipython3",
   "version": "3.9.21"
  }
 },
 "nbformat": 4,
 "nbformat_minor": 5
}
