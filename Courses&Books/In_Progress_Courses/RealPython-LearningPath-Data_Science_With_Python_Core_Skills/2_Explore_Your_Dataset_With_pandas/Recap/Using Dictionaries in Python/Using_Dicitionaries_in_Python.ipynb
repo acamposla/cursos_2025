{
 "cells": [
  {
   "cell_type": "code",
   "execution_count": 3,
   "id": "ab9d80fd-f5c9-42f8-abe3-b5fb599c4e9d",
   "metadata": {},
   "outputs": [
    {
     "data": {
      "text/plain": [
       "{'daredevil': 'kingpin', 'x-men': 'apocalypse', 'batman': 'bane'}"
      ]
     },
     "execution_count": 3,
     "metadata": {},
     "output_type": "execute_result"
    }
   ],
   "source": [
    "bad_guys = {\n",
    "    \"daredevil\":\"kingpin\", \n",
    "    \"x-men\" : \"apocalypse\",\n",
    "    \"batman\": \"bane\"\n",
    "}    \n",
    "\n",
    "bad_guys"
   ]
  },
  {
   "cell_type": "code",
   "execution_count": 4,
   "id": "d2684e22-110d-406e-840c-57110d4804d2",
   "metadata": {},
   "outputs": [
    {
     "data": {
      "text/plain": [
       "'bane'"
      ]
     },
     "execution_count": 4,
     "metadata": {},
     "output_type": "execute_result"
    }
   ],
   "source": [
    "bad_guys[\"batman\"]"
   ]
  },
  {
   "cell_type": "code",
   "execution_count": 5,
   "id": "3c5e52ba-bbf3-48fb-aee0-3175bf432b8a",
   "metadata": {},
   "outputs": [],
   "source": [
    "bad_guys[\"deadpool\"] = \"evil deadpool\""
   ]
  },
  {
   "cell_type": "code",
   "execution_count": 6,
   "id": "d7164800-ae26-4e4d-8995-073ce1e87552",
   "metadata": {},
   "outputs": [
    {
     "data": {
      "text/plain": [
       "{'daredevil': 'kingpin',\n",
       " 'x-men': 'apocalypse',\n",
       " 'batman': 'bane',\n",
       " 'deadpool': 'evil deadpool'}"
      ]
     },
     "execution_count": 6,
     "metadata": {},
     "output_type": "execute_result"
    }
   ],
   "source": [
    "bad_guys"
   ]
  },
  {
   "cell_type": "code",
   "execution_count": 7,
   "id": "23137cd4-57e4-4f4c-9958-1556cb057b59",
   "metadata": {},
   "outputs": [],
   "source": [
    "bad_guys[\"x-men\"] = \"juggernaut\""
   ]
  },
  {
   "cell_type": "code",
   "execution_count": 9,
   "id": "c65d62c4-84d1-4ded-a668-2431f86d4fa3",
   "metadata": {},
   "outputs": [],
   "source": [
    "del bad_guys[\"x-men\"]"
   ]
  },
  {
   "cell_type": "code",
   "execution_count": 10,
   "id": "aa20fce5-b981-49f2-bae7-9cc0802a40e6",
   "metadata": {},
   "outputs": [
    {
     "data": {
      "text/plain": [
       "{'daredevil': 'kingpin', 'batman': 'bane', 'deadpool': 'evil deadpool'}"
      ]
     },
     "execution_count": 10,
     "metadata": {},
     "output_type": "execute_result"
    }
   ],
   "source": [
    "bad_guys"
   ]
  },
  {
   "cell_type": "code",
   "execution_count": 11,
   "id": "a5128d7b-8489-48e5-aec8-15f378512a08",
   "metadata": {},
   "outputs": [
    {
     "ename": "KeyError",
     "evalue": "0",
     "output_type": "error",
     "traceback": [
      "\u001b[0;31m---------------------------------------------------------------------------\u001b[0m",
      "\u001b[0;31mKeyError\u001b[0m                                  Traceback (most recent call last)",
      "Cell \u001b[0;32mIn[11], line 1\u001b[0m\n\u001b[0;32m----> 1\u001b[0m \u001b[43mbad_guys\u001b[49m\u001b[43m[\u001b[49m\u001b[38;5;241;43m0\u001b[39;49m\u001b[43m]\u001b[49m\n",
      "\u001b[0;31mKeyError\u001b[0m: 0"
     ]
    }
   ],
   "source": [
    "bad_guys[0]"
   ]
  },
  {
   "cell_type": "code",
   "execution_count": 12,
   "id": "48dd0066-fa1f-48b1-adcb-160607e26ccd",
   "metadata": {},
   "outputs": [],
   "source": [
    "d = {\n",
    "    0: \"plane\", \n",
    "    1: \"train\"\n",
    "}"
   ]
  },
  {
   "cell_type": "code",
   "execution_count": 14,
   "id": "760b4a9a-2a5d-4bd5-bff8-e02bf4066f8b",
   "metadata": {},
   "outputs": [
    {
     "data": {
      "text/plain": [
       "'plane'"
      ]
     },
     "execution_count": 14,
     "metadata": {},
     "output_type": "execute_result"
    }
   ],
   "source": [
    "d[0] #keys instead of index"
   ]
  },
  {
   "cell_type": "markdown",
   "id": "b83d88d7-baf0-43e8-8129-528f40b448a7",
   "metadata": {},
   "source": [
    "# Incrementally Building a Dictionary\n"
   ]
  },
  {
   "cell_type": "code",
   "execution_count": 15,
   "id": "a69e1f28-e6c2-409e-8f16-6145694715d9",
   "metadata": {},
   "outputs": [],
   "source": [
    "my_profile = {}\n"
   ]
  },
  {
   "cell_type": "code",
   "execution_count": 16,
   "id": "d2c41938-9662-4082-b4e3-7c1de0b12daa",
   "metadata": {},
   "outputs": [],
   "source": [
    "my_profile[\"fname\"] = \"Paul\""
   ]
  },
  {
   "cell_type": "code",
   "execution_count": 17,
   "id": "2a39666c-0272-4ffe-9438-6d2cd7fd002c",
   "metadata": {},
   "outputs": [],
   "source": [
    "my_profile[\"lname\"] = \"Mealus\""
   ]
  },
  {
   "cell_type": "code",
   "execution_count": 18,
   "id": "c861c4d3-67bc-47f8-8371-d7472a574fcb",
   "metadata": {},
   "outputs": [],
   "source": [
    "my_profile[\"city\"] = \"San Diego\""
   ]
  },
  {
   "cell_type": "code",
   "execution_count": 19,
   "id": "5d20fe1c-86ba-470a-9a14-28226cc730b2",
   "metadata": {},
   "outputs": [],
   "source": [
    "my_profile[\"past_jobs\"] = [\"analyst\", \"sandwich maker\", \"data engineer\"]"
   ]
  },
  {
   "cell_type": "code",
   "execution_count": 20,
   "id": "53cb7e06-7926-4092-ba53-7417dde5553e",
   "metadata": {},
   "outputs": [],
   "source": [
    "my_profile[\"transportation\"] = {\"skateboard\":\"quest\", \"biker\":\"treck\"}"
   ]
  },
  {
   "cell_type": "code",
   "execution_count": 21,
   "id": "c1099779-6c0b-4c4f-acb7-4eb00f1c93ef",
   "metadata": {},
   "outputs": [
    {
     "data": {
      "text/plain": [
       "{'fname': 'Paul',\n",
       " 'lname': 'Mealus',\n",
       " 'city': 'San Diego',\n",
       " 'past_jobs': ['analyst', 'sandwich maker', 'data engineer'],\n",
       " 'transportation': {'skateboard': 'quest', 'biker': 'treck'}}"
      ]
     },
     "execution_count": 21,
     "metadata": {},
     "output_type": "execute_result"
    }
   ],
   "source": [
    "my_profile"
   ]
  },
  {
   "cell_type": "code",
   "execution_count": 23,
   "id": "e4d3e193-4de0-4a10-a524-08eba410d19d",
   "metadata": {},
   "outputs": [
    {
     "data": {
      "text/plain": [
       "'Paul'"
      ]
     },
     "execution_count": 23,
     "metadata": {},
     "output_type": "execute_result"
    }
   ],
   "source": [
    "my_profile[\"fname\"]"
   ]
  },
  {
   "cell_type": "code",
   "execution_count": 28,
   "id": "89b90eba-2415-4c00-a423-dc2b7d056d33",
   "metadata": {},
   "outputs": [
    {
     "data": {
      "text/plain": [
       "'data engineer'"
      ]
     },
     "execution_count": 28,
     "metadata": {},
     "output_type": "execute_result"
    }
   ],
   "source": [
    "my_profile[\"past_jobs\"][2]"
   ]
  },
  {
   "cell_type": "code",
   "execution_count": 30,
   "id": "1e5f0536-f393-433b-9659-e75b8b18b851",
   "metadata": {},
   "outputs": [
    {
     "data": {
      "text/plain": [
       "'treck'"
      ]
     },
     "execution_count": 30,
     "metadata": {},
     "output_type": "execute_result"
    }
   ],
   "source": [
    "my_profile[\"transportation\"][\"biker\"]"
   ]
  },
  {
   "cell_type": "markdown",
   "id": "6d3e8b28-5f95-4aaa-915a-326c0b73e6ba",
   "metadata": {},
   "source": [
    "# Restrictions on Dictionary Keys and Values"
   ]
  },
  {
   "cell_type": "code",
   "execution_count": 32,
   "id": "ab988aa3-a01d-4c41-9c45-2ea96cec197d",
   "metadata": {},
   "outputs": [],
   "source": [
    "# keys can only be used onece\n",
    "# Key is immutable\n",
    "# Values can be anything"
   ]
  },
  {
   "cell_type": "code",
   "execution_count": 34,
   "id": "552b3e0a-4c9f-4165-b350-7007d7a0d161",
   "metadata": {},
   "outputs": [],
   "source": [
    "examples = {\n",
    "    3.14 : \"Pi\",\n",
    "    True: 1, \n",
    "    (1,3) : \"Look a tuple\"\n",
    "}"
   ]
  },
  {
   "cell_type": "code",
   "execution_count": 35,
   "id": "b0646b75-b3bd-4df4-98e7-73c1fd1063de",
   "metadata": {},
   "outputs": [
    {
     "data": {
      "text/plain": [
       "{3.14: 'Pi', True: 1, (1, 3): 'Look a tuple'}"
      ]
     },
     "execution_count": 35,
     "metadata": {},
     "output_type": "execute_result"
    }
   ],
   "source": [
    "examples"
   ]
  },
  {
   "cell_type": "code",
   "execution_count": 36,
   "id": "3195f3d6-bb75-496d-bcb1-e9d6190e360a",
   "metadata": {},
   "outputs": [
    {
     "data": {
      "text/plain": [
       "'Pi'"
      ]
     },
     "execution_count": 36,
     "metadata": {},
     "output_type": "execute_result"
    }
   ],
   "source": [
    "examples[3.14]"
   ]
  },
  {
   "cell_type": "code",
   "execution_count": 37,
   "id": "54d1fa74-75b2-4536-8c60-b5e07fbb8a2e",
   "metadata": {},
   "outputs": [],
   "source": [
    "d = {'foo': 100, 'bar': 200, 'baz': 300}\n"
   ]
  },
  {
   "cell_type": "code",
   "execution_count": 40,
   "id": "574b28bd-eed3-4bfb-87a3-28647e005996",
   "metadata": {},
   "outputs": [
    {
     "ename": "TypeError",
     "evalue": "unhashable type: 'slice'",
     "output_type": "error",
     "traceback": [
      "\u001b[0;31m---------------------------------------------------------------------------\u001b[0m",
      "\u001b[0;31mTypeError\u001b[0m                                 Traceback (most recent call last)",
      "Cell \u001b[0;32mIn[40], line 1\u001b[0m\n\u001b[0;32m----> 1\u001b[0m \u001b[43md\u001b[49m\u001b[43m[\u001b[49m\u001b[38;5;124;43m'\u001b[39;49m\u001b[38;5;124;43mbar\u001b[39;49m\u001b[38;5;124;43m'\u001b[39;49m\u001b[43m:\u001b[49m\u001b[38;5;124;43m'\u001b[39;49m\u001b[38;5;124;43mbaz\u001b[39;49m\u001b[38;5;124;43m'\u001b[39;49m\u001b[43m]\u001b[49m\n",
      "\u001b[0;31mTypeError\u001b[0m: unhashable type: 'slice'"
     ]
    }
   ],
   "source": [
    "d['bar':'baz']\n"
   ]
  },
  {
   "cell_type": "code",
   "execution_count": 41,
   "id": "4656e2a4-53b6-4658-81de-d12daa986def",
   "metadata": {},
   "outputs": [],
   "source": [
    "x = [\n",
    "    'a',\n",
    "    'b',\n",
    "    {\n",
    "        'foo': 1,\n",
    "        'bar':\n",
    "        {\n",
    "            'x' : 10,\n",
    "            'y' : 20,\n",
    "            'z' : 30\n",
    "        },\n",
    "        'baz': 3\n",
    "    },\n",
    "    'c',\n",
    "    'd'\n",
    "]"
   ]
  },
  {
   "cell_type": "code",
   "execution_count": 44,
   "id": "941d8e29-0076-471c-adb8-2028c0fbb686",
   "metadata": {},
   "outputs": [
    {
     "data": {
      "text/plain": [
       "30"
      ]
     },
     "execution_count": 44,
     "metadata": {},
     "output_type": "execute_result"
    }
   ],
   "source": [
    "x[2][\"bar\"][\"z\"]"
   ]
  },
  {
   "cell_type": "code",
   "execution_count": 45,
   "id": "58c4ae22-0ab2-4a36-b773-c4f270e3423d",
   "metadata": {},
   "outputs": [],
   "source": [
    "y = {len:\"perro\", \n",
    "     (3+2j): \"funcion\",\n",
    "    }  "
   ]
  },
  {
   "cell_type": "code",
   "execution_count": 46,
   "id": "c7de9981-fd82-48f5-8cb9-2dfa89c79bf5",
   "metadata": {},
   "outputs": [
    {
     "data": {
      "text/plain": [
       "'perro'"
      ]
     },
     "execution_count": 46,
     "metadata": {},
     "output_type": "execute_result"
    }
   ],
   "source": [
    "y[len]"
   ]
  },
  {
   "cell_type": "code",
   "execution_count": 47,
   "id": "d93c7777-2611-41c4-aba3-fdaae31ebfa0",
   "metadata": {},
   "outputs": [
    {
     "data": {
      "text/plain": [
       "'funcion'"
      ]
     },
     "execution_count": 47,
     "metadata": {},
     "output_type": "execute_result"
    }
   ],
   "source": [
    "y[(3+2j)]"
   ]
  },
  {
   "cell_type": "code",
   "execution_count": 48,
   "id": "6eba4ec1-97d3-49d0-9615-621f20023725",
   "metadata": {},
   "outputs": [],
   "source": [
    "x = [\n",
    "    'a',\n",
    "    'b',\n",
    "    {\n",
    "        'foo': 1,\n",
    "        'bar':\n",
    "        {\n",
    "            'x' : 10,\n",
    "            'y' : 20,\n",
    "            'z' : 30\n",
    "        },\n",
    "        'baz': 3\n",
    "    },\n",
    "    'c',\n",
    "    'd'\n",
    "]\n"
   ]
  },
  {
   "cell_type": "code",
   "execution_count": 50,
   "id": "0e88312f-6e78-4f9f-934a-3a8cfd23a422",
   "metadata": {},
   "outputs": [
    {
     "data": {
      "text/plain": [
       "False"
      ]
     },
     "execution_count": 50,
     "metadata": {},
     "output_type": "execute_result"
    }
   ],
   "source": [
    "\"z\" in x[2]"
   ]
  },
  {
   "cell_type": "code",
   "execution_count": 51,
   "id": "ea0f309d-f53c-4f72-9b12-94513c69a2ea",
   "metadata": {},
   "outputs": [
    {
     "data": {
      "text/plain": [
       "{'foo': 1, 'bar': {'x': 10, 'y': 20, 'z': 30}, 'baz': 3}"
      ]
     },
     "execution_count": 51,
     "metadata": {},
     "output_type": "execute_result"
    }
   ],
   "source": [
    "x[2]"
   ]
  },
  {
   "cell_type": "code",
   "execution_count": 52,
   "id": "cc8a622c-5e42-4d36-930c-6000fc133611",
   "metadata": {},
   "outputs": [
    {
     "data": {
      "text/plain": [
       "True"
      ]
     },
     "execution_count": 52,
     "metadata": {},
     "output_type": "execute_result"
    }
   ],
   "source": [
    "'bar' in x[2]"
   ]
  },
  {
   "cell_type": "code",
   "execution_count": 53,
   "id": "aff88e12-7b64-40f0-8a17-c5aba2334627",
   "metadata": {},
   "outputs": [],
   "source": [
    "d = {'foo': 100, 'bar': 200, 'baz': 300}\n"
   ]
  },
  {
   "cell_type": "code",
   "execution_count": 54,
   "id": "feebf8f0-c5fe-4d19-8feb-472940312057",
   "metadata": {},
   "outputs": [],
   "source": [
    "d['bar'] = 400"
   ]
  },
  {
   "cell_type": "code",
   "execution_count": 56,
   "id": "0a4231b7-ae7b-4a51-9b0f-a79551e0e068",
   "metadata": {},
   "outputs": [
    {
     "data": {
      "text/plain": [
       "400"
      ]
     },
     "execution_count": 56,
     "metadata": {},
     "output_type": "execute_result"
    }
   ],
   "source": [
    "d.pop(\"bar\")"
   ]
  },
  {
   "cell_type": "code",
   "execution_count": 57,
   "id": "20329a93-07e0-4abc-96a4-2ca09e3a8794",
   "metadata": {},
   "outputs": [
    {
     "data": {
      "text/plain": [
       "{'foo': 100, 'baz': 300}"
      ]
     },
     "execution_count": 57,
     "metadata": {},
     "output_type": "execute_result"
    }
   ],
   "source": [
    "d"
   ]
  },
  {
   "cell_type": "code",
   "execution_count": 58,
   "id": "6ea02805-1580-4cad-8401-8d1b0535ab7b",
   "metadata": {},
   "outputs": [],
   "source": [
    "del d[\"foo\"]"
   ]
  },
  {
   "cell_type": "code",
   "execution_count": 59,
   "id": "6eb347ca-fdd1-4f29-bcb9-84ad71be85d0",
   "metadata": {},
   "outputs": [
    {
     "data": {
      "text/plain": [
       "{'baz': 300}"
      ]
     },
     "execution_count": 59,
     "metadata": {},
     "output_type": "execute_result"
    }
   ],
   "source": [
    "d"
   ]
  },
  {
   "cell_type": "code",
   "execution_count": 61,
   "id": "aa97ad2f-5bc7-4092-9488-ea64977dcd00",
   "metadata": {},
   "outputs": [],
   "source": [
    "d1 = {'foo': 100, 'baz': 300}\n"
   ]
  },
  {
   "cell_type": "code",
   "execution_count": 62,
   "id": "ca670af9-9461-41d3-bd04-0fe7d9f3c5e2",
   "metadata": {},
   "outputs": [],
   "source": [
    "d2 = dict(d1)"
   ]
  },
  {
   "cell_type": "code",
   "execution_count": 63,
   "id": "0dac8e15-703c-4df8-a2a2-9021ee207a12",
   "metadata": {},
   "outputs": [
    {
     "data": {
      "text/plain": [
       "{'foo': 100, 'baz': 300}"
      ]
     },
     "execution_count": 63,
     "metadata": {},
     "output_type": "execute_result"
    }
   ],
   "source": [
    "d2"
   ]
  },
  {
   "cell_type": "code",
   "execution_count": 64,
   "id": "ceb79581-9fea-4dcd-b73e-ba4db11f7058",
   "metadata": {},
   "outputs": [],
   "source": [
    "d2 = dict(d1.items())"
   ]
  },
  {
   "cell_type": "code",
   "execution_count": 65,
   "id": "977c9020-a982-4d51-a1da-21ea4a6c10db",
   "metadata": {},
   "outputs": [],
   "source": [
    "d2.update(d1)"
   ]
  },
  {
   "cell_type": "code",
   "execution_count": 66,
   "id": "0685df25-4b05-4c7a-8813-77ab04d99405",
   "metadata": {},
   "outputs": [
    {
     "data": {
      "text/plain": [
       "{'foo': 100, 'baz': 300}"
      ]
     },
     "execution_count": 66,
     "metadata": {},
     "output_type": "execute_result"
    }
   ],
   "source": [
    "d2"
   ]
  },
  {
   "cell_type": "code",
   "execution_count": 69,
   "id": "aaca642a-dd0b-43c8-87cf-354b61a1aabd",
   "metadata": {},
   "outputs": [],
   "source": [
    "d = {\n",
    "    ('foo', 100),\n",
    "    ('bar', 200),\n",
    "    ('baz', 300)\n",
    "}"
   ]
  },
  {
   "cell_type": "code",
   "execution_count": 70,
   "id": "13a3fdd9-94da-4ed7-954a-818ab0f6881e",
   "metadata": {},
   "outputs": [
    {
     "data": {
      "text/plain": [
       "{('bar', 200), ('baz', 300), ('foo', 100)}"
      ]
     },
     "execution_count": 70,
     "metadata": {},
     "output_type": "execute_result"
    }
   ],
   "source": [
    "d"
   ]
  },
  {
   "cell_type": "code",
   "execution_count": 72,
   "id": "967ebbcd-c4f8-4f1b-9c98-2d54313204b9",
   "metadata": {},
   "outputs": [],
   "source": [
    "z = {\"bar\" : \"food\"}"
   ]
  },
  {
   "cell_type": "code",
   "execution_count": 73,
   "id": "03b85364-7c20-4caf-be3e-6646ec2b5a27",
   "metadata": {},
   "outputs": [
    {
     "ename": "TypeError",
     "evalue": "unhashable type: 'list'",
     "output_type": "error",
     "traceback": [
      "\u001b[0;31m---------------------------------------------------------------------------\u001b[0m",
      "\u001b[0;31mTypeError\u001b[0m                                 Traceback (most recent call last)",
      "Cell \u001b[0;32mIn[73], line 1\u001b[0m\n\u001b[0;32m----> 1\u001b[0m z \u001b[38;5;241m=\u001b[39m {[\u001b[38;5;124m\"\u001b[39m\u001b[38;5;124mbar\u001b[39m\u001b[38;5;124m\"\u001b[39m, \u001b[38;5;124m\"\u001b[39m\u001b[38;5;124mfood\u001b[39m\u001b[38;5;124m\"\u001b[39m] : \u001b[38;5;124m\"\u001b[39m\u001b[38;5;124mlol\u001b[39m\u001b[38;5;124m\"\u001b[39m}\n",
      "\u001b[0;31mTypeError\u001b[0m: unhashable type: 'list'"
     ]
    }
   ],
   "source": [
    "z = {[\"bar\", \"food\"] : \"lol\"}"
   ]
  },
  {
   "cell_type": "markdown",
   "id": "3cb879f5-2e67-475d-814a-f461f937c6ca",
   "metadata": {},
   "source": [
    "# Operators and Methods for Dictionaries in Python"
   ]
  },
  {
   "cell_type": "code",
   "execution_count": 75,
   "id": "87c7d54a-930b-4b65-a70e-8a58fd47babe",
   "metadata": {
    "scrolled": true
   },
   "outputs": [
    {
     "data": {
      "text/plain": [
       "{'daredevil': 'kingpin', 'batman': 'bane', 'deadpool': 'evil deadpool'}"
      ]
     },
     "execution_count": 75,
     "metadata": {},
     "output_type": "execute_result"
    }
   ],
   "source": [
    "bad_guys"
   ]
  },
  {
   "cell_type": "code",
   "execution_count": 79,
   "id": "dc153caa-6216-4c92-9f7a-875b72731408",
   "metadata": {},
   "outputs": [],
   "source": [
    "# find keys"
   ]
  },
  {
   "cell_type": "code",
   "execution_count": 81,
   "id": "bf99f75f-8ad2-4c70-ab89-e66b6babb158",
   "metadata": {},
   "outputs": [
    {
     "data": {
      "text/plain": [
       "True"
      ]
     },
     "execution_count": 81,
     "metadata": {},
     "output_type": "execute_result"
    }
   ],
   "source": [
    "\"daredevil\" in bad_guys"
   ]
  },
  {
   "cell_type": "code",
   "execution_count": 82,
   "id": "e093fa99-015c-42ab-8cf3-3c1eeed42d5e",
   "metadata": {},
   "outputs": [
    {
     "data": {
      "text/plain": [
       "False"
      ]
     },
     "execution_count": 82,
     "metadata": {},
     "output_type": "execute_result"
    }
   ],
   "source": [
    "\"green arrow\" in bad_guys"
   ]
  },
  {
   "cell_type": "code",
   "execution_count": 85,
   "id": "933c29f9-fcda-4ede-8777-477af6fe26db",
   "metadata": {},
   "outputs": [
    {
     "data": {
      "text/plain": [
       "'lol'"
      ]
     },
     "execution_count": 85,
     "metadata": {},
     "output_type": "execute_result"
    }
   ],
   "source": [
    "bad_guys.get(\"deadpppol\", \"lol\")"
   ]
  },
  {
   "cell_type": "code",
   "execution_count": 91,
   "id": "f3bc3d3e-d1cc-4578-9630-4a6726efbe69",
   "metadata": {},
   "outputs": [
    {
     "data": {
      "text/plain": [
       "'kingpin'"
      ]
     },
     "execution_count": 91,
     "metadata": {},
     "output_type": "execute_result"
    }
   ],
   "source": [
    "list(bad_guys.items())[0][1]"
   ]
  },
  {
   "cell_type": "code",
   "execution_count": 93,
   "id": "d22884ea-77ed-4c4d-a8c8-69345d5fab94",
   "metadata": {},
   "outputs": [
    {
     "name": "stdout",
     "output_type": "stream",
     "text": [
      "kingpin\n",
      "bane\n",
      "evil deadpool\n"
     ]
    }
   ],
   "source": [
    "for i in list(bad_guys.items()):\n",
    "    print(i[1])"
   ]
  },
  {
   "cell_type": "code",
   "execution_count": 94,
   "id": "e1b08a85-3905-4647-8957-f695c0b6474b",
   "metadata": {},
   "outputs": [
    {
     "name": "stdout",
     "output_type": "stream",
     "text": [
      "kingpin\n",
      "bane\n",
      "evil deadpool\n"
     ]
    }
   ],
   "source": [
    "for i in bad_guys.items():\n",
    "    print(i[1])"
   ]
  },
  {
   "cell_type": "code",
   "execution_count": 96,
   "id": "757393d7-3274-4eee-891c-ea130f8a7529",
   "metadata": {},
   "outputs": [
    {
     "name": "stdout",
     "output_type": "stream",
     "text": [
      "daredevil\n",
      "batman\n",
      "deadpool\n"
     ]
    }
   ],
   "source": [
    "for i in bad_guys.keys():\n",
    "    print(i)\n"
   ]
  },
  {
   "cell_type": "code",
   "execution_count": 97,
   "id": "26195f18-ad6e-4e47-a9f6-97c91d8f4ad6",
   "metadata": {},
   "outputs": [
    {
     "data": {
      "text/plain": [
       "'evil deadpool'"
      ]
     },
     "execution_count": 97,
     "metadata": {},
     "output_type": "execute_result"
    }
   ],
   "source": [
    "bad_guys.pop(\"deadpool\")"
   ]
  },
  {
   "cell_type": "code",
   "execution_count": 98,
   "id": "4b30505f-a0e8-40b6-85b6-1317a1db06f4",
   "metadata": {},
   "outputs": [
    {
     "data": {
      "text/plain": [
       "{'daredevil': 'kingpin', 'batman': 'bane'}"
      ]
     },
     "execution_count": 98,
     "metadata": {},
     "output_type": "execute_result"
    }
   ],
   "source": [
    "bad_guys"
   ]
  },
  {
   "cell_type": "code",
   "execution_count": 99,
   "id": "ab3334bc-b411-47ac-b0c4-da33ee50f4fd",
   "metadata": {},
   "outputs": [
    {
     "data": {
      "text/plain": [
       "('batman', 'bane')"
      ]
     },
     "execution_count": 99,
     "metadata": {},
     "output_type": "execute_result"
    }
   ],
   "source": [
    "bad_guys.popitem()"
   ]
  },
  {
   "cell_type": "code",
   "execution_count": 100,
   "id": "5c6cd6f3-a3af-48da-9585-983adbeb6413",
   "metadata": {},
   "outputs": [
    {
     "data": {
      "text/plain": [
       "{'daredevil': 'kingpin'}"
      ]
     },
     "execution_count": 100,
     "metadata": {},
     "output_type": "execute_result"
    }
   ],
   "source": [
    "bad_guys"
   ]
  },
  {
   "cell_type": "code",
   "execution_count": 101,
   "id": "b5b98737-1db4-40c4-b53e-5a1571c68757",
   "metadata": {},
   "outputs": [],
   "source": [
    "d1 = {\n",
    "    \"a\": \"Robin\", \n",
    "    \"b\": \"Galahad\"\n",
    "}\n",
    "\n",
    "d2 = {\n",
    "    \"c\": \"Rabbit\", \n",
    "    \"b\" : \"Black knight\", \n",
    "    \"d\": \"Shrubbery\"}"
   ]
  },
  {
   "cell_type": "code",
   "execution_count": 102,
   "id": "26d05c0c-70fc-44ed-afd1-f8ec5b7ca7b1",
   "metadata": {},
   "outputs": [
    {
     "data": {
      "text/plain": [
       "{'c': 'Rabbit', 'b': 'Black knight', 'd': 'Shrubbery'}"
      ]
     },
     "execution_count": 102,
     "metadata": {},
     "output_type": "execute_result"
    }
   ],
   "source": [
    "d2"
   ]
  },
  {
   "cell_type": "code",
   "execution_count": 103,
   "id": "35cdd111-102f-4564-9fd4-2fee18ffe068",
   "metadata": {},
   "outputs": [],
   "source": [
    "d2.update(c=\"ni\", d=\"Green Nigh\")"
   ]
  },
  {
   "cell_type": "code",
   "execution_count": 104,
   "id": "2f1701bc-2cac-40da-80f1-db9efb66d8bd",
   "metadata": {},
   "outputs": [
    {
     "data": {
      "text/plain": [
       "{'c': 'ni', 'b': 'Black knight', 'd': 'Green Nigh'}"
      ]
     },
     "execution_count": 104,
     "metadata": {},
     "output_type": "execute_result"
    }
   ],
   "source": [
    "d2"
   ]
  },
  {
   "cell_type": "code",
   "execution_count": 105,
   "id": "79934d4f-c24c-4797-855b-224f46848491",
   "metadata": {},
   "outputs": [
    {
     "data": {
      "text/plain": [
       "{'a': 'Robin', 'b': 'Galahad'}"
      ]
     },
     "execution_count": 105,
     "metadata": {},
     "output_type": "execute_result"
    }
   ],
   "source": [
    "d1"
   ]
  },
  {
   "cell_type": "code",
   "execution_count": 106,
   "id": "70dc08f1-3fb0-401a-aed1-757b317273c2",
   "metadata": {},
   "outputs": [
    {
     "data": {
      "text/plain": [
       "{'c': 'ni', 'b': 'Black knight', 'd': 'Green Nigh'}"
      ]
     },
     "execution_count": 106,
     "metadata": {},
     "output_type": "execute_result"
    }
   ],
   "source": [
    "d2"
   ]
  },
  {
   "cell_type": "code",
   "execution_count": 107,
   "id": "ad14edf8-0726-4b5d-8df2-6b2d0ce2d019",
   "metadata": {},
   "outputs": [],
   "source": [
    "d1.update(d2)"
   ]
  },
  {
   "cell_type": "code",
   "execution_count": 108,
   "id": "71866993-25bf-4416-ba60-a2ae7d8b31f5",
   "metadata": {},
   "outputs": [
    {
     "data": {
      "text/plain": [
       "{'a': 'Robin', 'b': 'Black knight', 'c': 'ni', 'd': 'Green Nigh'}"
      ]
     },
     "execution_count": 108,
     "metadata": {},
     "output_type": "execute_result"
    }
   ],
   "source": [
    "d1"
   ]
  },
  {
   "cell_type": "code",
   "execution_count": 109,
   "id": "99fe459d-30e9-411c-87b7-180f19e0983d",
   "metadata": {},
   "outputs": [],
   "source": [
    "d1.clear()"
   ]
  },
  {
   "cell_type": "code",
   "execution_count": 110,
   "id": "69ba05c0-4ce7-4722-9f43-73ecd1a37c23",
   "metadata": {},
   "outputs": [
    {
     "data": {
      "text/plain": [
       "{}"
      ]
     },
     "execution_count": 110,
     "metadata": {},
     "output_type": "execute_result"
    }
   ],
   "source": [
    "d1"
   ]
  },
  {
   "cell_type": "code",
   "execution_count": 111,
   "id": "6d0d8611-6d74-43d5-a14e-97ad6e0809aa",
   "metadata": {},
   "outputs": [
    {
     "ename": "SyntaxError",
     "evalue": "invalid syntax (522118960.py, line 1)",
     "output_type": "error",
     "traceback": [
      "\u001b[0;36m  Cell \u001b[0;32mIn[111], line 1\u001b[0;36m\u001b[0m\n\u001b[0;31m    list.index(x[, start[, end]])\u001b[0m\n\u001b[0m                 ^\u001b[0m\n\u001b[0;31mSyntaxError\u001b[0m\u001b[0;31m:\u001b[0m invalid syntax\n"
     ]
    }
   ],
   "source": [
    "list.index(x[, start[, end]])\n"
   ]
  },
  {
   "cell_type": "code",
   "execution_count": null,
   "id": "790a0a6e-ea73-45a0-9616-e143cbad3442",
   "metadata": {},
   "outputs": [],
   "source": []
  }
 ],
 "metadata": {
  "kernelspec": {
   "display_name": "Python 3 (ipykernel)",
   "language": "python",
   "name": "python3"
  },
  "language_info": {
   "codemirror_mode": {
    "name": "ipython",
    "version": 3
   },
   "file_extension": ".py",
   "mimetype": "text/x-python",
   "name": "python",
   "nbconvert_exporter": "python",
   "pygments_lexer": "ipython3",
   "version": "3.9.21"
  }
 },
 "nbformat": 4,
 "nbformat_minor": 5
}
