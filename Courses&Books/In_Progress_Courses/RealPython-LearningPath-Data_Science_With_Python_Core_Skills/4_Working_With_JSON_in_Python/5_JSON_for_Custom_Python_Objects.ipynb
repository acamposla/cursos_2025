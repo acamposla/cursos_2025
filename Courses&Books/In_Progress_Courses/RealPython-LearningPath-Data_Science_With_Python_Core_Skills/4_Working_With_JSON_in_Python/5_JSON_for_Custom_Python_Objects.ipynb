{
 "cells": [
  {
   "cell_type": "markdown",
   "id": "2e1ef16e-5515-451a-b639-cf71e4ce3958",
   "metadata": {},
   "source": [
    "In this video you’ll learn how to work with types that are non-serializable.\n",
    "\n"
   ]
  },
  {
   "cell_type": "code",
   "execution_count": 1,
   "id": "7a98fee5-25de-475c-ba90-f6714262bb7f",
   "metadata": {},
   "outputs": [
    {
     "ename": "NameError",
     "evalue": "name 'json' is not defined",
     "output_type": "error",
     "traceback": [
      "\u001b[0;31m---------------------------------------------------------------------------\u001b[0m",
      "\u001b[0;31mNameError\u001b[0m                                 Traceback (most recent call last)",
      "Cell \u001b[0;32mIn[1], line 1\u001b[0m\n\u001b[0;32m----> 1\u001b[0m json_str \u001b[38;5;241m=\u001b[39m \u001b[43mjson\u001b[49m\u001b[38;5;241m.\u001b[39mdumps(\u001b[38;5;241m6\u001b[39m \u001b[38;5;241m+\u001b[39m \u001b[38;5;241m2\u001b[39mj)  \u001b[38;5;66;03m# cannot serialize complex object\u001b[39;00m\n",
      "\u001b[0;31mNameError\u001b[0m: name 'json' is not defined"
     ]
    }
   ],
   "source": [
    "json_str = json.dumps(6 + 2j)  # cannot serialize complex object\n"
   ]
  },
  {
   "cell_type": "code",
   "execution_count": null,
   "id": "6586a3f7-7964-4df2-aa4e-64acea7b6d63",
   "metadata": {},
   "outputs": [],
   "source": []
  }
 ],
 "metadata": {
  "kernelspec": {
   "display_name": "Python 3 (ipykernel)",
   "language": "python",
   "name": "python3"
  },
  "language_info": {
   "codemirror_mode": {
    "name": "ipython",
    "version": 3
   },
   "file_extension": ".py",
   "mimetype": "text/x-python",
   "name": "python",
   "nbconvert_exporter": "python",
   "pygments_lexer": "ipython3",
   "version": "3.9.21"
  }
 },
 "nbformat": 4,
 "nbformat_minor": 5
}
