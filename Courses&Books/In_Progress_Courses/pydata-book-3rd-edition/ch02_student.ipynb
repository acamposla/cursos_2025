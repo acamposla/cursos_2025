{
 "cells": [
  {
   "cell_type": "markdown",
   "id": "92918b1c-ed5f-4ff8-945f-a5e0666d3911",
   "metadata": {},
   "source": [
    "# Chapter 2. Python Language Basics, IPython, and Jupyter Notebooks\n"
   ]
  },
  {
   "cell_type": "markdown",
   "id": "c11a2ce2-e11b-4206-ac66-992c2821a7a4",
   "metadata": {},
   "source": [
    "## 2.1 The Python Interpreter\n"
   ]
  },
  {
   "cell_type": "code",
   "execution_count": 1,
   "id": "d968457b-1eb9-46cf-86ba-1f77d0e838b6",
   "metadata": {},
   "outputs": [
    {
     "name": "stdout",
     "output_type": "stream",
     "text": [
      "Hello world\n"
     ]
    }
   ],
   "source": [
    "print(\"Hello world\")\n"
   ]
  },
  {
   "cell_type": "markdown",
   "id": "d536f137-83b2-497c-939f-bf7e9519d1ab",
   "metadata": {},
   "source": [
    "## 2.2 IPython Basics\n"
   ]
  },
  {
   "cell_type": "code",
   "execution_count": 2,
   "id": "dd02d31b-d8e4-4ccb-ab27-58ada9cdc581",
   "metadata": {},
   "outputs": [],
   "source": [
    "import numpy as np\n",
    "import matplotlib.pyplot as plt\n"
   ]
  },
  {
   "cell_type": "code",
   "execution_count": 3,
   "id": "c28f7c1a-c63b-40ef-a510-c7987dfdebc9",
   "metadata": {},
   "outputs": [],
   "source": [
    "\n",
    "data = [np.random.standard_normal() for i in range(7)]"
   ]
  },
  {
   "cell_type": "code",
   "execution_count": 4,
   "id": "0198ef56-624a-4a6e-9c59-b27af17a6df8",
   "metadata": {},
   "outputs": [],
   "source": [
    "# se importa la librería NumPy y se crea una lista llamada data con 7 números aleatorios generados \n",
    "# a partir de una distribución normal estándar:\n",
    "data = []\n",
    "\n",
    "for i in range(7):\n",
    "    data.append(np.random.standard_normal())"
   ]
  },
  {
   "cell_type": "code",
   "execution_count": 5,
   "id": "f8eef8e4-560e-4fb6-854b-798557e24b77",
   "metadata": {},
   "outputs": [
    {
     "data": {
      "text/plain": [
       "[-0.44366352698439426,\n",
       " -0.8947195835608357,\n",
       " 1.353017331475424,\n",
       " 1.0634011978490452,\n",
       " -1.1482804882670914,\n",
       " 0.5573494694587052,\n",
       " 0.2883516240459412]"
      ]
     },
     "execution_count": 5,
     "metadata": {},
     "output_type": "execute_result"
    }
   ],
   "source": [
    "data"
   ]
  },
  {
   "cell_type": "code",
   "execution_count": 6,
   "id": "e82350d8-ceb8-4d70-873c-ae20c3bdcf71",
   "metadata": {},
   "outputs": [
    {
     "data": {
      "image/png": "[encoded data removed]",
      "text/plain": [
       "<Figure size 640x480 with 1 Axes>"
      ]
     },
     "metadata": {},
     "output_type": "display_data"
    }
   ],
   "source": [
    "# Graficar los datos\n",
    "plt.plot(data)\n",
    "plt.show()"
   ]
  },
  {
   "cell_type": "code",
   "execution_count": 7,
   "id": "49830265-5b96-4756-a04f-11232a70814c",
   "metadata": {},
   "outputs": [
    {
     "data": {
      "text/plain": [
       "np.__loader__\n",
       "np.load\n",
       "np.loadtxt"
      ]
     },
     "metadata": {},
     "output_type": "display_data"
    }
   ],
   "source": [
    " np.*load*?"
   ]
  },
  {
   "cell_type": "markdown",
   "id": "9c8ce723-0952-4592-9a0f-4c3379efd4ab",
   "metadata": {},
   "source": [
    "## 2.3 Python Language Basics\n"
   ]
  },
  {
   "cell_type": "code",
   "execution_count": 8,
   "id": "f29536b4-b39c-485a-891d-722e82e5df2d",
   "metadata": {},
   "outputs": [],
   "source": [
    "def append_element(some_list, element):\n",
    "    some_list.append(element)"
   ]
  },
  {
   "cell_type": "code",
   "execution_count": 9,
   "id": "e104c1d7-4dec-4199-af24-57ed0cf2cf14",
   "metadata": {},
   "outputs": [],
   "source": [
    "data = [1, 2, 3]\n",
    "\n",
    "append_element(data, 4)"
   ]
  },
  {
   "cell_type": "code",
   "execution_count": 10,
   "id": "f06e07db-54b7-4bc5-93d3-7ea1cb31d283",
   "metadata": {},
   "outputs": [
    {
     "data": {
      "text/plain": [
       "[1, 2, 3, 4]"
      ]
     },
     "execution_count": 10,
     "metadata": {},
     "output_type": "execute_result"
    }
   ],
   "source": [
    "data"
   ]
  },
  {
   "cell_type": "code",
   "execution_count": 11,
   "id": "ea85b9bf-f7d9-4099-9dc1-358bdb38146a",
   "metadata": {},
   "outputs": [
    {
     "data": {
      "text/plain": [
       "True"
      ]
     },
     "execution_count": 11,
     "metadata": {},
     "output_type": "execute_result"
    }
   ],
   "source": [
    "a = 5\n",
    "isinstance(a, int)"
   ]
  },
  {
   "cell_type": "code",
   "execution_count": 12,
   "id": "f88f4576-2d51-45df-a679-8c590c5feab2",
   "metadata": {},
   "outputs": [
    {
     "data": {
      "text/plain": [
       "True"
      ]
     },
     "execution_count": 12,
     "metadata": {},
     "output_type": "execute_result"
    }
   ],
   "source": [
    "a = 5; b = 4.5\n",
    "\n",
    "isinstance(b, (int, float, str)) # isinstance can accept a tuple of types if you want to check that an object’s type is among those present in the tuple:\n",
    "\n"
   ]
  },
  {
   "cell_type": "markdown",
   "id": "38b369a9-99d5-44c4-bce9-a9dc9606dbe2",
   "metadata": {},
   "source": [
    "### Attributes and methods"
   ]
  },
  {
   "cell_type": "code",
   "execution_count": 13,
   "id": "fb6dfbbc-8540-4bb5-b07e-ac4768d8db06",
   "metadata": {},
   "outputs": [
    {
     "data": {
      "text/plain": [
       "'\\ncapitalize() index()        isspace()      removesuffix()  startswith()\\ncasefold()   isprintable()  istitle()      replace()       strip()\\ncenter()     isalnum()      isupper()      rfind()         swapcase()\\ncount()      isalpha()      join()         rindex()        title()\\nencode()     isascii()      ljust()        rjust()         translate()\\nendswith()   isdecimal()    lower()        rpartition()\\nexpandtabs() isdigit()      lstrip()       rsplit()\\nfind()       isidentifier() maketrans()    rstrip()\\nformat()     islower()      partition()    split()\\nformat_map() isnumeric()    removeprefix() splitlines()\\n\\n'"
      ]
     },
     "execution_count": 13,
     "metadata": {},
     "output_type": "execute_result"
    }
   ],
   "source": [
    "a = \"foo\"\n",
    "\"\"\"\n",
    "capitalize() index()        isspace()      removesuffix()  startswith()\n",
    "casefold()   isprintable()  istitle()      replace()       strip()\n",
    "center()     isalnum()      isupper()      rfind()         swapcase()\n",
    "count()      isalpha()      join()         rindex()        title()\n",
    "encode()     isascii()      ljust()        rjust()         translate()\n",
    "endswith()   isdecimal()    lower()        rpartition()\n",
    "expandtabs() isdigit()      lstrip()       rsplit()\n",
    "find()       isidentifier() maketrans()    rstrip()\n",
    "format()     islower()      partition()    split()\n",
    "format_map() isnumeric()    removeprefix() splitlines()\n",
    "\n",
    "\"\"\""
   ]
  },
  {
   "cell_type": "code",
   "execution_count": 14,
   "id": "39d9830a-b7ac-49bd-a987-472037ed6ee5",
   "metadata": {},
   "outputs": [],
   "source": [
    "# Attributes and methods can also be accessed by name via the getattr function:\n",
    "\n"
   ]
  },
  {
   "cell_type": "code",
   "execution_count": 15,
   "id": "d632b69d-f072-4be4-a7d6-59bfc09aaa21",
   "metadata": {},
   "outputs": [
    {
     "data": {
      "text/plain": [
       "<function str.split(sep=None, maxsplit=-1)>"
      ]
     },
     "execution_count": 15,
     "metadata": {},
     "output_type": "execute_result"
    }
   ],
   "source": [
    "getattr(a, \"split\")"
   ]
  },
  {
   "cell_type": "markdown",
   "id": "90771327-aa6c-4439-9e0e-9bb784bc7413",
   "metadata": {},
   "source": [
    "### Duck typing\n"
   ]
  },
  {
   "cell_type": "code",
   "execution_count": 16,
   "id": "93537dfc-f5d0-4cd9-be81-520b8f398ca5",
   "metadata": {},
   "outputs": [],
   "source": [
    "def isiterable(obj):\n",
    "    try:\n",
    "        iter(obj)\n",
    "        return True\n",
    "    except TypeError: #Not iterable\n",
    "        return False"
   ]
  },
  {
   "cell_type": "code",
   "execution_count": 17,
   "id": "f0510e70-2b9d-4386-bec3-6964374e1048",
   "metadata": {},
   "outputs": [
    {
     "data": {
      "text/plain": [
       "True"
      ]
     },
     "execution_count": 17,
     "metadata": {},
     "output_type": "execute_result"
    }
   ],
   "source": [
    "isiterable(\"a string\")"
   ]
  },
  {
   "cell_type": "code",
   "execution_count": 18,
   "id": "39204f36-8170-4128-bf72-4c4979900422",
   "metadata": {},
   "outputs": [
    {
     "data": {
      "text/plain": [
       "<str_iterator at 0x11094c340>"
      ]
     },
     "execution_count": 18,
     "metadata": {},
     "output_type": "execute_result"
    }
   ],
   "source": [
    "iter(\"lol\")"
   ]
  },
  {
   "cell_type": "markdown",
   "id": "39b685d9-4e10-4e6d-b8dc-8e9548a1a1ef",
   "metadata": {},
   "source": [
    "### Imports"
   ]
  },
  {
   "cell_type": "code",
   "execution_count": 19,
   "id": "d9b3d006-d2ea-43de-bd8c-129c03eff5a5",
   "metadata": {},
   "outputs": [],
   "source": [
    "#some_module.py\n",
    "PI = 3.14159\n",
    "\n",
    "def f(x):\n",
    "    return x +2\n",
    "\n",
    "def g(a, b):\n",
    "    return a + b"
   ]
  },
  {
   "cell_type": "code",
   "execution_count": 20,
   "id": "e47330c7-4566-440d-94fe-92f23b5e599b",
   "metadata": {},
   "outputs": [
    {
     "data": {
      "text/plain": [
       "7"
      ]
     },
     "execution_count": 20,
     "metadata": {},
     "output_type": "execute_result"
    }
   ],
   "source": [
    "#import some_module\n",
    "\n",
    "f(5)\n",
    "\n"
   ]
  },
  {
   "cell_type": "code",
   "execution_count": 21,
   "id": "0ac9c8cb-c970-499a-a19b-eeba2ea77806",
   "metadata": {},
   "outputs": [
    {
     "data": {
      "text/plain": [
       "['foo', 2, (3, 4)]"
      ]
     },
     "execution_count": 21,
     "metadata": {},
     "output_type": "execute_result"
    }
   ],
   "source": [
    "a_list = [\"foo\", 2, [4, 5]]\n",
    "a_list[2] = (3, 4)\n",
    "a_list"
   ]
  },
  {
   "cell_type": "code",
   "execution_count": 22,
   "id": "9ae68e6c-d4a6-484e-9fef-356a29cd10bc",
   "metadata": {},
   "outputs": [
    {
     "ename": "TypeError",
     "evalue": "'tuple' object does not support item assignment",
     "output_type": "error",
     "traceback": [
      "\u001b[0;31m---------------------------------------------------------------------------\u001b[0m",
      "\u001b[0;31mTypeError\u001b[0m                                 Traceback (most recent call last)",
      "Cell \u001b[0;32mIn[22], line 2\u001b[0m\n\u001b[1;32m      1\u001b[0m a_tuple \u001b[38;5;241m=\u001b[39m (\u001b[38;5;241m3\u001b[39m, \u001b[38;5;241m5\u001b[39m, (\u001b[38;5;241m4\u001b[39m, \u001b[38;5;241m5\u001b[39m))\n\u001b[0;32m----> 2\u001b[0m \u001b[43ma_tuple\u001b[49m\u001b[43m[\u001b[49m\u001b[38;5;241;43m1\u001b[39;49m\u001b[43m]\u001b[49m \u001b[38;5;241m=\u001b[39m \u001b[38;5;124m\"\u001b[39m\u001b[38;5;124mfour\u001b[39m\u001b[38;5;124m\"\u001b[39m\n",
      "\u001b[0;31mTypeError\u001b[0m: 'tuple' object does not support item assignment"
     ]
    }
   ],
   "source": [
    "a_tuple = (3, 5, (4, 5))\n",
    "In [52]: a_tuple[1] = \"four\""
   ]
  },
  {
   "cell_type": "markdown",
   "id": "7399e98e-beb9-4e92-8a74-e1214c258cd5",
   "metadata": {},
   "source": [
    "### SCALART TYPOES & DATETIME"
   ]
  },
  {
   "cell_type": "code",
   "execution_count": 23,
   "id": "dd716f9b-65cd-4a7a-a0a8-e1f7f58690ef",
   "metadata": {},
   "outputs": [],
   "source": [
    "a = \"this is a string\"\n",
    "b = a.replace(\"string\", \"loool\")"
   ]
  },
  {
   "cell_type": "code",
   "execution_count": 24,
   "id": "828b77df-4199-460f-9cb9-00f9ce725562",
   "metadata": {},
   "outputs": [
    {
     "data": {
      "text/plain": [
       "'this is a loool'"
      ]
     },
     "execution_count": 24,
     "metadata": {},
     "output_type": "execute_result"
    }
   ],
   "source": [
    "b"
   ]
  },
  {
   "cell_type": "code",
   "execution_count": 25,
   "id": "f01b923c-3dc8-44fa-9e46-7730b3f1434d",
   "metadata": {},
   "outputs": [
    {
     "data": {
      "text/plain": [
       "['p', 'y', 't', 'h', 'o', 'n']"
      ]
     },
     "execution_count": 25,
     "metadata": {},
     "output_type": "execute_result"
    }
   ],
   "source": [
    "s = \"python\"\n",
    "list(s)\n"
   ]
  },
  {
   "cell_type": "code",
   "execution_count": 26,
   "id": "2bc33008-4c12-42fb-841b-72d9bf0a6ec1",
   "metadata": {},
   "outputs": [
    {
     "data": {
      "text/plain": [
       "'this\\\\has\\\\no\\\\special\\\\characters'"
      ]
     },
     "execution_count": 26,
     "metadata": {},
     "output_type": "execute_result"
    }
   ],
   "source": [
    "s = r\"this\\has\\no\\special\\characters\"\n",
    "s"
   ]
  },
  {
   "cell_type": "code",
   "execution_count": 27,
   "id": "9460bee0-0923-4633-bd84-09d83ece829b",
   "metadata": {},
   "outputs": [],
   "source": [
    " template = \"{0:.2f} {1:s} are worth US${2:d}\""
   ]
  },
  {
   "cell_type": "code",
   "execution_count": 28,
   "id": "4b0635c7-4e97-477a-9e4b-f13cf20a6f5d",
   "metadata": {},
   "outputs": [
    {
     "data": {
      "text/plain": [
       "'88.46 Pesos Argetinos are worth US$1'"
      ]
     },
     "execution_count": 28,
     "metadata": {},
     "output_type": "execute_result"
    }
   ],
   "source": [
    "template.format(88.46, \"Pesos Argetinos\", 1)"
   ]
  },
  {
   "cell_type": "markdown",
   "id": "52eb4ff5-20aa-4234-8f53-5d7d49b19976",
   "metadata": {},
   "source": [
    "### Bytes and Unicode\n"
   ]
  },
  {
   "cell_type": "code",
   "execution_count": 29,
   "id": "5b5c1e34-6d15-43f8-814e-0e9e1ce3f336",
   "metadata": {},
   "outputs": [
    {
     "data": {
      "text/plain": [
       "'español'"
      ]
     },
     "execution_count": 29,
     "metadata": {},
     "output_type": "execute_result"
    }
   ],
   "source": [
    "val = \"español\"\n",
    "val"
   ]
  },
  {
   "cell_type": "code",
   "execution_count": 33,
   "id": "59afef56-d1f1-45a3-83b3-39c90c26423e",
   "metadata": {},
   "outputs": [
    {
     "name": "stdout",
     "output_type": "stream",
     "text": [
      "b'espa\\xc3\\xb1ol'\n"
     ]
    },
    {
     "data": {
      "text/plain": [
       "bytes"
      ]
     },
     "execution_count": 33,
     "metadata": {},
     "output_type": "execute_result"
    }
   ],
   "source": [
    "val_utf8 = val.encode(\"utf-8\")\n",
    "print(val_utf8)\n",
    "type(val_utf8)"
   ]
  },
  {
   "cell_type": "code",
   "execution_count": 34,
   "id": "9bf8423e-9dd6-4df1-ad63-5c7b1d5bdaf6",
   "metadata": {},
   "outputs": [
    {
     "data": {
      "text/plain": [
       "b'espa\\xc3\\xb1ol'"
      ]
     },
     "execution_count": 34,
     "metadata": {},
     "output_type": "execute_result"
    }
   ],
   "source": [
    "val_utf8.decode(\"utf-8\")\n",
    "val_utf8"
   ]
  },
  {
   "cell_type": "markdown",
   "id": "50406cd5-075f-4fe0-a40d-382336fe8505",
   "metadata": {},
   "source": [
    "### Booleans"
   ]
  },
  {
   "cell_type": "markdown",
   "id": "ee8dfda3-657e-4d0a-897e-87f9c54b4def",
   "metadata": {},
   "source": [
    "### Type casting"
   ]
  },
  {
   "cell_type": "markdown",
   "id": "f8e91e6e-8ec3-486e-99a9-4f5bca687c8f",
   "metadata": {},
   "source": [
    "### Dates and times"
   ]
  },
  {
   "cell_type": "code",
   "execution_count": 35,
   "id": "82f0f9f3-47fd-48da-9e95-320bdcbc0318",
   "metadata": {},
   "outputs": [],
   "source": [
    "from datetime import datetime, date, time"
   ]
  },
  {
   "cell_type": "code",
   "execution_count": 37,
   "id": "7d5d2484-3776-46a1-a537-3b9d7da6c438",
   "metadata": {},
   "outputs": [
    {
     "data": {
      "text/plain": [
       "datetime.datetime(2011, 10, 29, 20, 30, 21)"
      ]
     },
     "execution_count": 37,
     "metadata": {},
     "output_type": "execute_result"
    }
   ],
   "source": [
    "dt = datetime(2011, 10, 29, 20, 30, 21)\n",
    "dt"
   ]
  },
  {
   "cell_type": "code",
   "execution_count": 38,
   "id": "459517ab-57bf-4018-85e9-78ad689c8266",
   "metadata": {},
   "outputs": [
    {
     "data": {
      "text/plain": [
       "29"
      ]
     },
     "execution_count": 38,
     "metadata": {},
     "output_type": "execute_result"
    }
   ],
   "source": [
    "dt.day"
   ]
  },
  {
   "cell_type": "code",
   "execution_count": 39,
   "id": "df04d06e-76a9-4e55-925e-7de75d89ae82",
   "metadata": {},
   "outputs": [
    {
     "data": {
      "text/plain": [
       "30"
      ]
     },
     "execution_count": 39,
     "metadata": {},
     "output_type": "execute_result"
    }
   ],
   "source": [
    "dt.minute"
   ]
  },
  {
   "cell_type": "code",
   "execution_count": 43,
   "id": "5e950e97-9186-4605-bd56-af25ad49a383",
   "metadata": {},
   "outputs": [
    {
     "data": {
      "text/plain": [
       "datetime.date(2011, 10, 29)"
      ]
     },
     "execution_count": 43,
     "metadata": {},
     "output_type": "execute_result"
    }
   ],
   "source": [
    "dt.date()"
   ]
  },
  {
   "cell_type": "code",
   "execution_count": 44,
   "id": "f06c9724-d00c-4ddd-9db4-da35259fb493",
   "metadata": {},
   "outputs": [
    {
     "ename": "TypeError",
     "evalue": "descriptor 'date' for 'datetime.datetime' objects doesn't apply to a 'int' object",
     "output_type": "error",
     "traceback": [
      "\u001b[0;31m---------------------------------------------------------------------------\u001b[0m",
      "\u001b[0;31mTypeError\u001b[0m                                 Traceback (most recent call last)",
      "Cell \u001b[0;32mIn[44], line 1\u001b[0m\n\u001b[0;32m----> 1\u001b[0m \u001b[43mdatetime\u001b[49m\u001b[38;5;241;43m.\u001b[39;49m\u001b[43mdate\u001b[49m\u001b[43m(\u001b[49m\u001b[38;5;241;43m2011\u001b[39;49m\u001b[43m,\u001b[49m\u001b[43m \u001b[49m\u001b[38;5;241;43m10\u001b[39;49m\u001b[43m,\u001b[49m\u001b[43m \u001b[49m\u001b[38;5;241;43m29\u001b[39;49m\u001b[43m)\u001b[49m\n",
      "\u001b[0;31mTypeError\u001b[0m: descriptor 'date' for 'datetime.datetime' objects doesn't apply to a 'int' object"
     ]
    }
   ],
   "source": [
    "datetime.date(2011, 10, 29)"
   ]
  },
  {
   "cell_type": "code",
   "execution_count": 45,
   "id": "69ecc78a-97c8-4220-8d2d-10266df22fd8",
   "metadata": {},
   "outputs": [
    {
     "data": {
      "text/plain": [
       "'2011-10-29 20:30'"
      ]
     },
     "execution_count": 45,
     "metadata": {},
     "output_type": "execute_result"
    }
   ],
   "source": [
    "# The strftime method formats a datetime as a string:\n",
    "dt.strftime(\"%Y-%m-%d %H:%M\")\n"
   ]
  },
  {
   "cell_type": "code",
   "execution_count": 46,
   "id": "c661c07a-b360-4c03-9ef8-7e0a081ba5d3",
   "metadata": {},
   "outputs": [
    {
     "data": {
      "text/plain": [
       "datetime.datetime(2009, 10, 31, 0, 0)"
      ]
     },
     "execution_count": 46,
     "metadata": {},
     "output_type": "execute_result"
    }
   ],
   "source": [
    "# Strings can be converted (parsed) into datetime objects with the strptime function:\n",
    "\n",
    "datetime.strptime(\"20091031\", \"%Y%m%d\")"
   ]
  },
  {
   "cell_type": "markdown",
   "id": "184e64d8-056f-452f-af3b-7fbc2205d941",
   "metadata": {},
   "source": [
    "A continuación, se presenta una clase completa sobre el manejo de fechas y horas en Python utilizando el módulo `datetime`. Verás explicaciones detalladas, aplicaciones prácticas en la vida real y ejercicios para poner en práctica lo aprendido.\n",
    "\n",
    "---\n",
    "\n",
    "# Manejo de Fechas y Horas en Python: El módulo `datetime`\n",
    "\n",
    "El módulo `datetime` de Python es fundamental para trabajar con fechas y horas. Permite crear, formatear, comparar y manipular instantes en el tiempo, lo que resulta muy útil en múltiples aplicaciones como:\n",
    "\n",
    "- **Registro de eventos (logs):** Guardar la fecha y hora en que ocurre un suceso.\n",
    "- **Programación de tareas:** Calcular cuándo debe ejecutarse una tarea.\n",
    "- **Análisis de series temporales:** Agrupar datos por fechas o horas, por ejemplo, en análisis financiero o de sensores.\n",
    "- **Sistemas de reservas y calendarios:** Gestionar citas y eventos.\n",
    "\n",
    "A continuación, se explican las principales funcionalidades del módulo.\n",
    "\n",
    "---\n",
    "\n",
    "## 1. Tipos básicos: `datetime`, `date` y `time` ACCESO A ATRIBUTOS!\n",
    "\n",
    "El tipo `datetime` combina la información de una fecha y una hora. Además, existen los tipos `date` (solo fecha) y `time` (solo hora).\n",
    "\n"
   ]
  },
  {
   "cell_type": "code",
   "execution_count": 47,
   "id": "7e3f23bd-ec1c-4054-b6ef-2b8d039ef140",
   "metadata": {},
   "outputs": [
    {
     "name": "stdout",
     "output_type": "stream",
     "text": [
      "Dia 29\n",
      "Munute 30\n"
     ]
    }
   ],
   "source": [
    "from datetime import datetime, date, time\n",
    "\n",
    "dt = datetime(2011, 10, 29, 20, 30, 21)\n",
    "\n",
    "print(\"Dia\", dt.day)\n",
    "print(\"Munute\", dt.minute)\n"
   ]
  },
  {
   "cell_type": "markdown",
   "id": "f5adf927-fbcb-4b29-8f96-624003fa1fd4",
   "metadata": {},
   "source": [
    "\n",
    "**Explicación:**  \n",
    "- Se importa `datetime`, `date` y `time` del módulo `datetime`.\n",
    "- Se crea un objeto `datetime` llamado `dt` con el año, mes, día, hora, minuto y segundo indicados.\n",
    "- Se accede a atributos como `day` y `minute` para extraer partes específicas de la fecha/hora.\n"
   ]
  },
  {
   "cell_type": "markdown",
   "id": "44600940-b792-4a0b-9b5c-944d9b403f06",
   "metadata": {},
   "source": [
    "--\n",
    "\n",
    "## 2. Extraer objetos `date` y `time` de un `datetime` ACCESO A MËTODOS\n",
    "\n",
    "Si necesitas trabajar solamente con la fecha o la hora, puedes obtenerlos directamente desde un objeto `datetime` mediante los métodos `date()` y `time()`.\n",
    "\n"
   ]
  },
  {
   "cell_type": "code",
   "execution_count": 51,
   "id": "b22b70ce-b0fa-44c7-a35e-8552cbbb1f06",
   "metadata": {},
   "outputs": [
    {
     "name": "stdout",
     "output_type": "stream",
     "text": [
      "Fecha: 2011-10-29\n",
      "Hora: 20:30:21\n"
     ]
    }
   ],
   "source": [
    "# Extraer solo la fecha\n",
    "# ya tengo el objeto dt creado\n",
    "fecha = dt.date()\n",
    "print(\"Fecha:\", fecha)  # Imprime: Fecha: 2011-10-29\n",
    "# Extraer solo la hora\n",
    "hora = dt.time()\n",
    "print(\"Hora:\", hora)    # Imprime: Hora: 20:30:21"
   ]
  },
  {
   "cell_type": "markdown",
   "id": "fbcf5519-1b46-470c-92b3-313c56ed7602",
   "metadata": {},
   "source": [
    "\n",
    "**Explicación:**  \n",
    "- `dt.date()` devuelve un objeto `date` con la fecha (año, mes, día).\n",
    "- `dt.time()` devuelve un objeto `time` con la hora (hora, minuto, segundo).\n"
   ]
  },
  {
   "cell_type": "markdown",
   "id": "3c03051f-40dc-4b5a-9830-3dc8a4c98690",
   "metadata": {},
   "source": [
    "\n",
    "## 3. Formateo de fechas y horas con `strftime`\n",
    "\n",
    "El método `strftime` permite convertir un objeto `datetime` en una cadena de texto con el formato que tú especifiques.\n",
    "\n",
    "### Ejemplo\n"
   ]
  },
  {
   "cell_type": "code",
   "execution_count": 52,
   "id": "fb41559b-582f-4714-af58-537d6adcef23",
   "metadata": {},
   "outputs": [
    {
     "name": "stdout",
     "output_type": "stream",
     "text": [
      "Formato personalizado: 2011-10-29 20:30\n"
     ]
    }
   ],
   "source": [
    "formato = dt.strftime(\"%Y-%m-%d %H:%M\")\n",
    "print(\"Formato personalizado:\", formato)  # Imprime: 2011-10-29 20:30\n"
   ]
  },
  {
   "cell_type": "markdown",
   "id": "e519142c-859a-4f55-88af-cfec633fe726",
   "metadata": {},
   "source": [
    "\n",
    "**Explicación:**  \n",
    "- `%Y`: Año con cuatro dígitos.\n",
    "- `%m`: Mes con dos dígitos.\n",
    "- `%d`: Día con dos dígitos.\n",
    "- `%H`: Hora en formato 24 horas.\n",
    "- `%M`: Minutos.\n",
    "  \n",
    "El resultado es una cadena en el formato \"AAAA-MM-DD HH:MM\".\n"
   ]
  },
  {
   "cell_type": "markdown",
   "id": "97ce5628-87c1-4981-aecf-6152d542f426",
   "metadata": {},
   "source": [
    "\n",
    "---\n",
    "\n",
    "## 4. Parseo de cadenas a objetos `datetime` con `strptime`\n",
    "\n",
    "El método `strptime` permite convertir una cadena de texto que contiene una fecha en un objeto `datetime`, utilizando el formato adecuado.\n",
    "\n",
    "### Ejemplo\n"
   ]
  },
  {
   "cell_type": "code",
   "execution_count": 58,
   "id": "1709029e-5f92-456e-9fb1-93c19dddacbb",
   "metadata": {},
   "outputs": [
    {
     "name": "stdout",
     "output_type": "stream",
     "text": [
      "Fecha parseada: 2009-10-31 00:00:00\n"
     ]
    }
   ],
   "source": [
    "fecha_cadena = \"20091031\"\n",
    "dt_parseado = datetime.strptime(fecha_cadena, \"%Y%m%d\")\n",
    "print(\"Fecha parseada:\", dt_parseado)  # Imprime: 2009-10-31 00:00:00\n",
    "\n"
   ]
  },
  {
   "cell_type": "code",
   "execution_count": 59,
   "id": "f7925af9-4139-4649-819f-a8e107c28c63",
   "metadata": {},
   "outputs": [],
   "source": [
    "dt_parseado = dt_parseado.strftime(\"%Y-%m-%d\")\n"
   ]
  },
  {
   "cell_type": "code",
   "execution_count": 60,
   "id": "a37c1540-e49b-43f6-ae50-475b3b21d731",
   "metadata": {},
   "outputs": [
    {
     "data": {
      "text/plain": [
       "'2009-10-31'"
      ]
     },
     "execution_count": 60,
     "metadata": {},
     "output_type": "execute_result"
    }
   ],
   "source": [
    "dt_parseado"
   ]
  },
  {
   "cell_type": "markdown",
   "id": "34c33d03-565b-421e-bd1e-30515fe34728",
   "metadata": {
    "jp-MarkdownHeadingCollapsed": true
   },
   "source": [
    "\n",
    "**Explicación:**  \n",
    "- Se pasa la cadena `\"20091031\"` y el formato `\"%Y%m%d\"` para que Python entienda que se trata del año, mes y día sin separadores.\n",
    "- El resultado es un objeto `datetime` con la fecha especificada y la hora por defecto (00:00:00).\n"
   ]
  },
  {
   "cell_type": "markdown",
   "id": "9db1cb02-8eb4-486b-8f04-f6a0d0e2ad7d",
   "metadata": {},
   "source": [
    "\n",
    "---\n",
    "\n",
    "## 5. Modificación de componentes con el método `replace`\n",
    "\n",
    "El método `replace` permite modificar ciertos componentes de un objeto `datetime` sin alterar el original, ya que los objetos `datetime` son inmutables.\n",
    "\n",
    " "
   ]
  },
  {
   "cell_type": "code",
   "execution_count": null,
   "id": "fec537b5-4635-4397-9f39-abb2d9042471",
   "metadata": {},
   "outputs": [],
   "source": []
  },
  {
   "cell_type": "markdown",
   "id": "421777dc-f280-4219-a931-a957fd36f762",
   "metadata": {},
   "source": [
    "   \n",
    "**Explicación:**  \n",
    "- Se crea un nuevo objeto `dt_hour` donde se han establecido los minutos y segundos a 0.\n",
    "- El objeto original `dt` permanece sin cambios.\n",
    "\n",
    "---\n",
    "\n",
    "## 6. Operaciones con fechas: `timedelta`\n",
    "\n",
    "La resta entre dos objetos `datetime` produce un objeto `timedelta`, que representa la diferencia de tiempo entre ambos.\n",
    "\n",
    "### Ejemplo\n",
    "\n",
    "```python\n",
    "# Crear otro objeto datetime\n",
    "dt2 = datetime(2011, 11, 15, 22, 30)\n",
    "\n",
    "# Calcular la diferencia entre dt2 y dt\n",
    "delta = dt2 - dt\n",
    "print(\"Diferencia (timedelta):\", delta)  # Imprime: 17 days, 1:59:39 (o similar)\n",
    "print(\"Tipo de delta:\", type(delta))     # Imprime: <class 'datetime.timedelta'>\n",
    "\n",
    "# Sumar el timedelta a un datetime\n",
    "dt_suma = dt + delta\n",
    "print(\"Fecha resultante:\", dt_suma)      # Imprime: 2011-11-15 22:30:21\n",
    "```\n",
    "\n",
    "**Explicación:**  \n",
    "- `delta` es un objeto `timedelta` que contiene la diferencia en días y segundos entre `dt2` y `dt`.\n",
    "- Al sumar `delta` a `dt`, se obtiene un nuevo objeto `datetime` que representa la fecha/hora desplazada.\n",
    "\n",
    "---\n",
    "\n",
    "## 7. Aplicaciones prácticas en la vida real\n",
    "\n",
    "### a) Registro de eventos  \n",
    "En sistemas de monitoreo o logs, es esencial registrar el momento exacto en que ocurre cada evento. Puedes usar `datetime.now()` para obtener la fecha y hora actuales.\n",
    "\n",
    "```python\n",
    "from datetime import datetime\n",
    "\n",
    "evento = \"Inicio del proceso\"\n",
    "tiempo_evento = datetime.now()\n",
    "print(f\"{evento} a las {tiempo_evento.strftime('%Y-%m-%d %H:%M:%S')}\")\n",
    "```\n",
    "\n",
    "### b) Cálculo de duraciones  \n",
    "Imagina que quieres calcular la duración de un evento o la diferencia entre dos fechas importantes (por ejemplo, cuántos días faltan para un proyecto).\n",
    "\n",
    "```python\n",
    "from datetime import datetime\n",
    "\n",
    "inicio = datetime(2025, 2, 1)\n",
    "fin = datetime(2025, 2, 16)\n",
    "duracion = fin - inicio\n",
    "print(\"Días restantes:\", duracion.days)\n",
    "```\n",
    "\n",
    "### c) Agrupación de datos  \n",
    "En análisis de datos, es común agrupar registros por hora, día o mes. Con `replace` puedes \"normalizar\" fechas, por ejemplo, para agrupar todos los eventos en una misma hora redondeada.\n",
    "\n",
    "```python\n",
    "evento = datetime(2025, 2, 16, 8, 45, 30)\n",
    "evento_redondeado = evento.replace(minute=0, second=0, microsecond=0)\n",
    "print(\"Evento redondeado:\", evento_redondeado)\n",
    "```\n",
    "\n",
    "---\n",
    "\n",
    "## 8. Ejercicios prácticos\n",
    "\n",
    "### Ejercicio 1: Crear y formatear una fecha\n",
    "- **Objetivo:** Crea un objeto `datetime` para el 15 de febrero de 2025 a las 10:15 AM y muestra la fecha en formato `\"DD/MM/YYYY\"`.\n",
    "- **Pista:** Utiliza `strftime`.\n",
    "\n",
    "*Ejemplo de inicio de solución:*\n",
    "```python\n",
    "fecha_obj = datetime(2025, 2, 15, 10, 15)\n",
    "fecha_formateada = fecha_obj.strftime(\"%d/%m/%Y\")\n",
    "print(\"Fecha formateada:\", fecha_formateada)\n",
    "```\n",
    "\n",
    "---\n",
    "\n",
    "### Ejercicio 2: Parseo de cadena\n",
    "- **Objetivo:** Dada la cadena `\"2025-02-16 08:45:30\"`, conviértela en un objeto `datetime`.\n",
    "- **Pista:** Usa `strptime` con el formato adecuado.\n",
    "\n",
    "*Ejemplo de inicio de solución:*\n",
    "```python\n",
    "cadena = \"2025-02-16 08:45:30\"\n",
    "fecha_obj = datetime.strptime(cadena, \"%Y-%m-%d %H:%M:%S\")\n",
    "print(\"Fecha parseada:\", fecha_obj)\n",
    "```\n",
    "\n",
    "---\n",
    "\n",
    "### Ejercicio 3: Modificar componentes de fecha\n",
    "- **Objetivo:** Toma el objeto `datetime` obtenido en el ejercicio 2 y crea uno nuevo en el que los segundos sean 0.\n",
    "- **Pista:** Utiliza el método `replace`.\n",
    "\n",
    "*Ejemplo de inicio de solución:*\n",
    "```python\n",
    "fecha_modificada = fecha_obj.replace(second=0)\n",
    "print(\"Fecha con segundos en cero:\", fecha_modificada)\n",
    "```\n",
    "\n",
    "---\n",
    "\n",
    "### Ejercicio 4: Diferencia entre fechas\n",
    "- **Objetivo:** Calcula la diferencia en días y segundos entre las fechas `2025-02-16 08:45:30` y `2025-03-01 12:00:00`.\n",
    "- **Pista:** Resta los dos objetos `datetime` y explora las propiedades `days` y `seconds` del objeto `timedelta`.\n",
    "\n",
    "*Ejemplo de inicio de solución:*\n",
    "```python\n",
    "fecha1 = datetime.strptime(\"2025-02-16 08:45:30\", \"%Y-%m-%d %H:%M:%S\")\n",
    "fecha2 = datetime(2025, 3, 1, 12, 0, 0)\n",
    "diferencia = fecha2 - fecha1\n",
    "print(\"Días de diferencia:\", diferencia.days)\n",
    "print(\"Segundos de diferencia:\", diferencia.seconds)\n",
    "```\n",
    "\n",
    "---\n",
    "\n",
    "### Ejercicio 5: Sumar un intervalo de tiempo\n",
    "- **Objetivo:** A partir de la fecha `2025-02-15 10:15:00`, suma un intervalo de 10 días y 2 horas.\n",
    "- **Pista:** Utiliza la clase `timedelta` para definir el intervalo y luego súmalo a la fecha.\n",
    "\n",
    "*Ejemplo de inicio de solución:*\n",
    "```python\n",
    "from datetime import timedelta\n",
    "\n",
    "fecha_inicial = datetime(2025, 2, 15, 10, 15)\n",
    "intervalo = timedelta(days=10, hours=2)\n",
    "nueva_fecha = fecha_inicial + intervalo\n",
    "print(\"Nueva fecha:\", nueva_fecha)\n",
    "```\n",
    "\n",
    "---\n",
    "\n",
    "## Conclusión\n",
    "\n",
    "El módulo `datetime` de Python es muy versátil y permite trabajar de manera sencilla y eficiente con fechas y horas. Desde el registro de eventos hasta el análisis de series temporales, estas herramientas son esenciales en el desarrollo de aplicaciones en el mundo real.\n",
    "\n",
    "¡Practica con los ejercicios propuestos y experimenta con distintos formatos y operaciones para dominar el manejo de fechas y horas en Python!\n",
    "\n",
    "Si tienes alguna duda o necesitas más ejemplos, ¡no dudes en preguntar!"
   ]
  },
  {
   "cell_type": "code",
   "execution_count": null,
   "id": "b370aa9f-3342-48da-8df7-275333eae394",
   "metadata": {},
   "outputs": [],
   "source": []
  }
 ],
 "metadata": {
  "kernelspec": {
   "display_name": "Python 3 (ipykernel)",
   "language": "python",
   "name": "python3"
  },
  "language_info": {
   "codemirror_mode": {
    "name": "ipython",
    "version": 3
   },
   "file_extension": ".py",
   "mimetype": "text/x-python",
   "name": "python",
   "nbconvert_exporter": "python",
   "pygments_lexer": "ipython3",
   "version": "3.9.21"
  }
 },
 "nbformat": 4,
 "nbformat_minor": 5
}
