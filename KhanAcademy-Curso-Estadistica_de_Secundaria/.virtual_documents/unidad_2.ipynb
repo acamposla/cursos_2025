





import numpy as np
import matplotlib.pyplot as plt
import pandas as pd


# Categorías de productos de Garza
np.random.seed(42)  # Para reproducibilidad
categorias = ["Computadoras", "Tabletas", "Smartphones"]

ventas_semana = np.random.choice(categorias, size=30)



tabla_frecuencias_cat = pd.Series(ventas_semana).value_counts().sort_index()


tabla_frecuencias_cat



# Graficamos la tabla de frecuencias
plt.figure(figsize=(6, 4))
plt.bar(tabla_frecuencias_cat.index, tabla_frecuencias_cat.values, color='skyblue', edgecolor='black')
plt.title('Ventas Semanales por Categoría - Garza')
plt.xlabel('Categoría')
plt.ylabel('Número de Ventas')
plt.grid(axis='y', linestyle='--', alpha=0.7)
plt.show()





np.random.seed(42)  # Para reproducibilidad
calificaciones = np.random.choice([1, 2, 3, 4, 5], size=100, p=[0.1, 0.15, 0.3, 0.3, 0.15])
# p: probabilidad de ocurrencia para dar énfasis (por ejemplo, mayor cantidad de calificaciones de 3 y 4)
"""
Se utiliza el parámetro p en np.random.choice para asignar diferentes probabilidades a cada calificación, lo que permite simular una distribución realista (por ejemplo, se espera más calificaciones de 3 y 4)."""

calificaciones


# Generamos 100 muestras usando una distribución Beta
# Si α > β, la distribución se concentra hacia 1; multiplicamos por 100 para escalar a [0,100]
alpha = 5   # Puedes experimentar con estos valores
beta = 2
muestras = np.random.beta(alpha, beta, size=100) * 100
muestras

# Si queremos trabajar con valores discretos (por ejemplo, enteros), podemos redondear:
valores = muestras.astype(int)

# Creamos la tabla de frecuencias para los valores (puedes agruparlos en intervalos si lo deseas)
tabla_frecuencias = pd.Series(valores).value_counts().sort_index()

valores = muestras.astype(int)

# Creamos la tabla de frecuencias para los valores (puedes agruparlos en intervalos si lo deseas)
tabla_frecuencias = pd.Series(valores).value_counts().sort_index()

print("Tabla de Frecuencias:")
print(tabla_frecuencias)

# Graficamos el histograma de la distribución generada
plt.figure(figsize=(8, 5))
plt.hist(muestras, bins=20, color='skyblue', edgecolor='black')
plt.title('Histograma de Muestras (Distribución Beta escalada a [0, 100])')
plt.xlabel('Valor')
plt.ylabel('Frecuencia')
plt.grid(axis='y', linestyle='--', alpha=0.7)
plt.show()


tabla_frecuncias = pd.Series(calificaciones).value_counts().sort_index()


tabla_frecuncias


plt.figure()
plt.bar(tabla_frecuncias.index.astype(str), tabla_frecuncias.values)


import numpy as np
import pandas as pd
import matplotlib.pyplot as plt

np.random.seed(42)  # Para reproducibilidad

# Categorías originales
categorias = ["Computadoras", "Tabletas", "Smartphones"]
ventas_mes = np.random.choice(categorias, size=30)
tabla_frecuencias = pd.Series(ventas_mes).value_counts()

# Supongamos que definimos un grupo "Dispositivos" que agrupa Computadoras y Smartphones,
# y dejamos Tabletas como grupo aparte.
# Creamos un mapeo arbitrario:
mapeo_grupos = {
    "Computadoras": "Dispositivos",
    "Smartphones": "Dispositivos",
    "Tabletas": "Tabletas"
}

# Creamos una nueva serie que aplique el mapeo:
ventas_grupos = pd.Series(ventas_mes).map(mapeo_grupos)
tabla_frecuencias_grupos = ventas_grupos.value_counts()

print("Tabla de frecuencias originales:")
print(tabla_frecuencias)
print("\nTabla de frecuencias agrupadas:")
print(tabla_frecuencias_grupos)

# Graficamos la tabla de frecuencias agrupadas
plt.figure(figsize=(6, 4))
plt.bar(tabla_frecuencias_grupos.index, tabla_frecuencias_grupos.values, color='skyblue', edgecolor='black')
plt.title('Ventas del Mes (Agrupadas)')
plt.xlabel('Grupo de Producto')
plt.ylabel('Número de Ventas')
plt.grid(axis='y', linestyle='--', alpha=0.7)
plt.show()



import numpy as np
import pandas as pd
import matplotlib.pyplot as plt

np.random.seed(42)  # Para reproducibilidad

# Simulamos que tenemos 100 clientes
n_clientes = 100

# Cada cliente compró cierta cantidad de productos, 
# que simulamos con una distribución de Poisson de media 3.
productos_por_cliente = np.random.poisson(lam=3, size=n_clientes)

# Revisemos los primeros datos
print("Productos comprados por cada cliente:")
print(productos_por_cliente)

# Creamos la tabla de frecuencias: 
# Cada valor (número de productos comprados) se asocia al número de clientes que compraron esa cantidad.
tabla_frecuencias = pd.Series(productos_por_cliente).value_counts().sort_index()
print("\nTabla de Frecuencias (número de productos => # de clientes):")
print(tabla_frecuencias)

# Ahora graficamos la distribución usando una línea.
plt.figure(figsize=(8, 5))
plt.plot(tabla_frecuencias.index, tabla_frecuencias.values, marker='o', linestyle='-',
         color='skyblue', linewidth=2)
plt.title('Distribución de Clientes según Número de Productos Comprados')
plt.xlabel('Número de Productos Comprados')
plt.ylabel('Número de Clientes')
plt.grid(axis='both', linestyle='--', alpha=0.7)
plt.show()






import numpy as np

# 1) Media aritmética de [1, 2, 10, 6, 4, 4, 6, 3, 1, 4]
numeros1 = np.array([1, 2, 10, 6, 4, 4, 6, 3, 1, 4])
media1 = np.mean(numeros1)
print("Media aritmética 1:", media1)



# 2) Mediana de [9, 10, 6, 5, 6]
numeros2 = np.array([9, 10, 6, 5, 6])
mediana2 = np.median(numeros2)
print("Mediana 2:", mediana2)



# 3) Moda de [1, 2, 1, 5, 8, 10]
numeros3 = np.array([1, 2, 1, 5, 8, 10])
valores_unicos, conteos = np.unique(numeros3, return_counts=True)
indice_max = np.argmax(conteos)
moda3 = valores_unicos[indice_max]
print("Moda 3:", moda3)



valores_unicos, conteos


media = 4

4 = [5 + 2 + x + 2 + 4 + 8] / 6

24 = [5 + 2 + x + 2 + 4 + 8]





x = 24-5-2-2-4-8






